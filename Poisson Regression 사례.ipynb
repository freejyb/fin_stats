{
 "cells": [
  {
   "cell_type": "markdown",
   "id": "90ab6ac4",
   "metadata": {},
   "source": [
    "## Poisson Regression "
   ]
  },
  {
   "cell_type": "code",
   "execution_count": null,
   "id": "04bd9c28",
   "metadata": {},
   "outputs": [],
   "source": [
    "# 포아송 회귀분석(Poisson Regression)은 계수 데이터(count data) 또는 이벤트 발생 횟수 데이터를 분석하는 데 사용되는 통계 기법\n",
    "# 이 모델은 종속 변수가 포아송 분포를 따르고, 평균 발생 빈도가 독립 변수에 의해 설명될 수 있다고 가정\n",
    "# 포아송 회귀는 특히 시간 간격 내 이벤트 발생 횟수와 같이 비음수 정수 값을 가지는 데이터에 적합"
   ]
  },
  {
   "cell_type": "code",
   "execution_count": null,
   "id": "8a286a93",
   "metadata": {},
   "outputs": [],
   "source": [
    "# statsmodels 라이브러리를 사용하여 사고 발생 데이터를 분석하는 간단한 포아송 회귀 모델\n",
    "# 데이터는 가상의 것으로, 각 관측치는 특정 기간 동안의 사고 발생 횟수와 이에 영향을 미칠 수 있는 몇 가지 변수(예: 날씨 조건, 시간대)를 포함합니다."
   ]
  },
  {
   "cell_type": "code",
   "execution_count": null,
   "id": "9e28ea15",
   "metadata": {},
   "outputs": [],
   "source": [
    "# 데이터 프레임 df는 사고 발생 횟수(accidents), 온도(temperature), 주말 여부(weekend)를 포함.\n",
    "# smf.glm 함수는 일반화 선형 모델(Generalized Linear Models, GLM)을 적합하는 데 사용\n",
    "# 여기서 formula는 종속 변수와 독립 변수의 관계를 나타내며, \n",
    "# family=sm.families.Poisson()은 포아송 분포를 사용한다는 것을 의미.\n",
    "# model.summary()는 적합된 모델의 요약 정보를 출력- 이를 통해 각 변수의 계수, 통계적 유의성 등을 확인할 수 있다."
   ]
  },
  {
   "cell_type": "code",
   "execution_count": 2,
   "id": "5cfb481a",
   "metadata": {},
   "outputs": [
    {
     "name": "stdout",
     "output_type": "stream",
     "text": [
      "                 Generalized Linear Model Regression Results                  \n",
      "==============================================================================\n",
      "Dep. Variable:              accidents   No. Observations:                   15\n",
      "Model:                            GLM   Df Residuals:                       12\n",
      "Model Family:                 Poisson   Df Model:                            2\n",
      "Link Function:                    Log   Scale:                          1.0000\n",
      "Method:                          IRLS   Log-Likelihood:                -28.723\n",
      "Date:                Mon, 25 Mar 2024   Deviance:                       15.019\n",
      "Time:                        09:17:47   Pearson chi2:                     10.7\n",
      "No. Iterations:                     4   Pseudo R-squ. (CS):             0.2396\n",
      "Covariance Type:            nonrobust                                         \n",
      "===============================================================================\n",
      "                  coef    std err          z      P>|z|      [0.025      0.975]\n",
      "-------------------------------------------------------------------------------\n",
      "Intercept       0.1534      0.789      0.194      0.846      -1.393       1.700\n",
      "temperature     0.0339      0.031      1.096      0.273      -0.027       0.094\n",
      "weekend         0.2424      0.364      0.666      0.506      -0.471       0.956\n",
      "===============================================================================\n"
     ]
    }
   ],
   "source": [
    "import pandas as pd\n",
    "import statsmodels.api as sm\n",
    "import statsmodels.formula.api as smf\n",
    "\n",
    "# 가상의 데이터 생성\n",
    "# 여기서는 'accidents'가 사고 발생 횟수, 'temperature'가 온도, 'weekend'가 주말 여부(0 또는 1)를 나타냅니다.\n",
    "data = {\n",
    "    'accidents': [2, 3, 1, 5, 4, 6, 7, 2, 3, 4, 5, 1, 0, 3, 4],\n",
    "    'temperature': [25, 30, 24, 28, 32, 35, 40, 20, 22, 23, 24, 25, 30, 27, 20],\n",
    "    'weekend': [0, 1, 0, 1, 0, 1, 1, 0, 0, 0, 1, 0, 1, 0, 0]\n",
    "}\n",
    "\n",
    "df = pd.DataFrame(data)\n",
    "\n",
    "# 포아송 회귀 모델 적합\n",
    "model = smf.glm(formula='accidents ~ temperature + weekend', data=df, family=sm.families.Poisson()).fit()\n",
    "\n",
    "# 결과 출력\n",
    "print(model.summary())\n"
   ]
  },
  {
   "cell_type": "code",
   "execution_count": null,
   "id": "91eec8e6",
   "metadata": {},
   "outputs": [],
   "source": [
    "# 결과\n",
    "# 사고를 설명하는 기온이나 주말이 모두 유의한 변수 (유의수준 0.05)"
   ]
  }
 ],
 "metadata": {
  "kernelspec": {
   "display_name": "Python 3 (ipykernel)",
   "language": "python",
   "name": "python3"
  },
  "language_info": {
   "codemirror_mode": {
    "name": "ipython",
    "version": 3
   },
   "file_extension": ".py",
   "mimetype": "text/x-python",
   "name": "python",
   "nbconvert_exporter": "python",
   "pygments_lexer": "ipython3",
   "version": "3.9.11"
  },
  "toc": {
   "base_numbering": 1,
   "nav_menu": {},
   "number_sections": true,
   "sideBar": true,
   "skip_h1_title": false,
   "title_cell": "Table of Contents",
   "title_sidebar": "Contents",
   "toc_cell": false,
   "toc_position": {},
   "toc_section_display": true,
   "toc_window_display": false
  }
 },
 "nbformat": 4,
 "nbformat_minor": 5
}
