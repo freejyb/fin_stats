{
 "cells": [
  {
   "cell_type": "markdown",
   "metadata": {},
   "source": [
    "# 분산도"
   ]
  },
  {
   "cell_type": "markdown",
   "metadata": {},
   "source": [
    "- 자료가 대표치를 중심으로 얼마나 밀집 또는 분산되어 있는가를 나타내는 수치 \n",
    "- 산포도가 큰 자료는 변동이 크다는 것을 의미하며 변동이 크다는 것은 통계적 추론 과정에서 불확실성과 위험이 크다는 것\n",
    "- 산포도 사례 :  범위, 분산과 표준편차, 사분위편차, 변동계수 등"
   ]
  },
  {
   "cell_type": "markdown",
   "metadata": {},
   "source": [
    "## 1. random data 형성"
   ]
  },
  {
   "cell_type": "markdown",
   "metadata": {},
   "source": [
    "### 1-1 라이브러리"
   ]
  },
  {
   "cell_type": "code",
   "execution_count": 8,
   "metadata": {},
   "outputs": [],
   "source": [
    "# 필요한 라이브러리 호출\n",
    "import pandas as pd\n",
    "import matplotlib.pyplot as plt\n",
    "import numpy as np\n",
    "import seaborn as sns\n",
    "from matplotlib import rc\n",
    "\n",
    "# Windows 기본 한글 폰트 설정\n",
    "rc('font', family='Malgun Gothic')  # '맑은 고딕' 사용\n",
    "plt.rcParams['axes.unicode_minus'] = False  # 마이너스 기호 깨짐 방지"
   ]
  },
  {
   "cell_type": "markdown",
   "metadata": {},
   "source": [
    "### 1-2 랜덤 data 생성"
   ]
  },
  {
   "cell_type": "code",
   "execution_count": 10,
   "metadata": {},
   "outputs": [
    {
     "name": "stdout",
     "output_type": "stream",
     "text": [
      "[ 6 12 13  9 10 12  6 16  1 17  2 13]\n"
     ]
    }
   ],
   "source": [
    "# 데이터 랜덤하게 형성 (seed 부여)\n",
    "np.random.seed(1)\n",
    "\n",
    "# 12개월 동안 발생한 A사 판매 건수라고 가정 (중심도 이해와 동일)\n",
    "X = np.random.randint(1,20,12)\n",
    "print(X)"
   ]
  },
  {
   "cell_type": "markdown",
   "metadata": {},
   "source": [
    "### 1-3 분산도 이해"
   ]
  },
  {
   "cell_type": "markdown",
   "metadata": {},
   "source": [
    "#### 1) 범위"
   ]
  },
  {
   "cell_type": "code",
   "execution_count": 11,
   "metadata": {},
   "outputs": [
    {
     "name": "stdout",
     "output_type": "stream",
     "text": [
      "오름차순 정렬한 값 : [1, 2, 6, 6, 9, 10, 12, 12, 13, 13, 16, 17]\n",
      "최소값 : 1\n",
      "최댓값 : 17\n"
     ]
    }
   ],
   "source": [
    "# 오름차순 정렬\n",
    "tmp_data = sorted(X)\n",
    "print(f'오름차순 정렬한 값 : {tmp_data}')\n",
    "\n",
    "# 최솟값과 최댓값 출력\n",
    "print(f'최소값 : {tmp_data[0]}')\n",
    "print(f'최댓값 : {tmp_data[-1]}')"
   ]
  },
  {
   "cell_type": "code",
   "execution_count": 12,
   "metadata": {},
   "outputs": [
    {
     "name": "stdout",
     "output_type": "stream",
     "text": [
      "특정 지역 A의 범죄 건수 데이터 : [6, 12, 13, 9, 10, 12, 6, 16, 1, 17, 2, 13]\n",
      "최솟값 : 1\n",
      "최댓값 : 17\n",
      "A 회사의 월별 판매 건수 데이터의 범위는 최소 1에서 최대 17로 16의 범위를 가지고 있습니다.\n"
     ]
    }
   ],
   "source": [
    "# max, min 매서드 활용\n",
    "print(f'특정 지역 A의 범죄 건수 데이터 : {X.tolist()}')\n",
    "\n",
    "print(f'최솟값 : {min(X)}')\n",
    "print(f'최댓값 : {max(X)}')\n",
    "\n",
    "# 따라서 범위는 최댓값 - 최솟값으로 출력할 수 있음.\n",
    "print(f'A 회사의 월별 판매 건수 데이터의 범위는 최소 {min(X)}에서 최대 {max(X)}로 {round(max(X) - min(X),2)}의 범위를 가지고 있습니다.')\n"
   ]
  },
  {
   "cell_type": "markdown",
   "metadata": {},
   "source": [
    "#### 2) 분산"
   ]
  },
  {
   "cell_type": "code",
   "execution_count": 13,
   "metadata": {},
   "outputs": [
    {
     "name": "stdout",
     "output_type": "stream",
     "text": [
      "[1.40625e+01 5.06250e+00 1.05625e+01 5.62500e-01 6.25000e-02 5.06250e+00\n",
      " 1.40625e+01 3.90625e+01 7.65625e+01 5.25625e+01 6.00625e+01 1.05625e+01]\n",
      "편차의 제곱합의 평균, 즉 분산은 24.020833333333332입니다.\n"
     ]
    }
   ],
   "source": [
    "n = len(X)\n",
    "m = X.mean()\n",
    "\n",
    "# 제곱을 해주는 매서드 pow를 활용하여 편차의 제곱 도출\n",
    "# 편차 = 변량 - 평균\n",
    "print(pow(X-m, 2))\n",
    "resid = pow(X-m, 2)\n",
    "\n",
    "# 제곱합을 한 후, 변량의 개수로 나눠주면 분산 도출\n",
    "print(f'편차의 제곱합의 평균, 즉 분산은 {sum(resid)/n}입니다.')"
   ]
  },
  {
   "cell_type": "code",
   "execution_count": 14,
   "metadata": {},
   "outputs": [
    {
     "data": {
      "text/plain": [
       "24.020833333333332"
      ]
     },
     "execution_count": 14,
     "metadata": {},
     "output_type": "execute_result"
    }
   ],
   "source": [
    "# numpy를 이용한 분산값 도출\n",
    "np.var(X)"
   ]
  },
  {
   "cell_type": "markdown",
   "metadata": {},
   "source": [
    "#### 3) 표쥰편차"
   ]
  },
  {
   "cell_type": "code",
   "execution_count": 15,
   "metadata": {},
   "outputs": [
    {
     "name": "stdout",
     "output_type": "stream",
     "text": [
      "4.90110531751087\n",
      "4.90110531751087\n"
     ]
    }
   ],
   "source": [
    "# 표준편차는 분산의 제곱근입니다.\n",
    "print(pow(np.var(X),1/2))\n",
    "\n",
    "# numpy의 std 매서드를 활용한 표준편차 도출\n",
    "print(np.std((X)))"
   ]
  },
  {
   "cell_type": "markdown",
   "metadata": {},
   "source": [
    "#### 4) 왜도"
   ]
  },
  {
   "cell_type": "code",
   "execution_count": 16,
   "metadata": {},
   "outputs": [
    {
     "name": "stdout",
     "output_type": "stream",
     "text": [
      "편차/표쥰편차의 3제곱 : [-0.44793159673025457, 0.09675322489373499, 0.29158687941225747, -0.003583452773842037, 0.00013272047310526058, 0.09675322489373499, -0.44793159673025457, 2.0737573922696972, -5.690390284388049, 3.236919618564201, -3.9538756142788194, 0.29158687941225747]\n",
      "왜도 : -0.3713518837485193\n"
     ]
    }
   ],
   "source": [
    "# 변수 설정\n",
    "n = len(X)\n",
    "m = X.mean()\n",
    "std = np.std(X)\n",
    "\n",
    "# 편차/표쥰편차 값에 3제곱 시행 \n",
    "tmp_result = pow((X - m)/std, 3)\n",
    "print(f'편차/표쥰편차의 3제곱 : {tmp_result.tolist()}')\n",
    "\n",
    "# 3제곱 한 값을 더하고 데이터 개수만큼 나누면 왜도 도출\n",
    "result = sum(tmp_result)/n\n",
    "print(f'왜도 : {result}')"
   ]
  },
  {
   "cell_type": "markdown",
   "metadata": {},
   "source": [
    "#### 5) 첨도"
   ]
  },
  {
   "cell_type": "code",
   "execution_count": 17,
   "metadata": {},
   "outputs": [
    {
     "name": "stdout",
     "output_type": "stream",
     "text": [
      "편차/표쥰편차의 4제곱 : [0.34272748266334907, 0.04441748175317004, 0.19335584458958832, 0.0005483639722613585, 6.7699255834735595e-06, 0.04441748175317004, 0.34272748266334907, 2.6445021810443605, 10.159119578700013, 4.788239736604764, 6.252168444775088, 0.19335584458958832]\n",
      "첨도 : -0.9162011089138096\n"
     ]
    }
   ],
   "source": [
    "# 변수 설정\n",
    "n = len(X)\n",
    "m = X.mean()\n",
    "std = np.std(X)\n",
    "\n",
    "# 편차/표준편차의 4제곱 시행\n",
    "tmp_result = pow(((X - m) / std), 4)\n",
    "print(f'편차/표쥰편차의 4제곱 : {tmp_result.tolist()}')\n",
    "\n",
    "# 4제곱 한 값을 더하고 데이터 개수만큼 나누고 -3을 하면 첨도 도출\n",
    "result = sum(tmp_result)/n - 3\n",
    "print(f'첨도 : {result}')"
   ]
  },
  {
   "cell_type": "code",
   "execution_count": 14,
   "metadata": {},
   "outputs": [
    {
     "data": {
      "text/plain": [
       "-0.9162011089138105"
      ]
     },
     "execution_count": 14,
     "metadata": {},
     "output_type": "execute_result"
    }
   ],
   "source": [
    "# 라이브러리 import로 구한 kurtosis\n",
    "from scipy.stats import kurtosis\n",
    "\n",
    "kurtosis(X)"
   ]
  },
  {
   "cell_type": "markdown",
   "metadata": {},
   "source": [
    "## 2. 리스트 데이터 "
   ]
  },
  {
   "cell_type": "code",
   "execution_count": 18,
   "metadata": {},
   "outputs": [
    {
     "name": "stdout",
     "output_type": "stream",
     "text": [
      "범위 (Range): 40\n",
      "분산 (Variance): 266.6666666666667\n",
      "표준편차 (Standard Deviation): 16.32993161855452\n",
      "왜도 (Skewness): -0.27950849718747256\n",
      "첨도 (Kurtosis): -1.3650000000000007\n"
     ]
    }
   ],
   "source": [
    "import numpy as np\n",
    "from scipy.stats import skew, kurtosis\n",
    "\n",
    "# 데이터 정의\n",
    "data = [50, 60, 70, 80, 90, 90]\n",
    "\n",
    "# 범위 (Range)\n",
    "data_range = max(data) - min(data)\n",
    "\n",
    "# 분산 (Variance)\n",
    "data_variance = np.var(data, ddof=1)  # ddof=1: 표본 분산\n",
    "\n",
    "# 표준편차 (Standard Deviation)\n",
    "data_std_dev = np.std(data, ddof=1)  # ddof=1: 표본 표준편차\n",
    "\n",
    "# 왜도 (Skewness)\n",
    "data_skewness = skew(data)\n",
    "\n",
    "# 첨도 (Kurtosis) : Fisher 첨도\n",
    "data_kurtosis = kurtosis(data)\n",
    "\n",
    "# 결과 출력\n",
    "print(f\"범위 (Range): {data_range}\")\n",
    "print(f\"분산 (Variance): {data_variance}\")\n",
    "print(f\"표준편차 (Standard Deviation): {data_std_dev}\")\n",
    "print(f\"왜도 (Skewness): {data_skewness}\")\n",
    "print(f\"첨도 (Kurtosis): {data_kurtosis}\")\n"
   ]
  },
  {
   "cell_type": "markdown",
   "metadata": {},
   "source": [
    "- Pearson 첨도 사례"
   ]
  },
  {
   "cell_type": "code",
   "execution_count": 20,
   "metadata": {},
   "outputs": [
    {
     "name": "stdout",
     "output_type": "stream",
     "text": [
      "범위 (Range): 40\n",
      "분산 (Variance): 266.6666666666667\n",
      "표준편차 (Standard Deviation): 16.32993161855452\n",
      "왜도 (Skewness): -0.27950849718747256\n",
      "첨도 (Kurtosis): 1.6349999999999993\n"
     ]
    }
   ],
   "source": [
    "import numpy as np\n",
    "from scipy.stats import skew, kurtosis\n",
    "\n",
    "# 데이터 정의\n",
    "data = [50, 60, 70, 80, 90, 90]\n",
    "\n",
    "# 범위 (Range)\n",
    "data_range = max(data) - min(data)\n",
    "\n",
    "# 분산 (Variance)\n",
    "data_variance = np.var(data, ddof=1)  # ddof=1: 표본 분산\n",
    "\n",
    "# 표준편차 (Standard Deviation)\n",
    "data_std_dev = np.std(data, ddof=1)  # ddof=1: 표본 표준편차\n",
    "\n",
    "# 왜도 (Skewness)\n",
    "data_skewness = skew(data)\n",
    "\n",
    "# 첨도 (Kurtosis)\n",
    "# kurtosis(data, fisher=False)를 사용하면 Fisher 첨도가 아닌 Pearson 첨도를 반환 \n",
    "data_kurtosis = kurtosis(data, fisher=False)\n",
    "\n",
    "# 결과 출력\n",
    "print(f\"범위 (Range): {data_range}\")\n",
    "print(f\"분산 (Variance): {data_variance}\")\n",
    "print(f\"표준편차 (Standard Deviation): {data_std_dev}\")\n",
    "print(f\"왜도 (Skewness): {data_skewness}\")\n",
    "print(f\"첨도 (Kurtosis): {data_kurtosis}\")"
   ]
  },
  {
   "cell_type": "code",
   "execution_count": 21,
   "metadata": {},
   "outputs": [
    {
     "name": "stdout",
     "output_type": "stream",
     "text": [
      "Fisher 첨도 (초과 첨도): -1.3650000000000007\n",
      "Pearson 첨도 (전체 첨도): 1.6349999999999993\n"
     ]
    }
   ],
   "source": [
    "import numpy as np\n",
    "from scipy.stats import kurtosis\n",
    "\n",
    "# 데이터 정의\n",
    "data = [50, 60, 70, 80, 90, 90]\n",
    "\n",
    "# Fisher 첨도 (기본 kurtosis 함수)\n",
    "fisher_kurtosis = kurtosis(data)\n",
    "\n",
    "# Pearson 첨도 (Fisher 첨도 + 3)\n",
    "pearson_kurtosis = kurtosis(data, fisher=False)\n",
    "\n",
    "# 결과 출력\n",
    "print(f\"Fisher 첨도 (초과 첨도): {fisher_kurtosis}\")\n",
    "print(f\"Pearson 첨도 (전체 첨도): {pearson_kurtosis}\")\n"
   ]
  },
  {
   "cell_type": "code",
   "execution_count": null,
   "metadata": {},
   "outputs": [],
   "source": []
  },
  {
   "cell_type": "markdown",
   "metadata": {},
   "source": [
    "## 3. 딕셔너리 데이터"
   ]
  },
  {
   "cell_type": "markdown",
   "metadata": {},
   "source": [
    "- 데이터 정의:데이터는 딕셔너리 형태로 그룹별 값 리스트를 저장합니다. 각 그룹에 대해 통계량을 계산합니다."
   ]
  },
  {
   "cell_type": "code",
   "execution_count": 32,
   "metadata": {},
   "outputs": [
    {
     "name": "stdout",
     "output_type": "stream",
     "text": [
      "Group A Statistics:\n",
      "  Variance: 266.6666666666667\n",
      "  Standard Deviation: 16.32993161855452\n",
      "  Skewness: -0.27950849718747256\n",
      "  Kurtosis: -1.3650000000000007\n",
      "Group B Statistics:\n",
      "  Variance: 154.16666666666669\n",
      "  Standard Deviation: 12.416387021459451\n",
      "  Skewness: -0.6358612947838342\n",
      "  Kurtosis: -0.6049963476990499\n",
      "Group C Statistics:\n",
      "  Variance: 166.66666666666669\n",
      "  Standard Deviation: 12.909944487358057\n",
      "  Skewness: -0.05656854249492252\n",
      "  Kurtosis: -1.1544000000000003\n"
     ]
    }
   ],
   "source": [
    "import numpy as np\n",
    "from scipy.stats import skew, kurtosis\n",
    "\n",
    "# 딕셔너리 데이터 정의\n",
    "data_dict = {\n",
    "    \"Group A\": [50, 60, 70, 80, 90, 90],\n",
    "    \"Group B\": [30, 45, 50, 55, 60, 65],\n",
    "    \"Group C\": [100, 110, 115, 120, 130, 135]\n",
    "}\n",
    "\n",
    "# 결과 저장용 딕셔너리\n",
    "results = {}\n",
    "\n",
    "# 딕셔너리 데이터 순회\n",
    "for group, data in data_dict.items():\n",
    "    # 분산\n",
    "    variance = np.var(data, ddof=1)  # ddof=1: 표본 분산\n",
    "    # 표준편차\n",
    "    std_dev = np.std(data, ddof=1)  # ddof=1: 표본 표준편차\n",
    "    # 왜도\n",
    "    skewness = skew(data)\n",
    "    # 첨도\n",
    "    kurt = kurtosis(data)  # Fisher 첨도 (기본)\n",
    "    \n",
    "    # 결과 저장\n",
    "    results[group] = {\n",
    "        \"Variance\": variance,\n",
    "        \"Standard Deviation\": std_dev,\n",
    "        \"Skewness\": skewness,\n",
    "        \"Kurtosis\": kurt\n",
    "    }\n",
    "\n",
    "# 결과 출력\n",
    "for group, stats in results.items():\n",
    "    print(f\"{group} Statistics:\")\n",
    "    for stat_name, stat_value in stats.items():\n",
    "        print(f\"  {stat_name}: {stat_value}\")\n"
   ]
  },
  {
   "cell_type": "markdown",
   "metadata": {},
   "source": [
    "## 4. 삼성전자 데이터"
   ]
  },
  {
   "cell_type": "markdown",
   "metadata": {},
   "source": [
    "### 4-1 데이터 불러오기"
   ]
  },
  {
   "cell_type": "code",
   "execution_count": 24,
   "metadata": {},
   "outputs": [
    {
     "name": "stderr",
     "output_type": "stream",
     "text": [
      "[*********************100%***********************]  1 of 1 completed\n"
     ]
    }
   ],
   "source": [
    "import yfinance as yf\n",
    "import numpy as np\n",
    "import pandas as pd\n",
    "\n",
    "# 삼성전자 일별 데이터 가져오기\n",
    "ticker = \"005930.KS\"\n",
    "samsung = yf.download(ticker, start=\"2023-01-01\", end=\"2023-12-31\")\n",
    "\n"
   ]
  },
  {
   "cell_type": "code",
   "execution_count": 25,
   "metadata": {},
   "outputs": [
    {
     "data": {
      "text/html": [
       "<div>\n",
       "<style scoped>\n",
       "    .dataframe tbody tr th:only-of-type {\n",
       "        vertical-align: middle;\n",
       "    }\n",
       "\n",
       "    .dataframe tbody tr th {\n",
       "        vertical-align: top;\n",
       "    }\n",
       "\n",
       "    .dataframe thead tr th {\n",
       "        text-align: left;\n",
       "    }\n",
       "\n",
       "    .dataframe thead tr:last-of-type th {\n",
       "        text-align: right;\n",
       "    }\n",
       "</style>\n",
       "<table border=\"1\" class=\"dataframe\">\n",
       "  <thead>\n",
       "    <tr>\n",
       "      <th>Price</th>\n",
       "      <th>Adj Close</th>\n",
       "      <th>Close</th>\n",
       "      <th>High</th>\n",
       "      <th>Low</th>\n",
       "      <th>Open</th>\n",
       "      <th>Volume</th>\n",
       "    </tr>\n",
       "    <tr>\n",
       "      <th>Ticker</th>\n",
       "      <th>005930.KS</th>\n",
       "      <th>005930.KS</th>\n",
       "      <th>005930.KS</th>\n",
       "      <th>005930.KS</th>\n",
       "      <th>005930.KS</th>\n",
       "      <th>005930.KS</th>\n",
       "    </tr>\n",
       "    <tr>\n",
       "      <th>Date</th>\n",
       "      <th></th>\n",
       "      <th></th>\n",
       "      <th></th>\n",
       "      <th></th>\n",
       "      <th></th>\n",
       "      <th></th>\n",
       "    </tr>\n",
       "  </thead>\n",
       "  <tbody>\n",
       "    <tr>\n",
       "      <th>2023-01-02 00:00:00+00:00</th>\n",
       "      <td>53576.582031</td>\n",
       "      <td>55500.0</td>\n",
       "      <td>56100.0</td>\n",
       "      <td>55200.0</td>\n",
       "      <td>55500.0</td>\n",
       "      <td>10031448</td>\n",
       "    </tr>\n",
       "    <tr>\n",
       "      <th>2023-01-03 00:00:00+00:00</th>\n",
       "      <td>53480.046875</td>\n",
       "      <td>55400.0</td>\n",
       "      <td>56000.0</td>\n",
       "      <td>54500.0</td>\n",
       "      <td>55400.0</td>\n",
       "      <td>13547030</td>\n",
       "    </tr>\n",
       "    <tr>\n",
       "      <th>2023-01-04 00:00:00+00:00</th>\n",
       "      <td>55796.867188</td>\n",
       "      <td>57800.0</td>\n",
       "      <td>58000.0</td>\n",
       "      <td>55600.0</td>\n",
       "      <td>55700.0</td>\n",
       "      <td>20188071</td>\n",
       "    </tr>\n",
       "    <tr>\n",
       "      <th>2023-01-05 00:00:00+00:00</th>\n",
       "      <td>56183.003906</td>\n",
       "      <td>58200.0</td>\n",
       "      <td>58800.0</td>\n",
       "      <td>57600.0</td>\n",
       "      <td>58200.0</td>\n",
       "      <td>15682826</td>\n",
       "    </tr>\n",
       "    <tr>\n",
       "      <th>2023-01-06 00:00:00+00:00</th>\n",
       "      <td>56955.285156</td>\n",
       "      <td>59000.0</td>\n",
       "      <td>59400.0</td>\n",
       "      <td>57900.0</td>\n",
       "      <td>58300.0</td>\n",
       "      <td>17334989</td>\n",
       "    </tr>\n",
       "    <tr>\n",
       "      <th>...</th>\n",
       "      <td>...</td>\n",
       "      <td>...</td>\n",
       "      <td>...</td>\n",
       "      <td>...</td>\n",
       "      <td>...</td>\n",
       "      <td>...</td>\n",
       "    </tr>\n",
       "    <tr>\n",
       "      <th>2023-12-21 00:00:00+00:00</th>\n",
       "      <td>73566.117188</td>\n",
       "      <td>75000.0</td>\n",
       "      <td>75000.0</td>\n",
       "      <td>74300.0</td>\n",
       "      <td>74600.0</td>\n",
       "      <td>13478766</td>\n",
       "    </tr>\n",
       "    <tr>\n",
       "      <th>2023-12-22 00:00:00+00:00</th>\n",
       "      <td>74448.914062</td>\n",
       "      <td>75900.0</td>\n",
       "      <td>76300.0</td>\n",
       "      <td>75400.0</td>\n",
       "      <td>75800.0</td>\n",
       "      <td>14515608</td>\n",
       "    </tr>\n",
       "    <tr>\n",
       "      <th>2023-12-26 00:00:00+00:00</th>\n",
       "      <td>75135.539062</td>\n",
       "      <td>76600.0</td>\n",
       "      <td>76700.0</td>\n",
       "      <td>75700.0</td>\n",
       "      <td>76100.0</td>\n",
       "      <td>13164909</td>\n",
       "    </tr>\n",
       "    <tr>\n",
       "      <th>2023-12-27 00:00:00+00:00</th>\n",
       "      <td>76871.046875</td>\n",
       "      <td>78000.0</td>\n",
       "      <td>78000.0</td>\n",
       "      <td>76500.0</td>\n",
       "      <td>76700.0</td>\n",
       "      <td>20651042</td>\n",
       "    </tr>\n",
       "    <tr>\n",
       "      <th>2023-12-28 00:00:00+00:00</th>\n",
       "      <td>77363.812500</td>\n",
       "      <td>78500.0</td>\n",
       "      <td>78500.0</td>\n",
       "      <td>77500.0</td>\n",
       "      <td>77700.0</td>\n",
       "      <td>17797536</td>\n",
       "    </tr>\n",
       "  </tbody>\n",
       "</table>\n",
       "<p>245 rows × 6 columns</p>\n",
       "</div>"
      ],
      "text/plain": [
       "Price                         Adj Close     Close      High       Low  \\\n",
       "Ticker                        005930.KS 005930.KS 005930.KS 005930.KS   \n",
       "Date                                                                    \n",
       "2023-01-02 00:00:00+00:00  53576.582031   55500.0   56100.0   55200.0   \n",
       "2023-01-03 00:00:00+00:00  53480.046875   55400.0   56000.0   54500.0   \n",
       "2023-01-04 00:00:00+00:00  55796.867188   57800.0   58000.0   55600.0   \n",
       "2023-01-05 00:00:00+00:00  56183.003906   58200.0   58800.0   57600.0   \n",
       "2023-01-06 00:00:00+00:00  56955.285156   59000.0   59400.0   57900.0   \n",
       "...                                 ...       ...       ...       ...   \n",
       "2023-12-21 00:00:00+00:00  73566.117188   75000.0   75000.0   74300.0   \n",
       "2023-12-22 00:00:00+00:00  74448.914062   75900.0   76300.0   75400.0   \n",
       "2023-12-26 00:00:00+00:00  75135.539062   76600.0   76700.0   75700.0   \n",
       "2023-12-27 00:00:00+00:00  76871.046875   78000.0   78000.0   76500.0   \n",
       "2023-12-28 00:00:00+00:00  77363.812500   78500.0   78500.0   77500.0   \n",
       "\n",
       "Price                          Open    Volume  \n",
       "Ticker                    005930.KS 005930.KS  \n",
       "Date                                           \n",
       "2023-01-02 00:00:00+00:00   55500.0  10031448  \n",
       "2023-01-03 00:00:00+00:00   55400.0  13547030  \n",
       "2023-01-04 00:00:00+00:00   55700.0  20188071  \n",
       "2023-01-05 00:00:00+00:00   58200.0  15682826  \n",
       "2023-01-06 00:00:00+00:00   58300.0  17334989  \n",
       "...                             ...       ...  \n",
       "2023-12-21 00:00:00+00:00   74600.0  13478766  \n",
       "2023-12-22 00:00:00+00:00   75800.0  14515608  \n",
       "2023-12-26 00:00:00+00:00   76100.0  13164909  \n",
       "2023-12-27 00:00:00+00:00   76700.0  20651042  \n",
       "2023-12-28 00:00:00+00:00   77700.0  17797536  \n",
       "\n",
       "[245 rows x 6 columns]"
      ]
     },
     "execution_count": 25,
     "metadata": {},
     "output_type": "execute_result"
    }
   ],
   "source": [
    "samsung"
   ]
  },
  {
   "cell_type": "markdown",
   "metadata": {},
   "source": [
    "### 4-2 수익률의 평균과 분산"
   ]
  },
  {
   "cell_type": "code",
   "execution_count": 26,
   "metadata": {},
   "outputs": [
    {
     "name": "stdout",
     "output_type": "stream",
     "text": [
      "종가 수익률 평균: 0.001509\n",
      "종가 수익률 분산: 0.000176\n",
      "Price                         Close Daily Return\n",
      "Ticker                    005930.KS             \n",
      "Date                                            \n",
      "2023-01-02 00:00:00+00:00   55500.0          NaN\n",
      "2023-01-03 00:00:00+00:00   55400.0    -0.001802\n",
      "2023-01-04 00:00:00+00:00   57800.0     0.043321\n",
      "2023-01-05 00:00:00+00:00   58200.0     0.006920\n",
      "2023-01-06 00:00:00+00:00   59000.0     0.013746\n"
     ]
    }
   ],
   "source": [
    "# 종가 데이터\n",
    "samsung['Daily Return'] = samsung['Close'].pct_change()  # 종가 수익률 계산\n",
    "\n",
    "# 수익률 평균과 분산 계산\n",
    "mean_return = samsung['Daily Return'].mean()  # 평균\n",
    "variance_return = samsung['Daily Return'].var()  # 분산\n",
    "\n",
    "# 결과 출력\n",
    "print(f\"종가 수익률 평균: {mean_return:.6f}\")\n",
    "print(f\"종가 수익률 분산: {variance_return:.6f}\")\n",
    "\n",
    "# 수익률 데이터와 통계 출력\n",
    "print(samsung[['Close', 'Daily Return']].head())\n"
   ]
  },
  {
   "cell_type": "code",
   "execution_count": 27,
   "metadata": {},
   "outputs": [
    {
     "name": "stdout",
     "output_type": "stream",
     "text": [
      "종가 수익률 표준편차: 0.013281\n"
     ]
    }
   ],
   "source": [
    "std_dev_return = samsung['Daily Return'].std()\n",
    "print(f\"종가 수익률 표준편차: {std_dev_return:.6f}\")\n"
   ]
  },
  {
   "cell_type": "code",
   "execution_count": null,
   "metadata": {},
   "outputs": [],
   "source": []
  },
  {
   "cell_type": "code",
   "execution_count": 28,
   "metadata": {},
   "outputs": [
    {
     "name": "stderr",
     "output_type": "stream",
     "text": [
      "[*********************100%***********************]  1 of 1 completed"
     ]
    },
    {
     "name": "stdout",
     "output_type": "stream",
     "text": [
      "삼성전자 주식 수익률의 분산: 0.0002921171957720835\n"
     ]
    },
    {
     "name": "stderr",
     "output_type": "stream",
     "text": [
      "\n"
     ]
    }
   ],
   "source": [
    "import pandas as pd\n",
    "import numpy as np\n",
    "import yfinance as yf\n",
    "\n",
    "# 삼성전자 티커 심볼\n",
    "ticker = '005930.KS'\n",
    "\n",
    "# 데이터 가져오기 (시작일과 종료일 설정)\n",
    "start_date = '2023-01-01'\n",
    "end_date = '2024-11-19'  # 오늘 날짜로 설정\n",
    "\n",
    "# 주가 데이터 다운로드\n",
    "df = yf.download(ticker, start=start_date, end=end_date)\n",
    "\n",
    "# 종가(Close) 열을 사용하여 수익률 계산\n",
    "df['Return'] = df['Close'].pct_change()\n",
    "\n",
    "# 결측값 제거 (첫 번째 수익률은 NaN이므로 제거)\n",
    "df = df.dropna()\n",
    "\n",
    "# 수익률의 분산 계산\n",
    "variance = np.var(df['Return'])\n",
    "\n",
    "print(f\"삼성전자 주식 수익률의 분산: {variance}\")\n"
   ]
  },
  {
   "cell_type": "markdown",
   "metadata": {},
   "source": [
    "### 4-3 수익률 분산 연환산"
   ]
  },
  {
   "cell_type": "code",
   "execution_count": 29,
   "metadata": {},
   "outputs": [
    {
     "name": "stdout",
     "output_type": "stream",
     "text": [
      "주식 일별 수익률의 분산: 0.00031060058745968876\n",
      "주식 연간 수익률의 분산: 0.07827134803984157\n"
     ]
    }
   ],
   "source": [
    "import pandas as pd\n",
    "import numpy as np\n",
    "\n",
    "# 예시로 주식 가격 데이터 생성\n",
    "# 실제로는 Yahoo Finance나 다른 API에서 주가 데이터를 가져올 수 있습니다.\n",
    "data = {\n",
    "    'Date': ['2024-01-01', '2024-01-02', '2024-01-03', '2024-01-04', '2024-01-05'],\n",
    "    'Price': [100, 102, 101, 105, 107]\n",
    "}\n",
    "\n",
    "# 데이터프레임 생성\n",
    "df = pd.DataFrame(data)\n",
    "df['Date'] = pd.to_datetime(df['Date'])\n",
    "\n",
    "# 주가 수익률 계산\n",
    "# 수익률 = (오늘 가격 - 어제 가격) / 어제 가격\n",
    "df['Return'] = df['Price'].pct_change()\n",
    "\n",
    "# 결측값 제거 (첫 번째 수익률은 NaN이므로 제거)\n",
    "df = df.dropna()\n",
    "\n",
    "# 일별 수익률의 분산 계산\n",
    "daily_variance = np.var(df['Return'])\n",
    "\n",
    "# 연간 수익률의 분산 계산 (일별 수익률을 기준으로)\n",
    "annual_variance = daily_variance * 252\n",
    "\n",
    "print(f\"주식 일별 수익률의 분산: {daily_variance}\")\n",
    "print(f\"주식 연간 수익률의 분산: {annual_variance}\")\n"
   ]
  },
  {
   "cell_type": "code",
   "execution_count": 30,
   "metadata": {},
   "outputs": [
    {
     "name": "stdout",
     "output_type": "stream",
     "text": [
      "count    244.000000\n",
      "mean       0.001509\n",
      "std        0.013281\n",
      "min       -0.030016\n",
      "25%       -0.006945\n",
      "50%        0.000688\n",
      "75%        0.007937\n",
      "max        0.061286\n",
      "Name: Daily Return, dtype: float64\n"
     ]
    }
   ],
   "source": [
    "print(samsung['Daily Return'].describe())\n"
   ]
  },
  {
   "cell_type": "markdown",
   "metadata": {},
   "source": [
    "### 4-4 시각화"
   ]
  },
  {
   "cell_type": "code",
   "execution_count": 34,
   "metadata": {},
   "outputs": [
    {
     "name": "stderr",
     "output_type": "stream",
     "text": [
      "[*********************100%***********************]  1 of 1 completed\n"
     ]
    },
    {
     "data": {
      "image/png": "[encoded data removed]",
      "text/plain": [
       "<Figure size 1000x600 with 1 Axes>"
      ]
     },
     "metadata": {},
     "output_type": "display_data"
    }
   ],
   "source": [
    "import yfinance as yf\n",
    "import numpy as np\n",
    "import pandas as pd\n",
    "import matplotlib.pyplot as plt\n",
    "\n",
    "# 삼성전자 일별 데이터 가져오기\n",
    "ticker = \"005930.KS\"\n",
    "samsung = yf.download(ticker, start=\"2023-01-01\", end=\"2023-12-31\")\n",
    "\n",
    "# Close 열의 변화율 계산\n",
    "samsung['Close_Change_Rate'] = samsung['Close'].pct_change()\n",
    "\n",
    "# 변화율 데이터 정리\n",
    "change_rate = samsung['Close_Change_Rate'].dropna()\n",
    "\n",
    "# 분산과 표준편차 계산\n",
    "variance = np.var(change_rate, ddof=1)\n",
    "std_dev = np.std(change_rate, ddof=1)\n",
    "mean_rate = np.mean(change_rate)\n",
    "\n",
    "# 시각화\n",
    "plt.figure(figsize=(10, 6))\n",
    "\n",
    "# 히스토그램 그리기\n",
    "plt.hist(change_rate, bins=30, color='blue', alpha=0.7, label='Close Change Rate')\n",
    "\n",
    "# 평균과 표준편차 선 추가\n",
    "plt.axvline(mean_rate, color='red', linestyle='--', linewidth=2, label=f'Mean: {mean_rate:.4f}')\n",
    "plt.axvline(mean_rate + std_dev, color='green', linestyle='--', linewidth=2, label=f'Mean + Std Dev: {mean_rate + std_dev:.4f}')\n",
    "plt.axvline(mean_rate - std_dev, color='green', linestyle='--', linewidth=2, label=f'Mean - Std Dev: {mean_rate - std_dev:.4f}')\n",
    "\n",
    "# 그래프 제목 및 레이블\n",
    "plt.title(\"Samsung Electronics Close Change Rate Distribution\", fontsize=16)\n",
    "plt.xlabel(\"Change Rate\", fontsize=12)\n",
    "plt.ylabel(\"Frequency\", fontsize=12)\n",
    "plt.legend()\n",
    "plt.grid(alpha=0.3)\n",
    "\n",
    "# 시각화 출력\n",
    "plt.show()\n"
   ]
  },
  {
   "cell_type": "code",
   "execution_count": null,
   "metadata": {},
   "outputs": [],
   "source": []
  }
 ],
 "metadata": {
  "interpreter": {
   "hash": "aee8b7b246df8f9039afb4144a1f6fd8d2ca17a180786b69acc140d282b71a49"
  },
  "kernelspec": {
   "display_name": "Python 3 (ipykernel)",
   "language": "python",
   "name": "python3"
  },
  "language_info": {
   "codemirror_mode": {
    "name": "ipython",
    "version": 3
   },
   "file_extension": ".py",
   "mimetype": "text/x-python",
   "name": "python",
   "nbconvert_exporter": "python",
   "pygments_lexer": "ipython3",
   "version": "3.9.11"
  }
 },
 "nbformat": 4,
 "nbformat_minor": 4
}
