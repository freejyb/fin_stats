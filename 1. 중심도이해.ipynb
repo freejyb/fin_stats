{
 "cells": [
  {
   "cell_type": "markdown",
   "metadata": {},
   "source": [
    "### 중심경향도"
   ]
  },
  {
   "cell_type": "markdown",
   "metadata": {},
   "source": [
    "- 중심경향도(중심화 경향)는 데이터를 분석할 때, 값들이 중심으로 얼마나 모이는지를 측정하는 통계 개념\n",
    "- 이는 데이터 분포의 중심을 나타내는 대표값들을 통해 설명된다.\n",
    "- 사례 : 중심경향도는 평균 (Mean), 중앙값 (Median), 그리고 최빈값 (Mode) 등"
   ]
  },
  {
   "cell_type": "markdown",
   "metadata": {},
   "source": [
    "## 1.  random data 중심경향도 기본 이해"
   ]
  },
  {
   "cell_type": "markdown",
   "metadata": {},
   "source": [
    "### 1-1 라이브러리"
   ]
  },
  {
   "cell_type": "code",
   "execution_count": 3,
   "metadata": {},
   "outputs": [],
   "source": [
    "# 필요한 라이브러리 호출\n",
    "import pandas as pd\n",
    "import matplotlib.pyplot as plt\n",
    "import numpy as np\n",
    "import seaborn as sns\n",
    "\n",
    "from matplotlib import rc\n",
    "\n",
    "# Windows 기본 한글 폰트 설정\n",
    "rc('font', family='Malgun Gothic')  # '맑은 고딕' 사용\n",
    "plt.rcParams['axes.unicode_minus'] = False  # 마이너스 기호 깨짐 방지\n"
   ]
  },
  {
   "cell_type": "markdown",
   "metadata": {},
   "source": [
    "### 1-2 random data 형성"
   ]
  },
  {
   "cell_type": "code",
   "execution_count": 4,
   "metadata": {},
   "outputs": [
    {
     "name": "stdout",
     "output_type": "stream",
     "text": [
      "[ 6 12 13  9 10 12  6 16  1 17  2 13]\n"
     ]
    }
   ],
   "source": [
    "# 데이터 랜덤하게 형성 (seed 부여)\n",
    "np.random.seed(1)\n",
    "\n",
    "# 12개월 동안 발생한 특정 회사 A의 판매 건수라고 가정\n",
    "X = np.random.randint(1,20,12)\n",
    "print(X)"
   ]
  },
  {
   "cell_type": "markdown",
   "metadata": {},
   "source": [
    "### 1-3 데이터 시각화"
   ]
  },
  {
   "cell_type": "code",
   "execution_count": 5,
   "metadata": {},
   "outputs": [
    {
     "data": {
      "image/png": "[encoded data removed]",
      "text/plain": [
       "<Figure size 640x480 with 1 Axes>"
      ]
     },
     "metadata": {},
     "output_type": "display_data"
    }
   ],
   "source": [
    "# 데이터 보기 (시각화로 각 원소별 개수를 출력)\n",
    "\n",
    "sns.barplot(x= list(map(lambda x: x , range(1,13))), y=X)\n",
    "plt.title('Sales')\n",
    "plt.xlabel('month')\n",
    "plt.grid(axis='y')\n",
    "plt.show()"
   ]
  },
  {
   "cell_type": "markdown",
   "metadata": {},
   "source": [
    "### 1-4 중심경향도 "
   ]
  },
  {
   "cell_type": "markdown",
   "metadata": {},
   "source": [
    "#### 1) 산술평균"
   ]
  },
  {
   "cell_type": "markdown",
   "metadata": {},
   "source": [
    "데이터의 평균값을 계산\n",
    "\n",
    "(전체 합) / (전체 데이터 개수)"
   ]
  },
  {
   "cell_type": "code",
   "execution_count": 6,
   "metadata": {},
   "outputs": [
    {
     "name": "stdout",
     "output_type": "stream",
     "text": [
      "9.75\n",
      "9.75\n",
      "10\n"
     ]
    }
   ],
   "source": [
    "print(X.sum()/len(X))\n",
    "\n",
    "print(X.mean())\n",
    "\n",
    "# 만약, 소수점을 출력하지 않는 경우 (round 반올림 함수 이용)\n",
    "\n",
    "print(round(X.mean()))"
   ]
  },
  {
   "cell_type": "markdown",
   "metadata": {},
   "source": [
    "#### 2) 기하평균"
   ]
  },
  {
   "cell_type": "markdown",
   "metadata": {},
   "source": [
    "변화율 도출하기 (월별 건수가 얼마의 비율로 변화되었는지)"
   ]
  },
  {
   "cell_type": "code",
   "execution_count": 7,
   "metadata": {},
   "outputs": [
    {
     "name": "stdout",
     "output_type": "stream",
     "text": [
      "1월 대비 2월의 판매건수 비율은 약  200.00% 입니다.\n",
      "2월 대비 3월의 판매건수 비율은 약  108.33% 입니다.\n",
      "3월 대비 4월의 판매건수 비율은 약  69.23% 입니다.\n",
      "4월 대비 5월의 판매건수 비율은 약  111.11% 입니다.\n",
      "5월 대비 6월의 판매건수 비율은 약  120.00% 입니다.\n",
      "6월 대비 7월의 판매건수 비율은 약  50.00% 입니다.\n",
      "7월 대비 8월의 판매건수 비율은 약  266.67% 입니다.\n",
      "8월 대비 9월의 판매건수 비율은 약  6.25% 입니다.\n",
      "9월 대비 10월의 판매건수 비율은 약  1700.00% 입니다.\n",
      "10월 대비 11월의 판매건수 비율은 약  11.76% 입니다.\n",
      "11월 대비 12월의 판매건수 비율은 약  650.00% 입니다.\n"
     ]
    }
   ],
   "source": [
    "rate = []\n",
    "for i in range(len(X)-1):\n",
    "    rate.append((( (X[i+1]) / X[i] )))\n",
    "\n",
    "for i in range(11):\n",
    "    print(f'{i+1}월 대비 {i+2}월의 판매건수 비율은 약 {rate[i]*100 : .2f}% 입니다.')"
   ]
  },
  {
   "cell_type": "code",
   "execution_count": 8,
   "metadata": {},
   "outputs": [
    {
     "name": "stdout",
     "output_type": "stream",
     "text": [
      "변화율의 모든 값을 곱하면 2.166666666666666가 됩니다.\n",
      "해당 데이터의 기하평균(=평균 증가율) 값은 약 107.28192428296298% 입니다.\n"
     ]
    }
   ],
   "source": [
    "# 변수 설정 (simple data X는 동일)\n",
    "# 곱셈에 대한 항등원 1\n",
    "mulScores = 1 \n",
    "\n",
    "# 항목들로 반복 (rate의 모든 항목을 곱셈하기 위한 코드)\n",
    "for item in rate:\n",
    "    mulScores *= item\n",
    "print(f'변화율의 모든 값을 곱하면 {mulScores}가 됩니다.')    \n",
    "\n",
    "# 제곱 연산자 '**'로 기하평균을 도츌합니다.\n",
    "geometricMean1 = mulScores ** (1/len(rate)) \n",
    "print(f'해당 데이터의 기하평균(=평균 증가율) 값은 약 {geometricMean1*100}% 입니다.')"
   ]
  },
  {
   "cell_type": "markdown",
   "metadata": {},
   "source": [
    "#### 3) 가중평균"
   ]
  },
  {
   "cell_type": "code",
   "execution_count": 9,
   "metadata": {},
   "outputs": [
    {
     "name": "stdout",
     "output_type": "stream",
     "text": [
      "가중치 : [2 1 2 1 2 2 1 4 1 3 1 1]\n",
      "판매 건수 : [ 6 12 13  9 10 12  6 16  1 17  2 13]\n",
      "판매 건수의 순이익에 대한 가중평균 값 : 11.428571428571429\n"
     ]
    }
   ],
   "source": [
    "# 가중치도 랜덤으로 설정합니다. (각 의미는 매출이 아닌 순이익의 비율로 가정해봅니다.)\n",
    "np.random.seed(2022)\n",
    "weight = np.random.randint(1, 5, 12)\n",
    "\n",
    "print('가중치 :',weight)\n",
    "print('판매 건수 :',X)\n",
    "print('판매 건수의 순이익에 대한 가중평균 값 :', sum(X * weight)/sum(weight))"
   ]
  },
  {
   "cell_type": "markdown",
   "metadata": {},
   "source": [
    "#### 4) 절사평균"
   ]
  },
  {
   "cell_type": "code",
   "execution_count": 10,
   "metadata": {},
   "outputs": [
    {
     "name": "stdout",
     "output_type": "stream",
     "text": [
      "5.0% 비율로 절사한 후 data는 [2, 6, 6, 9, 10, 12, 12, 13, 13, 16]입니다.\n",
      "5.0% 비율로 절사한 후 data의 평균은 9.9입니다.\n"
     ]
    }
   ],
   "source": [
    "# 인덱스 슬라이싱을 적용하여 tem_data 내에서 절사 시행\n",
    "\n",
    "# 변수 설정 (양 극단 5%의 데이터 제외)\n",
    "cut = 0.05\n",
    "n = len(X)\n",
    "tem_data = sorted(X)\n",
    "cut_data = round(n * cut)\n",
    "\n",
    "# 인덱싱 데이터 출력\n",
    "print(f'{cut*100}% 비율로 절사한 후 data는 {tem_data[cut_data : -cut_data]}입니다.')\n",
    "\n",
    "# 인덱싱 후 데이터의 평균 출력\n",
    "print(f'{cut*100}% 비율로 절사한 후 data의 평균은 {np.mean(tem_data[cut_data : -cut_data])}입니다.')"
   ]
  },
  {
   "cell_type": "markdown",
   "metadata": {},
   "source": [
    "#### 5) 중위값 도출"
   ]
  },
  {
   "cell_type": "code",
   "execution_count": 11,
   "metadata": {},
   "outputs": [
    {
     "name": "stdout",
     "output_type": "stream",
     "text": [
      "[1, 2, 6, 6, 9, 10, 12, 12, 13, 13, 16, 17]\n",
      "6\n",
      "11.0\n",
      "11.0\n"
     ]
    }
   ],
   "source": [
    "# 하나씩 실행해보는 부분\n",
    "\n",
    "# 오름차순으로 정렬한 검거율 데이터를 따로 형성\n",
    "tem_data = sorted(X)\n",
    "print(tem_data)\n",
    "\n",
    "# 검거율 데이터의 길이를 2로 나눈 몫을 출력\n",
    "center = len(tem_data) // 2\n",
    "print(center)\n",
    "\n",
    "# 인덱스로 접근하여 tem_data의 3번째 값과 -4번째 (= 2번째) 값을 더한 후 2로 나눠준다.\n",
    "# 참고로 인덱스는 0부터 시작한다.\n",
    "print((tem_data[center] + tem_data[-center - 1])/2)\n",
    "\n",
    "# np.median을 사용\n",
    "print(np.median(X))"
   ]
  },
  {
   "cell_type": "markdown",
   "metadata": {},
   "source": [
    "## 2. 데이터 사례"
   ]
  },
  {
   "cell_type": "code",
   "execution_count": 12,
   "metadata": {},
   "outputs": [
    {
     "name": "stdout",
     "output_type": "stream",
     "text": [
      "평균 (Mean): 73.33333333333333\n",
      "중앙값 (Median): 75.0\n",
      "최빈값 (Mode): 90\n"
     ]
    }
   ],
   "source": [
    "import statistics\n",
    "\n",
    "# 예시 데이터\n",
    "data = [50, 60, 70, 80, 90, 90]\n",
    "\n",
    "# 평균 (Mean)\n",
    "mean = statistics.mean(data)\n",
    "print(f\"평균 (Mean): {mean}\")\n",
    "\n",
    "# 중앙값 (Median)\n",
    "median = statistics.median(data)\n",
    "print(f\"중앙값 (Median): {median}\")\n",
    "\n",
    "# 최빈값 (Mode)\n",
    "try:\n",
    "    mode = statistics.mode(data)\n",
    "    print(f\"최빈값 (Mode): {mode}\")\n",
    "except statistics.StatisticsError:\n",
    "    print(\"최빈값이 없습니다 (모든 값이 동일한 빈도로 나타남).\")\n"
   ]
  },
  {
   "cell_type": "code",
   "execution_count": null,
   "metadata": {},
   "outputs": [],
   "source": []
  },
  {
   "cell_type": "markdown",
   "metadata": {},
   "source": [
    "## 3. 삼성전자 주가 데이터"
   ]
  },
  {
   "cell_type": "markdown",
   "metadata": {},
   "source": [
    "### 3-1 라이브러리"
   ]
  },
  {
   "cell_type": "code",
   "execution_count": 19,
   "metadata": {},
   "outputs": [
    {
     "name": "stderr",
     "output_type": "stream",
     "text": [
      "[*********************100%***********************]  1 of 1 completed\n"
     ]
    },
    {
     "data": {
      "text/html": [
       "<div>\n",
       "<style scoped>\n",
       "    .dataframe tbody tr th:only-of-type {\n",
       "        vertical-align: middle;\n",
       "    }\n",
       "\n",
       "    .dataframe tbody tr th {\n",
       "        vertical-align: top;\n",
       "    }\n",
       "\n",
       "    .dataframe thead tr th {\n",
       "        text-align: left;\n",
       "    }\n",
       "\n",
       "    .dataframe thead tr:last-of-type th {\n",
       "        text-align: right;\n",
       "    }\n",
       "</style>\n",
       "<table border=\"1\" class=\"dataframe\">\n",
       "  <thead>\n",
       "    <tr>\n",
       "      <th>Price</th>\n",
       "      <th>Adj Close</th>\n",
       "      <th>Close</th>\n",
       "      <th>High</th>\n",
       "      <th>Low</th>\n",
       "      <th>Open</th>\n",
       "      <th>Volume</th>\n",
       "    </tr>\n",
       "    <tr>\n",
       "      <th>Ticker</th>\n",
       "      <th>005930.KS</th>\n",
       "      <th>005930.KS</th>\n",
       "      <th>005930.KS</th>\n",
       "      <th>005930.KS</th>\n",
       "      <th>005930.KS</th>\n",
       "      <th>005930.KS</th>\n",
       "    </tr>\n",
       "    <tr>\n",
       "      <th>Date</th>\n",
       "      <th></th>\n",
       "      <th></th>\n",
       "      <th></th>\n",
       "      <th></th>\n",
       "      <th></th>\n",
       "      <th></th>\n",
       "    </tr>\n",
       "  </thead>\n",
       "  <tbody>\n",
       "    <tr>\n",
       "      <th>2024-01-02 00:00:00+00:00</th>\n",
       "      <td>78447.882812</td>\n",
       "      <td>79600.0</td>\n",
       "      <td>79800.0</td>\n",
       "      <td>78200.0</td>\n",
       "      <td>78200.0</td>\n",
       "      <td>17142847</td>\n",
       "    </tr>\n",
       "    <tr>\n",
       "      <th>2024-01-03 00:00:00+00:00</th>\n",
       "      <td>75885.523438</td>\n",
       "      <td>77000.0</td>\n",
       "      <td>78800.0</td>\n",
       "      <td>77000.0</td>\n",
       "      <td>78500.0</td>\n",
       "      <td>21753644</td>\n",
       "    </tr>\n",
       "    <tr>\n",
       "      <th>2024-01-04 00:00:00+00:00</th>\n",
       "      <td>75491.304688</td>\n",
       "      <td>76600.0</td>\n",
       "      <td>77300.0</td>\n",
       "      <td>76100.0</td>\n",
       "      <td>76100.0</td>\n",
       "      <td>15324439</td>\n",
       "    </tr>\n",
       "    <tr>\n",
       "      <th>2024-01-05 00:00:00+00:00</th>\n",
       "      <td>75491.304688</td>\n",
       "      <td>76600.0</td>\n",
       "      <td>77100.0</td>\n",
       "      <td>76400.0</td>\n",
       "      <td>76700.0</td>\n",
       "      <td>11304316</td>\n",
       "    </tr>\n",
       "    <tr>\n",
       "      <th>2024-01-08 00:00:00+00:00</th>\n",
       "      <td>75392.757812</td>\n",
       "      <td>76500.0</td>\n",
       "      <td>77500.0</td>\n",
       "      <td>76400.0</td>\n",
       "      <td>77000.0</td>\n",
       "      <td>11088724</td>\n",
       "    </tr>\n",
       "    <tr>\n",
       "      <th>...</th>\n",
       "      <td>...</td>\n",
       "      <td>...</td>\n",
       "      <td>...</td>\n",
       "      <td>...</td>\n",
       "      <td>...</td>\n",
       "      <td>...</td>\n",
       "    </tr>\n",
       "    <tr>\n",
       "      <th>2024-11-25 00:00:00+00:00</th>\n",
       "      <td>57900.000000</td>\n",
       "      <td>57900.0</td>\n",
       "      <td>57900.0</td>\n",
       "      <td>56700.0</td>\n",
       "      <td>57400.0</td>\n",
       "      <td>36237325</td>\n",
       "    </tr>\n",
       "    <tr>\n",
       "      <th>2024-11-26 00:00:00+00:00</th>\n",
       "      <td>58300.000000</td>\n",
       "      <td>58300.0</td>\n",
       "      <td>58900.0</td>\n",
       "      <td>57500.0</td>\n",
       "      <td>57900.0</td>\n",
       "      <td>23209405</td>\n",
       "    </tr>\n",
       "    <tr>\n",
       "      <th>2024-11-27 00:00:00+00:00</th>\n",
       "      <td>56300.000000</td>\n",
       "      <td>56300.0</td>\n",
       "      <td>57800.0</td>\n",
       "      <td>56000.0</td>\n",
       "      <td>57700.0</td>\n",
       "      <td>21808387</td>\n",
       "    </tr>\n",
       "    <tr>\n",
       "      <th>2024-11-28 00:00:00+00:00</th>\n",
       "      <td>55500.000000</td>\n",
       "      <td>55500.0</td>\n",
       "      <td>56400.0</td>\n",
       "      <td>55200.0</td>\n",
       "      <td>56000.0</td>\n",
       "      <td>20001134</td>\n",
       "    </tr>\n",
       "    <tr>\n",
       "      <th>2024-11-29 00:00:00+00:00</th>\n",
       "      <td>54200.000000</td>\n",
       "      <td>54200.0</td>\n",
       "      <td>55300.0</td>\n",
       "      <td>53800.0</td>\n",
       "      <td>55100.0</td>\n",
       "      <td>24513531</td>\n",
       "    </tr>\n",
       "  </tbody>\n",
       "</table>\n",
       "<p>224 rows × 6 columns</p>\n",
       "</div>"
      ],
      "text/plain": [
       "Price                         Adj Close     Close      High       Low  \\\n",
       "Ticker                        005930.KS 005930.KS 005930.KS 005930.KS   \n",
       "Date                                                                    \n",
       "2024-01-02 00:00:00+00:00  78447.882812   79600.0   79800.0   78200.0   \n",
       "2024-01-03 00:00:00+00:00  75885.523438   77000.0   78800.0   77000.0   \n",
       "2024-01-04 00:00:00+00:00  75491.304688   76600.0   77300.0   76100.0   \n",
       "2024-01-05 00:00:00+00:00  75491.304688   76600.0   77100.0   76400.0   \n",
       "2024-01-08 00:00:00+00:00  75392.757812   76500.0   77500.0   76400.0   \n",
       "...                                 ...       ...       ...       ...   \n",
       "2024-11-25 00:00:00+00:00  57900.000000   57900.0   57900.0   56700.0   \n",
       "2024-11-26 00:00:00+00:00  58300.000000   58300.0   58900.0   57500.0   \n",
       "2024-11-27 00:00:00+00:00  56300.000000   56300.0   57800.0   56000.0   \n",
       "2024-11-28 00:00:00+00:00  55500.000000   55500.0   56400.0   55200.0   \n",
       "2024-11-29 00:00:00+00:00  54200.000000   54200.0   55300.0   53800.0   \n",
       "\n",
       "Price                          Open    Volume  \n",
       "Ticker                    005930.KS 005930.KS  \n",
       "Date                                           \n",
       "2024-01-02 00:00:00+00:00   78200.0  17142847  \n",
       "2024-01-03 00:00:00+00:00   78500.0  21753644  \n",
       "2024-01-04 00:00:00+00:00   76100.0  15324439  \n",
       "2024-01-05 00:00:00+00:00   76700.0  11304316  \n",
       "2024-01-08 00:00:00+00:00   77000.0  11088724  \n",
       "...                             ...       ...  \n",
       "2024-11-25 00:00:00+00:00   57400.0  36237325  \n",
       "2024-11-26 00:00:00+00:00   57900.0  23209405  \n",
       "2024-11-27 00:00:00+00:00   57700.0  21808387  \n",
       "2024-11-28 00:00:00+00:00   56000.0  20001134  \n",
       "2024-11-29 00:00:00+00:00   55100.0  24513531  \n",
       "\n",
       "[224 rows x 6 columns]"
      ]
     },
     "execution_count": 19,
     "metadata": {},
     "output_type": "execute_result"
    }
   ],
   "source": [
    "import yfinance\n",
    "\n",
    "# 야후 파이낸스를 이용하여 주가 정보를 다운받습니다.\n",
    "samsung_price = yfinance.download('005930.KS', '2024-01-01', '2024-11-30')\n",
    "samsung_price"
   ]
  },
  {
   "cell_type": "markdown",
   "metadata": {},
   "source": [
    "### 3-2 EDA"
   ]
  },
  {
   "cell_type": "code",
   "execution_count": 39,
   "metadata": {},
   "outputs": [
    {
     "name": "stdout",
     "output_type": "stream",
     "text": [
      "Price                         Adj Close     Close      High       Low  \\\n",
      "Ticker                        005930.KS 005930.KS 005930.KS 005930.KS   \n",
      "Date                                                                    \n",
      "2024-01-02 00:00:00+00:00  78447.882812   79600.0   79800.0   78200.0   \n",
      "2024-01-03 00:00:00+00:00  75885.523438   77000.0   78800.0   77000.0   \n",
      "2024-01-04 00:00:00+00:00  75491.304688   76600.0   77300.0   76100.0   \n",
      "2024-01-05 00:00:00+00:00  75491.304688   76600.0   77100.0   76400.0   \n",
      "2024-01-08 00:00:00+00:00  75392.757812   76500.0   77500.0   76400.0   \n",
      "\n",
      "Price                          Open    Volume Close_Change_Rate  \n",
      "Ticker                    005930.KS 005930.KS                    \n",
      "Date                                                             \n",
      "2024-01-02 00:00:00+00:00   78200.0  17142847               NaN  \n",
      "2024-01-03 00:00:00+00:00   78500.0  21753644         -0.032663  \n",
      "2024-01-04 00:00:00+00:00   76100.0  15324439         -0.005195  \n",
      "2024-01-05 00:00:00+00:00   76700.0  11304316          0.000000  \n",
      "2024-01-08 00:00:00+00:00   77000.0  11088724         -0.001305  \n"
     ]
    }
   ],
   "source": [
    "print(samsung_price.head())"
   ]
  },
  {
   "cell_type": "code",
   "execution_count": 40,
   "metadata": {},
   "outputs": [
    {
     "name": "stdout",
     "output_type": "stream",
     "text": [
      "\n",
      "기초 통계량:\n",
      "Price      Adj Close         Close          High          Low          Open  \\\n",
      "Ticker     005930.KS     005930.KS     005930.KS    005930.KS     005930.KS   \n",
      "count     224.000000    224.000000    224.000000    224.00000    224.000000   \n",
      "mean    72558.424125  73172.767857  74065.625000  72509.37500  73340.625000   \n",
      "std      8765.463436   9004.523996   8917.123476   8923.41363   8990.169098   \n",
      "min     49900.000000  49900.000000  51800.000000  49900.00000  50200.000000   \n",
      "25%     69360.824219  69750.000000  71175.000000  69600.00000  70025.000000   \n",
      "50%     74111.578125  75050.000000  75850.000000  74150.00000  75000.000000   \n",
      "75%     78450.855469  79375.000000  80100.000000  78625.00000  79525.000000   \n",
      "max     87310.109375  87800.000000  88800.000000  87100.00000  88500.000000   \n",
      "\n",
      "Price         Volume Close_Change_Rate  \n",
      "Ticker     005930.KS                    \n",
      "count   2.240000e+02        223.000000  \n",
      "mean    2.190439e+07         -0.001511  \n",
      "std     9.596227e+06          0.020568  \n",
      "min     2.957915e+06         -0.103015  \n",
      "25%     1.523458e+07         -0.014022  \n",
      "50%     1.951332e+07         -0.001344  \n",
      "75%     2.620880e+07          0.008006  \n",
      "max     5.769127e+07          0.072144  \n",
      "\n",
      "개별 기초 통계량:\n",
      "종가 평균 (Mean): Ticker\n",
      "005930.KS    73172.767857\n",
      "dtype: float64\n",
      "종가 중앙값 (Median): Ticker\n",
      "005930.KS    75050.0\n",
      "dtype: float64\n",
      "종가 분산 (Variance): Ticker\n",
      "005930.KS    8.108145e+07\n",
      "dtype: float64\n",
      "종가 표준편차 (Standard Deviation): Ticker\n",
      "005930.KS    9004.523996\n",
      "dtype: float64\n"
     ]
    }
   ],
   "source": [
    " #기초 통계량 계산\n",
    "basic_statistics = samsung_price.describe()\n",
    "print(\"\\n기초 통계량:\")\n",
    "print(basic_statistics)\n",
    "\n",
    "# 개별 기초 통계량 예시\n",
    "mean_close = samsung_price['Close'].mean()\n",
    "median_close = samsung_price['Close'].median()\n",
    "variance_close = samsung_price['Close'].var()\n",
    "std_dev_close = samsung_price['Close'].std()\n",
    "\n",
    "print(\"\\n개별 기초 통계량:\")\n",
    "print(f\"종가 평균 (Mean): {mean_close}\")\n",
    "print(f\"종가 중앙값 (Median): {median_close}\")\n",
    "print(f\"종가 분산 (Variance): {variance_close}\")\n",
    "print(f\"종가 표준편차 (Standard Deviation): {std_dev_close}\")"
   ]
  },
  {
   "cell_type": "markdown",
   "metadata": {},
   "source": [
    "### 3-3 종가(CLOSE) 변화율 계산 및 통계량"
   ]
  },
  {
   "cell_type": "code",
   "execution_count": 22,
   "metadata": {},
   "outputs": [
    {
     "name": "stderr",
     "output_type": "stream",
     "text": [
      "[*********************100%***********************]  1 of 1 completed"
     ]
    },
    {
     "name": "stdout",
     "output_type": "stream",
     "text": [
      "\n",
      "종가 변화율의 기초 통계량:\n",
      "count    223.000000\n",
      "mean      -0.001511\n",
      "std        0.020568\n",
      "min       -0.103015\n",
      "25%       -0.014022\n",
      "50%       -0.001344\n",
      "75%        0.008006\n",
      "max        0.072144\n",
      "Name: Close_Change_Rate, dtype: float64\n",
      "\n",
      "개별 기초 통계량:\n",
      "변화율 평균 (Mean): -0.0015107989575659083\n",
      "변화율 중앙값 (Median): -0.0013440860215053752\n",
      "변화율 표준편차 (Standard Deviation): 0.020568064369570496\n"
     ]
    },
    {
     "name": "stderr",
     "output_type": "stream",
     "text": [
      "\n"
     ]
    }
   ],
   "source": [
    "import yfinance as yf\n",
    "import pandas as pd\n",
    "\n",
    "# 삼성전자 주가 데이터 다운로드\n",
    "samsung_price = yf.download('005930.KS', start='2024-01-01', end='2024-11-30')\n",
    "\n",
    "# Close 열의 변화율 계산\n",
    "samsung_price['Close_Change_Rate'] = samsung_price['Close'].pct_change()\n",
    "\n",
    "# 변화율의 기초 통계량 계산\n",
    "change_rate_statistics = samsung_price['Close_Change_Rate'].describe()\n",
    "print(\"\\n종가 변화율의 기초 통계량:\")\n",
    "print(change_rate_statistics)\n",
    "\n",
    "# 개별 기초 통계량\n",
    "mean_change_rate = samsung_price['Close_Change_Rate'].mean()\n",
    "median_change_rate = samsung_price['Close_Change_Rate'].median()\n",
    "std_change_rate = samsung_price['Close_Change_Rate'].std()\n",
    "\n",
    "print(\"\\n개별 기초 통계량:\")\n",
    "print(f\"변화율 평균 (Mean): {mean_change_rate}\")\n",
    "print(f\"변화율 중앙값 (Median): {median_change_rate}\")\n",
    "print(f\"변화율 표준편차 (Standard Deviation): {std_change_rate}\")\n"
   ]
  },
  {
   "cell_type": "markdown",
   "metadata": {},
   "source": [
    "### 3-4 종가 변화율 중심경향도"
   ]
  },
  {
   "cell_type": "markdown",
   "metadata": {},
   "source": [
    "- 산술평균 (mean()): 데이터의 단순 평균입니다.\n",
    "- 기하평균:모든 값의 곱의 N제곱근에서 1을 뺀 값으로 계산됩니다. 기하평균=[(∏(1+𝑋𝑖))^1/𝑁] −1\n",
    "- 절사평균 (trim_mean):상하위 𝑘%의 데이터를 제거한 후 계산한 평균입니다. 여기서는 상하위 10%를 제거합니다."
   ]
  },
  {
   "cell_type": "markdown",
   "metadata": {},
   "source": [
    "#### 1) 계산 사례"
   ]
  },
  {
   "cell_type": "code",
   "execution_count": 41,
   "metadata": {},
   "outputs": [
    {
     "name": "stderr",
     "output_type": "stream",
     "text": [
      "[*********************100%***********************]  1 of 1 completed"
     ]
    },
    {
     "name": "stdout",
     "output_type": "stream",
     "text": [
      "변화율의 산술평균 (Arithmetic Mean): -0.0015107989575659083\n",
      "변화율의 기하평균 (Geometric Mean): -0.0017219828779007074\n",
      "변화율의 절사평균 (Trimmed Mean, 10%): -0.0021229677451471292\n",
      "변화율의 중위값 (Median): -0.0013440860215053752\n"
     ]
    },
    {
     "name": "stderr",
     "output_type": "stream",
     "text": [
      "\n"
     ]
    }
   ],
   "source": [
    "import yfinance as yf\n",
    "import numpy as np\n",
    "from scipy.stats import trim_mean\n",
    "\n",
    "# 삼성전자 주가 데이터 다운로드\n",
    "samsung_price = yf.download('005930.KS', start='2024-01-01', end='2024-11-30')\n",
    "\n",
    "# Close 열의 변화율 계산\n",
    "samsung_price['Close_Change_Rate'] = samsung_price['Close'].pct_change()\n",
    "\n",
    "# NaN 제거 (첫 번째 변화율은 계산되지 않으므로 제거)\n",
    "change_rate = samsung_price['Close_Change_Rate'].dropna()\n",
    "\n",
    "# 산술평균\n",
    "arithmetic_mean = change_rate.mean()\n",
    "\n",
    "# 기하평균\n",
    "geometric_mean = (np.prod(1 + change_rate) ** (1 / len(change_rate))) - 1\n",
    "\n",
    "# 절사평균 (상하위 10% 값 제거)\n",
    "truncated_mean = trim_mean(change_rate, 0.1)\n",
    "# 중위값 계산\n",
    "median_change_rate = change_rate.median()\n",
    "\n",
    "# 결과 출력\n",
    "print(\"변화율의 산술평균 (Arithmetic Mean):\", arithmetic_mean)\n",
    "print(\"변화율의 기하평균 (Geometric Mean):\", geometric_mean)\n",
    "print(\"변화율의 절사평균 (Trimmed Mean, 10%):\", truncated_mean)\n",
    "\n",
    "print(\"변화율의 중위값 (Median):\", median_change_rate)\n"
   ]
  },
  {
   "cell_type": "markdown",
   "metadata": {},
   "source": [
    "#### 2) for 문 활용 사례 (중앙값 추가)"
   ]
  },
  {
   "cell_type": "markdown",
   "metadata": {},
   "source": [
    "- for문을 사용하여 값을 계산할 때 다음과 같은 편리함과 이점이 있습니다.\n",
    "- 새로운 분석을 추가하거나 기존 분석 방법을 수정할 때, 반복문을 사용하면 단일 구조에서 관리할 수 있습니다.\n",
    "- 반복문은 데이터 분석을 확장하는 데 용이합니다. 새로운 함수나 조건이 추가되더라도 기존 구조를 수정하지 않고 간단히 추가할 수 있습니다."
   ]
  },
  {
   "cell_type": "code",
   "execution_count": 49,
   "metadata": {},
   "outputs": [
    {
     "name": "stderr",
     "output_type": "stream",
     "text": [
      "[*********************100%***********************]  1 of 1 completed"
     ]
    },
    {
     "name": "stdout",
     "output_type": "stream",
     "text": [
      "산술평균 (Arithmetic Mean): -0.0015107989575659083\n",
      "기하평균 (Geometric Mean): -0.0017219828779007074\n",
      "절사평균 (Trimmed Mean, 10%): -0.0021229677451471292\n",
      "중위값 (Median): -0.0013440860215053752\n"
     ]
    },
    {
     "name": "stderr",
     "output_type": "stream",
     "text": [
      "\n"
     ]
    }
   ],
   "source": [
    "import yfinance as yf\n",
    "import numpy as np\n",
    "from scipy.stats import trim_mean\n",
    "\n",
    "# 삼성전자 주가 데이터 다운로드\n",
    "samsung_price = yf.download('005930.KS', start='2024-01-01', end='2024-11-30')\n",
    "\n",
    "# Close 열의 변화율 계산\n",
    "samsung_price['Close_Change_Rate'] = samsung_price['Close'].pct_change()\n",
    "\n",
    "# NaN 제거 (첫 번째 변화율은 계산되지 않으므로 제거)\n",
    "change_rate = samsung_price['Close_Change_Rate'].dropna()\n",
    "\n",
    "# 분석 함수 정의\n",
    "def arithmetic_mean(data):\n",
    "    return data.mean()\n",
    "\n",
    "def geometric_mean(data):\n",
    "    return (np.prod(1 + data) ** (1 / len(data))) - 1\n",
    "\n",
    "def trimmed_mean(data, proportion_to_cut=0.1):\n",
    "    return trim_mean(data, proportion_to_cut)\n",
    "\n",
    "def median(data):\n",
    "    return data.median()\n",
    "\n",
    "# 분석 방법을 리스트로 정의\n",
    "methods = [\n",
    "    (\"산술평균 (Arithmetic Mean)\", arithmetic_mean),\n",
    "    (\"기하평균 (Geometric Mean)\", geometric_mean),\n",
    "    (\"절사평균 (Trimmed Mean, 10%)\", lambda x: trimmed_mean(x, 0.1)),\n",
    "    (\"중위값 (Median)\", median),\n",
    "]\n",
    "\n",
    "# 반복문을 사용하여 결과 출력\n",
    "for name, method in methods:\n",
    "    result = method(change_rate)\n",
    "    print(f\"{name}: {result}\")\n"
   ]
  },
  {
   "cell_type": "markdown",
   "metadata": {},
   "source": [
    "#### 2) for 문 활용 사례 (분산 추가)"
   ]
  },
  {
   "cell_type": "code",
   "execution_count": 47,
   "metadata": {},
   "outputs": [
    {
     "name": "stderr",
     "output_type": "stream",
     "text": [
      "[*********************100%***********************]  1 of 1 completed"
     ]
    },
    {
     "name": "stdout",
     "output_type": "stream",
     "text": [
      "산술평균 (Arithmetic Mean): -0.0015107989575659083\n",
      "기하평균 (Geometric Mean): -0.0017219828779007074\n",
      "절사평균 (Trimmed Mean, 10%): -0.0021229677451471292\n",
      "중위값 (Median): -0.0013440860215053752\n",
      "분산 (Variance): 0.00042304527191079535\n"
     ]
    },
    {
     "name": "stderr",
     "output_type": "stream",
     "text": [
      "\n"
     ]
    }
   ],
   "source": [
    "import yfinance as yf\n",
    "import numpy as np\n",
    "from scipy.stats import trim_mean\n",
    "\n",
    "# 삼성전자 주가 데이터 다운로드\n",
    "samsung_price = yf.download('005930.KS', start='2024-01-01', end='2024-11-30')\n",
    "\n",
    "# Close 열의 변화율 계산\n",
    "samsung_price['Close_Change_Rate'] = samsung_price['Close'].pct_change()\n",
    "\n",
    "# NaN 제거 (첫 번째 변화율은 계산되지 않으므로 제거)\n",
    "change_rate = samsung_price['Close_Change_Rate'].dropna()\n",
    "\n",
    "# 분석 함수 정의\n",
    "def arithmetic_mean(data):\n",
    "    return data.mean()\n",
    "\n",
    "def geometric_mean(data):\n",
    "    return (np.prod(1 + data) ** (1 / len(data))) - 1\n",
    "\n",
    "def trimmed_mean(data, proportion_to_cut=0.1):\n",
    "    return trim_mean(data, proportion_to_cut)\n",
    "\n",
    "def median(data):\n",
    "    return data.median()\n",
    "\n",
    "def variance(data):\n",
    "    return data.var()\n",
    "\n",
    "# 분석 방법을 리스트로 정의\n",
    "methods = [\n",
    "    (\"산술평균 (Arithmetic Mean)\", arithmetic_mean),\n",
    "    (\"기하평균 (Geometric Mean)\", geometric_mean),\n",
    "    (\"절사평균 (Trimmed Mean, 10%)\", lambda x: trimmed_mean(x, 0.1)),\n",
    "    (\"중위값 (Median)\", median),\n",
    "    (\"분산 (Variance)\", variance),\n",
    "]\n",
    "\n",
    "# 반복문을 사용하여 결과 출력\n",
    "for name, method in methods:\n",
    "    result = method(change_rate)\n",
    "    print(f\"{name}: {result}\")\n"
   ]
  }
 ],
 "metadata": {
  "interpreter": {
   "hash": "aee8b7b246df8f9039afb4144a1f6fd8d2ca17a180786b69acc140d282b71a49"
  },
  "kernelspec": {
   "display_name": "Python 3 (ipykernel)",
   "language": "python",
   "name": "python3"
  },
  "language_info": {
   "codemirror_mode": {
    "name": "ipython",
    "version": 3
   },
   "file_extension": ".py",
   "mimetype": "text/x-python",
   "name": "python",
   "nbconvert_exporter": "python",
   "pygments_lexer": "ipython3",
   "version": "3.9.11"
  }
 },
 "nbformat": 4,
 "nbformat_minor": 4
}
