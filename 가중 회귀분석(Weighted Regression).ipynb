{
 "cells": [
  {
   "cell_type": "markdown",
   "id": "73ecf6cd",
   "metadata": {},
   "source": [
    "### 가중 회귀분석(Weighted Regression)"
   ]
  },
  {
   "cell_type": "code",
   "execution_count": null,
   "id": "f04645c5",
   "metadata": {},
   "outputs": [],
   "source": [
    "회귀 모델에서 모든 관측치가 동일한 중요도를 가지지 않을 때 사용하는 기법\n",
    "특정 관측치에 더 많은 가중치를 주어, 그 관측치가 회귀 분석 결과에 더 큰 영향을 미치도록 합니다. \n",
    "이 방법은 데이터의 변동성이 다를 때, 즉 오차의 분산이 일정하지 않은 경우(이분산성)나 특정 관측치가 더 신뢰할 수 있을 때 유용"
   ]
  },
  {
   "cell_type": "code",
   "execution_count": null,
   "id": "5b23332c",
   "metadata": {},
   "outputs": [],
   "source": [
    "# 가중 회귀분석의 원리\n",
    "# 가중 회귀분석에서는 각 관측치에 가중치를 곱해줍니다. \n",
    "# 이 가중치는 해당 관측치의 중요도나 신뢰도를 반영합니다.\n",
    "# 가중치가 높은 데이터 포인트는 회귀선을 결정하는 데 더 큰 영향을 미치며, 가중치가 낮은 데이터 포인트는 덜 영향을 미칩니다."
   ]
  },
  {
   "cell_type": "code",
   "execution_count": null,
   "id": "4b0451ca",
   "metadata": {},
   "outputs": [],
   "source": [
    "# 사례: S&P 500 지수(SPY)와 애플(AAPL) 주식의 일일 수익률 분석\n",
    "# 이 사례에서는 S&P 500 지수(SPY)를 시장 수익률의 대리 변수로 사용하고, \n",
    "# 애플(AAPL) 주식의 일일 수익률을 종속 변수로 사용하여 가중 회귀분석을 수행합니다. \n",
    "# 분석 기간은 2020년 1월 1일부터 2020년 12월 31일까지로 설정합니다."
   ]
  },
  {
   "cell_type": "code",
   "execution_count": null,
   "id": "3023d028",
   "metadata": {},
   "outputs": [],
   "source": [
    "# 애플 주식의 일일 수익률을 종속 변수로, S&P 500 지수의 일일 수익률을 독립 변수로 사용하여 가중 회귀분석을 수행"
   ]
  },
  {
   "cell_type": "markdown",
   "id": "0a2e84c4",
   "metadata": {},
   "source": [
    "#### 사례: S&P 500 지수(SPY)와 애플(AAPL) 주식의 일일 수익률 분석 (동일가중치 )"
   ]
  },
  {
   "cell_type": "code",
   "execution_count": null,
   "id": "bb38c2aa",
   "metadata": {},
   "outputs": [],
   "source": [
    "# 동일 가중치 사례"
   ]
  },
  {
   "cell_type": "code",
   "execution_count": 1,
   "id": "815d9170",
   "metadata": {},
   "outputs": [
    {
     "name": "stdout",
     "output_type": "stream",
     "text": [
      "[*********************100%***********************]  1 of 1 completed\n",
      "[*********************100%***********************]  1 of 1 completed\n",
      "                            WLS Regression Results                            \n",
      "==============================================================================\n",
      "Dep. Variable:                   AAPL   R-squared:                       0.688\n",
      "Model:                            WLS   Adj. R-squared:                  0.687\n",
      "Method:                 Least Squares   F-statistic:                     551.5\n",
      "Date:                Thu, 28 Mar 2024   Prob (F-statistic):           3.45e-65\n",
      "Time:                        22:17:06   Log-Likelihood:                 678.14\n",
      "No. Observations:                 252   AIC:                            -1352.\n",
      "Df Residuals:                     250   BIC:                            -1345.\n",
      "Df Model:                           1                                         \n",
      "Covariance Type:            nonrobust                                         \n",
      "==============================================================================\n",
      "                 coef    std err          t      P>|t|      [0.025      0.975]\n",
      "------------------------------------------------------------------------------\n",
      "const          0.0018      0.001      1.771      0.078      -0.000       0.004\n",
      "SPY            1.1584      0.049     23.484      0.000       1.061       1.256\n",
      "==============================================================================\n",
      "Omnibus:                       51.381   Durbin-Watson:                   1.850\n",
      "Prob(Omnibus):                  0.000   Jarque-Bera (JB):              206.852\n",
      "Skew:                           0.758   Prob(JB):                     1.21e-45\n",
      "Kurtosis:                       7.172   Cond. No.                         47.5\n",
      "==============================================================================\n",
      "\n",
      "Notes:\n",
      "[1] Standard Errors assume that the covariance matrix of the errors is correctly specified.\n"
     ]
    }
   ],
   "source": [
    "import yfinance as yf\n",
    "import pandas as pd\n",
    "import statsmodels.api as sm\n",
    "\n",
    "# 데이터 다운로드\n",
    "spy = yf.download('SPY', start='2020-01-01', end='2020-12-31')\n",
    "aapl = yf.download('AAPL', start='2020-01-01', end='2020-12-31')\n",
    "\n",
    "# 일일 수익률 계산\n",
    "spy_returns = spy['Adj Close'].pct_change().dropna()\n",
    "aapl_returns = aapl['Adj Close'].pct_change().dropna()\n",
    "\n",
    "# 데이터프레임 병합\n",
    "data = pd.DataFrame({'SPY': spy_returns, 'AAPL': aapl_returns}).dropna()\n",
    "\n",
    "# 가중치 설정 (예시로 모든 관측치에 동일한 가중치를 부여)\n",
    "weights = pd.Series(1, index=data.index)\n",
    "\n",
    "# 가중 회귀분석\n",
    "X = sm.add_constant(data['SPY'])  # 독립변수에 상수항 추가\n",
    "y = data['AAPL']  # 종속변수\n",
    "wls_model = sm.WLS(y, X, weights=weights).fit()\n",
    "\n",
    "# 결과 출력\n",
    "print(wls_model.summary())\n"
   ]
  },
  {
   "cell_type": "code",
   "execution_count": null,
   "id": "8e02b5e4",
   "metadata": {},
   "outputs": [],
   "source": [
    "# 결과 해석"
   ]
  },
  {
   "cell_type": "code",
   "execution_count": null,
   "id": "a0d75d52",
   "metadata": {},
   "outputs": [],
   "source": [
    "# 회귀 계수(coef), \n",
    "# : S&P 시장 수익률이 애플 주식의 수익률에 미치는 영향의 크기 --> 1.1584\n",
    "# 통계적 유의성(P>|t|)\n",
    "# : 0.000 < 0.05  통계적으로 유의미\n",
    "\n",
    "#모델의 결정계수(R-squared)\n",
    "# :  모델이 데이터의 변동성을 얼마나 잘 설명하는지? 약68% 설명력"
   ]
  },
  {
   "cell_type": "code",
   "execution_count": null,
   "id": "67e9990c",
   "metadata": {},
   "outputs": [],
   "source": []
  },
  {
   "cell_type": "markdown",
   "id": "61c52a70",
   "metadata": {},
   "source": [
    "#### 사례: S&P 500 지수(SPY)와 애플(AAPL) 주식의 일일 수익률 분석 (가중치 변경)"
   ]
  },
  {
   "cell_type": "code",
   "execution_count": null,
   "id": "88537a4c",
   "metadata": {},
   "outputs": [],
   "source": [
    "#  np.linspace 함수를 사용하여 데이터 포인트에 선형적으로 증가하는 가중치를 부여 \n",
    "# 분석 기간의 시작 부분에 있는 데이터 포인트에는 0.5의 가중치를, \n",
    "# 마지막 데이터 포인트에는 1.0의 가중치를 부여하여, 시간이 지남에 따라 데이터의 중요도가 증가하도록 설정. \n",
    "# 이러한 방식으로 가중치를 설정함으로써, 모델은 최근의 시장 동향을 더 잘 반영할 수 있다."
   ]
  },
  {
   "cell_type": "code",
   "execution_count": 5,
   "id": "d6839ed0",
   "metadata": {},
   "outputs": [
    {
     "name": "stdout",
     "output_type": "stream",
     "text": [
      "[*********************100%***********************]  1 of 1 completed\n",
      "[*********************100%***********************]  1 of 1 completed\n",
      "                            WLS Regression Results                            \n",
      "==============================================================================\n",
      "Dep. Variable:                   AAPL   R-squared:                       0.651\n",
      "Model:                            WLS   Adj. R-squared:                  0.649\n",
      "Method:                 Least Squares   F-statistic:                     465.4\n",
      "Date:                Thu, 28 Mar 2024   Prob (F-statistic):           5.26e-59\n",
      "Time:                        22:27:07   Log-Likelihood:                 670.19\n",
      "No. Observations:                 252   AIC:                            -1336.\n",
      "Df Residuals:                     250   BIC:                            -1329.\n",
      "Df Model:                           1                                         \n",
      "Covariance Type:            nonrobust                                         \n",
      "==============================================================================\n",
      "                 coef    std err          t      P>|t|      [0.025      0.975]\n",
      "------------------------------------------------------------------------------\n",
      "const          0.0018      0.001      1.656      0.099      -0.000       0.004\n",
      "SPY            1.1725      0.054     21.573      0.000       1.065       1.280\n",
      "==============================================================================\n",
      "Omnibus:                       52.346   Durbin-Watson:                   1.861\n",
      "Prob(Omnibus):                  0.000   Jarque-Bera (JB):              229.447\n",
      "Skew:                           0.745   Prob(JB):                     1.50e-50\n",
      "Kurtosis:                       7.431   Cond. No.                         51.2\n",
      "==============================================================================\n",
      "\n",
      "Notes:\n",
      "[1] Standard Errors assume that the covariance matrix of the errors is correctly specified.\n"
     ]
    }
   ],
   "source": [
    "import yfinance as yf\n",
    "import pandas as pd\n",
    "import numpy as np\n",
    "import statsmodels.api as sm\n",
    "\n",
    "# 데이터 다운로드\n",
    "spy = yf.download('SPY', start='2020-01-01', end='2020-12-31')\n",
    "aapl = yf.download('AAPL', start='2020-01-01', end='2020-12-31')\n",
    "\n",
    "# 일일 수익률 계산\n",
    "spy_returns = spy['Adj Close'].pct_change().dropna()\n",
    "aapl_returns = aapl['Adj Close'].pct_change().dropna()\n",
    "\n",
    "# 데이터프레임 병합\n",
    "data = pd.DataFrame({'SPY': spy_returns, 'AAPL': aapl_returns}).dropna()\n",
    "\n",
    "# 가중치 설정 (최근 데이터에 더 높은 가중치 부여)\n",
    "weights = np.linspace(start=0.5, stop=1.0, num=len(data))\n",
    "\n",
    "# 가중 회귀분석\n",
    "X = sm.add_constant(data['SPY'])  # 독립변수에 상수항 추가\n",
    "y = data['AAPL']  # 종속변수\n",
    "wls_model = sm.WLS(y, X, weights=weights).fit()\n",
    "\n",
    "# 결과 출력\n",
    "print(wls_model.summary())\n"
   ]
  },
  {
   "cell_type": "code",
   "execution_count": null,
   "id": "e38fa160",
   "metadata": {},
   "outputs": [],
   "source": [
    "# 결과 해석"
   ]
  },
  {
   "cell_type": "code",
   "execution_count": null,
   "id": "b9373437",
   "metadata": {},
   "outputs": [],
   "source": [
    "# 가중치를 변경함으로써, 모델은 최근 데이터의 패턴을 더 중요하게 고려하게 되며, \n",
    "# 이는 회귀계수의 추정치와 모델의 전반적인 성능에 영향을 미칠 수 있다.\n",
    "# 회귀계수 변화 : 1.1584 -->  1.1725 \n",
    "# P-value는 회귀 계수의 통계적 유의성을 평가 : 0.000 < 0.05 통계적 유의"
   ]
  },
  {
   "cell_type": "code",
   "execution_count": null,
   "id": "2273c582",
   "metadata": {},
   "outputs": [],
   "source": []
  },
  {
   "cell_type": "markdown",
   "id": "76584590",
   "metadata": {},
   "source": [
    "### 사례: S&P 500 지수(SPY)와 애플(AAPL) 주식의 일일 수익률 분석 (OLS 사용)"
   ]
  },
  {
   "cell_type": "code",
   "execution_count": 4,
   "id": "55c1aa1e",
   "metadata": {},
   "outputs": [
    {
     "name": "stdout",
     "output_type": "stream",
     "text": [
      "[*********************100%***********************]  1 of 1 completed\n",
      "[*********************100%***********************]  1 of 1 completed\n",
      "                            OLS Regression Results                            \n",
      "==============================================================================\n",
      "Dep. Variable:                   AAPL   R-squared:                       0.688\n",
      "Model:                            OLS   Adj. R-squared:                  0.687\n",
      "Method:                 Least Squares   F-statistic:                     551.5\n",
      "Date:                Thu, 28 Mar 2024   Prob (F-statistic):           3.45e-65\n",
      "Time:                        22:24:19   Log-Likelihood:                 678.14\n",
      "No. Observations:                 252   AIC:                            -1352.\n",
      "Df Residuals:                     250   BIC:                            -1345.\n",
      "Df Model:                           1                                         \n",
      "Covariance Type:            nonrobust                                         \n",
      "==============================================================================\n",
      "                 coef    std err          t      P>|t|      [0.025      0.975]\n",
      "------------------------------------------------------------------------------\n",
      "const          0.0018      0.001      1.771      0.078      -0.000       0.004\n",
      "SPY            1.1584      0.049     23.484      0.000       1.061       1.256\n",
      "==============================================================================\n",
      "Omnibus:                       51.381   Durbin-Watson:                   1.850\n",
      "Prob(Omnibus):                  0.000   Jarque-Bera (JB):              206.850\n",
      "Skew:                           0.758   Prob(JB):                     1.21e-45\n",
      "Kurtosis:                       7.172   Cond. No.                         47.5\n",
      "==============================================================================\n",
      "\n",
      "Notes:\n",
      "[1] Standard Errors assume that the covariance matrix of the errors is correctly specified.\n"
     ]
    }
   ],
   "source": [
    "import yfinance as yf\n",
    "import pandas as pd\n",
    "import statsmodels.api as sm\n",
    "\n",
    "# 데이터 다운로드\n",
    "spy = yf.download('SPY', start='2020-01-01', end='2020-12-31')\n",
    "aapl = yf.download('AAPL', start='2020-01-01', end='2020-12-31')\n",
    "\n",
    "# 일일 수익률 계산\n",
    "spy_returns = spy['Adj Close'].pct_change().dropna()\n",
    "aapl_returns = aapl['Adj Close'].pct_change().dropna()\n",
    "\n",
    "# 데이터프레임 병합\n",
    "data = pd.DataFrame({'SPY': spy_returns, 'AAPL': aapl_returns}).dropna()\n",
    "\n",
    "# OLS 회귀분석\n",
    "X = sm.add_constant(data['SPY'])  # 독립변수에 상수항 추가\n",
    "y = data['AAPL']  # 종속변수\n",
    "ols_model = sm.OLS(y, X).fit()\n",
    "\n",
    "# 결과 출력\n",
    "print(ols_model.summary())\n"
   ]
  },
  {
   "cell_type": "code",
   "execution_count": null,
   "id": "2aa740e4",
   "metadata": {},
   "outputs": [],
   "source": [
    "# 결과해석\n",
    "# 가중회귀분석과 비교 -- 동일가중치"
   ]
  }
 ],
 "metadata": {
  "kernelspec": {
   "display_name": "Python 3 (ipykernel)",
   "language": "python",
   "name": "python3"
  },
  "language_info": {
   "codemirror_mode": {
    "name": "ipython",
    "version": 3
   },
   "file_extension": ".py",
   "mimetype": "text/x-python",
   "name": "python",
   "nbconvert_exporter": "python",
   "pygments_lexer": "ipython3",
   "version": "3.9.11"
  },
  "toc": {
   "base_numbering": 1,
   "nav_menu": {},
   "number_sections": true,
   "sideBar": true,
   "skip_h1_title": false,
   "title_cell": "Table of Contents",
   "title_sidebar": "Contents",
   "toc_cell": false,
   "toc_position": {},
   "toc_section_display": true,
   "toc_window_display": false
  }
 },
 "nbformat": 4,
 "nbformat_minor": 5
}
