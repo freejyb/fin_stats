{
 "cells": [
  {
   "cell_type": "code",
   "execution_count": 2,
   "metadata": {},
   "outputs": [],
   "source": [
    "# 필요한 라이브러리 호출\n",
    "import pandas as pd\n",
    "import matplotlib.pyplot as plt\n",
    "import numpy as np\n",
    "import seaborn as sns\n",
    "# 한글폰트 출력 가능 코드\n",
    "from matplotlib import rc\n",
    "rc('font', family='AppleGothic') # Mac Os\n",
    "#rc('font', family='NanumGothic') # Windows Os\n",
    "plt.rcParams['axes.unicode_minus'] = False"
   ]
  },
  {
   "cell_type": "markdown",
   "metadata": {},
   "source": [
    "# 1. Simple data 형성"
   ]
  },
  {
   "cell_type": "code",
   "execution_count": 3,
   "metadata": {},
   "outputs": [
    {
     "name": "stdout",
     "output_type": "stream",
     "text": [
      "[ 6 12 13  9 10 12  6 16  1 17  2 13]\n"
     ]
    }
   ],
   "source": [
    "# 데이터 랜덤하게 형성 (seed 부여)\n",
    "np.random.seed(1)\n",
    "\n",
    "# 12개월 동안 발생한 특정 지역 A의 범죄 건수라고 가정 (중심도 이해와 동일)\n",
    "X = np.random.randint(1,20,12)\n",
    "print(X)"
   ]
  },
  {
   "cell_type": "markdown",
   "metadata": {},
   "source": [
    "## 1-1. 데이터 시각화"
   ]
  },
  {
   "cell_type": "code",
   "execution_count": 8,
   "metadata": {},
   "outputs": [
    {
     "data": {
      "image/png": "[encoded data removed]",
      "text/plain": [
       "<Figure size 432x288 with 1 Axes>"
      ]
     },
     "metadata": {
      "needs_background": "light"
     },
     "output_type": "display_data"
    }
   ],
   "source": [
    "# 데이터 보기 (시각화로 각 원소별 개수를 출력)\n",
    "\n",
    "sns.barplot(x= list(map(lambda x: x , range(1,13))), y=X)\n",
    "plt.title('월별 판매 건수')\n",
    "plt.xlabel('월')\n",
    "plt.grid(axis='y')\n",
    "plt.show()"
   ]
  },
  {
   "cell_type": "markdown",
   "metadata": {},
   "source": [
    "## 1-2. 분산도 이해"
   ]
  },
  {
   "cell_type": "markdown",
   "metadata": {},
   "source": [
    "### A. 범위"
   ]
  },
  {
   "cell_type": "code",
   "execution_count": 9,
   "metadata": {},
   "outputs": [
    {
     "name": "stdout",
     "output_type": "stream",
     "text": [
      "오름차순 정렬한 값 : [1, 2, 6, 6, 9, 10, 12, 12, 13, 13, 16, 17]\n",
      "최소값 : 1\n",
      "최댓값 : 17\n"
     ]
    }
   ],
   "source": [
    "# 오름차순 정렬\n",
    "tmp_data = sorted(X)\n",
    "print(f'오름차순 정렬한 값 : {tmp_data}')\n",
    "\n",
    "# 최솟값과 최댓값 출력\n",
    "print(f'최소값 : {tmp_data[0]}')\n",
    "print(f'최댓값 : {tmp_data[-1]}')"
   ]
  },
  {
   "cell_type": "code",
   "execution_count": 11,
   "metadata": {},
   "outputs": [
    {
     "name": "stdout",
     "output_type": "stream",
     "text": [
      "특정 지역 A의 범죄 건수 데이터 : [6, 12, 13, 9, 10, 12, 6, 16, 1, 17, 2, 13]\n",
      "최솟값 : 1\n",
      "최댓값 : 17\n",
      "A 회사의 월별 판매 건수 데이터의 범위는 최소 1에서 최대 17로 16의 범위를 가지고 있습니다.\n"
     ]
    }
   ],
   "source": [
    "# max, min 매서드 활용\n",
    "print(f'특정 지역 A의 범죄 건수 데이터 : {X.tolist()}')\n",
    "\n",
    "print(f'최솟값 : {min(X)}')\n",
    "print(f'최댓값 : {max(X)}')\n",
    "\n",
    "# 따라서 범위는 최댓값 - 최솟값으로 출력할 수 있음.\n",
    "print(f'A 회사의 월별 판매 건수 데이터의 범위는 최소 {min(X)}에서 최대 {max(X)}로 {round(max(X) - min(X),2)}의 범위를 가지고 있습니다.')\n"
   ]
  },
  {
   "cell_type": "markdown",
   "metadata": {},
   "source": [
    "### B. 분산"
   ]
  },
  {
   "cell_type": "code",
   "execution_count": 7,
   "metadata": {},
   "outputs": [
    {
     "name": "stdout",
     "output_type": "stream",
     "text": [
      "[1.40625e+01 5.06250e+00 1.05625e+01 5.62500e-01 6.25000e-02 5.06250e+00\n",
      " 1.40625e+01 3.90625e+01 7.65625e+01 5.25625e+01 6.00625e+01 1.05625e+01]\n",
      "편차의 제곱합의 평균, 즉 분산은 24.020833333333332입니다.\n"
     ]
    }
   ],
   "source": [
    "n = len(X)\n",
    "m = X.mean()\n",
    "\n",
    "# 제곱을 해주는 매서드 pow를 활용하여 편차의 제곱 도출\n",
    "# 편차 = 변량 - 평균\n",
    "print(pow(X-m, 2))\n",
    "resid = pow(X-m, 2)\n",
    "\n",
    "# 제곱합을 한 후, 변량의 개수로 나눠주면 분산 도출\n",
    "print(f'편차의 제곱합의 평균, 즉 분산은 {sum(resid)/n}입니다.')"
   ]
  },
  {
   "cell_type": "code",
   "execution_count": 15,
   "metadata": {},
   "outputs": [
    {
     "data": {
      "text/plain": [
       "24.020833333333332"
      ]
     },
     "execution_count": 15,
     "metadata": {},
     "output_type": "execute_result"
    }
   ],
   "source": [
    "# numpy를 이용한 분산값 도출\n",
    "np.var(X)"
   ]
  },
  {
   "cell_type": "markdown",
   "metadata": {},
   "source": [
    "### C. 표준편차"
   ]
  },
  {
   "cell_type": "code",
   "execution_count": 16,
   "metadata": {},
   "outputs": [
    {
     "name": "stdout",
     "output_type": "stream",
     "text": [
      "4.90110531751087\n",
      "4.90110531751087\n"
     ]
    }
   ],
   "source": [
    "# 표준편차는 분산의 제곱근입니다.\n",
    "print(pow(np.var(X),1/2))\n",
    "\n",
    "# numpy의 std 매서드를 활용한 표준편차 도출\n",
    "print(np.std((X)))"
   ]
  },
  {
   "cell_type": "markdown",
   "metadata": {},
   "source": [
    "### D. 왜도"
   ]
  },
  {
   "cell_type": "code",
   "execution_count": 17,
   "metadata": {},
   "outputs": [
    {
     "name": "stdout",
     "output_type": "stream",
     "text": [
      "편차/표쥰편차의 3제곱 : [-0.44793159673025457, 0.09675322489373499, 0.29158687941225747, -0.003583452773842037, 0.00013272047310526058, 0.09675322489373499, -0.44793159673025457, 2.0737573922696972, -5.690390284388049, 3.236919618564201, -3.9538756142788194, 0.29158687941225747]\n",
      "왜도 : -0.3713518837485193\n"
     ]
    }
   ],
   "source": [
    "# 변수 설정\n",
    "n = len(X)\n",
    "m = X.mean()\n",
    "std = np.std(X)\n",
    "\n",
    "# 편차/표쥰편차 값에 3제곱 시행 \n",
    "tmp_result = pow((X - m)/std, 3)\n",
    "print(f'편차/표쥰편차의 3제곱 : {tmp_result.tolist()}')\n",
    "\n",
    "# 3제곱 한 값을 더하고 데이터 개수만큼 나누면 왜도 도출\n",
    "result = sum(tmp_result)/n\n",
    "print(f'왜도 : {result}')"
   ]
  },
  {
   "cell_type": "markdown",
   "metadata": {},
   "source": [
    "### E. 첨도"
   ]
  },
  {
   "cell_type": "code",
   "execution_count": 18,
   "metadata": {},
   "outputs": [
    {
     "name": "stdout",
     "output_type": "stream",
     "text": [
      "편차/표쥰편차의 4제곱 : [0.34272748266334907, 0.04441748175317004, 0.19335584458958832, 0.0005483639722613585, 6.7699255834735595e-06, 0.04441748175317004, 0.34272748266334907, 2.6445021810443605, 10.159119578700013, 4.788239736604764, 6.252168444775088, 0.19335584458958832]\n",
      "첨도 : -0.9162011089138096\n"
     ]
    }
   ],
   "source": [
    "# 변수 설정\n",
    "n = len(X)\n",
    "m = X.mean()\n",
    "std = np.std(X)\n",
    "\n",
    "# 편차/표준편차의 4제곱 시행\n",
    "tmp_result = pow(((X - m) / std), 4)\n",
    "print(f'편차/표쥰편차의 4제곱 : {tmp_result.tolist()}')\n",
    "\n",
    "# 4제곱 한 값을 더하고 데이터 개수만큼 나누고 -3을 하면 첨도 도출\n",
    "result = sum(tmp_result)/n - 3\n",
    "print(f'첨도 : {result}')"
   ]
  },
  {
   "cell_type": "code",
   "execution_count": 19,
   "metadata": {},
   "outputs": [
    {
     "data": {
      "text/plain": [
       "-0.9162011089138105"
      ]
     },
     "execution_count": 19,
     "metadata": {},
     "output_type": "execute_result"
    }
   ],
   "source": [
    "# 라이브러리 import로 구한 kurtosis\n",
    "from scipy.stats import kurtosis\n",
    "\n",
    "kurtosis(X)"
   ]
  },
  {
   "cell_type": "markdown",
   "metadata": {},
   "source": [
    "# 데이터 불러오기"
   ]
  },
  {
   "cell_type": "code",
   "execution_count": 12,
   "metadata": {},
   "outputs": [
    {
     "name": "stdout",
     "output_type": "stream",
     "text": [
      "[*********************100%***********************]  1 of 1 completed\n"
     ]
    },
    {
     "data": {
      "text/html": [
       "<div>\n",
       "<style scoped>\n",
       "    .dataframe tbody tr th:only-of-type {\n",
       "        vertical-align: middle;\n",
       "    }\n",
       "\n",
       "    .dataframe tbody tr th {\n",
       "        vertical-align: top;\n",
       "    }\n",
       "\n",
       "    .dataframe thead th {\n",
       "        text-align: right;\n",
       "    }\n",
       "</style>\n",
       "<table border=\"1\" class=\"dataframe\">\n",
       "  <thead>\n",
       "    <tr style=\"text-align: right;\">\n",
       "      <th></th>\n",
       "      <th>Open</th>\n",
       "      <th>High</th>\n",
       "      <th>Low</th>\n",
       "      <th>Close</th>\n",
       "      <th>Adj Close</th>\n",
       "      <th>Volume</th>\n",
       "    </tr>\n",
       "    <tr>\n",
       "      <th>Date</th>\n",
       "      <th></th>\n",
       "      <th></th>\n",
       "      <th></th>\n",
       "      <th></th>\n",
       "      <th></th>\n",
       "      <th></th>\n",
       "    </tr>\n",
       "  </thead>\n",
       "  <tbody>\n",
       "    <tr>\n",
       "      <th>2022-01-04</th>\n",
       "      <td>78800.0</td>\n",
       "      <td>79200.0</td>\n",
       "      <td>78300.0</td>\n",
       "      <td>78700.0</td>\n",
       "      <td>78700.0</td>\n",
       "      <td>12427416</td>\n",
       "    </tr>\n",
       "    <tr>\n",
       "      <th>2022-01-05</th>\n",
       "      <td>78800.0</td>\n",
       "      <td>79000.0</td>\n",
       "      <td>76400.0</td>\n",
       "      <td>77400.0</td>\n",
       "      <td>77400.0</td>\n",
       "      <td>25470640</td>\n",
       "    </tr>\n",
       "    <tr>\n",
       "      <th>2022-01-06</th>\n",
       "      <td>76700.0</td>\n",
       "      <td>77600.0</td>\n",
       "      <td>76600.0</td>\n",
       "      <td>76900.0</td>\n",
       "      <td>76900.0</td>\n",
       "      <td>12931954</td>\n",
       "    </tr>\n",
       "    <tr>\n",
       "      <th>2022-01-07</th>\n",
       "      <td>78100.0</td>\n",
       "      <td>78400.0</td>\n",
       "      <td>77400.0</td>\n",
       "      <td>78300.0</td>\n",
       "      <td>78300.0</td>\n",
       "      <td>15163757</td>\n",
       "    </tr>\n",
       "    <tr>\n",
       "      <th>2022-01-10</th>\n",
       "      <td>78100.0</td>\n",
       "      <td>78100.0</td>\n",
       "      <td>77100.0</td>\n",
       "      <td>78000.0</td>\n",
       "      <td>78000.0</td>\n",
       "      <td>9947422</td>\n",
       "    </tr>\n",
       "    <tr>\n",
       "      <th>2022-01-11</th>\n",
       "      <td>78400.0</td>\n",
       "      <td>79000.0</td>\n",
       "      <td>78000.0</td>\n",
       "      <td>78900.0</td>\n",
       "      <td>78900.0</td>\n",
       "      <td>13221123</td>\n",
       "    </tr>\n",
       "    <tr>\n",
       "      <th>2022-01-12</th>\n",
       "      <td>79500.0</td>\n",
       "      <td>79600.0</td>\n",
       "      <td>78600.0</td>\n",
       "      <td>78900.0</td>\n",
       "      <td>78900.0</td>\n",
       "      <td>11000502</td>\n",
       "    </tr>\n",
       "    <tr>\n",
       "      <th>2022-01-13</th>\n",
       "      <td>79300.0</td>\n",
       "      <td>79300.0</td>\n",
       "      <td>77900.0</td>\n",
       "      <td>77900.0</td>\n",
       "      <td>77900.0</td>\n",
       "      <td>13889401</td>\n",
       "    </tr>\n",
       "    <tr>\n",
       "      <th>2022-01-14</th>\n",
       "      <td>77700.0</td>\n",
       "      <td>78100.0</td>\n",
       "      <td>77100.0</td>\n",
       "      <td>77300.0</td>\n",
       "      <td>77300.0</td>\n",
       "      <td>10096725</td>\n",
       "    </tr>\n",
       "    <tr>\n",
       "      <th>2022-01-17</th>\n",
       "      <td>77600.0</td>\n",
       "      <td>77800.0</td>\n",
       "      <td>76900.0</td>\n",
       "      <td>77500.0</td>\n",
       "      <td>77500.0</td>\n",
       "      <td>8785122</td>\n",
       "    </tr>\n",
       "  </tbody>\n",
       "</table>\n",
       "</div>"
      ],
      "text/plain": [
       "               Open     High      Low    Close  Adj Close    Volume\n",
       "Date                                                               \n",
       "2022-01-04  78800.0  79200.0  78300.0  78700.0    78700.0  12427416\n",
       "2022-01-05  78800.0  79000.0  76400.0  77400.0    77400.0  25470640\n",
       "2022-01-06  76700.0  77600.0  76600.0  76900.0    76900.0  12931954\n",
       "2022-01-07  78100.0  78400.0  77400.0  78300.0    78300.0  15163757\n",
       "2022-01-10  78100.0  78100.0  77100.0  78000.0    78000.0   9947422\n",
       "2022-01-11  78400.0  79000.0  78000.0  78900.0    78900.0  13221123\n",
       "2022-01-12  79500.0  79600.0  78600.0  78900.0    78900.0  11000502\n",
       "2022-01-13  79300.0  79300.0  77900.0  77900.0    77900.0  13889401\n",
       "2022-01-14  77700.0  78100.0  77100.0  77300.0    77300.0  10096725\n",
       "2022-01-17  77600.0  77800.0  76900.0  77500.0    77500.0   8785122"
      ]
     },
     "execution_count": 12,
     "metadata": {},
     "output_type": "execute_result"
    }
   ],
   "source": [
    "import yfinance\n",
    "\n",
    "# 야후 파이낸스를 이용하여 주가 정보를 다운받습니다.\n",
    "samsung_price = yfinance.download('005930.KS', '2022-01-01', '2022-01-18')\n",
    "samsung_price"
   ]
  },
  {
   "cell_type": "code",
   "execution_count": 13,
   "metadata": {},
   "outputs": [
    {
     "name": "stdout",
     "output_type": "stream",
     "text": [
      "Date\n",
      "2022-01-04    78700.0\n",
      "2022-01-05    77400.0\n",
      "2022-01-06    76900.0\n",
      "2022-01-07    78300.0\n",
      "2022-01-10    78000.0\n",
      "2022-01-11    78900.0\n",
      "2022-01-12    78900.0\n",
      "2022-01-13    77900.0\n",
      "2022-01-14    77300.0\n",
      "2022-01-17    77500.0\n",
      "Name: Adj Close, dtype: float64\n"
     ]
    },
    {
     "data": {
      "image/png": "[encoded data removed]",
      "text/plain": [
       "<Figure size 432x288 with 1 Axes>"
      ]
     },
     "metadata": {
      "needs_background": "light"
     },
     "output_type": "display_data"
    }
   ],
   "source": [
    "# 데이터 보기\n",
    "print(samsung_price['Adj Close'])\n",
    "\n",
    "sns.lineplot(x=samsung_price.index,\n",
    "             y=samsung_price['Adj Close'], \n",
    "             data=samsung_price)\n",
    "plt.title('Samsung 1월 주가')\n",
    "plt.show()"
   ]
  },
  {
   "cell_type": "markdown",
   "metadata": {},
   "source": [
    "## 분산도 이해 실습"
   ]
  },
  {
   "cell_type": "markdown",
   "metadata": {},
   "source": [
    "### A. 범위"
   ]
  },
  {
   "cell_type": "code",
   "execution_count": 14,
   "metadata": {},
   "outputs": [
    {
     "name": "stdout",
     "output_type": "stream",
     "text": [
      "오름차순 정렬한 값 : [76900.0, 77300.0, 77400.0, 77500.0, 77900.0, 78000.0, 78300.0, 78700.0, 78900.0, 78900.0]\n",
      "최소값 : 76900.0\n",
      "최댓값 : 78900.0\n"
     ]
    }
   ],
   "source": [
    "# 오름차순 정렬\n",
    "tmp_data = sorted(samsung_price['Adj Close'])\n",
    "print(f'오름차순 정렬한 값 : {tmp_data}')\n",
    "\n",
    "# 최솟값과 최댓값 출력\n",
    "print(f'최소값 : {tmp_data[0]}')\n",
    "print(f'최댓값 : {tmp_data[-1]}')"
   ]
  },
  {
   "cell_type": "code",
   "execution_count": 19,
   "metadata": {},
   "outputs": [
    {
     "name": "stdout",
     "output_type": "stream",
     "text": [
      "조정 주가 데이터 : Date\n",
      "2022-01-04    78700.0\n",
      "2022-01-05    77400.0\n",
      "2022-01-06    76900.0\n",
      "2022-01-07    78300.0\n",
      "2022-01-10    78000.0\n",
      "2022-01-11    78900.0\n",
      "2022-01-12    78900.0\n",
      "2022-01-13    77900.0\n",
      "2022-01-14    77300.0\n",
      "2022-01-17    77500.0\n",
      "Name: Adj Close, dtype: float64\n",
      "최솟값 : 76900.0\n",
      "최댓값 : 78900.0\n",
      "검거율 데이터의 범위는 최소 76900.0에서 최대 78900.0로 2000.0의 범위를 가지고 있습니다.\n"
     ]
    }
   ],
   "source": [
    "# max, min 매서드 활용\n",
    "print(f'조정 주가 데이터 : {samsung_price[\"Adj Close\"]}')\n",
    "\n",
    "print(f'최솟값 : {min(samsung_price[\"Adj Close\"])}')\n",
    "print(f'최댓값 : {max(samsung_price[\"Adj Close\"])}')\n",
    "\n",
    "# 따라서 범위는 최댓값 - 최솟값으로 출력할 수 있음.\n",
    "print(f'검거율 데이터의 범위는 최소 {min(samsung_price[\"Adj Close\"])}에서 최대 {max(samsung_price[\"Adj Close\"])}로 {round(max(samsung_price[\"Adj Close\"]) - min(samsung_price[\"Adj Close\"]),2)}의 범위를 가지고 있습니다.')\n"
   ]
  },
  {
   "cell_type": "code",
   "execution_count": 20,
   "metadata": {},
   "outputs": [
    {
     "name": "stdout",
     "output_type": "stream",
     "text": [
      "검거율 데이터 : [78700.0, 77400.0, 76900.0, 78300.0, 78000.0, 78900.0, 78900.0, 77900.0, 77300.0, 77500.0]\n",
      "최솟값 : 76900.0\n",
      "최댓값 : 78900.0\n",
      "'Adj Close' 데이터의 범위는 최소 76900.0에서 최대 78900.0로 2000.0의 범위를 가지고 있습니다.\n"
     ]
    }
   ],
   "source": [
    "def min_max(data, columns):\n",
    "    print(f'검거율 데이터 : {data[columns].tolist()}')\n",
    "    print(f'최솟값 : {min(data[columns])}')\n",
    "    print(f'최댓값 : {max(data[columns])}')\n",
    "    print(f\"'{columns}' 데이터의 범위는 최소 {min(data[columns])}에서 최대 {max(data[columns])}로 {round(max(data[columns]) - min(data[columns]),2)}의 범위를 가지고 있습니다.\")\n",
    "\n",
    "min_max(samsung_price, \"Adj Close\")\n"
   ]
  },
  {
   "cell_type": "markdown",
   "metadata": {},
   "source": [
    "### B. 분산"
   ]
  },
  {
   "cell_type": "code",
   "execution_count": 21,
   "metadata": {},
   "outputs": [
    {
     "name": "stdout",
     "output_type": "stream",
     "text": [
      "[5.1840e+05 3.3640e+05 1.1664e+06 1.0240e+05 4.0000e+02 8.4640e+05\n",
      " 8.4640e+05 6.4000e+03 4.6240e+05 2.3040e+05]\n",
      "편차의 제곱합의 평균, 즉 분산은 451600.0입니다.\n"
     ]
    }
   ],
   "source": [
    "n = len(samsung_price)\n",
    "m = samsung_price['Adj Close'].mean()\n",
    "\n",
    "# 제곱을 해주는 매서드 pow를 활용하여 편차의 제곱 도출\n",
    "# 편차 = 변량 - 평균\n",
    "print(pow(samsung_price['Adj Close']-m, 2).values)\n",
    "resid = pow(samsung_price['Adj Close']-m, 2)\n",
    "\n",
    "# 제곱합을 한 후, 변량의 개수로 나눠주면 분산 도출\n",
    "print(f'편차의 제곱합의 평균, 즉 분산은 {sum(resid)/n}입니다.')"
   ]
  },
  {
   "cell_type": "code",
   "execution_count": 23,
   "metadata": {},
   "outputs": [
    {
     "name": "stdout",
     "output_type": "stream",
     "text": [
      "[5.1840e+05 3.3640e+05 1.1664e+06 1.0240e+05 4.0000e+02 8.4640e+05\n",
      " 8.4640e+05 6.4000e+03 4.6240e+05 2.3040e+05]\n",
      "편차의 제곱합의 평균, 즉 분산은 451600.0입니다.\n"
     ]
    }
   ],
   "source": [
    "def varianve(data, columns):\n",
    "    n = len(data)\n",
    "    m = data[columns].mean()\n",
    "\n",
    "    # 제곱을 해주는 매서드 pow를 활용하여 편차의 제곱 도출\n",
    "    # 편차 = 변량 - 평균\n",
    "    print(pow(data[columns]-m, 2).values)\n",
    "    resid = pow(data[columns]-m, 2)\n",
    "\n",
    "    # 제곱합을 한 후, 변량의 개수로 나눠주면 분산 도출\n",
    "    print(f'편차의 제곱합의 평균, 즉 분산은 {sum(resid)/n}입니다.')\n",
    "    \n",
    "varianve(samsung_price, \"Adj Close\")"
   ]
  },
  {
   "cell_type": "code",
   "execution_count": 25,
   "metadata": {},
   "outputs": [
    {
     "data": {
      "text/plain": [
       "451600.0"
      ]
     },
     "execution_count": 25,
     "metadata": {},
     "output_type": "execute_result"
    }
   ],
   "source": [
    "# numpy의 var 매서드를 활용한 분산 도출\n",
    "\n",
    "np.var(samsung_price['Adj Close'])"
   ]
  },
  {
   "cell_type": "markdown",
   "metadata": {},
   "source": [
    "### C. 표준편차"
   ]
  },
  {
   "cell_type": "code",
   "execution_count": 26,
   "metadata": {},
   "outputs": [
    {
     "name": "stdout",
     "output_type": "stream",
     "text": [
      "672.0119046564577\n",
      "672.0119046564577\n"
     ]
    }
   ],
   "source": [
    "# 표준편차는 분산의 제곱근입니다.\n",
    "print(pow(np.var(samsung_price['Adj Close']),1/2))\n",
    "\n",
    "# numpy의 std 매서드를 활용한 표준편차 도출\n",
    "print(np.std((samsung_price['Adj Close'])))"
   ]
  },
  {
   "cell_type": "markdown",
   "metadata": {},
   "source": [
    "### D. 왜도"
   ]
  },
  {
   "cell_type": "code",
   "execution_count": 27,
   "metadata": {},
   "outputs": [
    {
     "name": "stdout",
     "output_type": "stream",
     "text": [
      "편차/표쥰편차의 3제곱 : [1.2298909035427112, -0.6429142928348589, -4.150881799456649, 0.10797396135354392, 2.636083040858006e-05, 2.565857788649548, 2.565857788649548, -0.0016870931461491238, -1.0360860783788304, -0.36441211956821074]\n",
      "왜도 : 0.027362541964106136\n"
     ]
    }
   ],
   "source": [
    "# 변수 설정\n",
    "n = len(samsung_price['Adj Close'])\n",
    "m = samsung_price['Adj Close'].mean()\n",
    "std = np.std(samsung_price['Adj Close'])\n",
    "\n",
    "# 편차/표쥰편차 값에 3제곱 시행 \n",
    "tmp_result = pow((samsung_price['Adj Close'] - m)/std, 3)\n",
    "print(f'편차/표쥰편차의 3제곱 : {tmp_result.tolist()}')\n",
    "\n",
    "# 3제곱 한 값을 더하고 데이터 개수만큼 나누면 왜도 도출\n",
    "result = sum(tmp_result)/n\n",
    "print(f'왜도 : {result}')"
   ]
  },
  {
   "cell_type": "code",
   "execution_count": 28,
   "metadata": {},
   "outputs": [
    {
     "data": {
      "text/plain": [
       "0.027362541964106136"
      ]
     },
     "execution_count": 28,
     "metadata": {},
     "output_type": "execute_result"
    }
   ],
   "source": [
    "# 함수화 작업\n",
    "def skewness(data):\n",
    "    n = len(data)\n",
    "    m = data.mean()\n",
    "    std = np.std(data)\n",
    "    \n",
    "    tmp_result = pow((data - m)/std, 3)\n",
    "    result = sum(tmp_result)/n\n",
    "    return result\n",
    "\n",
    "\n",
    "skewness(samsung_price['Adj Close'])"
   ]
  },
  {
   "cell_type": "code",
   "execution_count": 29,
   "metadata": {},
   "outputs": [
    {
     "data": {
      "text/plain": [
       "0.027362541964106094"
      ]
     },
     "execution_count": 29,
     "metadata": {},
     "output_type": "execute_result"
    }
   ],
   "source": [
    "# 라이브러리 import로 구한 skew\n",
    "from scipy.stats import skew\n",
    "\n",
    "skew(samsung_price['Adj Close'])"
   ]
  },
  {
   "cell_type": "markdown",
   "metadata": {},
   "source": [
    "### E. 첨도"
   ]
  },
  {
   "cell_type": "code",
   "execution_count": 30,
   "metadata": {},
   "outputs": [
    {
     "name": "stdout",
     "output_type": "stream",
     "text": [
      "편차/표쥰편차의 4제곱 : [1.317716910094686, 0.5548864346902384, 6.670941857354347, 0.05141526123826241, 7.845346258279786e-07, 3.5127192676212364, 3.5127192676212364, 0.00020084086421196253, 1.048401863740457, 0.2602897600187034]\n",
      "첨도 : -1.3070707752221995\n"
     ]
    }
   ],
   "source": [
    "# 변수 설정\n",
    "n = len(samsung_price['Adj Close'])\n",
    "m = samsung_price['Adj Close'].mean()\n",
    "std = np.std(samsung_price['Adj Close'])\n",
    "\n",
    "# 편차/표준편차의 4제곱 시행\n",
    "tmp_result = pow(((samsung_price['Adj Close'] - m) / std), 4)\n",
    "print(f'편차/표쥰편차의 4제곱 : {tmp_result.tolist()}')\n",
    "\n",
    "# 4제곱 한 값을 더하고 데이터 개수만큼 나누고 -3을 하면 첨도 도출\n",
    "result = sum(tmp_result)/n - 3\n",
    "print(f'첨도 : {result}')"
   ]
  },
  {
   "cell_type": "code",
   "execution_count": 31,
   "metadata": {},
   "outputs": [
    {
     "data": {
      "text/plain": [
       "-1.3070707752221995"
      ]
     },
     "execution_count": 31,
     "metadata": {},
     "output_type": "execute_result"
    }
   ],
   "source": [
    "# 함수화\n",
    "def kurtosis_self(data):\n",
    "    n = len(data)\n",
    "    m = data.mean()\n",
    "    std = np.std(data)\n",
    "    \n",
    "    tmp_result = pow(((data - m) / std), 4)\n",
    "    result = sum(tmp_result)/n - 3\n",
    "    return result\n",
    "\n",
    "kurtosis_self(samsung_price['Adj Close'])"
   ]
  },
  {
   "cell_type": "code",
   "execution_count": 32,
   "metadata": {},
   "outputs": [
    {
     "data": {
      "text/plain": [
       "-1.3070707752221997"
      ]
     },
     "execution_count": 32,
     "metadata": {},
     "output_type": "execute_result"
    }
   ],
   "source": [
    "# 라이브러리 import로 구한 kurtosis\n",
    "from scipy.stats import kurtosis\n",
    "\n",
    "kurtosis(samsung_price['Adj Close'])"
   ]
  },
  {
   "cell_type": "markdown",
   "metadata": {},
   "source": [
    "## 참고"
   ]
  },
  {
   "cell_type": "code",
   "execution_count": 33,
   "metadata": {},
   "outputs": [
    {
     "name": "stdout",
     "output_type": "stream",
     "text": [
      "데이터 컬럼 명 'Adj Close'의 count는             10.0입니다.\n",
      "데이터 컬럼 명 'Adj Close'의 mean는             77980.0입니다.\n",
      "데이터 컬럼 명 'Adj Close'의 std는             708.36입니다.\n",
      "데이터 컬럼 명 'Adj Close'의 min는             76900.0입니다.\n",
      "데이터 컬럼 명 'Adj Close'의 50%는             77950.0입니다.\n",
      "데이터 컬럼 명 'Adj Close'의 max는             78900.0입니다.\n"
     ]
    }
   ],
   "source": [
    "def describe_data(data, column, returns = True):\n",
    "    \"\"\"[summary]\n",
    "\n",
    "    Args:\n",
    "        data ([dataframe]): [데이터프레임 이름을 입력합니다]\n",
    "        column ([string]): [컬럼명을 입력합니다]\n",
    "        returns (bool, optional): [describe()함수를 이용한 출력 결과를 표시하는지 여부입니다.]. 기본값은 True입니다.\n",
    "\n",
    "    Returns:\n",
    "        [type]: [describe()함수를 이용한 출력 결과를 표시]\n",
    "    \"\"\"\n",
    "    \n",
    "    for i in [0,1,2,3,5,7]:\n",
    "        print(f\"데이터 컬럼 명 '{column}'의 {data[column].describe().index[i]}는 \\\n",
    "            {round(data[column].describe()[i],2)}입니다.\")\n",
    "        \n",
    "    if returns == True:\n",
    "        return data[column].describe()\n",
    "    else :\n",
    "        return \n",
    "\n",
    "# describe_data(data, '검거율')\n",
    "describe_data(samsung_price, 'Adj Close', returns = False)"
   ]
  }
 ],
 "metadata": {
  "interpreter": {
   "hash": "aee8b7b246df8f9039afb4144a1f6fd8d2ca17a180786b69acc140d282b71a49"
  },
  "kernelspec": {
   "display_name": "Python 3.9.4 64-bit",
   "language": "python",
   "name": "python3"
  },
  "language_info": {
   "codemirror_mode": {
    "name": "ipython",
    "version": 3
   },
   "file_extension": ".py",
   "mimetype": "text/x-python",
   "name": "python",
   "nbconvert_exporter": "python",
   "pygments_lexer": "ipython3",
   "version": "3.9.7"
  },
  "orig_nbformat": 4
 },
 "nbformat": 4,
 "nbformat_minor": 2
}
