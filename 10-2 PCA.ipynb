{
 "cells": [
  {
   "cell_type": "markdown",
   "metadata": {},
   "source": [
    "# 라이브러리 호출"
   ]
  },
  {
   "cell_type": "code",
   "execution_count": 1,
   "metadata": {},
   "outputs": [],
   "source": [
    "import pandas as pd\n",
    "import matplotlib.pyplot as plt\n",
    "import seaborn as sns\n",
    "import numpy as np\n",
    "# 한글폰트 출력 가능 코드\n",
    "from matplotlib import rc\n",
    "rc('font', family='AppleGothic') # Mac Os\n",
    "#rc('font', family='NanumGothic') # Windows Os\n",
    "plt.rcParams['axes.unicode_minus'] = False\n",
    "\n",
    "\n",
    "# 로컬 컴퓨터에 저장되어 있는 경우 상위폴더에 dataset 폴더 형성 후 데이터를 집어 넣으면 됨\n",
    "path = '../dataset/'"
   ]
  },
  {
   "cell_type": "markdown",
   "metadata": {},
   "source": [
    "# 데이터 불러오기"
   ]
  },
  {
   "cell_type": "code",
   "execution_count": 2,
   "metadata": {},
   "outputs": [],
   "source": [
    "# 로컬 컴퓨터에 저장되어 있는 경우\n",
    "\n",
    "# data = pd.read_csv(path+'iris.csv', names=['sepal_length', 'sepal_width', 'petal_length', 'petal_width','target'])\n",
    "# data"
   ]
  },
  {
   "cell_type": "code",
   "execution_count": 3,
   "metadata": {},
   "outputs": [
    {
     "data": {
      "text/html": [
       "<div>\n",
       "<style scoped>\n",
       "    .dataframe tbody tr th:only-of-type {\n",
       "        vertical-align: middle;\n",
       "    }\n",
       "\n",
       "    .dataframe tbody tr th {\n",
       "        vertical-align: top;\n",
       "    }\n",
       "\n",
       "    .dataframe thead th {\n",
       "        text-align: right;\n",
       "    }\n",
       "</style>\n",
       "<table border=\"1\" class=\"dataframe\">\n",
       "  <thead>\n",
       "    <tr style=\"text-align: right;\">\n",
       "      <th></th>\n",
       "      <th>sepal_length</th>\n",
       "      <th>sepal_width</th>\n",
       "      <th>petal_length</th>\n",
       "      <th>petal_width</th>\n",
       "      <th>target</th>\n",
       "    </tr>\n",
       "  </thead>\n",
       "  <tbody>\n",
       "    <tr>\n",
       "      <th>0</th>\n",
       "      <td>5.1</td>\n",
       "      <td>3.5</td>\n",
       "      <td>1.4</td>\n",
       "      <td>0.2</td>\n",
       "      <td>0</td>\n",
       "    </tr>\n",
       "    <tr>\n",
       "      <th>1</th>\n",
       "      <td>4.9</td>\n",
       "      <td>3.0</td>\n",
       "      <td>1.4</td>\n",
       "      <td>0.2</td>\n",
       "      <td>0</td>\n",
       "    </tr>\n",
       "    <tr>\n",
       "      <th>2</th>\n",
       "      <td>4.7</td>\n",
       "      <td>3.2</td>\n",
       "      <td>1.3</td>\n",
       "      <td>0.2</td>\n",
       "      <td>0</td>\n",
       "    </tr>\n",
       "    <tr>\n",
       "      <th>3</th>\n",
       "      <td>4.6</td>\n",
       "      <td>3.1</td>\n",
       "      <td>1.5</td>\n",
       "      <td>0.2</td>\n",
       "      <td>0</td>\n",
       "    </tr>\n",
       "    <tr>\n",
       "      <th>4</th>\n",
       "      <td>5.0</td>\n",
       "      <td>3.6</td>\n",
       "      <td>1.4</td>\n",
       "      <td>0.2</td>\n",
       "      <td>0</td>\n",
       "    </tr>\n",
       "    <tr>\n",
       "      <th>...</th>\n",
       "      <td>...</td>\n",
       "      <td>...</td>\n",
       "      <td>...</td>\n",
       "      <td>...</td>\n",
       "      <td>...</td>\n",
       "    </tr>\n",
       "    <tr>\n",
       "      <th>145</th>\n",
       "      <td>6.7</td>\n",
       "      <td>3.0</td>\n",
       "      <td>5.2</td>\n",
       "      <td>2.3</td>\n",
       "      <td>2</td>\n",
       "    </tr>\n",
       "    <tr>\n",
       "      <th>146</th>\n",
       "      <td>6.3</td>\n",
       "      <td>2.5</td>\n",
       "      <td>5.0</td>\n",
       "      <td>1.9</td>\n",
       "      <td>2</td>\n",
       "    </tr>\n",
       "    <tr>\n",
       "      <th>147</th>\n",
       "      <td>6.5</td>\n",
       "      <td>3.0</td>\n",
       "      <td>5.2</td>\n",
       "      <td>2.0</td>\n",
       "      <td>2</td>\n",
       "    </tr>\n",
       "    <tr>\n",
       "      <th>148</th>\n",
       "      <td>6.2</td>\n",
       "      <td>3.4</td>\n",
       "      <td>5.4</td>\n",
       "      <td>2.3</td>\n",
       "      <td>2</td>\n",
       "    </tr>\n",
       "    <tr>\n",
       "      <th>149</th>\n",
       "      <td>5.9</td>\n",
       "      <td>3.0</td>\n",
       "      <td>5.1</td>\n",
       "      <td>1.8</td>\n",
       "      <td>2</td>\n",
       "    </tr>\n",
       "  </tbody>\n",
       "</table>\n",
       "<p>150 rows × 5 columns</p>\n",
       "</div>"
      ],
      "text/plain": [
       "     sepal_length  sepal_width  petal_length  petal_width  target\n",
       "0             5.1          3.5           1.4          0.2       0\n",
       "1             4.9          3.0           1.4          0.2       0\n",
       "2             4.7          3.2           1.3          0.2       0\n",
       "3             4.6          3.1           1.5          0.2       0\n",
       "4             5.0          3.6           1.4          0.2       0\n",
       "..            ...          ...           ...          ...     ...\n",
       "145           6.7          3.0           5.2          2.3       2\n",
       "146           6.3          2.5           5.0          1.9       2\n",
       "147           6.5          3.0           5.2          2.0       2\n",
       "148           6.2          3.4           5.4          2.3       2\n",
       "149           5.9          3.0           5.1          1.8       2\n",
       "\n",
       "[150 rows x 5 columns]"
      ]
     },
     "execution_count": 3,
     "metadata": {},
     "output_type": "execute_result"
    }
   ],
   "source": [
    "data = pd.read_csv('https://raw.githubusercontent.com/freejyb/fin_stats/main/dataset/iris.csv')\n",
    "data"
   ]
  },
  {
   "cell_type": "markdown",
   "metadata": {},
   "source": [
    "# 1. 스케일러 적용 후 PCA 시행"
   ]
  },
  {
   "cell_type": "code",
   "execution_count": 4,
   "metadata": {},
   "outputs": [
    {
     "data": {
      "text/html": [
       "<div>\n",
       "<style scoped>\n",
       "    .dataframe tbody tr th:only-of-type {\n",
       "        vertical-align: middle;\n",
       "    }\n",
       "\n",
       "    .dataframe tbody tr th {\n",
       "        vertical-align: top;\n",
       "    }\n",
       "\n",
       "    .dataframe thead th {\n",
       "        text-align: right;\n",
       "    }\n",
       "</style>\n",
       "<table border=\"1\" class=\"dataframe\">\n",
       "  <thead>\n",
       "    <tr style=\"text-align: right;\">\n",
       "      <th></th>\n",
       "      <th>sepal length</th>\n",
       "      <th>sepal width</th>\n",
       "      <th>petal length</th>\n",
       "      <th>petal width</th>\n",
       "    </tr>\n",
       "  </thead>\n",
       "  <tbody>\n",
       "    <tr>\n",
       "      <th>0</th>\n",
       "      <td>-0.900681</td>\n",
       "      <td>1.019004</td>\n",
       "      <td>-1.340227</td>\n",
       "      <td>-1.315444</td>\n",
       "    </tr>\n",
       "    <tr>\n",
       "      <th>1</th>\n",
       "      <td>-1.143017</td>\n",
       "      <td>-0.131979</td>\n",
       "      <td>-1.340227</td>\n",
       "      <td>-1.315444</td>\n",
       "    </tr>\n",
       "    <tr>\n",
       "      <th>2</th>\n",
       "      <td>-1.385353</td>\n",
       "      <td>0.328414</td>\n",
       "      <td>-1.397064</td>\n",
       "      <td>-1.315444</td>\n",
       "    </tr>\n",
       "    <tr>\n",
       "      <th>3</th>\n",
       "      <td>-1.506521</td>\n",
       "      <td>0.098217</td>\n",
       "      <td>-1.283389</td>\n",
       "      <td>-1.315444</td>\n",
       "    </tr>\n",
       "    <tr>\n",
       "      <th>4</th>\n",
       "      <td>-1.021849</td>\n",
       "      <td>1.249201</td>\n",
       "      <td>-1.340227</td>\n",
       "      <td>-1.315444</td>\n",
       "    </tr>\n",
       "  </tbody>\n",
       "</table>\n",
       "</div>"
      ],
      "text/plain": [
       "   sepal length  sepal width  petal length  petal width\n",
       "0     -0.900681     1.019004     -1.340227    -1.315444\n",
       "1     -1.143017    -0.131979     -1.340227    -1.315444\n",
       "2     -1.385353     0.328414     -1.397064    -1.315444\n",
       "3     -1.506521     0.098217     -1.283389    -1.315444\n",
       "4     -1.021849     1.249201     -1.340227    -1.315444"
      ]
     },
     "execution_count": 4,
     "metadata": {},
     "output_type": "execute_result"
    }
   ],
   "source": [
    "# 표준화 패키지 라이브러리 \n",
    "from sklearn.preprocessing import StandardScaler\n",
    "\n",
    "# feature, target 분류\n",
    "feature = data.drop(['target'], axis=1).values \n",
    "target = data['target'].values \n",
    "\n",
    "# 스케일러 적용 후 저장\n",
    "scale_feature = StandardScaler().fit_transform(feature)\n",
    "scaled_data =pd.DataFrame(scale_feature, columns=['sepal length', 'sepal width', 'petal length', 'petal width'])\n",
    "scaled_data.head()"
   ]
  },
  {
   "cell_type": "code",
   "execution_count": 5,
   "metadata": {},
   "outputs": [
    {
     "data": {
      "text/html": [
       "<div>\n",
       "<style scoped>\n",
       "    .dataframe tbody tr th:only-of-type {\n",
       "        vertical-align: middle;\n",
       "    }\n",
       "\n",
       "    .dataframe tbody tr th {\n",
       "        vertical-align: top;\n",
       "    }\n",
       "\n",
       "    .dataframe thead th {\n",
       "        text-align: right;\n",
       "    }\n",
       "</style>\n",
       "<table border=\"1\" class=\"dataframe\">\n",
       "  <thead>\n",
       "    <tr style=\"text-align: right;\">\n",
       "      <th></th>\n",
       "      <th>pca_1</th>\n",
       "      <th>pca_2</th>\n",
       "      <th>target</th>\n",
       "    </tr>\n",
       "  </thead>\n",
       "  <tbody>\n",
       "    <tr>\n",
       "      <th>0</th>\n",
       "      <td>-2.264703</td>\n",
       "      <td>0.480027</td>\n",
       "      <td>0</td>\n",
       "    </tr>\n",
       "    <tr>\n",
       "      <th>1</th>\n",
       "      <td>-2.080961</td>\n",
       "      <td>-0.674134</td>\n",
       "      <td>0</td>\n",
       "    </tr>\n",
       "    <tr>\n",
       "      <th>2</th>\n",
       "      <td>-2.364229</td>\n",
       "      <td>-0.341908</td>\n",
       "      <td>0</td>\n",
       "    </tr>\n",
       "    <tr>\n",
       "      <th>3</th>\n",
       "      <td>-2.299384</td>\n",
       "      <td>-0.597395</td>\n",
       "      <td>0</td>\n",
       "    </tr>\n",
       "    <tr>\n",
       "      <th>4</th>\n",
       "      <td>-2.389842</td>\n",
       "      <td>0.646835</td>\n",
       "      <td>0</td>\n",
       "    </tr>\n",
       "    <tr>\n",
       "      <th>...</th>\n",
       "      <td>...</td>\n",
       "      <td>...</td>\n",
       "      <td>...</td>\n",
       "    </tr>\n",
       "    <tr>\n",
       "      <th>145</th>\n",
       "      <td>1.870503</td>\n",
       "      <td>0.386966</td>\n",
       "      <td>2</td>\n",
       "    </tr>\n",
       "    <tr>\n",
       "      <th>146</th>\n",
       "      <td>1.564580</td>\n",
       "      <td>-0.896687</td>\n",
       "      <td>2</td>\n",
       "    </tr>\n",
       "    <tr>\n",
       "      <th>147</th>\n",
       "      <td>1.521170</td>\n",
       "      <td>0.269069</td>\n",
       "      <td>2</td>\n",
       "    </tr>\n",
       "    <tr>\n",
       "      <th>148</th>\n",
       "      <td>1.372788</td>\n",
       "      <td>1.011254</td>\n",
       "      <td>2</td>\n",
       "    </tr>\n",
       "    <tr>\n",
       "      <th>149</th>\n",
       "      <td>0.960656</td>\n",
       "      <td>-0.024332</td>\n",
       "      <td>2</td>\n",
       "    </tr>\n",
       "  </tbody>\n",
       "</table>\n",
       "<p>150 rows × 3 columns</p>\n",
       "</div>"
      ],
      "text/plain": [
       "        pca_1     pca_2  target\n",
       "0   -2.264703  0.480027       0\n",
       "1   -2.080961 -0.674134       0\n",
       "2   -2.364229 -0.341908       0\n",
       "3   -2.299384 -0.597395       0\n",
       "4   -2.389842  0.646835       0\n",
       "..        ...       ...     ...\n",
       "145  1.870503  0.386966       2\n",
       "146  1.564580 -0.896687       2\n",
       "147  1.521170  0.269069       2\n",
       "148  1.372788  1.011254       2\n",
       "149  0.960656 -0.024332       2\n",
       "\n",
       "[150 rows x 3 columns]"
      ]
     },
     "execution_count": 5,
     "metadata": {},
     "output_type": "execute_result"
    }
   ],
   "source": [
    "# PCA 기법 적용 (라이브러리)\n",
    "from sklearn.decomposition import PCA\n",
    "\n",
    "# 주성분을 몇개로 할지 결정 (2개 주성분)\n",
    "pca = PCA(n_components=2)\n",
    "pca2_feature = pca.fit_transform(scale_feature)\n",
    "\n",
    "# 주성분으로 이루어진 데이터 프레임 구성\n",
    "pca2_data = pd.DataFrame(data=pca2_feature, columns = ['pca_1', 'pca_2'])\n",
    "# pca2_data\n",
    "\n",
    "# 새로운 데이터프레임 형성 (라벨값 업데이트)\n",
    "finalDf = pca2_data\n",
    "finalDf['target'] = data.target.values\n",
    "finalDf"
   ]
  },
  {
   "cell_type": "markdown",
   "metadata": {},
   "source": [
    "## PCA 시각화"
   ]
  },
  {
   "cell_type": "code",
   "execution_count": 6,
   "metadata": {},
   "outputs": [
    {
     "data": {
      "image/png": "[encoded data removed]",
      "text/plain": [
       "<Figure size 576x576 with 1 Axes>"
      ]
     },
     "metadata": {
      "needs_background": "light"
     },
     "output_type": "display_data"
    }
   ],
   "source": [
    "# target, color 지정\n",
    "targets = ['Iris-setosa', 'Iris-versicolor', 'Iris-virginica']\n",
    "colors = ['r', 'g', 'b']\n",
    "\n",
    "# 산점도 그래프 출력\n",
    "plt.figure(figsize = (8, 8))\n",
    "for target, color in zip(targets,colors):\n",
    "    plt.scatter(finalDf.loc[finalDf['target'] == target, 'pca_1']\n",
    "               , finalDf.loc[finalDf['target'] == target, 'pca_2']\n",
    "               , c = color\n",
    "               , s = 50)\n",
    "    \n",
    "plt.xlabel('Principal Component 1', fontsize = 15)\n",
    "plt.ylabel('Principal Component 2', fontsize = 15)\n",
    "plt.title('2 component PCA', fontsize=20)\n",
    "plt.legend(targets)\n",
    "plt.grid()\n",
    "plt.show()"
   ]
  },
  {
   "cell_type": "code",
   "execution_count": 7,
   "metadata": {},
   "outputs": [
    {
     "name": "stdout",
     "output_type": "stream",
     "text": [
      "1번째 주성분이 설명가능한 분산 값 :  0.72962\n",
      "2번째 주성분이 설명가능한 분산 값 :  0.22851\n",
      "2개 주성분이 설명하지 못하는 분산 값 :  0.04187\n"
     ]
    },
    {
     "data": {
      "image/png": "[encoded data removed]",
      "text/plain": [
       "<Figure size 432x288 with 1 Axes>"
      ]
     },
     "metadata": {
      "needs_background": "light"
     },
     "output_type": "display_data"
    }
   ],
   "source": [
    "# 설명가능한 분산 (PCA 매서드에서 출력 가능)\n",
    "\n",
    "# 주성분 개수 설정\n",
    "n_components = 2\n",
    "# Instantiate PCA\n",
    "pca = PCA(n_components=n_components)\n",
    "\n",
    "# Determine transformed features\n",
    "pca2_feature = pca.fit_transform(scaled_data)\n",
    "\n",
    "# explained_variance_ratio를 사용하여 각 주성분이 설명가능한 분산을 지정함\n",
    "exp_var_pca = pca.explained_variance_ratio_\n",
    "\n",
    "for i in range(len(exp_var_pca)):\n",
    "    print(f'{i+1}번째 주성분이 설명가능한 분산 값 : {exp_var_pca[i] : .5f}')\n",
    "print(f'{n_components}개 주성분이 설명하지 못하는 분산 값 : {1-sum(exp_var_pca) : .5f}')\n",
    "\n",
    "# explained 값을 cumsum하여 step으로 표시함\n",
    "cum_sum_eigenvalues = np.cumsum(exp_var_pca)\n",
    "\n",
    "# 시각화\n",
    "plt.bar(range(0,len(exp_var_pca)), exp_var_pca, alpha=0.5, align='center', label='n번째 주성분이 설명가능한 분산')\n",
    "plt.step(range(0,len(cum_sum_eigenvalues)), cum_sum_eigenvalues, where='mid',label='축적된 설명가능한 분산')\n",
    "plt.xticks(range(0,len(exp_var_pca)))\n",
    "plt.ylabel('설명 가능한 분산 비율')\n",
    "plt.xlabel('주성분')\n",
    "plt.legend(bbox_to_anchor=(1.0, .2))\n",
    "plt.show()"
   ]
  },
  {
   "cell_type": "markdown",
   "metadata": {},
   "source": [
    "## 참고\n",
    "\n",
    "- interactive plot\n",
    "- 3D plot"
   ]
  },
  {
   "cell_type": "code",
   "execution_count": 10,
   "metadata": {},
   "outputs": [
    {
     "data": {
      "application/vnd.plotly.v1+json": {
       "config": {
        "plotlyServerURL": "https://plot.ly"
       },
       "data": [
        {
         "hovertemplate": "pca_1=%{x}<br>pca_2=%{y}<br>color=%{marker.color}<extra></extra>",
         "legendgroup": "",
         "marker": {
          "color": [
           0,
           0,
           0,
           0,
           0,
           0,
           0,
           0,
           0,
           0,
           0,
           0,
           0,
           0,
           0,
           0,
           0,
           0,
           0,
           0,
           0,
           0,
           0,
           0,
           0,
           0,
           0,
           0,
           0,
           0,
           0,
           0,
           0,
           0,
           0,
           0,
           0,
           0,
           0,
           0,
           0,
           0,
           0,
           0,
           0,
           0,
           0,
           0,
           0,
           0,
           1,
           1,
           1,
           1,
           1,
           1,
           1,
           1,
           1,
           1,
           1,
           1,
           1,
           1,
           1,
           1,
           1,
           1,
           1,
           1,
           1,
           1,
           1,
           1,
           1,
           1,
           1,
           1,
           1,
           1,
           1,
           1,
           1,
           1,
           1,
           1,
           1,
           1,
           1,
           1,
           1,
           1,
           1,
           1,
           1,
           1,
           1,
           1,
           1,
           1,
           2,
           2,
           2,
           2,
           2,
           2,
           2,
           2,
           2,
           2,
           2,
           2,
           2,
           2,
           2,
           2,
           2,
           2,
           2,
           2,
           2,
           2,
           2,
           2,
           2,
           2,
           2,
           2,
           2,
           2,
           2,
           2,
           2,
           2,
           2,
           2,
           2,
           2,
           2,
           2,
           2,
           2,
           2,
           2,
           2,
           2,
           2,
           2,
           2,
           2
          ],
          "coloraxis": "coloraxis",
          "symbol": "circle"
         },
         "mode": "markers",
         "name": "",
         "orientation": "v",
         "showlegend": false,
         "type": "scatter",
         "x": [
          -2.684125625969541,
          -2.7141416872943274,
          -2.888990569059296,
          -2.745342855641409,
          -2.7287165365545287,
          -2.2808596328444914,
          -2.820537750740608,
          -2.6261449731466318,
          -2.8863827317805524,
          -2.672755797820953,
          -2.5069470906518547,
          -2.612755230908722,
          -2.786109266188017,
          -3.223803743865651,
          -2.644750389942029,
          -2.386039033531132,
          -2.623527875224425,
          -2.6482967062543805,
          -2.199820323617579,
          -2.5879863998787673,
          -2.3102562152425175,
          -2.5437052287571555,
          -3.2159394156486107,
          -2.3027331822262065,
          -2.355754049123772,
          -2.5066689069258206,
          -2.468820073121338,
          -2.562319906196015,
          -2.6395347153845417,
          -2.6319893872743454,
          -2.5873984766893514,
          -2.409932497002174,
          -2.648862334349911,
          -2.5987367491005857,
          -2.6369268781057977,
          -2.866241652118669,
          -2.625238049850371,
          -2.8006841154482207,
          -2.9805020437819927,
          -2.5900063139680944,
          -2.7701024260279006,
          -2.8493687050431022,
          -2.997406546594907,
          -2.4056144850974843,
          -2.2094892377836786,
          -2.714451426757707,
          -2.538148258998939,
          -2.839462167642849,
          -2.543085749830392,
          -2.7033597823351587,
          1.2848256888583536,
          0.9324885323123204,
          1.4643023219913962,
          0.1833177199583726,
          1.088103257711668,
          0.6416690842580796,
          1.095060662632449,
          -0.7491226698296556,
          1.0441318260534382,
          -0.008745404082894285,
          -0.5078408838353242,
          0.5116985574475993,
          0.2649765081120483,
          0.9849345104708923,
          -0.17392537168176606,
          0.9278607809442491,
          0.660283761696939,
          0.2361049933176735,
          0.9447337280198155,
          0.04522697629870169,
          1.1162831773500517,
          0.3578884179973092,
          1.2981838753589157,
          0.9217289224470391,
          0.7148533259114135,
          0.9001743731721693,
          1.3320244367220904,
          1.5578021550660723,
          0.8132906498175435,
          -0.30558377802430736,
          -0.06812649206836169,
          -0.18962247237849997,
          0.1364287115580168,
          1.3800264359155132,
          0.5880064433398654,
          0.8068583125004142,
          1.2206908824443548,
          0.815095235766602,
          0.24595767988669426,
          0.16641321714545868,
          0.4648002884037811,
          0.8908151984694513,
          0.2305480235594573,
          -0.7045317592446619,
          0.35698149470104884,
          0.3319344799450603,
          0.3762156510666724,
          0.64257600755434,
          -0.9064698649488343,
          0.29900084187814524,
          2.53119272780363,
          1.4152358767039046,
          2.6166760159956923,
          1.9715310530434376,
          2.3500059200446426,
          3.397038736053262,
          0.5212322439097756,
          2.9325870689936915,
          2.32122881657338,
          2.9167509667860747,
          1.6617741536365338,
          1.8034019529650933,
          2.1655917960801476,
          1.3461635794584532,
          1.5859282238732233,
          1.9044563747934289,
          1.9496890593990717,
          3.487055364290282,
          3.7956454220728855,
          1.3007917126376594,
          2.4278179130660478,
          1.1990011054655627,
          3.49992003892454,
          1.3887661316914672,
          2.275430503872207,
          2.6140904738108337,
          1.2585081605114898,
          1.291132059115023,
          2.123608722773897,
          2.38800301600347,
          2.841672778103873,
          3.2306736614320952,
          2.1594376424890522,
          1.4441612423295116,
          1.7812948100451143,
          3.0764999316871897,
          2.144243314302084,
          1.9050981488140784,
          1.1693263393415023,
          2.1076111432572446,
          2.314154705235602,
          1.922267800902603,
          1.4152358767039046,
          2.5630133750774777,
          2.418746182732827,
          1.9441097945469699,
          1.5271666148145193,
          1.7643457170444314,
          1.900941614218426,
          1.3901888619479161
         ],
         "xaxis": "x",
         "y": [
          0.3193972465851031,
          -0.17700122506477925,
          -0.14494942608555722,
          -0.31829897925191586,
          0.32675451293492047,
          0.7413304490629157,
          -0.08946138452856846,
          0.16338495969832917,
          -0.5783117541867038,
          -0.11377424587411651,
          0.6450688986485744,
          0.014729939161374953,
          -0.23511200020171813,
          -0.511394587006382,
          1.1787646364375761,
          1.3380623304006534,
          0.8106795141812584,
          0.3118491445933553,
          0.8728390389622118,
          0.5135603087492776,
          0.39134593565389486,
          0.43299606327902873,
          0.13346806953852625,
          0.09870885481409995,
          -0.03728185967738212,
          -0.14601688049526743,
          0.13095148943525073,
          0.3677188574342005,
          0.3120399802352835,
          -0.1969612249243143,
          -0.20431849127413315,
          0.41092426422957334,
          0.813363820296963,
          1.0931457594493577,
          -0.12132234786586286,
          0.06936447158008105,
          0.5993700213794242,
          0.26864373779798284,
          -0.4879583444286153,
          0.22904383682701318,
          0.263527533744257,
          -0.9409605736411968,
          -0.34192605747160976,
          0.18887142893026088,
          0.4366631416391884,
          -0.2502082041852109,
          0.5037711444614382,
          -0.22794556949382733,
          0.5794100215198902,
          0.1077060824994121,
          0.6851604704673091,
          0.3183336382626293,
          0.5042628153092046,
          -0.8279590118206326,
          0.07459067519771641,
          -0.4182468715686787,
          0.2834682700615294,
          -1.0048909611818955,
          0.2283618997883959,
          -0.7230819050048343,
          -1.265971190526394,
          -0.10398123549904023,
          -0.5500364636804747,
          -0.12481785412635721,
          -0.2548542087025892,
          0.4671794944415109,
          -0.35296966572385036,
          -0.33361076682491525,
          -0.5431455507797666,
          -0.5838343774718644,
          -0.08461685219478782,
          -0.06892503165601371,
          -0.32778730833391734,
          -0.1827377936213673,
          0.14905594436978506,
          0.3285044738343237,
          0.2444408760163438,
          0.2674954473102549,
          -0.16335030068761613,
          -0.3682621897545878,
          -0.7051721317994655,
          -0.6802867635281336,
          -0.31403243824923666,
          -0.42095428731388185,
          -0.48428741998121827,
          0.1941823147131512,
          0.4076195936110074,
          -0.37203705990950175,
          -0.2685243966220147,
          -0.6819267248636267,
          -0.6707115445117203,
          -0.034464444368268635,
          -0.4043858480073251,
          -1.0122482275317146,
          -0.5049100933371085,
          -0.21265468378116967,
          -0.2932189292514188,
          0.017738190112416535,
          -0.7560933665990142,
          -0.3488978064503358,
          -0.009849109498801816,
          -0.5749163475464895,
          0.34390315134173455,
          -0.1797279043522453,
          -0.040260947142530965,
          0.5508366730280557,
          -1.1927587270006454,
          0.3555000029774966,
          -0.24383150231069073,
          0.7827919488152788,
          0.24222840775506727,
          -0.21563761733355535,
          0.21627558507402495,
          -0.7768183473443395,
          -0.5396407140267188,
          0.1192506920919729,
          0.04194325966321156,
          1.1757393297134298,
          0.2573229734204796,
          -0.7611496364350634,
          0.37819601261705094,
          -0.6060915277579306,
          0.46067409891189526,
          -0.2043993273521508,
          0.3349906058216776,
          0.5609013551230783,
          -0.17970479472274653,
          -0.11666865117401132,
          -0.20972947667730266,
          0.4646398047087367,
          0.37526916719510356,
          1.3741650867930482,
          -0.21727757866904904,
          -0.14341341045758058,
          -0.49990168107813643,
          0.6880856775711761,
          0.14006420108979026,
          0.04930052601303041,
          -0.16499026202310949,
          0.3722878719607979,
          0.18365127916901905,
          0.40920346681606246,
          -0.5749163475464895,
          0.277862602929195,
          0.3047981978546921,
          0.18753230280060532,
          -0.3753169825804884,
          0.07885885451847592,
          0.11662795851202372,
          -0.2826609379905505
         ],
         "yaxis": "y"
        }
       ],
       "layout": {
        "coloraxis": {
         "colorbar": {
          "title": {
           "text": "color"
          }
         },
         "colorscale": [
          [
           0,
           "#0d0887"
          ],
          [
           0.1111111111111111,
           "#46039f"
          ],
          [
           0.2222222222222222,
           "#7201a8"
          ],
          [
           0.3333333333333333,
           "#9c179e"
          ],
          [
           0.4444444444444444,
           "#bd3786"
          ],
          [
           0.5555555555555556,
           "#d8576b"
          ],
          [
           0.6666666666666666,
           "#ed7953"
          ],
          [
           0.7777777777777778,
           "#fb9f3a"
          ],
          [
           0.8888888888888888,
           "#fdca26"
          ],
          [
           1,
           "#f0f921"
          ]
         ]
        },
        "legend": {
         "tracegroupgap": 0
        },
        "margin": {
         "t": 60
        },
        "template": {
         "data": {
          "bar": [
           {
            "error_x": {
             "color": "#2a3f5f"
            },
            "error_y": {
             "color": "#2a3f5f"
            },
            "marker": {
             "line": {
              "color": "#E5ECF6",
              "width": 0.5
             },
             "pattern": {
              "fillmode": "overlay",
              "size": 10,
              "solidity": 0.2
             }
            },
            "type": "bar"
           }
          ],
          "barpolar": [
           {
            "marker": {
             "line": {
              "color": "#E5ECF6",
              "width": 0.5
             },
             "pattern": {
              "fillmode": "overlay",
              "size": 10,
              "solidity": 0.2
             }
            },
            "type": "barpolar"
           }
          ],
          "carpet": [
           {
            "aaxis": {
             "endlinecolor": "#2a3f5f",
             "gridcolor": "white",
             "linecolor": "white",
             "minorgridcolor": "white",
             "startlinecolor": "#2a3f5f"
            },
            "baxis": {
             "endlinecolor": "#2a3f5f",
             "gridcolor": "white",
             "linecolor": "white",
             "minorgridcolor": "white",
             "startlinecolor": "#2a3f5f"
            },
            "type": "carpet"
           }
          ],
          "choropleth": [
           {
            "colorbar": {
             "outlinewidth": 0,
             "ticks": ""
            },
            "type": "choropleth"
           }
          ],
          "contour": [
           {
            "colorbar": {
             "outlinewidth": 0,
             "ticks": ""
            },
            "colorscale": [
             [
              0,
              "#0d0887"
             ],
             [
              0.1111111111111111,
              "#46039f"
             ],
             [
              0.2222222222222222,
              "#7201a8"
             ],
             [
              0.3333333333333333,
              "#9c179e"
             ],
             [
              0.4444444444444444,
              "#bd3786"
             ],
             [
              0.5555555555555556,
              "#d8576b"
             ],
             [
              0.6666666666666666,
              "#ed7953"
             ],
             [
              0.7777777777777778,
              "#fb9f3a"
             ],
             [
              0.8888888888888888,
              "#fdca26"
             ],
             [
              1,
              "#f0f921"
             ]
            ],
            "type": "contour"
           }
          ],
          "contourcarpet": [
           {
            "colorbar": {
             "outlinewidth": 0,
             "ticks": ""
            },
            "type": "contourcarpet"
           }
          ],
          "heatmap": [
           {
            "colorbar": {
             "outlinewidth": 0,
             "ticks": ""
            },
            "colorscale": [
             [
              0,
              "#0d0887"
             ],
             [
              0.1111111111111111,
              "#46039f"
             ],
             [
              0.2222222222222222,
              "#7201a8"
             ],
             [
              0.3333333333333333,
              "#9c179e"
             ],
             [
              0.4444444444444444,
              "#bd3786"
             ],
             [
              0.5555555555555556,
              "#d8576b"
             ],
             [
              0.6666666666666666,
              "#ed7953"
             ],
             [
              0.7777777777777778,
              "#fb9f3a"
             ],
             [
              0.8888888888888888,
              "#fdca26"
             ],
             [
              1,
              "#f0f921"
             ]
            ],
            "type": "heatmap"
           }
          ],
          "heatmapgl": [
           {
            "colorbar": {
             "outlinewidth": 0,
             "ticks": ""
            },
            "colorscale": [
             [
              0,
              "#0d0887"
             ],
             [
              0.1111111111111111,
              "#46039f"
             ],
             [
              0.2222222222222222,
              "#7201a8"
             ],
             [
              0.3333333333333333,
              "#9c179e"
             ],
             [
              0.4444444444444444,
              "#bd3786"
             ],
             [
              0.5555555555555556,
              "#d8576b"
             ],
             [
              0.6666666666666666,
              "#ed7953"
             ],
             [
              0.7777777777777778,
              "#fb9f3a"
             ],
             [
              0.8888888888888888,
              "#fdca26"
             ],
             [
              1,
              "#f0f921"
             ]
            ],
            "type": "heatmapgl"
           }
          ],
          "histogram": [
           {
            "marker": {
             "pattern": {
              "fillmode": "overlay",
              "size": 10,
              "solidity": 0.2
             }
            },
            "type": "histogram"
           }
          ],
          "histogram2d": [
           {
            "colorbar": {
             "outlinewidth": 0,
             "ticks": ""
            },
            "colorscale": [
             [
              0,
              "#0d0887"
             ],
             [
              0.1111111111111111,
              "#46039f"
             ],
             [
              0.2222222222222222,
              "#7201a8"
             ],
             [
              0.3333333333333333,
              "#9c179e"
             ],
             [
              0.4444444444444444,
              "#bd3786"
             ],
             [
              0.5555555555555556,
              "#d8576b"
             ],
             [
              0.6666666666666666,
              "#ed7953"
             ],
             [
              0.7777777777777778,
              "#fb9f3a"
             ],
             [
              0.8888888888888888,
              "#fdca26"
             ],
             [
              1,
              "#f0f921"
             ]
            ],
            "type": "histogram2d"
           }
          ],
          "histogram2dcontour": [
           {
            "colorbar": {
             "outlinewidth": 0,
             "ticks": ""
            },
            "colorscale": [
             [
              0,
              "#0d0887"
             ],
             [
              0.1111111111111111,
              "#46039f"
             ],
             [
              0.2222222222222222,
              "#7201a8"
             ],
             [
              0.3333333333333333,
              "#9c179e"
             ],
             [
              0.4444444444444444,
              "#bd3786"
             ],
             [
              0.5555555555555556,
              "#d8576b"
             ],
             [
              0.6666666666666666,
              "#ed7953"
             ],
             [
              0.7777777777777778,
              "#fb9f3a"
             ],
             [
              0.8888888888888888,
              "#fdca26"
             ],
             [
              1,
              "#f0f921"
             ]
            ],
            "type": "histogram2dcontour"
           }
          ],
          "mesh3d": [
           {
            "colorbar": {
             "outlinewidth": 0,
             "ticks": ""
            },
            "type": "mesh3d"
           }
          ],
          "parcoords": [
           {
            "line": {
             "colorbar": {
              "outlinewidth": 0,
              "ticks": ""
             }
            },
            "type": "parcoords"
           }
          ],
          "pie": [
           {
            "automargin": true,
            "type": "pie"
           }
          ],
          "scatter": [
           {
            "marker": {
             "colorbar": {
              "outlinewidth": 0,
              "ticks": ""
             }
            },
            "type": "scatter"
           }
          ],
          "scatter3d": [
           {
            "line": {
             "colorbar": {
              "outlinewidth": 0,
              "ticks": ""
             }
            },
            "marker": {
             "colorbar": {
              "outlinewidth": 0,
              "ticks": ""
             }
            },
            "type": "scatter3d"
           }
          ],
          "scattercarpet": [
           {
            "marker": {
             "colorbar": {
              "outlinewidth": 0,
              "ticks": ""
             }
            },
            "type": "scattercarpet"
           }
          ],
          "scattergeo": [
           {
            "marker": {
             "colorbar": {
              "outlinewidth": 0,
              "ticks": ""
             }
            },
            "type": "scattergeo"
           }
          ],
          "scattergl": [
           {
            "marker": {
             "colorbar": {
              "outlinewidth": 0,
              "ticks": ""
             }
            },
            "type": "scattergl"
           }
          ],
          "scattermapbox": [
           {
            "marker": {
             "colorbar": {
              "outlinewidth": 0,
              "ticks": ""
             }
            },
            "type": "scattermapbox"
           }
          ],
          "scatterpolar": [
           {
            "marker": {
             "colorbar": {
              "outlinewidth": 0,
              "ticks": ""
             }
            },
            "type": "scatterpolar"
           }
          ],
          "scatterpolargl": [
           {
            "marker": {
             "colorbar": {
              "outlinewidth": 0,
              "ticks": ""
             }
            },
            "type": "scatterpolargl"
           }
          ],
          "scatterternary": [
           {
            "marker": {
             "colorbar": {
              "outlinewidth": 0,
              "ticks": ""
             }
            },
            "type": "scatterternary"
           }
          ],
          "surface": [
           {
            "colorbar": {
             "outlinewidth": 0,
             "ticks": ""
            },
            "colorscale": [
             [
              0,
              "#0d0887"
             ],
             [
              0.1111111111111111,
              "#46039f"
             ],
             [
              0.2222222222222222,
              "#7201a8"
             ],
             [
              0.3333333333333333,
              "#9c179e"
             ],
             [
              0.4444444444444444,
              "#bd3786"
             ],
             [
              0.5555555555555556,
              "#d8576b"
             ],
             [
              0.6666666666666666,
              "#ed7953"
             ],
             [
              0.7777777777777778,
              "#fb9f3a"
             ],
             [
              0.8888888888888888,
              "#fdca26"
             ],
             [
              1,
              "#f0f921"
             ]
            ],
            "type": "surface"
           }
          ],
          "table": [
           {
            "cells": {
             "fill": {
              "color": "#EBF0F8"
             },
             "line": {
              "color": "white"
             }
            },
            "header": {
             "fill": {
              "color": "#C8D4E3"
             },
             "line": {
              "color": "white"
             }
            },
            "type": "table"
           }
          ]
         },
         "layout": {
          "annotationdefaults": {
           "arrowcolor": "#2a3f5f",
           "arrowhead": 0,
           "arrowwidth": 1
          },
          "autotypenumbers": "strict",
          "coloraxis": {
           "colorbar": {
            "outlinewidth": 0,
            "ticks": ""
           }
          },
          "colorscale": {
           "diverging": [
            [
             0,
             "#8e0152"
            ],
            [
             0.1,
             "#c51b7d"
            ],
            [
             0.2,
             "#de77ae"
            ],
            [
             0.3,
             "#f1b6da"
            ],
            [
             0.4,
             "#fde0ef"
            ],
            [
             0.5,
             "#f7f7f7"
            ],
            [
             0.6,
             "#e6f5d0"
            ],
            [
             0.7,
             "#b8e186"
            ],
            [
             0.8,
             "#7fbc41"
            ],
            [
             0.9,
             "#4d9221"
            ],
            [
             1,
             "#276419"
            ]
           ],
           "sequential": [
            [
             0,
             "#0d0887"
            ],
            [
             0.1111111111111111,
             "#46039f"
            ],
            [
             0.2222222222222222,
             "#7201a8"
            ],
            [
             0.3333333333333333,
             "#9c179e"
            ],
            [
             0.4444444444444444,
             "#bd3786"
            ],
            [
             0.5555555555555556,
             "#d8576b"
            ],
            [
             0.6666666666666666,
             "#ed7953"
            ],
            [
             0.7777777777777778,
             "#fb9f3a"
            ],
            [
             0.8888888888888888,
             "#fdca26"
            ],
            [
             1,
             "#f0f921"
            ]
           ],
           "sequentialminus": [
            [
             0,
             "#0d0887"
            ],
            [
             0.1111111111111111,
             "#46039f"
            ],
            [
             0.2222222222222222,
             "#7201a8"
            ],
            [
             0.3333333333333333,
             "#9c179e"
            ],
            [
             0.4444444444444444,
             "#bd3786"
            ],
            [
             0.5555555555555556,
             "#d8576b"
            ],
            [
             0.6666666666666666,
             "#ed7953"
            ],
            [
             0.7777777777777778,
             "#fb9f3a"
            ],
            [
             0.8888888888888888,
             "#fdca26"
            ],
            [
             1,
             "#f0f921"
            ]
           ]
          },
          "colorway": [
           "#636efa",
           "#EF553B",
           "#00cc96",
           "#ab63fa",
           "#FFA15A",
           "#19d3f3",
           "#FF6692",
           "#B6E880",
           "#FF97FF",
           "#FECB52"
          ],
          "font": {
           "color": "#2a3f5f"
          },
          "geo": {
           "bgcolor": "white",
           "lakecolor": "white",
           "landcolor": "#E5ECF6",
           "showlakes": true,
           "showland": true,
           "subunitcolor": "white"
          },
          "hoverlabel": {
           "align": "left"
          },
          "hovermode": "closest",
          "mapbox": {
           "style": "light"
          },
          "paper_bgcolor": "white",
          "plot_bgcolor": "#E5ECF6",
          "polar": {
           "angularaxis": {
            "gridcolor": "white",
            "linecolor": "white",
            "ticks": ""
           },
           "bgcolor": "#E5ECF6",
           "radialaxis": {
            "gridcolor": "white",
            "linecolor": "white",
            "ticks": ""
           }
          },
          "scene": {
           "xaxis": {
            "backgroundcolor": "#E5ECF6",
            "gridcolor": "white",
            "gridwidth": 2,
            "linecolor": "white",
            "showbackground": true,
            "ticks": "",
            "zerolinecolor": "white"
           },
           "yaxis": {
            "backgroundcolor": "#E5ECF6",
            "gridcolor": "white",
            "gridwidth": 2,
            "linecolor": "white",
            "showbackground": true,
            "ticks": "",
            "zerolinecolor": "white"
           },
           "zaxis": {
            "backgroundcolor": "#E5ECF6",
            "gridcolor": "white",
            "gridwidth": 2,
            "linecolor": "white",
            "showbackground": true,
            "ticks": "",
            "zerolinecolor": "white"
           }
          },
          "shapedefaults": {
           "line": {
            "color": "#2a3f5f"
           }
          },
          "ternary": {
           "aaxis": {
            "gridcolor": "white",
            "linecolor": "white",
            "ticks": ""
           },
           "baxis": {
            "gridcolor": "white",
            "linecolor": "white",
            "ticks": ""
           },
           "bgcolor": "#E5ECF6",
           "caxis": {
            "gridcolor": "white",
            "linecolor": "white",
            "ticks": ""
           }
          },
          "title": {
           "x": 0.05
          },
          "xaxis": {
           "automargin": true,
           "gridcolor": "white",
           "linecolor": "white",
           "ticks": "",
           "title": {
            "standoff": 15
           },
           "zerolinecolor": "white",
           "zerolinewidth": 2
          },
          "yaxis": {
           "automargin": true,
           "gridcolor": "white",
           "linecolor": "white",
           "ticks": "",
           "title": {
            "standoff": 15
           },
           "zerolinecolor": "white",
           "zerolinewidth": 2
          }
         }
        },
        "xaxis": {
         "anchor": "y",
         "domain": [
          0,
          1
         ],
         "title": {
          "text": "pca_1"
         }
        },
        "yaxis": {
         "anchor": "x",
         "domain": [
          0,
          1
         ],
         "title": {
          "text": "pca_2"
         }
        }
       }
      }
     },
     "metadata": {},
     "output_type": "display_data"
    }
   ],
   "source": [
    "# interactive plot 출력\n",
    "\n",
    "# 라이브러리 호출\n",
    "import plotly.express as px\n",
    "from sklearn.decomposition import PCA\n",
    "\n",
    "# feature 지정\n",
    "feature = data[['sepal_length', 'sepal_width', 'petal_length', 'petal_width']]\n",
    "\n",
    "# PCA 기법 반영 (2차원으로 축소) 및 데이터 프레임 형성\n",
    "pca = PCA(n_components=2)\n",
    "components = pd.DataFrame(pca.fit_transform(feature))\n",
    "components.columns = ['pca_1', 'pca_2']\n",
    "\n",
    "# plotly 도표 생성\n",
    "fig = px.scatter(components, x='pca_1', y='pca_2', color=data['target'])\n",
    "fig.show()"
   ]
  },
  {
   "cell_type": "code",
   "execution_count": 11,
   "metadata": {},
   "outputs": [
    {
     "data": {
      "application/vnd.plotly.v1+json": {
       "config": {
        "plotlyServerURL": "https://plot.ly"
       },
       "data": [
        {
         "hovertemplate": "PC 1=%{x}<br>PC 2=%{y}<br>PC 3=%{z}<br>color=%{marker.color}<extra></extra>",
         "legendgroup": "",
         "marker": {
          "color": [
           0,
           0,
           0,
           0,
           0,
           0,
           0,
           0,
           0,
           0,
           0,
           0,
           0,
           0,
           0,
           0,
           0,
           0,
           0,
           0,
           0,
           0,
           0,
           0,
           0,
           0,
           0,
           0,
           0,
           0,
           0,
           0,
           0,
           0,
           0,
           0,
           0,
           0,
           0,
           0,
           0,
           0,
           0,
           0,
           0,
           0,
           0,
           0,
           0,
           0,
           1,
           1,
           1,
           1,
           1,
           1,
           1,
           1,
           1,
           1,
           1,
           1,
           1,
           1,
           1,
           1,
           1,
           1,
           1,
           1,
           1,
           1,
           1,
           1,
           1,
           1,
           1,
           1,
           1,
           1,
           1,
           1,
           1,
           1,
           1,
           1,
           1,
           1,
           1,
           1,
           1,
           1,
           1,
           1,
           1,
           1,
           1,
           1,
           1,
           1,
           2,
           2,
           2,
           2,
           2,
           2,
           2,
           2,
           2,
           2,
           2,
           2,
           2,
           2,
           2,
           2,
           2,
           2,
           2,
           2,
           2,
           2,
           2,
           2,
           2,
           2,
           2,
           2,
           2,
           2,
           2,
           2,
           2,
           2,
           2,
           2,
           2,
           2,
           2,
           2,
           2,
           2,
           2,
           2,
           2,
           2,
           2,
           2,
           2,
           2
          ],
          "coloraxis": "coloraxis",
          "symbol": "circle"
         },
         "mode": "markers",
         "name": "",
         "scene": "scene",
         "showlegend": false,
         "type": "scatter3d",
         "x": [
          -2.684125625969541,
          -2.7141416872943274,
          -2.888990569059296,
          -2.745342855641409,
          -2.7287165365545287,
          -2.2808596328444914,
          -2.820537750740608,
          -2.6261449731466318,
          -2.8863827317805524,
          -2.672755797820953,
          -2.5069470906518547,
          -2.612755230908722,
          -2.786109266188017,
          -3.223803743865651,
          -2.644750389942029,
          -2.386039033531132,
          -2.623527875224425,
          -2.6482967062543805,
          -2.199820323617579,
          -2.5879863998787673,
          -2.3102562152425175,
          -2.5437052287571555,
          -3.2159394156486107,
          -2.3027331822262065,
          -2.355754049123772,
          -2.5066689069258206,
          -2.468820073121338,
          -2.562319906196015,
          -2.6395347153845417,
          -2.6319893872743454,
          -2.5873984766893514,
          -2.409932497002174,
          -2.648862334349911,
          -2.5987367491005857,
          -2.6369268781057977,
          -2.866241652118669,
          -2.625238049850371,
          -2.8006841154482207,
          -2.9805020437819927,
          -2.5900063139680944,
          -2.7701024260279006,
          -2.8493687050431022,
          -2.997406546594907,
          -2.4056144850974843,
          -2.2094892377836786,
          -2.714451426757707,
          -2.538148258998939,
          -2.839462167642849,
          -2.543085749830392,
          -2.7033597823351587,
          1.2848256888583536,
          0.9324885323123204,
          1.4643023219913962,
          0.1833177199583726,
          1.088103257711668,
          0.6416690842580796,
          1.095060662632449,
          -0.7491226698296556,
          1.0441318260534382,
          -0.008745404082894285,
          -0.5078408838353242,
          0.5116985574475993,
          0.2649765081120483,
          0.9849345104708923,
          -0.17392537168176606,
          0.9278607809442491,
          0.660283761696939,
          0.2361049933176735,
          0.9447337280198155,
          0.04522697629870169,
          1.1162831773500517,
          0.3578884179973092,
          1.2981838753589157,
          0.9217289224470391,
          0.7148533259114135,
          0.9001743731721693,
          1.3320244367220904,
          1.5578021550660723,
          0.8132906498175435,
          -0.30558377802430736,
          -0.06812649206836169,
          -0.18962247237849997,
          0.1364287115580168,
          1.3800264359155132,
          0.5880064433398654,
          0.8068583125004142,
          1.2206908824443548,
          0.815095235766602,
          0.24595767988669426,
          0.16641321714545868,
          0.4648002884037811,
          0.8908151984694513,
          0.2305480235594573,
          -0.7045317592446619,
          0.35698149470104884,
          0.3319344799450603,
          0.3762156510666724,
          0.64257600755434,
          -0.9064698649488343,
          0.29900084187814524,
          2.53119272780363,
          1.4152358767039046,
          2.6166760159956923,
          1.9715310530434376,
          2.3500059200446426,
          3.397038736053262,
          0.5212322439097756,
          2.9325870689936915,
          2.32122881657338,
          2.9167509667860747,
          1.6617741536365338,
          1.8034019529650933,
          2.1655917960801476,
          1.3461635794584532,
          1.5859282238732233,
          1.9044563747934289,
          1.9496890593990717,
          3.487055364290282,
          3.7956454220728855,
          1.3007917126376594,
          2.4278179130660478,
          1.1990011054655627,
          3.49992003892454,
          1.3887661316914672,
          2.275430503872207,
          2.6140904738108337,
          1.2585081605114898,
          1.291132059115023,
          2.123608722773897,
          2.38800301600347,
          2.841672778103873,
          3.2306736614320952,
          2.1594376424890522,
          1.4441612423295116,
          1.7812948100451143,
          3.0764999316871897,
          2.144243314302084,
          1.9050981488140784,
          1.1693263393415023,
          2.1076111432572446,
          2.314154705235602,
          1.922267800902603,
          1.4152358767039046,
          2.5630133750774777,
          2.418746182732827,
          1.9441097945469699,
          1.5271666148145193,
          1.7643457170444314,
          1.900941614218426,
          1.3901888619479161
         ],
         "y": [
          0.3193972465851031,
          -0.17700122506477925,
          -0.14494942608555722,
          -0.31829897925191586,
          0.32675451293492047,
          0.7413304490629157,
          -0.08946138452856846,
          0.16338495969832917,
          -0.5783117541867038,
          -0.11377424587411651,
          0.6450688986485744,
          0.014729939161374953,
          -0.23511200020171813,
          -0.511394587006382,
          1.1787646364375761,
          1.3380623304006534,
          0.8106795141812584,
          0.3118491445933553,
          0.8728390389622118,
          0.5135603087492776,
          0.39134593565389486,
          0.43299606327902873,
          0.13346806953852625,
          0.09870885481409995,
          -0.03728185967738212,
          -0.14601688049526743,
          0.13095148943525073,
          0.3677188574342005,
          0.3120399802352835,
          -0.1969612249243143,
          -0.20431849127413315,
          0.41092426422957334,
          0.813363820296963,
          1.0931457594493577,
          -0.12132234786586286,
          0.06936447158008105,
          0.5993700213794242,
          0.26864373779798284,
          -0.4879583444286153,
          0.22904383682701318,
          0.263527533744257,
          -0.9409605736411968,
          -0.34192605747160976,
          0.18887142893026088,
          0.4366631416391884,
          -0.2502082041852109,
          0.5037711444614382,
          -0.22794556949382733,
          0.5794100215198902,
          0.1077060824994121,
          0.6851604704673091,
          0.3183336382626293,
          0.5042628153092046,
          -0.8279590118206326,
          0.07459067519771641,
          -0.4182468715686787,
          0.2834682700615294,
          -1.0048909611818955,
          0.2283618997883959,
          -0.7230819050048343,
          -1.265971190526394,
          -0.10398123549904023,
          -0.5500364636804747,
          -0.12481785412635721,
          -0.2548542087025892,
          0.4671794944415109,
          -0.35296966572385036,
          -0.33361076682491525,
          -0.5431455507797666,
          -0.5838343774718644,
          -0.08461685219478782,
          -0.06892503165601371,
          -0.32778730833391734,
          -0.1827377936213673,
          0.14905594436978506,
          0.3285044738343237,
          0.2444408760163438,
          0.2674954473102549,
          -0.16335030068761613,
          -0.3682621897545878,
          -0.7051721317994655,
          -0.6802867635281336,
          -0.31403243824923666,
          -0.42095428731388185,
          -0.48428741998121827,
          0.1941823147131512,
          0.4076195936110074,
          -0.37203705990950175,
          -0.2685243966220147,
          -0.6819267248636267,
          -0.6707115445117203,
          -0.034464444368268635,
          -0.4043858480073251,
          -1.0122482275317146,
          -0.5049100933371085,
          -0.21265468378116967,
          -0.2932189292514188,
          0.017738190112416535,
          -0.7560933665990142,
          -0.3488978064503358,
          -0.009849109498801816,
          -0.5749163475464895,
          0.34390315134173455,
          -0.1797279043522453,
          -0.040260947142530965,
          0.5508366730280557,
          -1.1927587270006454,
          0.3555000029774966,
          -0.24383150231069073,
          0.7827919488152788,
          0.24222840775506727,
          -0.21563761733355535,
          0.21627558507402495,
          -0.7768183473443395,
          -0.5396407140267188,
          0.1192506920919729,
          0.04194325966321156,
          1.1757393297134298,
          0.2573229734204796,
          -0.7611496364350634,
          0.37819601261705094,
          -0.6060915277579306,
          0.46067409891189526,
          -0.2043993273521508,
          0.3349906058216776,
          0.5609013551230783,
          -0.17970479472274653,
          -0.11666865117401132,
          -0.20972947667730266,
          0.4646398047087367,
          0.37526916719510356,
          1.3741650867930482,
          -0.21727757866904904,
          -0.14341341045758058,
          -0.49990168107813643,
          0.6880856775711761,
          0.14006420108979026,
          0.04930052601303041,
          -0.16499026202310949,
          0.3722878719607979,
          0.18365127916901905,
          0.40920346681606246,
          -0.5749163475464895,
          0.277862602929195,
          0.3047981978546921,
          0.18753230280060532,
          -0.3753169825804884,
          0.07885885451847592,
          0.11662795851202372,
          -0.2826609379905505
         ],
         "z": [
          -0.027914827589415363,
          -0.2104642723782444,
          0.017900256320890758,
          0.0315593736056812,
          0.09007924055120145,
          0.16867765820910485,
          0.2578921582556182,
          -0.0218793178867196,
          0.02075957026478028,
          -0.1976327249881465,
          -0.07531800937912013,
          0.10215025995659005,
          -0.20684443044964462,
          0.06129967245709926,
          -0.1516275236178094,
          0.2777769027031358,
          0.13818322788071952,
          0.026668315612594015,
          -0.12030552339473104,
          0.2136651722247161,
          -0.23944404324495352,
          0.20845723241671527,
          0.29239675074524263,
          0.03912325874288078,
          0.12502108270287904,
          -0.25342004234465765,
          0.09491057609939195,
          -0.07849420513792423,
          -0.14590889573002927,
          0.04077107906717933,
          -0.07722298907343575,
          -0.14552497200513081,
          0.22566914972011984,
          0.15781081295822025,
          -0.143049581786139,
          -0.16433230665302567,
          -0.2683503756939365,
          0.09369908247980029,
          0.07292704569269266,
          -0.08008230301732593,
          0.0772476931611041,
          -0.3492303773059667,
          0.19250921171271002,
          0.2638679455134158,
          0.298742745755109,
          -0.09767814404562947,
          0.16670563660480478,
          0.08372684903359347,
          -0.017115024248513213,
          -0.08929400847882459,
          -0.40656802546769455,
          -0.018014186646240292,
          -0.3383257649808965,
          -0.17959139187535553,
          -0.30775789623478506,
          0.04107609082395597,
          0.16981023986057533,
          0.012302919237595255,
          -0.4153360847593979,
          0.28114143117641,
          -0.26981718276885286,
          0.13054775024048626,
          -0.6941468301444197,
          -0.06211440832226113,
          0.09045769072570459,
          -0.3146209758321726,
          0.32802752837859545,
          -0.27116183725106696,
          -0.4995190464851133,
          -0.23500210497205606,
          0.45962099135910445,
          -0.2298538876089517,
          -0.3478543522573085,
          -0.23107177773628496,
          -0.32180093724447423,
          -0.3162090737115744,
          -0.5217027796644197,
          -0.16492098374358047,
          0.03542450484616022,
          -0.3184915806230472,
          -0.24421381043355464,
          -0.30642056121765854,
          -0.17724276601124442,
          0.016167127520728727,
          0.44443349863980824,
          0.388963063098211,
          -0.23716700988387596,
          -0.6147208425918226,
          0.18836681164619484,
          -0.060009225855338126,
          -0.02430685571895175,
          -0.009946932894348826,
          -0.22941024143915678,
          -0.10569114890301974,
          0.016617170198265495,
          0.08320429089567677,
          0.07799635108767569,
          -0.20539496698326093,
          -0.012599647557890201,
          0.010581660495570643,
          0.7601654272458959,
          0.29632252738796466,
          -0.11078788321910901,
          0.10842466246342296,
          0.2853895631844416,
          -0.3484375557974677,
          0.5456592956468131,
          -0.4202399357679684,
          -0.34830439493484533,
          0.4233354176825588,
          0.24244018972576933,
          -0.037648168231482454,
          0.03332664184432531,
          0.281902882118465,
          0.6290293264080111,
          0.4796398196265909,
          0.044186167630122106,
          0.1338948739360984,
          -0.5137677638178049,
          -0.3449950383134184,
          0.21911932430194347,
          0.5118555086970014,
          -0.5731822425680031,
          -0.06452275663126837,
          0.28615009116915013,
          -0.2055345243536251,
          0.04584770392725004,
          0.23125646265997069,
          0.15418002392883026,
          -0.44953019194185023,
          -0.49889807587076923,
          -0.11454820547541907,
          0.20876316713083787,
          -0.15323388806309016,
          -0.1728751891134198,
          -0.3355922924345412,
          0.7348789367255115,
          0.16218023577073717,
          0.2818358402084807,
          0.027291132141630762,
          0.3226937471730594,
          0.11358659579935666,
          0.29632252738796466,
          0.292569524596743,
          0.5044826639771804,
          0.17782509063265778,
          -0.12189817186718192,
          0.13048163128784826,
          0.7232515634899178,
          0.362909648085376
         ]
        }
       ],
       "layout": {
        "coloraxis": {
         "colorbar": {
          "title": {
           "text": "color"
          }
         },
         "colorscale": [
          [
           0,
           "#0d0887"
          ],
          [
           0.1111111111111111,
           "#46039f"
          ],
          [
           0.2222222222222222,
           "#7201a8"
          ],
          [
           0.3333333333333333,
           "#9c179e"
          ],
          [
           0.4444444444444444,
           "#bd3786"
          ],
          [
           0.5555555555555556,
           "#d8576b"
          ],
          [
           0.6666666666666666,
           "#ed7953"
          ],
          [
           0.7777777777777778,
           "#fb9f3a"
          ],
          [
           0.8888888888888888,
           "#fdca26"
          ],
          [
           1,
           "#f0f921"
          ]
         ]
        },
        "height": 500,
        "legend": {
         "tracegroupgap": 0
        },
        "scene": {
         "domain": {
          "x": [
           0,
           1
          ],
          "y": [
           0,
           1
          ]
         },
         "xaxis": {
          "title": {
           "text": "PC 1"
          }
         },
         "yaxis": {
          "title": {
           "text": "PC 2"
          }
         },
         "zaxis": {
          "title": {
           "text": "PC 3"
          }
         }
        },
        "template": {
         "data": {
          "bar": [
           {
            "error_x": {
             "color": "#2a3f5f"
            },
            "error_y": {
             "color": "#2a3f5f"
            },
            "marker": {
             "line": {
              "color": "#E5ECF6",
              "width": 0.5
             },
             "pattern": {
              "fillmode": "overlay",
              "size": 10,
              "solidity": 0.2
             }
            },
            "type": "bar"
           }
          ],
          "barpolar": [
           {
            "marker": {
             "line": {
              "color": "#E5ECF6",
              "width": 0.5
             },
             "pattern": {
              "fillmode": "overlay",
              "size": 10,
              "solidity": 0.2
             }
            },
            "type": "barpolar"
           }
          ],
          "carpet": [
           {
            "aaxis": {
             "endlinecolor": "#2a3f5f",
             "gridcolor": "white",
             "linecolor": "white",
             "minorgridcolor": "white",
             "startlinecolor": "#2a3f5f"
            },
            "baxis": {
             "endlinecolor": "#2a3f5f",
             "gridcolor": "white",
             "linecolor": "white",
             "minorgridcolor": "white",
             "startlinecolor": "#2a3f5f"
            },
            "type": "carpet"
           }
          ],
          "choropleth": [
           {
            "colorbar": {
             "outlinewidth": 0,
             "ticks": ""
            },
            "type": "choropleth"
           }
          ],
          "contour": [
           {
            "colorbar": {
             "outlinewidth": 0,
             "ticks": ""
            },
            "colorscale": [
             [
              0,
              "#0d0887"
             ],
             [
              0.1111111111111111,
              "#46039f"
             ],
             [
              0.2222222222222222,
              "#7201a8"
             ],
             [
              0.3333333333333333,
              "#9c179e"
             ],
             [
              0.4444444444444444,
              "#bd3786"
             ],
             [
              0.5555555555555556,
              "#d8576b"
             ],
             [
              0.6666666666666666,
              "#ed7953"
             ],
             [
              0.7777777777777778,
              "#fb9f3a"
             ],
             [
              0.8888888888888888,
              "#fdca26"
             ],
             [
              1,
              "#f0f921"
             ]
            ],
            "type": "contour"
           }
          ],
          "contourcarpet": [
           {
            "colorbar": {
             "outlinewidth": 0,
             "ticks": ""
            },
            "type": "contourcarpet"
           }
          ],
          "heatmap": [
           {
            "colorbar": {
             "outlinewidth": 0,
             "ticks": ""
            },
            "colorscale": [
             [
              0,
              "#0d0887"
             ],
             [
              0.1111111111111111,
              "#46039f"
             ],
             [
              0.2222222222222222,
              "#7201a8"
             ],
             [
              0.3333333333333333,
              "#9c179e"
             ],
             [
              0.4444444444444444,
              "#bd3786"
             ],
             [
              0.5555555555555556,
              "#d8576b"
             ],
             [
              0.6666666666666666,
              "#ed7953"
             ],
             [
              0.7777777777777778,
              "#fb9f3a"
             ],
             [
              0.8888888888888888,
              "#fdca26"
             ],
             [
              1,
              "#f0f921"
             ]
            ],
            "type": "heatmap"
           }
          ],
          "heatmapgl": [
           {
            "colorbar": {
             "outlinewidth": 0,
             "ticks": ""
            },
            "colorscale": [
             [
              0,
              "#0d0887"
             ],
             [
              0.1111111111111111,
              "#46039f"
             ],
             [
              0.2222222222222222,
              "#7201a8"
             ],
             [
              0.3333333333333333,
              "#9c179e"
             ],
             [
              0.4444444444444444,
              "#bd3786"
             ],
             [
              0.5555555555555556,
              "#d8576b"
             ],
             [
              0.6666666666666666,
              "#ed7953"
             ],
             [
              0.7777777777777778,
              "#fb9f3a"
             ],
             [
              0.8888888888888888,
              "#fdca26"
             ],
             [
              1,
              "#f0f921"
             ]
            ],
            "type": "heatmapgl"
           }
          ],
          "histogram": [
           {
            "marker": {
             "pattern": {
              "fillmode": "overlay",
              "size": 10,
              "solidity": 0.2
             }
            },
            "type": "histogram"
           }
          ],
          "histogram2d": [
           {
            "colorbar": {
             "outlinewidth": 0,
             "ticks": ""
            },
            "colorscale": [
             [
              0,
              "#0d0887"
             ],
             [
              0.1111111111111111,
              "#46039f"
             ],
             [
              0.2222222222222222,
              "#7201a8"
             ],
             [
              0.3333333333333333,
              "#9c179e"
             ],
             [
              0.4444444444444444,
              "#bd3786"
             ],
             [
              0.5555555555555556,
              "#d8576b"
             ],
             [
              0.6666666666666666,
              "#ed7953"
             ],
             [
              0.7777777777777778,
              "#fb9f3a"
             ],
             [
              0.8888888888888888,
              "#fdca26"
             ],
             [
              1,
              "#f0f921"
             ]
            ],
            "type": "histogram2d"
           }
          ],
          "histogram2dcontour": [
           {
            "colorbar": {
             "outlinewidth": 0,
             "ticks": ""
            },
            "colorscale": [
             [
              0,
              "#0d0887"
             ],
             [
              0.1111111111111111,
              "#46039f"
             ],
             [
              0.2222222222222222,
              "#7201a8"
             ],
             [
              0.3333333333333333,
              "#9c179e"
             ],
             [
              0.4444444444444444,
              "#bd3786"
             ],
             [
              0.5555555555555556,
              "#d8576b"
             ],
             [
              0.6666666666666666,
              "#ed7953"
             ],
             [
              0.7777777777777778,
              "#fb9f3a"
             ],
             [
              0.8888888888888888,
              "#fdca26"
             ],
             [
              1,
              "#f0f921"
             ]
            ],
            "type": "histogram2dcontour"
           }
          ],
          "mesh3d": [
           {
            "colorbar": {
             "outlinewidth": 0,
             "ticks": ""
            },
            "type": "mesh3d"
           }
          ],
          "parcoords": [
           {
            "line": {
             "colorbar": {
              "outlinewidth": 0,
              "ticks": ""
             }
            },
            "type": "parcoords"
           }
          ],
          "pie": [
           {
            "automargin": true,
            "type": "pie"
           }
          ],
          "scatter": [
           {
            "marker": {
             "colorbar": {
              "outlinewidth": 0,
              "ticks": ""
             }
            },
            "type": "scatter"
           }
          ],
          "scatter3d": [
           {
            "line": {
             "colorbar": {
              "outlinewidth": 0,
              "ticks": ""
             }
            },
            "marker": {
             "colorbar": {
              "outlinewidth": 0,
              "ticks": ""
             }
            },
            "type": "scatter3d"
           }
          ],
          "scattercarpet": [
           {
            "marker": {
             "colorbar": {
              "outlinewidth": 0,
              "ticks": ""
             }
            },
            "type": "scattercarpet"
           }
          ],
          "scattergeo": [
           {
            "marker": {
             "colorbar": {
              "outlinewidth": 0,
              "ticks": ""
             }
            },
            "type": "scattergeo"
           }
          ],
          "scattergl": [
           {
            "marker": {
             "colorbar": {
              "outlinewidth": 0,
              "ticks": ""
             }
            },
            "type": "scattergl"
           }
          ],
          "scattermapbox": [
           {
            "marker": {
             "colorbar": {
              "outlinewidth": 0,
              "ticks": ""
             }
            },
            "type": "scattermapbox"
           }
          ],
          "scatterpolar": [
           {
            "marker": {
             "colorbar": {
              "outlinewidth": 0,
              "ticks": ""
             }
            },
            "type": "scatterpolar"
           }
          ],
          "scatterpolargl": [
           {
            "marker": {
             "colorbar": {
              "outlinewidth": 0,
              "ticks": ""
             }
            },
            "type": "scatterpolargl"
           }
          ],
          "scatterternary": [
           {
            "marker": {
             "colorbar": {
              "outlinewidth": 0,
              "ticks": ""
             }
            },
            "type": "scatterternary"
           }
          ],
          "surface": [
           {
            "colorbar": {
             "outlinewidth": 0,
             "ticks": ""
            },
            "colorscale": [
             [
              0,
              "#0d0887"
             ],
             [
              0.1111111111111111,
              "#46039f"
             ],
             [
              0.2222222222222222,
              "#7201a8"
             ],
             [
              0.3333333333333333,
              "#9c179e"
             ],
             [
              0.4444444444444444,
              "#bd3786"
             ],
             [
              0.5555555555555556,
              "#d8576b"
             ],
             [
              0.6666666666666666,
              "#ed7953"
             ],
             [
              0.7777777777777778,
              "#fb9f3a"
             ],
             [
              0.8888888888888888,
              "#fdca26"
             ],
             [
              1,
              "#f0f921"
             ]
            ],
            "type": "surface"
           }
          ],
          "table": [
           {
            "cells": {
             "fill": {
              "color": "#EBF0F8"
             },
             "line": {
              "color": "white"
             }
            },
            "header": {
             "fill": {
              "color": "#C8D4E3"
             },
             "line": {
              "color": "white"
             }
            },
            "type": "table"
           }
          ]
         },
         "layout": {
          "annotationdefaults": {
           "arrowcolor": "#2a3f5f",
           "arrowhead": 0,
           "arrowwidth": 1
          },
          "autotypenumbers": "strict",
          "coloraxis": {
           "colorbar": {
            "outlinewidth": 0,
            "ticks": ""
           }
          },
          "colorscale": {
           "diverging": [
            [
             0,
             "#8e0152"
            ],
            [
             0.1,
             "#c51b7d"
            ],
            [
             0.2,
             "#de77ae"
            ],
            [
             0.3,
             "#f1b6da"
            ],
            [
             0.4,
             "#fde0ef"
            ],
            [
             0.5,
             "#f7f7f7"
            ],
            [
             0.6,
             "#e6f5d0"
            ],
            [
             0.7,
             "#b8e186"
            ],
            [
             0.8,
             "#7fbc41"
            ],
            [
             0.9,
             "#4d9221"
            ],
            [
             1,
             "#276419"
            ]
           ],
           "sequential": [
            [
             0,
             "#0d0887"
            ],
            [
             0.1111111111111111,
             "#46039f"
            ],
            [
             0.2222222222222222,
             "#7201a8"
            ],
            [
             0.3333333333333333,
             "#9c179e"
            ],
            [
             0.4444444444444444,
             "#bd3786"
            ],
            [
             0.5555555555555556,
             "#d8576b"
            ],
            [
             0.6666666666666666,
             "#ed7953"
            ],
            [
             0.7777777777777778,
             "#fb9f3a"
            ],
            [
             0.8888888888888888,
             "#fdca26"
            ],
            [
             1,
             "#f0f921"
            ]
           ],
           "sequentialminus": [
            [
             0,
             "#0d0887"
            ],
            [
             0.1111111111111111,
             "#46039f"
            ],
            [
             0.2222222222222222,
             "#7201a8"
            ],
            [
             0.3333333333333333,
             "#9c179e"
            ],
            [
             0.4444444444444444,
             "#bd3786"
            ],
            [
             0.5555555555555556,
             "#d8576b"
            ],
            [
             0.6666666666666666,
             "#ed7953"
            ],
            [
             0.7777777777777778,
             "#fb9f3a"
            ],
            [
             0.8888888888888888,
             "#fdca26"
            ],
            [
             1,
             "#f0f921"
            ]
           ]
          },
          "colorway": [
           "#636efa",
           "#EF553B",
           "#00cc96",
           "#ab63fa",
           "#FFA15A",
           "#19d3f3",
           "#FF6692",
           "#B6E880",
           "#FF97FF",
           "#FECB52"
          ],
          "font": {
           "color": "#2a3f5f"
          },
          "geo": {
           "bgcolor": "white",
           "lakecolor": "white",
           "landcolor": "#E5ECF6",
           "showlakes": true,
           "showland": true,
           "subunitcolor": "white"
          },
          "hoverlabel": {
           "align": "left"
          },
          "hovermode": "closest",
          "mapbox": {
           "style": "light"
          },
          "paper_bgcolor": "white",
          "plot_bgcolor": "#E5ECF6",
          "polar": {
           "angularaxis": {
            "gridcolor": "white",
            "linecolor": "white",
            "ticks": ""
           },
           "bgcolor": "#E5ECF6",
           "radialaxis": {
            "gridcolor": "white",
            "linecolor": "white",
            "ticks": ""
           }
          },
          "scene": {
           "xaxis": {
            "backgroundcolor": "#E5ECF6",
            "gridcolor": "white",
            "gridwidth": 2,
            "linecolor": "white",
            "showbackground": true,
            "ticks": "",
            "zerolinecolor": "white"
           },
           "yaxis": {
            "backgroundcolor": "#E5ECF6",
            "gridcolor": "white",
            "gridwidth": 2,
            "linecolor": "white",
            "showbackground": true,
            "ticks": "",
            "zerolinecolor": "white"
           },
           "zaxis": {
            "backgroundcolor": "#E5ECF6",
            "gridcolor": "white",
            "gridwidth": 2,
            "linecolor": "white",
            "showbackground": true,
            "ticks": "",
            "zerolinecolor": "white"
           }
          },
          "shapedefaults": {
           "line": {
            "color": "#2a3f5f"
           }
          },
          "ternary": {
           "aaxis": {
            "gridcolor": "white",
            "linecolor": "white",
            "ticks": ""
           },
           "baxis": {
            "gridcolor": "white",
            "linecolor": "white",
            "ticks": ""
           },
           "bgcolor": "#E5ECF6",
           "caxis": {
            "gridcolor": "white",
            "linecolor": "white",
            "ticks": ""
           }
          },
          "title": {
           "x": 0.05
          },
          "xaxis": {
           "automargin": true,
           "gridcolor": "white",
           "linecolor": "white",
           "ticks": "",
           "title": {
            "standoff": 15
           },
           "zerolinecolor": "white",
           "zerolinewidth": 2
          },
          "yaxis": {
           "automargin": true,
           "gridcolor": "white",
           "linecolor": "white",
           "ticks": "",
           "title": {
            "standoff": 15
           },
           "zerolinecolor": "white",
           "zerolinewidth": 2
          }
         }
        },
        "title": {
         "text": "Total Explained Variance: 99.48%"
        }
       }
      }
     },
     "metadata": {},
     "output_type": "display_data"
    }
   ],
   "source": [
    "import plotly.express as px\n",
    "import matplotlib.pyplot as plt\n",
    "from sklearn.decomposition import PCA\n",
    "\n",
    "feature = data[['sepal_length', 'sepal_width', 'petal_length', 'petal_width']]\n",
    "\n",
    "pca = PCA(n_components=3)\n",
    "components = pca.fit_transform(feature)\n",
    "\n",
    "total_var = pca.explained_variance_ratio_.sum() * 100\n",
    "\n",
    "fig = px.scatter_3d(components, x=0, y=1, z=2, color=data['target'],\n",
    "                    title=f'Total Explained Variance: {total_var:.2f}%',\n",
    "                    labels={'0': 'PC 1', '1': 'PC 2', '2': 'PC 3'})\n",
    "fig.update_layout(height=500)\n",
    "fig.show()"
   ]
  }
 ],
 "metadata": {
  "interpreter": {
   "hash": "aee8b7b246df8f9039afb4144a1f6fd8d2ca17a180786b69acc140d282b71a49"
  },
  "kernelspec": {
   "display_name": "Python 3.9.4 64-bit",
   "language": "python",
   "name": "python3"
  },
  "language_info": {
   "codemirror_mode": {
    "name": "ipython",
    "version": 3
   },
   "file_extension": ".py",
   "mimetype": "text/x-python",
   "name": "python",
   "nbconvert_exporter": "python",
   "pygments_lexer": "ipython3",
   "version": "3.9.7"
  },
  "orig_nbformat": 4
 },
 "nbformat": 4,
 "nbformat_minor": 2
}
