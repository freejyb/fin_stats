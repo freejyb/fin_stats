{
 "cells": [
  {
   "cell_type": "markdown",
   "id": "5335c237",
   "metadata": {},
   "source": [
    "## 선형 판별분석(Linear Discriminant Analysis, LDA)"
   ]
  },
  {
   "cell_type": "code",
   "execution_count": null,
   "id": "08bf4abe",
   "metadata": {},
   "outputs": [],
   "source": []
  },
  {
   "cell_type": "code",
   "execution_count": 1,
   "id": "9f0811c2",
   "metadata": {},
   "outputs": [
    {
     "name": "stdout",
     "output_type": "stream",
     "text": [
      "Accuracy: 0.35\n"
     ]
    }
   ],
   "source": [
    "import numpy as np\n",
    "from sklearn.discriminant_analysis import LinearDiscriminantAnalysis\n",
    "from sklearn.model_selection import train_test_split\n",
    "from sklearn.metrics import accuracy_score\n",
    "\n",
    "# 예제 데이터 생성\n",
    "# 여기서는 간단히 2개의 재무 지표(feature)를 사용하고, 0은 건전 기업, 1은 부실 기업을 나타냅니다.\n",
    "np.random.seed(0)  # 결과의 일관성을 위해 시드 설정\n",
    "X = np.random.randn(100, 2)  # 100개의 기업에 대한 2개의 재무 지표\n",
    "y = np.random.choice([0, 1], 100)  # 기업의 상태 (0: 건전, 1: 부실)\n",
    "\n",
    "# 데이터를 훈련 세트와 테스트 세트로 분할\n",
    "X_train, X_test, y_train, y_test = train_test_split(X, y, test_size=0.2, random_state=0)\n",
    "\n",
    "# LDA 모델 생성 및 훈련\n",
    "lda = LinearDiscriminantAnalysis()\n",
    "lda.fit(X_train, y_train)\n",
    "\n",
    "# 테스트 데이터에 대한 예측 수행\n",
    "y_pred = lda.predict(X_test)\n",
    "\n",
    "# 정확도 계산\n",
    "accuracy = accuracy_score(y_test, y_pred)\n",
    "print(f'Accuracy: {accuracy:.2f}')\n"
   ]
  },
  {
   "cell_type": "code",
   "execution_count": null,
   "id": "8dbd68a3",
   "metadata": {},
   "outputs": [],
   "source": [
    "## 기업수 1000, 변수 10"
   ]
  },
  {
   "cell_type": "code",
   "execution_count": 3,
   "id": "9a853d09",
   "metadata": {},
   "outputs": [
    {
     "name": "stdout",
     "output_type": "stream",
     "text": [
      "Accuracy: 0.55\n"
     ]
    }
   ],
   "source": [
    "import numpy as np\n",
    "from sklearn.discriminant_analysis import LinearDiscriminantAnalysis\n",
    "from sklearn.model_selection import train_test_split\n",
    "from sklearn.metrics import accuracy_score\n",
    "\n",
    "# 예제 데이터 생성\n",
    "# 여기서는 간단히 10개의 재무 지표(feature)를 사용하고, 0은 건전 기업, 1은 부실 기업을 나타냅니다.\n",
    "np.random.seed(0)  # 결과의 일관성을 위해 시드 설정\n",
    "X = np.random.randn(1000, 10)  # 1000개의 기업에 대한 10개의 재무 지표\n",
    "y = np.random.choice([0, 1], 1000)  # 기업의 상태 (0: 건전, 1: 부실)\n",
    "\n",
    "# 데이터를 훈련 세트와 테스트 세트로 분할\n",
    "X_train, X_test, y_train, y_test = train_test_split(X, y, test_size=0.2, random_state=0)\n",
    "\n",
    "# LDA 모델 생성 및 훈련\n",
    "lda = LinearDiscriminantAnalysis()\n",
    "lda.fit(X_train, y_train)\n",
    "\n",
    "# 테스트 데이터에 대한 예측 수행\n",
    "y_pred = lda.predict(X_test)\n",
    "\n",
    "# 정확도 계산\n",
    "accuracy = accuracy_score(y_test, y_pred)\n",
    "print(f'Accuracy: {accuracy:.2f}')\n"
   ]
  },
  {
   "cell_type": "code",
   "execution_count": null,
   "id": "f66f5507",
   "metadata": {},
   "outputs": [],
   "source": [
    "## 기업수 1000, 변수 20"
   ]
  },
  {
   "cell_type": "code",
   "execution_count": 4,
   "id": "bc6c5c2c",
   "metadata": {},
   "outputs": [
    {
     "name": "stdout",
     "output_type": "stream",
     "text": [
      "Accuracy: 0.46\n"
     ]
    }
   ],
   "source": [
    "import numpy as np\n",
    "from sklearn.discriminant_analysis import LinearDiscriminantAnalysis\n",
    "from sklearn.model_selection import train_test_split\n",
    "from sklearn.metrics import accuracy_score\n",
    "\n",
    "# 예제 데이터 생성\n",
    "# 여기서는 간단히 20개의 재무 지표(feature)를 사용하고, 0은 건전 기업, 1은 부실 기업을 나타냅니다.\n",
    "np.random.seed(0)  # 결과의 일관성을 위해 시드 설정\n",
    "X = np.random.randn(1000, 20)  # 1000개의 기업에 대한 10개의 재무 지표\n",
    "y = np.random.choice([0, 1], 1000)  # 기업의 상태 (0: 건전, 1: 부실)\n",
    "\n",
    "# 데이터를 훈련 세트와 테스트 세트로 분할\n",
    "X_train, X_test, y_train, y_test = train_test_split(X, y, test_size=0.2, random_state=0)\n",
    "\n",
    "# LDA 모델 생성 및 훈련\n",
    "lda = LinearDiscriminantAnalysis()\n",
    "lda.fit(X_train, y_train)\n",
    "\n",
    "# 테스트 데이터에 대한 예측 수행\n",
    "y_pred = lda.predict(X_test)\n",
    "\n",
    "# 정확도 계산\n",
    "accuracy = accuracy_score(y_test, y_pred)\n",
    "print(f'Accuracy: {accuracy:.2f}')\n"
   ]
  },
  {
   "cell_type": "code",
   "execution_count": null,
   "id": "276a8194",
   "metadata": {},
   "outputs": [],
   "source": [
    "## 기업수 2000, 변수 10"
   ]
  },
  {
   "cell_type": "code",
   "execution_count": 6,
   "id": "a6a666b2",
   "metadata": {},
   "outputs": [
    {
     "name": "stdout",
     "output_type": "stream",
     "text": [
      "Accuracy: 0.50\n"
     ]
    }
   ],
   "source": [
    "import numpy as np\n",
    "from sklearn.discriminant_analysis import LinearDiscriminantAnalysis\n",
    "from sklearn.model_selection import train_test_split\n",
    "from sklearn.metrics import accuracy_score\n",
    "\n",
    "# 예제 데이터 생성\n",
    "# 여기서는 간단히 10개의 재무 지표(feature)를 사용하고, 0은 건전 기업, 1은 부실 기업을 나타냅니다.\n",
    "np.random.seed(0)  # 결과의 일관성을 위해 시드 설정\n",
    "X = np.random.randn(2000, 10)  # 1000개의 기업에 대한 10개의 재무 지표\n",
    "y = np.random.choice([0, 1], 2000)  # 기업의 상태 (0: 건전, 1: 부실)\n",
    "\n",
    "# 데이터를 훈련 세트와 테스트 세트로 분할\n",
    "X_train, X_test, y_train, y_test = train_test_split(X, y, test_size=0.2, random_state=0)\n",
    "\n",
    "# LDA 모델 생성 및 훈련\n",
    "lda = LinearDiscriminantAnalysis()\n",
    "lda.fit(X_train, y_train)\n",
    "\n",
    "# 테스트 데이터에 대한 예측 수행\n",
    "y_pred = lda.predict(X_test)\n",
    "\n",
    "# 정확도 계산\n",
    "accuracy = accuracy_score(y_test, y_pred)\n",
    "print(f'Accuracy: {accuracy:.2f}')\n"
   ]
  },
  {
   "cell_type": "code",
   "execution_count": null,
   "id": "af61b962",
   "metadata": {},
   "outputs": [],
   "source": [
    "# 기업수 100 , 변수2"
   ]
  },
  {
   "cell_type": "code",
   "execution_count": 9,
   "id": "429f949f",
   "metadata": {},
   "outputs": [
    {
     "name": "stdout",
     "output_type": "stream",
     "text": [
      "Accuracy: 0.35\n",
      "F1 Score: 0.24\n"
     ]
    }
   ],
   "source": [
    "import numpy as np\n",
    "from sklearn.discriminant_analysis import LinearDiscriminantAnalysis\n",
    "from sklearn.model_selection import train_test_split\n",
    "from sklearn.metrics import accuracy_score, f1_score\n",
    "\n",
    "# 예제 데이터 생성\n",
    "np.random.seed(0)  # 결과의 일관성을 위해 시드 설정\n",
    "X = np.random.randn(100, 2)  # 100개의 기업에 대한 2개의 재무 지표\n",
    "y = np.random.choice([0, 1], 100)  # 기업의 상태 (0: 건전, 1: 부실)\n",
    "\n",
    "# 데이터를 훈련 세트와 테스트 세트로 분할\n",
    "X_train, X_test, y_train, y_test = train_test_split(X, y, test_size=0.2, random_state=0)\n",
    "\n",
    "# LDA 모델 생성 및 훈련\n",
    "lda = LinearDiscriminantAnalysis()\n",
    "lda.fit(X_train, y_train)\n",
    "\n",
    "# 테스트 데이터에 대한 예측 수행\n",
    "y_pred = lda.predict(X_test)\n",
    "\n",
    "# 정확도 계산\n",
    "accuracy = accuracy_score(y_test, y_pred)\n",
    "print(f'Accuracy: {accuracy:.2f}')\n",
    "\n",
    "# F1 점수 계산\n",
    "f1 = f1_score(y_test, y_pred)\n",
    "print(f'F1 Score: {f1:.2f}')\n"
   ]
  },
  {
   "cell_type": "code",
   "execution_count": null,
   "id": "83804c6d",
   "metadata": {},
   "outputs": [],
   "source": [
    "# 기업수 1000 , 변수10"
   ]
  },
  {
   "cell_type": "code",
   "execution_count": 10,
   "id": "068e606e",
   "metadata": {},
   "outputs": [
    {
     "name": "stdout",
     "output_type": "stream",
     "text": [
      "Accuracy: 0.55\n",
      "F1 Score: 0.53\n"
     ]
    }
   ],
   "source": [
    "import numpy as np\n",
    "from sklearn.discriminant_analysis import LinearDiscriminantAnalysis\n",
    "from sklearn.model_selection import train_test_split\n",
    "from sklearn.metrics import accuracy_score, f1_score\n",
    "\n",
    "# 예제 데이터 생성\n",
    "np.random.seed(0)  # 결과의 일관성을 위해 시드 설정\n",
    "X = np.random.randn(1000, 10)  # 1000개의 기업에 대한 10개의 재무 지표\n",
    "y = np.random.choice([0, 1], 1000)  # 기업의 상태 (0: 건전, 1: 부실)\n",
    "\n",
    "# 데이터를 훈련 세트와 테스트 세트로 분할\n",
    "X_train, X_test, y_train, y_test = train_test_split(X, y, test_size=0.2, random_state=0)\n",
    "\n",
    "# LDA 모델 생성 및 훈련\n",
    "lda = LinearDiscriminantAnalysis()\n",
    "lda.fit(X_train, y_train)\n",
    "\n",
    "# 테스트 데이터에 대한 예측 수행\n",
    "y_pred = lda.predict(X_test)\n",
    "\n",
    "# 정확도 계산\n",
    "accuracy = accuracy_score(y_test, y_pred)\n",
    "print(f'Accuracy: {accuracy:.2f}')\n",
    "\n",
    "# F1 점수 계산\n",
    "f1 = f1_score(y_test, y_pred)\n",
    "print(f'F1 Score: {f1:.2f}')\n"
   ]
  },
  {
   "cell_type": "code",
   "execution_count": null,
   "id": "83175db9",
   "metadata": {},
   "outputs": [],
   "source": [
    "# scikit-learn의 confusion_matrix 함수를 사용하여 혼동행렬을 계산"
   ]
  },
  {
   "cell_type": "code",
   "execution_count": null,
   "id": "c4096c42",
   "metadata": {},
   "outputs": [],
   "source": [
    "# 기업수 100  변수 2"
   ]
  },
  {
   "cell_type": "code",
   "execution_count": 11,
   "id": "e259eeff",
   "metadata": {},
   "outputs": [
    {
     "name": "stdout",
     "output_type": "stream",
     "text": [
      "Accuracy: 0.35\n",
      "F1 Score: 0.24\n",
      "Confusion Matrix:\n",
      "[[5 4]\n",
      " [9 2]]\n"
     ]
    }
   ],
   "source": [
    "import numpy as np\n",
    "from sklearn.discriminant_analysis import LinearDiscriminantAnalysis\n",
    "from sklearn.model_selection import train_test_split\n",
    "from sklearn.metrics import accuracy_score, f1_score, confusion_matrix\n",
    "\n",
    "# 예제 데이터 생성\n",
    "np.random.seed(0)  # 결과의 일관성을 위해 시드 설정\n",
    "X = np.random.randn(100, 2)  # 100개의 기업에 대한 2개의 재무 지표\n",
    "y = np.random.choice([0, 1], 100)  # 기업의 상태 (0: 건전, 1: 부실)\n",
    "\n",
    "# 데이터를 훈련 세트와 테스트 세트로 분할\n",
    "X_train, X_test, y_train, y_test = train_test_split(X, y, test_size=0.2, random_state=0)\n",
    "\n",
    "# LDA 모델 생성 및 훈련\n",
    "lda = LinearDiscriminantAnalysis()\n",
    "lda.fit(X_train, y_train)\n",
    "\n",
    "# 테스트 데이터에 대한 예측 수행\n",
    "y_pred = lda.predict(X_test)\n",
    "\n",
    "# 정확도 계산\n",
    "accuracy = accuracy_score(y_test, y_pred)\n",
    "print(f'Accuracy: {accuracy:.2f}')\n",
    "\n",
    "# F1 점수 계산\n",
    "f1 = f1_score(y_test, y_pred)\n",
    "print(f'F1 Score: {f1:.2f}')\n",
    "\n",
    "# 혼동행렬 계산 및 출력\n",
    "cm = confusion_matrix(y_test, y_pred)\n",
    "print('Confusion Matrix:')\n",
    "print(cm)\n"
   ]
  },
  {
   "cell_type": "code",
   "execution_count": null,
   "id": "e34f5827",
   "metadata": {},
   "outputs": [],
   "source": []
  },
  {
   "cell_type": "code",
   "execution_count": 12,
   "id": "983f9c91",
   "metadata": {},
   "outputs": [
    {
     "name": "stdout",
     "output_type": "stream",
     "text": [
      "Accuracy: 0.55\n",
      "F1 Score: 0.53\n",
      "Confusion Matrix:\n",
      "[[58 42]\n",
      " [49 51]]\n"
     ]
    }
   ],
   "source": [
    "import numpy as np\n",
    "from sklearn.discriminant_analysis import LinearDiscriminantAnalysis\n",
    "from sklearn.model_selection import train_test_split\n",
    "from sklearn.metrics import accuracy_score, f1_score, confusion_matrix\n",
    "\n",
    "# 예제 데이터 생성\n",
    "np.random.seed(0)  # 결과의 일관성을 위해 시드 설정\n",
    "X = np.random.randn(1000, 10)  # 100개의 기업에 대한 10개의 재무 지표\n",
    "y = np.random.choice([0, 1], 1000)  # 기업의 상태 (0: 건전, 1: 부실)\n",
    "\n",
    "# 데이터를 훈련 세트와 테스트 세트로 분할\n",
    "X_train, X_test, y_train, y_test = train_test_split(X, y, test_size=0.2, random_state=0)\n",
    "\n",
    "# LDA 모델 생성 및 훈련\n",
    "lda = LinearDiscriminantAnalysis()\n",
    "lda.fit(X_train, y_train)\n",
    "\n",
    "# 테스트 데이터에 대한 예측 수행\n",
    "y_pred = lda.predict(X_test)\n",
    "\n",
    "# 정확도 계산\n",
    "accuracy = accuracy_score(y_test, y_pred)\n",
    "print(f'Accuracy: {accuracy:.2f}')\n",
    "\n",
    "# F1 점수 계산\n",
    "f1 = f1_score(y_test, y_pred)\n",
    "print(f'F1 Score: {f1:.2f}')\n",
    "\n",
    "# 혼동행렬 계산 및 출력\n",
    "cm = confusion_matrix(y_test, y_pred)\n",
    "print('Confusion Matrix:')\n",
    "print(cm)\n"
   ]
  },
  {
   "cell_type": "code",
   "execution_count": null,
   "id": "1da983c8",
   "metadata": {},
   "outputs": [],
   "source": [
    "# 판별점수(discriminant scores)는 선형 판별분석(Linear Discriminant Analysis, LDA)에서 각 관측치가 특정 클래스에 속할 가능성을 나타내는 점수입니다. 이 점수를 사용하여 관측치가 어느 클래스에 더 가까운지 판단할 수 있습니다.\n",
    "# LinearDiscriminantAnalysis 클래스의 decision_function 메서드를 사용하면 이러한 판별점수를 계산할 수 있습니다."
   ]
  },
  {
   "cell_type": "code",
   "execution_count": 13,
   "id": "acffa0bb",
   "metadata": {},
   "outputs": [
    {
     "name": "stdout",
     "output_type": "stream",
     "text": [
      "Accuracy: 0.35\n",
      "F1 Score: 0.24\n",
      "Confusion Matrix:\n",
      "[[5 4]\n",
      " [9 2]]\n",
      "Discriminant Scores:\n",
      "[-0.31937962 -0.53279736 -0.89623115 -0.35638462  0.39197993  0.19251188\n",
      " -0.44807075  0.44659075 -0.20650513  0.30443991 -0.22116466 -0.74355827\n",
      " -0.72779305 -0.18324208 -0.14025411 -0.04085056 -0.1068363   0.25264375\n",
      "  0.4506326  -0.57516858]\n"
     ]
    }
   ],
   "source": [
    "import numpy as np\n",
    "from sklearn.discriminant_analysis import LinearDiscriminantAnalysis\n",
    "from sklearn.model_selection import train_test_split\n",
    "from sklearn.metrics import accuracy_score, f1_score, confusion_matrix\n",
    "\n",
    "# 예제 데이터 생성\n",
    "np.random.seed(0)  # 결과의 일관성을 위해 시드 설정\n",
    "X = np.random.randn(100, 2)  # 100개의 기업에 대한 2개의 재무 지표\n",
    "y = np.random.choice([0, 1], 100)  # 기업의 상태 (0: 건전, 1: 부실)\n",
    "\n",
    "# 데이터를 훈련 세트와 테스트 세트로 분할\n",
    "X_train, X_test, y_train, y_test = train_test_split(X, y, test_size=0.2, random_state=0)\n",
    "\n",
    "# LDA 모델 생성 및 훈련\n",
    "lda = LinearDiscriminantAnalysis()\n",
    "lda.fit(X_train, y_train)\n",
    "\n",
    "# 테스트 데이터에 대한 예측 수행\n",
    "y_pred = lda.predict(X_test)\n",
    "\n",
    "# 정확도 및 F1 점수 계산\n",
    "accuracy = accuracy_score(y_test, y_pred)\n",
    "f1 = f1_score(y_test, y_pred)\n",
    "print(f'Accuracy: {accuracy:.2f}')\n",
    "print(f'F1 Score: {f1:.2f}')\n",
    "\n",
    "# 혼동행렬 출력\n",
    "cm = confusion_matrix(y_test, y_pred)\n",
    "print('Confusion Matrix:')\n",
    "print(cm)\n",
    "\n",
    "# 판별점수 계산 및 출력\n",
    "discriminant_scores = lda.decision_function(X_test)\n",
    "print('Discriminant Scores:')\n",
    "print(discriminant_scores)\n"
   ]
  },
  {
   "cell_type": "code",
   "execution_count": null,
   "id": "e6a43ed2",
   "metadata": {},
   "outputs": [],
   "source": [
    "#  판별점수가 높을수록 해당 관측치가 부실 기업(클래스 1)에 속할 가능성이 높음을 의미하며, 낮을수록 건전 기업(클래스 0)에 속할 가능성이 높음을 나타냅니다. \n",
    "#     LDA에서는 보통 0을 기준으로 점수가 그보다 높으면 클래스 1, 낮으면 클래스 0으로 분류합니다."
   ]
  },
  {
   "cell_type": "code",
   "execution_count": null,
   "id": "b5551792",
   "metadata": {},
   "outputs": [],
   "source": []
  }
 ],
 "metadata": {
  "kernelspec": {
   "display_name": "Python 3 (ipykernel)",
   "language": "python",
   "name": "python3"
  },
  "language_info": {
   "codemirror_mode": {
    "name": "ipython",
    "version": 3
   },
   "file_extension": ".py",
   "mimetype": "text/x-python",
   "name": "python",
   "nbconvert_exporter": "python",
   "pygments_lexer": "ipython3",
   "version": "3.9.11"
  },
  "toc": {
   "base_numbering": 1,
   "nav_menu": {},
   "number_sections": true,
   "sideBar": true,
   "skip_h1_title": false,
   "title_cell": "Table of Contents",
   "title_sidebar": "Contents",
   "toc_cell": false,
   "toc_position": {},
   "toc_section_display": true,
   "toc_window_display": false
  }
 },
 "nbformat": 4,
 "nbformat_minor": 5
}
