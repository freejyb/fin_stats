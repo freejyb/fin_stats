{
 "cells": [
  {
   "cell_type": "markdown",
   "id": "5335c237",
   "metadata": {},
   "source": [
    "## 선형 판별분석(Linear Discriminant Analysis, LDA)"
   ]
  },
  {
   "cell_type": "code",
   "execution_count": null,
   "id": "08bf4abe",
   "metadata": {},
   "outputs": [],
   "source": []
  },
  {
   "cell_type": "code",
   "execution_count": 1,
   "id": "9f0811c2",
   "metadata": {},
   "outputs": [
    {
     "name": "stdout",
     "output_type": "stream",
     "text": [
      "Accuracy: 0.35\n"
     ]
    }
   ],
   "source": [
    "import numpy as np\n",
    "from sklearn.discriminant_analysis import LinearDiscriminantAnalysis\n",
    "from sklearn.model_selection import train_test_split\n",
    "from sklearn.metrics import accuracy_score\n",
    "\n",
    "# 예제 데이터 생성\n",
    "# 여기서는 간단히 2개의 재무 지표(feature)를 사용하고, 0은 건전 기업, 1은 부실 기업을 나타냅니다.\n",
    "np.random.seed(0)  # 결과의 일관성을 위해 시드 설정\n",
    "X = np.random.randn(100, 2)  # 100개의 기업에 대한 2개의 재무 지표\n",
    "y = np.random.choice([0, 1], 100)  # 기업의 상태 (0: 건전, 1: 부실)\n",
    "\n",
    "# 데이터를 훈련 세트와 테스트 세트로 분할\n",
    "X_train, X_test, y_train, y_test = train_test_split(X, y, test_size=0.2, random_state=0)\n",
    "\n",
    "# LDA 모델 생성 및 훈련\n",
    "lda = LinearDiscriminantAnalysis()\n",
    "lda.fit(X_train, y_train)\n",
    "\n",
    "# 테스트 데이터에 대한 예측 수행\n",
    "y_pred = lda.predict(X_test)\n",
    "\n",
    "# 정확도 계산\n",
    "accuracy = accuracy_score(y_test, y_pred)\n",
    "print(f'Accuracy: {accuracy:.2f}')\n"
   ]
  },
  {
   "cell_type": "code",
   "execution_count": null,
   "id": "8dbd68a3",
   "metadata": {},
   "outputs": [],
   "source": [
    "## 기업수 1000, 변수 10"
   ]
  },
  {
   "cell_type": "code",
   "execution_count": 3,
   "id": "9a853d09",
   "metadata": {},
   "outputs": [
    {
     "name": "stdout",
     "output_type": "stream",
     "text": [
      "Accuracy: 0.55\n"
     ]
    }
   ],
   "source": [
    "import numpy as np\n",
    "from sklearn.discriminant_analysis import LinearDiscriminantAnalysis\n",
    "from sklearn.model_selection import train_test_split\n",
    "from sklearn.metrics import accuracy_score\n",
    "\n",
    "# 예제 데이터 생성\n",
    "# 여기서는 간단히 10개의 재무 지표(feature)를 사용하고, 0은 건전 기업, 1은 부실 기업을 나타냅니다.\n",
    "np.random.seed(0)  # 결과의 일관성을 위해 시드 설정\n",
    "X = np.random.randn(1000, 10)  # 1000개의 기업에 대한 10개의 재무 지표\n",
    "y = np.random.choice([0, 1], 1000)  # 기업의 상태 (0: 건전, 1: 부실)\n",
    "\n",
    "# 데이터를 훈련 세트와 테스트 세트로 분할\n",
    "X_train, X_test, y_train, y_test = train_test_split(X, y, test_size=0.2, random_state=0)\n",
    "\n",
    "# LDA 모델 생성 및 훈련\n",
    "lda = LinearDiscriminantAnalysis()\n",
    "lda.fit(X_train, y_train)\n",
    "\n",
    "# 테스트 데이터에 대한 예측 수행\n",
    "y_pred = lda.predict(X_test)\n",
    "\n",
    "# 정확도 계산\n",
    "accuracy = accuracy_score(y_test, y_pred)\n",
    "print(f'Accuracy: {accuracy:.2f}')\n"
   ]
  },
  {
   "cell_type": "code",
   "execution_count": null,
   "id": "f66f5507",
   "metadata": {},
   "outputs": [],
   "source": [
    "## 기업수 1000, 변수 20"
   ]
  },
  {
   "cell_type": "code",
   "execution_count": 4,
   "id": "bc6c5c2c",
   "metadata": {},
   "outputs": [
    {
     "name": "stdout",
     "output_type": "stream",
     "text": [
      "Accuracy: 0.46\n"
     ]
    }
   ],
   "source": [
    "import numpy as np\n",
    "from sklearn.discriminant_analysis import LinearDiscriminantAnalysis\n",
    "from sklearn.model_selection import train_test_split\n",
    "from sklearn.metrics import accuracy_score\n",
    "\n",
    "# 예제 데이터 생성\n",
    "# 여기서는 간단히 20개의 재무 지표(feature)를 사용하고, 0은 건전 기업, 1은 부실 기업을 나타냅니다.\n",
    "np.random.seed(0)  # 결과의 일관성을 위해 시드 설정\n",
    "X = np.random.randn(1000, 20)  # 1000개의 기업에 대한 10개의 재무 지표\n",
    "y = np.random.choice([0, 1], 1000)  # 기업의 상태 (0: 건전, 1: 부실)\n",
    "\n",
    "# 데이터를 훈련 세트와 테스트 세트로 분할\n",
    "X_train, X_test, y_train, y_test = train_test_split(X, y, test_size=0.2, random_state=0)\n",
    "\n",
    "# LDA 모델 생성 및 훈련\n",
    "lda = LinearDiscriminantAnalysis()\n",
    "lda.fit(X_train, y_train)\n",
    "\n",
    "# 테스트 데이터에 대한 예측 수행\n",
    "y_pred = lda.predict(X_test)\n",
    "\n",
    "# 정확도 계산\n",
    "accuracy = accuracy_score(y_test, y_pred)\n",
    "print(f'Accuracy: {accuracy:.2f}')\n"
   ]
  },
  {
   "cell_type": "code",
   "execution_count": null,
   "id": "276a8194",
   "metadata": {},
   "outputs": [],
   "source": [
    "## 기업수 2000, 변수 10"
   ]
  },
  {
   "cell_type": "code",
   "execution_count": 6,
   "id": "a6a666b2",
   "metadata": {},
   "outputs": [
    {
     "name": "stdout",
     "output_type": "stream",
     "text": [
      "Accuracy: 0.50\n"
     ]
    }
   ],
   "source": [
    "import numpy as np\n",
    "from sklearn.discriminant_analysis import LinearDiscriminantAnalysis\n",
    "from sklearn.model_selection import train_test_split\n",
    "from sklearn.metrics import accuracy_score\n",
    "\n",
    "# 예제 데이터 생성\n",
    "# 여기서는 간단히 10개의 재무 지표(feature)를 사용하고, 0은 건전 기업, 1은 부실 기업을 나타냅니다.\n",
    "np.random.seed(0)  # 결과의 일관성을 위해 시드 설정\n",
    "X = np.random.randn(2000, 10)  # 1000개의 기업에 대한 10개의 재무 지표\n",
    "y = np.random.choice([0, 1], 2000)  # 기업의 상태 (0: 건전, 1: 부실)\n",
    "\n",
    "# 데이터를 훈련 세트와 테스트 세트로 분할\n",
    "X_train, X_test, y_train, y_test = train_test_split(X, y, test_size=0.2, random_state=0)\n",
    "\n",
    "# LDA 모델 생성 및 훈련\n",
    "lda = LinearDiscriminantAnalysis()\n",
    "lda.fit(X_train, y_train)\n",
    "\n",
    "# 테스트 데이터에 대한 예측 수행\n",
    "y_pred = lda.predict(X_test)\n",
    "\n",
    "# 정확도 계산\n",
    "accuracy = accuracy_score(y_test, y_pred)\n",
    "print(f'Accuracy: {accuracy:.2f}')\n"
   ]
  },
  {
   "cell_type": "code",
   "execution_count": null,
   "id": "af61b962",
   "metadata": {},
   "outputs": [],
   "source": [
    "# 기업수 100 , 변수2"
   ]
  },
  {
   "cell_type": "code",
   "execution_count": null,
   "id": "83804c6d",
   "metadata": {},
   "outputs": [],
   "source": [
    "# 기업수 1000 , 변수10"
   ]
  },
  {
   "cell_type": "code",
   "execution_count": 10,
   "id": "068e606e",
   "metadata": {},
   "outputs": [
    {
     "name": "stdout",
     "output_type": "stream",
     "text": [
      "Accuracy: 0.55\n",
      "F1 Score: 0.53\n"
     ]
    }
   ],
   "source": [
    "import numpy as np\n",
    "from sklearn.discriminant_analysis import LinearDiscriminantAnalysis\n",
    "from sklearn.model_selection import train_test_split\n",
    "from sklearn.metrics import accuracy_score, f1_score\n",
    "\n",
    "# 예제 데이터 생성\n",
    "np.random.seed(0)  # 결과의 일관성을 위해 시드 설정\n",
    "X = np.random.randn(1000, 10)  # 1000개의 기업에 대한 10개의 재무 지표\n",
    "y = np.random.choice([0, 1], 1000)  # 기업의 상태 (0: 건전, 1: 부실)\n",
    "\n",
    "# 데이터를 훈련 세트와 테스트 세트로 분할\n",
    "X_train, X_test, y_train, y_test = train_test_split(X, y, test_size=0.2, random_state=0)\n",
    "\n",
    "# LDA 모델 생성 및 훈련\n",
    "lda = LinearDiscriminantAnalysis()\n",
    "lda.fit(X_train, y_train)\n",
    "\n",
    "# 테스트 데이터에 대한 예측 수행\n",
    "y_pred = lda.predict(X_test)\n",
    "\n",
    "# 정확도 계산\n",
    "accuracy = accuracy_score(y_test, y_pred)\n",
    "print(f'Accuracy: {accuracy:.2f}')\n",
    "\n",
    "# F1 점수 계산\n",
    "f1 = f1_score(y_test, y_pred)\n",
    "print(f'F1 Score: {f1:.2f}')\n"
   ]
  },
  {
   "cell_type": "code",
   "execution_count": null,
   "id": "83175db9",
   "metadata": {},
   "outputs": [],
   "source": [
    "# scikit-learn의 confusion_matrix 함수를 사용하여 혼동행렬을 계산"
   ]
  },
  {
   "cell_type": "code",
   "execution_count": null,
   "id": "c4096c42",
   "metadata": {},
   "outputs": [],
   "source": [
    "# 기업수 100  변수 2"
   ]
  },
  {
   "cell_type": "code",
   "execution_count": 11,
   "id": "e259eeff",
   "metadata": {},
   "outputs": [
    {
     "name": "stdout",
     "output_type": "stream",
     "text": [
      "Accuracy: 0.35\n",
      "F1 Score: 0.24\n",
      "Confusion Matrix:\n",
      "[[5 4]\n",
      " [9 2]]\n"
     ]
    }
   ],
   "source": [
    "import numpy as np\n",
    "from sklearn.discriminant_analysis import LinearDiscriminantAnalysis\n",
    "from sklearn.model_selection import train_test_split\n",
    "from sklearn.metrics import accuracy_score, f1_score, confusion_matrix\n",
    "\n",
    "# 예제 데이터 생성\n",
    "np.random.seed(0)  # 결과의 일관성을 위해 시드 설정\n",
    "X = np.random.randn(100, 2)  # 100개의 기업에 대한 2개의 재무 지표\n",
    "y = np.random.choice([0, 1], 100)  # 기업의 상태 (0: 건전, 1: 부실)\n",
    "\n",
    "# 데이터를 훈련 세트와 테스트 세트로 분할\n",
    "X_train, X_test, y_train, y_test = train_test_split(X, y, test_size=0.2, random_state=0)\n",
    "\n",
    "# LDA 모델 생성 및 훈련\n",
    "lda = LinearDiscriminantAnalysis()\n",
    "lda.fit(X_train, y_train)\n",
    "\n",
    "# 테스트 데이터에 대한 예측 수행\n",
    "y_pred = lda.predict(X_test)\n",
    "\n",
    "# 정확도 계산\n",
    "accuracy = accuracy_score(y_test, y_pred)\n",
    "print(f'Accuracy: {accuracy:.2f}')\n",
    "\n",
    "# F1 점수 계산\n",
    "f1 = f1_score(y_test, y_pred)\n",
    "print(f'F1 Score: {f1:.2f}')\n",
    "\n",
    "# 혼동행렬 계산 및 출력\n",
    "cm = confusion_matrix(y_test, y_pred)\n",
    "print('Confusion Matrix:')\n",
    "print(cm)\n"
   ]
  },
  {
   "cell_type": "code",
   "execution_count": null,
   "id": "e34f5827",
   "metadata": {},
   "outputs": [],
   "source": []
  },
  {
   "cell_type": "code",
   "execution_count": 12,
   "id": "983f9c91",
   "metadata": {},
   "outputs": [
    {
     "name": "stdout",
     "output_type": "stream",
     "text": [
      "Accuracy: 0.55\n",
      "F1 Score: 0.53\n",
      "Confusion Matrix:\n",
      "[[58 42]\n",
      " [49 51]]\n"
     ]
    }
   ],
   "source": [
    "import numpy as np\n",
    "from sklearn.discriminant_analysis import LinearDiscriminantAnalysis\n",
    "from sklearn.model_selection import train_test_split\n",
    "from sklearn.metrics import accuracy_score, f1_score, confusion_matrix\n",
    "\n",
    "# 예제 데이터 생성\n",
    "np.random.seed(0)  # 결과의 일관성을 위해 시드 설정\n",
    "X = np.random.randn(1000, 10)  # 100개의 기업에 대한 10개의 재무 지표\n",
    "y = np.random.choice([0, 1], 1000)  # 기업의 상태 (0: 건전, 1: 부실)\n",
    "\n",
    "# 데이터를 훈련 세트와 테스트 세트로 분할\n",
    "X_train, X_test, y_train, y_test = train_test_split(X, y, test_size=0.2, random_state=0)\n",
    "\n",
    "# LDA 모델 생성 및 훈련\n",
    "lda = LinearDiscriminantAnalysis()\n",
    "lda.fit(X_train, y_train)\n",
    "\n",
    "# 테스트 데이터에 대한 예측 수행\n",
    "y_pred = lda.predict(X_test)\n",
    "\n",
    "# 정확도 계산\n",
    "accuracy = accuracy_score(y_test, y_pred)\n",
    "print(f'Accuracy: {accuracy:.2f}')\n",
    "\n",
    "# F1 점수 계산\n",
    "f1 = f1_score(y_test, y_pred)\n",
    "print(f'F1 Score: {f1:.2f}')\n",
    "\n",
    "# 혼동행렬 계산 및 출력\n",
    "cm = confusion_matrix(y_test, y_pred)\n",
    "print('Confusion Matrix:')\n",
    "print(cm)\n"
   ]
  },
  {
   "cell_type": "code",
   "execution_count": null,
   "id": "1da983c8",
   "metadata": {},
   "outputs": [],
   "source": [
    "# 판별점수(discriminant scores)는 선형 판별분석(Linear Discriminant Analysis, LDA)에서 각 관측치가 특정 클래스에 속할 가능성을 나타내는 점수입니다. 이 점수를 사용하여 관측치가 어느 클래스에 더 가까운지 판단할 수 있습니다.\n",
    "# LinearDiscriminantAnalysis 클래스의 decision_function 메서드를 사용하면 이러한 판별점수를 계산할 수 있습니다."
   ]
  },
  {
   "cell_type": "code",
   "execution_count": 13,
   "id": "acffa0bb",
   "metadata": {},
   "outputs": [
    {
     "name": "stdout",
     "output_type": "stream",
     "text": [
      "Accuracy: 0.35\n",
      "F1 Score: 0.24\n",
      "Confusion Matrix:\n",
      "[[5 4]\n",
      " [9 2]]\n",
      "Discriminant Scores:\n",
      "[-0.31937962 -0.53279736 -0.89623115 -0.35638462  0.39197993  0.19251188\n",
      " -0.44807075  0.44659075 -0.20650513  0.30443991 -0.22116466 -0.74355827\n",
      " -0.72779305 -0.18324208 -0.14025411 -0.04085056 -0.1068363   0.25264375\n",
      "  0.4506326  -0.57516858]\n"
     ]
    }
   ],
   "source": [
    "import numpy as np\n",
    "from sklearn.discriminant_analysis import LinearDiscriminantAnalysis\n",
    "from sklearn.model_selection import train_test_split\n",
    "from sklearn.metrics import accuracy_score, f1_score, confusion_matrix\n",
    "\n",
    "# 예제 데이터 생성\n",
    "np.random.seed(0)  # 결과의 일관성을 위해 시드 설정\n",
    "X = np.random.randn(100, 2)  # 100개의 기업에 대한 2개의 재무 지표\n",
    "y = np.random.choice([0, 1], 100)  # 기업의 상태 (0: 건전, 1: 부실)\n",
    "\n",
    "# 데이터를 훈련 세트와 테스트 세트로 분할\n",
    "X_train, X_test, y_train, y_test = train_test_split(X, y, test_size=0.2, random_state=0)\n",
    "\n",
    "# LDA 모델 생성 및 훈련\n",
    "lda = LinearDiscriminantAnalysis()\n",
    "lda.fit(X_train, y_train)\n",
    "\n",
    "# 테스트 데이터에 대한 예측 수행\n",
    "y_pred = lda.predict(X_test)\n",
    "\n",
    "# 정확도 및 F1 점수 계산\n",
    "accuracy = accuracy_score(y_test, y_pred)\n",
    "f1 = f1_score(y_test, y_pred)\n",
    "print(f'Accuracy: {accuracy:.2f}')\n",
    "print(f'F1 Score: {f1:.2f}')\n",
    "\n",
    "# 혼동행렬 출력\n",
    "cm = confusion_matrix(y_test, y_pred)\n",
    "print('Confusion Matrix:')\n",
    "print(cm)\n",
    "\n",
    "# 판별점수 계산 및 출력\n",
    "discriminant_scores = lda.decision_function(X_test)\n",
    "print('Discriminant Scores:')\n",
    "print(discriminant_scores)\n"
   ]
  },
  {
   "cell_type": "code",
   "execution_count": null,
   "id": "e6a43ed2",
   "metadata": {},
   "outputs": [],
   "source": [
    "#  판별점수가 높을수록 해당 관측치가 부실 기업(클래스 1)에 속할 가능성이 높음을 의미하며, 낮을수록 건전 기업(클래스 0)에 속할 가능성이 높음을 나타냅니다. \n",
    "#     LDA에서는 보통 0을 기준으로 점수가 그보다 높으면 클래스 1, 낮으면 클래스 0으로 분류합니다."
   ]
  },
  {
   "cell_type": "code",
   "execution_count": null,
   "id": "b5551792",
   "metadata": {},
   "outputs": [],
   "source": []
  },
  {
   "cell_type": "markdown",
   "id": "42cb49e0-913f-4d4d-8933-ee206cd44d1a",
   "metadata": {},
   "source": [
    "### Iris 데이터"
   ]
  },
  {
   "cell_type": "markdown",
   "id": "bc524663-39c7-42a5-bdb7-4227d9b2ec65",
   "metadata": {},
   "source": [
    "- 1. 데이터 준비"
   ]
  },
  {
   "cell_type": "code",
   "execution_count": 15,
   "id": "40557633-aec2-4079-9885-7058797536f9",
   "metadata": {},
   "outputs": [
    {
     "data": {
      "text/html": [
       "<div>\n",
       "<style scoped>\n",
       "    .dataframe tbody tr th:only-of-type {\n",
       "        vertical-align: middle;\n",
       "    }\n",
       "\n",
       "    .dataframe tbody tr th {\n",
       "        vertical-align: top;\n",
       "    }\n",
       "\n",
       "    .dataframe thead th {\n",
       "        text-align: right;\n",
       "    }\n",
       "</style>\n",
       "<table border=\"1\" class=\"dataframe\">\n",
       "  <thead>\n",
       "    <tr style=\"text-align: right;\">\n",
       "      <th></th>\n",
       "      <th>sepal length (cm)</th>\n",
       "      <th>sepal width (cm)</th>\n",
       "      <th>petal length (cm)</th>\n",
       "      <th>petal width (cm)</th>\n",
       "      <th>species</th>\n",
       "    </tr>\n",
       "  </thead>\n",
       "  <tbody>\n",
       "    <tr>\n",
       "      <th>0</th>\n",
       "      <td>5.1</td>\n",
       "      <td>3.5</td>\n",
       "      <td>1.4</td>\n",
       "      <td>0.2</td>\n",
       "      <td>setosa</td>\n",
       "    </tr>\n",
       "    <tr>\n",
       "      <th>1</th>\n",
       "      <td>4.9</td>\n",
       "      <td>3.0</td>\n",
       "      <td>1.4</td>\n",
       "      <td>0.2</td>\n",
       "      <td>setosa</td>\n",
       "    </tr>\n",
       "    <tr>\n",
       "      <th>2</th>\n",
       "      <td>4.7</td>\n",
       "      <td>3.2</td>\n",
       "      <td>1.3</td>\n",
       "      <td>0.2</td>\n",
       "      <td>setosa</td>\n",
       "    </tr>\n",
       "    <tr>\n",
       "      <th>3</th>\n",
       "      <td>4.6</td>\n",
       "      <td>3.1</td>\n",
       "      <td>1.5</td>\n",
       "      <td>0.2</td>\n",
       "      <td>setosa</td>\n",
       "    </tr>\n",
       "    <tr>\n",
       "      <th>4</th>\n",
       "      <td>5.0</td>\n",
       "      <td>3.6</td>\n",
       "      <td>1.4</td>\n",
       "      <td>0.2</td>\n",
       "      <td>setosa</td>\n",
       "    </tr>\n",
       "  </tbody>\n",
       "</table>\n",
       "</div>"
      ],
      "text/plain": [
       "   sepal length (cm)  sepal width (cm)  petal length (cm)  petal width (cm)  \\\n",
       "0                5.1               3.5                1.4               0.2   \n",
       "1                4.9               3.0                1.4               0.2   \n",
       "2                4.7               3.2                1.3               0.2   \n",
       "3                4.6               3.1                1.5               0.2   \n",
       "4                5.0               3.6                1.4               0.2   \n",
       "\n",
       "  species  \n",
       "0  setosa  \n",
       "1  setosa  \n",
       "2  setosa  \n",
       "3  setosa  \n",
       "4  setosa  "
      ]
     },
     "execution_count": 15,
     "metadata": {},
     "output_type": "execute_result"
    }
   ],
   "source": [
    "import pandas as pd\n",
    "from sklearn.datasets import load_iris\n",
    "\n",
    "# 데이터 로드\n",
    "iris = load_iris()\n",
    "df = pd.DataFrame(iris.data, columns=iris.feature_names)\n",
    "df['species'] = iris.target\n",
    "\n",
    "# 품종 이름 매핑\n",
    "df['species'] = df['species'].map({0: 'setosa', 1: 'versicolor', 2: 'virginica'})\n",
    "df.head()\n"
   ]
  },
  {
   "cell_type": "markdown",
   "id": "d424d834-ebc3-4eca-af8f-bb3f53b2cb0d",
   "metadata": {},
   "source": [
    "- 2.선형 판별분석(LDA) 모델 학습"
   ]
  },
  {
   "cell_type": "code",
   "execution_count": 16,
   "id": "e71b0d5a-72c7-49bd-a7ee-c19271c492ed",
   "metadata": {},
   "outputs": [],
   "source": [
    "# lda.fit(): 데이터로 LDA 모델 학습\n",
    "\n",
    "# lda.transform(): 학습한 판별함수를 기반으로 새로운 축으로 데이터 변환"
   ]
  },
  {
   "cell_type": "code",
   "execution_count": 17,
   "id": "fd8edc3b-6f1a-4f9d-be6d-dd25a73c7c7c",
   "metadata": {},
   "outputs": [],
   "source": [
    "from sklearn.discriminant_analysis import LinearDiscriminantAnalysis\n",
    "\n",
    "# 독립변수(X)와 종속변수(y) 정의\n",
    "X = df.iloc[:, :-1]\n",
    "y = df['species']\n",
    "\n",
    "# LDA 모델 학습\n",
    "lda = LinearDiscriminantAnalysis()\n",
    "lda.fit(X, y)\n",
    "\n",
    "# 판별 점수 예측\n",
    "lda_scores = lda.transform(X)\n"
   ]
  },
  {
   "cell_type": "markdown",
   "id": "ad89e8ed-7b3c-4fd6-9dfa-3d87d7b37a8f",
   "metadata": {},
   "source": [
    "- 3. 판별계수(Discriminant Coefficients) 확인"
   ]
  },
  {
   "cell_type": "code",
   "execution_count": 18,
   "id": "a6a5f803-db96-4da2-a8dc-fb3de7b05747",
   "metadata": {},
   "outputs": [],
   "source": [
    "# 이 표를 보면 각 변수별 계수를 통해 어떤 변수가 집단을 구분하는 데 가장 큰 영향을 주는지 알 수 있습니다."
   ]
  },
  {
   "cell_type": "code",
   "execution_count": 19,
   "id": "15927f4f-deeb-42f5-ae4d-3df57cbe803a",
   "metadata": {},
   "outputs": [
    {
     "data": {
      "text/html": [
       "<div>\n",
       "<style scoped>\n",
       "    .dataframe tbody tr th:only-of-type {\n",
       "        vertical-align: middle;\n",
       "    }\n",
       "\n",
       "    .dataframe tbody tr th {\n",
       "        vertical-align: top;\n",
       "    }\n",
       "\n",
       "    .dataframe thead th {\n",
       "        text-align: right;\n",
       "    }\n",
       "</style>\n",
       "<table border=\"1\" class=\"dataframe\">\n",
       "  <thead>\n",
       "    <tr style=\"text-align: right;\">\n",
       "      <th></th>\n",
       "      <th>sepal length (cm)</th>\n",
       "      <th>sepal width (cm)</th>\n",
       "      <th>petal length (cm)</th>\n",
       "      <th>petal width (cm)</th>\n",
       "    </tr>\n",
       "  </thead>\n",
       "  <tbody>\n",
       "    <tr>\n",
       "      <th>setosa</th>\n",
       "      <td>6.314758</td>\n",
       "      <td>12.139317</td>\n",
       "      <td>-16.946425</td>\n",
       "      <td>-20.770055</td>\n",
       "    </tr>\n",
       "    <tr>\n",
       "      <th>versicolor</th>\n",
       "      <td>-1.531199</td>\n",
       "      <td>-4.376043</td>\n",
       "      <td>4.695665</td>\n",
       "      <td>3.062585</td>\n",
       "    </tr>\n",
       "    <tr>\n",
       "      <th>virginica</th>\n",
       "      <td>-4.783559</td>\n",
       "      <td>-7.763274</td>\n",
       "      <td>12.250759</td>\n",
       "      <td>17.707469</td>\n",
       "    </tr>\n",
       "  </tbody>\n",
       "</table>\n",
       "</div>"
      ],
      "text/plain": [
       "            sepal length (cm)  sepal width (cm)  petal length (cm)  \\\n",
       "setosa               6.314758         12.139317         -16.946425   \n",
       "versicolor          -1.531199         -4.376043           4.695665   \n",
       "virginica           -4.783559         -7.763274          12.250759   \n",
       "\n",
       "            petal width (cm)  \n",
       "setosa            -20.770055  \n",
       "versicolor          3.062585  \n",
       "virginica          17.707469  "
      ]
     },
     "execution_count": 19,
     "metadata": {},
     "output_type": "execute_result"
    }
   ],
   "source": [
    "coefficients = pd.DataFrame(lda.coef_, columns=X.columns, index=lda.classes_)\n",
    "coefficients\n"
   ]
  },
  {
   "cell_type": "markdown",
   "id": "7e67d81c-9a03-409b-a97a-47227394626a",
   "metadata": {},
   "source": [
    "- 4. 시각화"
   ]
  },
  {
   "cell_type": "code",
   "execution_count": 20,
   "id": "33f19ab1-5d2e-402e-9b03-0ccff233be05",
   "metadata": {},
   "outputs": [
    {
     "data": {
      "image/png": "[encoded data removed]",
      "text/plain": [
       "<Figure size 800x600 with 1 Axes>"
      ]
     },
     "metadata": {},
     "output_type": "display_data"
    }
   ],
   "source": [
    "import matplotlib.pyplot as plt\n",
    "\n",
    "plt.rcParams['font.family'] = 'Malgun Gothic'   # 한글 폰트 설정\n",
    "plt.rcParams['axes.unicode_minus'] = False     # 음수 부호 깨짐 방지\n",
    "\n",
    "# 판별점수 2개를 사용한 산점도\n",
    "plt.figure(figsize=(8, 6))\n",
    "for species, color in zip(lda.classes_, ['red', 'green', 'blue']):\n",
    "    plt.scatter(lda_scores[y == species, 0], lda_scores[y == species, 1], label=species, color=color)\n",
    "\n",
    "plt.xlabel('LD1 (첫 번째 판별축)')\n",
    "plt.ylabel('LD2 (두 번째 판별축)')\n",
    "plt.title('선형 판별분석 결과 (Iris Dataset)')\n",
    "plt.legend()\n",
    "plt.grid()\n",
    "plt.show()\n"
   ]
  },
  {
   "cell_type": "markdown",
   "id": "10582cc7-bb81-4d1a-be17-f4a06a447216",
   "metadata": {},
   "source": [
    "- 5. 예측 및 성능 평가"
   ]
  },
  {
   "cell_type": "code",
   "execution_count": null,
   "id": "a4a17a7f-2145-4ada-bf06-3b64fca25fb3",
   "metadata": {},
   "outputs": [],
   "source": [
    "# 혼동행렬(confusion matrix): 실제 품종과 예측 품종의 비교\n",
    "# 정확도(accuracy), 정밀도(precision), 재현율(recall) 등 성능 지표 확인 가능"
   ]
  },
  {
   "cell_type": "code",
   "execution_count": 21,
   "id": "7bb83c90-d08c-4b43-b60d-e93c655a75a7",
   "metadata": {},
   "outputs": [
    {
     "name": "stdout",
     "output_type": "stream",
     "text": [
      "[[50  0  0]\n",
      " [ 0 48  2]\n",
      " [ 0  1 49]]\n",
      "              precision    recall  f1-score   support\n",
      "\n",
      "      setosa       1.00      1.00      1.00        50\n",
      "  versicolor       0.98      0.96      0.97        50\n",
      "   virginica       0.96      0.98      0.97        50\n",
      "\n",
      "    accuracy                           0.98       150\n",
      "   macro avg       0.98      0.98      0.98       150\n",
      "weighted avg       0.98      0.98      0.98       150\n",
      "\n"
     ]
    }
   ],
   "source": [
    "from sklearn.metrics import confusion_matrix, classification_report\n",
    "\n",
    "# 예측값\n",
    "y_pred = lda.predict(X)\n",
    "\n",
    "# 혼동행렬\n",
    "print(confusion_matrix(y, y_pred))\n",
    "\n",
    "# 성능 지표\n",
    "print(classification_report(y, y_pred))\n"
   ]
  },
  {
   "cell_type": "markdown",
   "id": "535b9843-f471-4505-8a7c-25076d59061d",
   "metadata": {},
   "source": [
    "## 합격/불합격을 예측"
   ]
  },
  {
   "cell_type": "markdown",
   "id": "0d99a742-08b7-4829-abaa-5371db864c43",
   "metadata": {},
   "source": [
    "- 시나리오 설정\n",
    "- 목표: 학생의 시험 점수를 바탕으로 합격/불합격을 예측\n",
    "- 데이터 변수 :  math (수학 점수) , english (영어 점수)\n",
    "- pass (합격 여부: 1=합격, 0=불합격)"
   ]
  },
  {
   "cell_type": "markdown",
   "id": "e942172e-7136-4d07-8f78-08443c76aca0",
   "metadata": {},
   "source": [
    "#### 1. 예제 데이터 생성"
   ]
  },
  {
   "cell_type": "code",
   "execution_count": 22,
   "id": "3840c347-4df2-4c02-9783-cb7e36f95b90",
   "metadata": {},
   "outputs": [
    {
     "data": {
      "text/html": [
       "<div>\n",
       "<style scoped>\n",
       "    .dataframe tbody tr th:only-of-type {\n",
       "        vertical-align: middle;\n",
       "    }\n",
       "\n",
       "    .dataframe tbody tr th {\n",
       "        vertical-align: top;\n",
       "    }\n",
       "\n",
       "    .dataframe thead th {\n",
       "        text-align: right;\n",
       "    }\n",
       "</style>\n",
       "<table border=\"1\" class=\"dataframe\">\n",
       "  <thead>\n",
       "    <tr style=\"text-align: right;\">\n",
       "      <th></th>\n",
       "      <th>math</th>\n",
       "      <th>english</th>\n",
       "      <th>pass</th>\n",
       "    </tr>\n",
       "  </thead>\n",
       "  <tbody>\n",
       "    <tr>\n",
       "      <th>0</th>\n",
       "      <td>59.967142</td>\n",
       "      <td>52.592672</td>\n",
       "      <td>0</td>\n",
       "    </tr>\n",
       "    <tr>\n",
       "      <th>1</th>\n",
       "      <td>53.617357</td>\n",
       "      <td>46.919342</td>\n",
       "      <td>0</td>\n",
       "    </tr>\n",
       "    <tr>\n",
       "      <th>2</th>\n",
       "      <td>61.476885</td>\n",
       "      <td>44.584624</td>\n",
       "      <td>0</td>\n",
       "    </tr>\n",
       "    <tr>\n",
       "      <th>3</th>\n",
       "      <td>70.230299</td>\n",
       "      <td>54.893410</td>\n",
       "      <td>0</td>\n",
       "    </tr>\n",
       "    <tr>\n",
       "      <th>4</th>\n",
       "      <td>52.658466</td>\n",
       "      <td>58.247996</td>\n",
       "      <td>0</td>\n",
       "    </tr>\n",
       "  </tbody>\n",
       "</table>\n",
       "</div>"
      ],
      "text/plain": [
       "        math    english  pass\n",
       "0  59.967142  52.592672     0\n",
       "1  53.617357  46.919342     0\n",
       "2  61.476885  44.584624     0\n",
       "3  70.230299  54.893410     0\n",
       "4  52.658466  58.247996     0"
      ]
     },
     "execution_count": 22,
     "metadata": {},
     "output_type": "execute_result"
    }
   ],
   "source": [
    "import pandas as pd\n",
    "import numpy as np\n",
    "\n",
    "# 랜덤 시드 고정\n",
    "np.random.seed(42)\n",
    "\n",
    "# 불합격 그룹 (0)\n",
    "math_fail = np.random.normal(55, 10, 50)\n",
    "eng_fail = np.random.normal(50, 8, 50)\n",
    "\n",
    "# 합격 그룹 (1)\n",
    "math_pass = np.random.normal(75, 8, 50)\n",
    "eng_pass = np.random.normal(70, 7, 50)\n",
    "\n",
    "# 데이터프레임 생성\n",
    "df = pd.DataFrame({\n",
    "    'math': np.concatenate([math_fail, math_pass]),\n",
    "    'english': np.concatenate([eng_fail, eng_pass]),\n",
    "    'pass': [0]*50 + [1]*50\n",
    "})\n",
    "\n",
    "df.head()\n"
   ]
  },
  {
   "cell_type": "markdown",
   "id": "b042db61-a29e-4e3b-a22d-7d9b08ad4bd0",
   "metadata": {},
   "source": [
    "#### 3. LDA 모델 학습"
   ]
  },
  {
   "cell_type": "code",
   "execution_count": 23,
   "id": "5a8d1be1-7422-465d-864d-c66642c64dba",
   "metadata": {},
   "outputs": [
    {
     "data": {
      "text/html": [
       "<div>\n",
       "<style scoped>\n",
       "    .dataframe tbody tr th:only-of-type {\n",
       "        vertical-align: middle;\n",
       "    }\n",
       "\n",
       "    .dataframe tbody tr th {\n",
       "        vertical-align: top;\n",
       "    }\n",
       "\n",
       "    .dataframe thead th {\n",
       "        text-align: right;\n",
       "    }\n",
       "</style>\n",
       "<table border=\"1\" class=\"dataframe\">\n",
       "  <thead>\n",
       "    <tr style=\"text-align: right;\">\n",
       "      <th></th>\n",
       "      <th>math</th>\n",
       "      <th>english</th>\n",
       "      <th>pass</th>\n",
       "      <th>score</th>\n",
       "    </tr>\n",
       "  </thead>\n",
       "  <tbody>\n",
       "    <tr>\n",
       "      <th>0</th>\n",
       "      <td>59.967142</td>\n",
       "      <td>52.592672</td>\n",
       "      <td>0</td>\n",
       "      <td>-4.350268</td>\n",
       "    </tr>\n",
       "    <tr>\n",
       "      <th>1</th>\n",
       "      <td>53.617357</td>\n",
       "      <td>46.919342</td>\n",
       "      <td>0</td>\n",
       "      <td>-8.459031</td>\n",
       "    </tr>\n",
       "    <tr>\n",
       "      <th>2</th>\n",
       "      <td>61.476885</td>\n",
       "      <td>44.584624</td>\n",
       "      <td>0</td>\n",
       "      <td>-7.445302</td>\n",
       "    </tr>\n",
       "    <tr>\n",
       "      <th>3</th>\n",
       "      <td>70.230299</td>\n",
       "      <td>54.893410</td>\n",
       "      <td>0</td>\n",
       "      <td>-0.698542</td>\n",
       "    </tr>\n",
       "    <tr>\n",
       "      <th>4</th>\n",
       "      <td>52.658466</td>\n",
       "      <td>58.247996</td>\n",
       "      <td>0</td>\n",
       "      <td>-3.776680</td>\n",
       "    </tr>\n",
       "  </tbody>\n",
       "</table>\n",
       "</div>"
      ],
      "text/plain": [
       "        math    english  pass     score\n",
       "0  59.967142  52.592672     0 -4.350268\n",
       "1  53.617357  46.919342     0 -8.459031\n",
       "2  61.476885  44.584624     0 -7.445302\n",
       "3  70.230299  54.893410     0 -0.698542\n",
       "4  52.658466  58.247996     0 -3.776680"
      ]
     },
     "execution_count": 23,
     "metadata": {},
     "output_type": "execute_result"
    }
   ],
   "source": [
    "from sklearn.discriminant_analysis import LinearDiscriminantAnalysis\n",
    "\n",
    "# 독립변수(X)와 종속변수(y)\n",
    "X = df[['math', 'english']]\n",
    "y = df['pass']\n",
    "\n",
    "# LDA 모델 생성 및 학습\n",
    "lda = LinearDiscriminantAnalysis()\n",
    "lda.fit(X, y)\n",
    "\n",
    "# 판별 점수 계산\n",
    "df['score'] = lda.decision_function(X)\n",
    "df.head()\n"
   ]
  },
  {
   "cell_type": "code",
   "execution_count": 24,
   "id": "274851d6-54c8-4cc9-b9f6-64cf578410ca",
   "metadata": {},
   "outputs": [
    {
     "data": {
      "text/html": [
       "<div>\n",
       "<style scoped>\n",
       "    .dataframe tbody tr th:only-of-type {\n",
       "        vertical-align: middle;\n",
       "    }\n",
       "\n",
       "    .dataframe tbody tr th {\n",
       "        vertical-align: top;\n",
       "    }\n",
       "\n",
       "    .dataframe thead th {\n",
       "        text-align: right;\n",
       "    }\n",
       "</style>\n",
       "<table border=\"1\" class=\"dataframe\">\n",
       "  <thead>\n",
       "    <tr style=\"text-align: right;\">\n",
       "      <th></th>\n",
       "      <th>math</th>\n",
       "      <th>english</th>\n",
       "      <th>pass</th>\n",
       "      <th>score</th>\n",
       "    </tr>\n",
       "  </thead>\n",
       "  <tbody>\n",
       "    <tr>\n",
       "      <th>0</th>\n",
       "      <td>59.967142</td>\n",
       "      <td>52.592672</td>\n",
       "      <td>0</td>\n",
       "      <td>-4.350268</td>\n",
       "    </tr>\n",
       "    <tr>\n",
       "      <th>1</th>\n",
       "      <td>53.617357</td>\n",
       "      <td>46.919342</td>\n",
       "      <td>0</td>\n",
       "      <td>-8.459031</td>\n",
       "    </tr>\n",
       "    <tr>\n",
       "      <th>2</th>\n",
       "      <td>61.476885</td>\n",
       "      <td>44.584624</td>\n",
       "      <td>0</td>\n",
       "      <td>-7.445302</td>\n",
       "    </tr>\n",
       "    <tr>\n",
       "      <th>3</th>\n",
       "      <td>70.230299</td>\n",
       "      <td>54.893410</td>\n",
       "      <td>0</td>\n",
       "      <td>-0.698542</td>\n",
       "    </tr>\n",
       "    <tr>\n",
       "      <th>4</th>\n",
       "      <td>52.658466</td>\n",
       "      <td>58.247996</td>\n",
       "      <td>0</td>\n",
       "      <td>-3.776680</td>\n",
       "    </tr>\n",
       "    <tr>\n",
       "      <th>5</th>\n",
       "      <td>52.658630</td>\n",
       "      <td>57.450241</td>\n",
       "      <td>0</td>\n",
       "      <td>-4.123804</td>\n",
       "    </tr>\n",
       "    <tr>\n",
       "      <th>6</th>\n",
       "      <td>70.792128</td>\n",
       "      <td>43.286260</td>\n",
       "      <td>0</td>\n",
       "      <td>-5.604631</td>\n",
       "    </tr>\n",
       "    <tr>\n",
       "      <th>7</th>\n",
       "      <td>62.674347</td>\n",
       "      <td>47.526301</td>\n",
       "      <td>0</td>\n",
       "      <td>-5.855899</td>\n",
       "    </tr>\n",
       "    <tr>\n",
       "      <th>8</th>\n",
       "      <td>50.305256</td>\n",
       "      <td>52.650107</td>\n",
       "      <td>0</td>\n",
       "      <td>-6.820485</td>\n",
       "    </tr>\n",
       "    <tr>\n",
       "      <th>9</th>\n",
       "      <td>60.425600</td>\n",
       "      <td>57.804361</td>\n",
       "      <td>0</td>\n",
       "      <td>-1.963854</td>\n",
       "    </tr>\n",
       "    <tr>\n",
       "      <th>10</th>\n",
       "      <td>50.365823</td>\n",
       "      <td>46.166606</td>\n",
       "      <td>0</td>\n",
       "      <td>-9.626325</td>\n",
       "    </tr>\n",
       "    <tr>\n",
       "      <th>11</th>\n",
       "      <td>50.342702</td>\n",
       "      <td>48.514728</td>\n",
       "      <td>0</td>\n",
       "      <td>-8.610443</td>\n",
       "    </tr>\n",
       "    <tr>\n",
       "      <th>12</th>\n",
       "      <td>57.419623</td>\n",
       "      <td>41.149320</td>\n",
       "      <td>0</td>\n",
       "      <td>-9.988074</td>\n",
       "    </tr>\n",
       "    <tr>\n",
       "      <th>13</th>\n",
       "      <td>35.867198</td>\n",
       "      <td>40.430347</td>\n",
       "      <td>0</td>\n",
       "      <td>-15.866938</td>\n",
       "    </tr>\n",
       "    <tr>\n",
       "      <th>14</th>\n",
       "      <td>37.750822</td>\n",
       "      <td>56.500207</td>\n",
       "      <td>0</td>\n",
       "      <td>-8.387228</td>\n",
       "    </tr>\n",
       "    <tr>\n",
       "      <th>15</th>\n",
       "      <td>49.377125</td>\n",
       "      <td>60.849920</td>\n",
       "      <td>0</td>\n",
       "      <td>-3.491796</td>\n",
       "    </tr>\n",
       "    <tr>\n",
       "      <th>16</th>\n",
       "      <td>44.871689</td>\n",
       "      <td>49.423919</td>\n",
       "      <td>0</td>\n",
       "      <td>-9.627690</td>\n",
       "    </tr>\n",
       "    <tr>\n",
       "      <th>17</th>\n",
       "      <td>58.142473</td>\n",
       "      <td>58.028263</td>\n",
       "      <td>0</td>\n",
       "      <td>-2.456041</td>\n",
       "    </tr>\n",
       "    <tr>\n",
       "      <th>18</th>\n",
       "      <td>45.919759</td>\n",
       "      <td>52.893088</td>\n",
       "      <td>0</td>\n",
       "      <td>-7.847314</td>\n",
       "    </tr>\n",
       "    <tr>\n",
       "      <th>19</th>\n",
       "      <td>40.876963</td>\n",
       "      <td>44.839042</td>\n",
       "      <td>0</td>\n",
       "      <td>-12.654581</td>\n",
       "    </tr>\n",
       "  </tbody>\n",
       "</table>\n",
       "</div>"
      ],
      "text/plain": [
       "         math    english  pass      score\n",
       "0   59.967142  52.592672     0  -4.350268\n",
       "1   53.617357  46.919342     0  -8.459031\n",
       "2   61.476885  44.584624     0  -7.445302\n",
       "3   70.230299  54.893410     0  -0.698542\n",
       "4   52.658466  58.247996     0  -3.776680\n",
       "5   52.658630  57.450241     0  -4.123804\n",
       "6   70.792128  43.286260     0  -5.604631\n",
       "7   62.674347  47.526301     0  -5.855899\n",
       "8   50.305256  52.650107     0  -6.820485\n",
       "9   60.425600  57.804361     0  -1.963854\n",
       "10  50.365823  46.166606     0  -9.626325\n",
       "11  50.342702  48.514728     0  -8.610443\n",
       "12  57.419623  41.149320     0  -9.988074\n",
       "13  35.867198  40.430347     0 -15.866938\n",
       "14  37.750822  56.500207     0  -8.387228\n",
       "15  49.377125  60.849920     0  -3.491796\n",
       "16  44.871689  49.423919     0  -9.627690\n",
       "17  58.142473  58.028263     0  -2.456041\n",
       "18  45.919759  52.893088     0  -7.847314\n",
       "19  40.876963  44.839042     0 -12.654581"
      ]
     },
     "execution_count": 24,
     "metadata": {},
     "output_type": "execute_result"
    }
   ],
   "source": [
    "df.head(20)"
   ]
  },
  {
   "cell_type": "markdown",
   "id": "7116bfea-1bc3-4977-b0a9-bc059396d3cc",
   "metadata": {},
   "source": [
    "#### 4. 집단별 평균, 공분산 및 cut-off 계산"
   ]
  },
  {
   "cell_type": "code",
   "execution_count": 25,
   "id": "bac32ef1-a7a5-40b4-aae8-bf625582250e",
   "metadata": {},
   "outputs": [
    {
     "name": "stdout",
     "output_type": "stream",
     "text": [
      "집단별 평균 점수: -7.2817135828101165 7.281713582810105\n",
      "공분산: 67.97526396402941\n",
      "사전확률 동일 cut-off: -5.773159728050814e-15\n",
      "사전확률 다를 시 cut-off: -3.9547899722355457\n"
     ]
    }
   ],
   "source": [
    "# 집단별 평균 점수\n",
    "mean_fail = df.loc[df['pass']==0, 'score'].mean()\n",
    "mean_pass = df.loc[df['pass']==1, 'score'].mean()\n",
    "\n",
    "# 판별 점수 공분산(동일 공분산 가정)\n",
    "sigma2 = df['score'].var()\n",
    "\n",
    "# 사전확률 동일한 경우\n",
    "cut_equal = (mean_fail + mean_pass) / 2\n",
    "\n",
    "# 사전확률 다를 경우 (합격률 30%, 불합격률 70% 가정)\n",
    "P_pass, P_fail = 0.3, 0.7\n",
    "cut_unequal = (mean_fail + mean_pass)/2 - sigma2/(mean_pass - mean_fail)*np.log(P_fail/P_pass)\n",
    "\n",
    "print(\"집단별 평균 점수:\", mean_fail, mean_pass)\n",
    "print(\"공분산:\", sigma2)\n",
    "print(\"사전확률 동일 cut-off:\", cut_equal)\n",
    "print(\"사전확률 다를 시 cut-off:\", cut_unequal)\n"
   ]
  },
  {
   "cell_type": "markdown",
   "id": "1b240083-2f9b-4219-9676-4174c2dbb1f5",
   "metadata": {},
   "source": [
    "#### 5. 시각화"
   ]
  },
  {
   "cell_type": "code",
   "execution_count": 26,
   "id": "e14fcc55-0dce-4739-8934-0118095b438e",
   "metadata": {},
   "outputs": [
    {
     "data": {
      "image/png": "[encoded data removed]",
      "text/plain": [
       "<Figure size 1000x600 with 1 Axes>"
      ]
     },
     "metadata": {},
     "output_type": "display_data"
    }
   ],
   "source": [
    "import matplotlib.pyplot as plt\n",
    "import seaborn as sns\n",
    "\n",
    "plt.figure(figsize=(10, 6))\n",
    "\n",
    "# 한글 깨짐\n",
    "plt.rcParams['font.family'] = 'Malgun Gothic'   # 한글 폰트 설정\n",
    "plt.rcParams['axes.unicode_minus'] = False     # 음수 부호 깨짐 방지\n",
    "\n",
    "# 합격/불합격 히스토그램\n",
    "sns.histplot(df[df['pass']==0]['score'], color='red', label='불합격', kde=True, stat=\"density\")\n",
    "sns.histplot(df[df['pass']==1]['score'], color='blue', label='합격', kde=True, stat=\"density\")\n",
    "\n",
    "# cut-off 표시\n",
    "plt.axvline(cut_equal, color='green', linestyle='--', label=f'cut-off (동일 사전확률={cut_equal:.2f})')\n",
    "plt.axvline(cut_unequal, color='purple', linestyle=':', label=f'cut-off (사전확률 다름={cut_unequal:.2f})')\n",
    "\n",
    "plt.title(\"LDA 기반 합격/불합격 판별 및 cut-off\")\n",
    "plt.xlabel(\"판별 점수\")\n",
    "plt.ylabel(\"밀도\")\n",
    "plt.legend()\n",
    "plt.show()\n"
   ]
  },
  {
   "cell_type": "markdown",
   "id": "146a3c6c-679f-4f6c-a951-d710010aa445",
   "metadata": {},
   "source": [
    "### 6. 모델 성능 평가"
   ]
  },
  {
   "cell_type": "code",
   "execution_count": 13,
   "id": "b0ccbbed-7e5e-422b-85d2-99143fad0903",
   "metadata": {},
   "outputs": [
    {
     "name": "stdout",
     "output_type": "stream",
     "text": [
      "혼동행렬:\n",
      " [[50  0]\n",
      " [ 1 49]]\n",
      "\n",
      "분류 성능 보고서:\n",
      "               precision    recall  f1-score   support\n",
      "\n",
      "           0       0.98      1.00      0.99        50\n",
      "           1       1.00      0.98      0.99        50\n",
      "\n",
      "    accuracy                           0.99       100\n",
      "   macro avg       0.99      0.99      0.99       100\n",
      "weighted avg       0.99      0.99      0.99       100\n",
      "\n"
     ]
    }
   ],
   "source": [
    "from sklearn.metrics import confusion_matrix, classification_report\n",
    "\n",
    "# 예측값 생성\n",
    "y_pred = lda.predict(X)\n",
    "\n",
    "# 혼동행렬과 성능 지표\n",
    "print(\"혼동행렬:\\n\", confusion_matrix(y, y_pred))\n",
    "print(\"\\n분류 성능 보고서:\\n\", classification_report(y, y_pred))\n"
   ]
  },
  {
   "cell_type": "code",
   "execution_count": null,
   "id": "ecf67685-5007-487e-82d8-f3e8ccc9a060",
   "metadata": {},
   "outputs": [],
   "source": []
  }
 ],
 "metadata": {
  "kernelspec": {
   "display_name": "Python 3 (ipykernel)",
   "language": "python",
   "name": "python3"
  },
  "language_info": {
   "codemirror_mode": {
    "name": "ipython",
    "version": 3
   },
   "file_extension": ".py",
   "mimetype": "text/x-python",
   "name": "python",
   "nbconvert_exporter": "python",
   "pygments_lexer": "ipython3",
   "version": "3.9.11"
  },
  "toc": {
   "base_numbering": 1,
   "nav_menu": {},
   "number_sections": true,
   "sideBar": true,
   "skip_h1_title": false,
   "title_cell": "Table of Contents",
   "title_sidebar": "Contents",
   "toc_cell": false,
   "toc_position": {},
   "toc_section_display": true,
   "toc_window_display": false
  }
 },
 "nbformat": 4,
 "nbformat_minor": 5
}
