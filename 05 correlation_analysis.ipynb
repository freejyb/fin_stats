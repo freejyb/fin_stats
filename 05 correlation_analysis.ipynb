{
 "cells": [
  {
   "cell_type": "code",
   "execution_count": 1,
   "metadata": {},
   "outputs": [],
   "source": [
    "import pandas as pd\n",
    "import matplotlib.pyplot as plt\n",
    "import numpy as np\n",
    "import seaborn as sns\n",
    "import scipy as sp\n",
    "import yfinance as yf\n",
    "# 한글폰트 출력 가능 코드\n",
    "from matplotlib import rc\n",
    "rc('font', family='AppleGothic') # Mac Os\n",
    "#rc('font', family='NanumGothic') # Windows Os\n",
    "plt.rcParams['axes.unicode_minus'] = False"
   ]
  },
  {
   "cell_type": "markdown",
   "metadata": {},
   "source": [
    "# 1. Simple data 형성"
   ]
  },
  {
   "cell_type": "code",
   "execution_count": 2,
   "metadata": {},
   "outputs": [
    {
     "name": "stdout",
     "output_type": "stream",
     "text": [
      "[29 46 49 49 25 19 25 17 42 34 28 12 20 31 41 12 49 20 39  9 15 30 17 27\n",
      " 12 31 34  3 17 16]\n",
      "[24 38 18 24 22 38 20 13 46 27 13 15 33 14 14 43  1 46 30 24 38 22 12 44\n",
      " 47  3  1 37 47 42]\n"
     ]
    }
   ],
   "source": [
    "# 랜덤한 데이터 형성 (시드 부여)\n",
    "np.random.seed(2022)\n",
    "\n",
    "x = np.random.randint(1,50,30)\n",
    "y = np.random.randint(1,50,30)\n",
    "\n",
    "print(x)\n",
    "print(y)"
   ]
  },
  {
   "cell_type": "markdown",
   "metadata": {},
   "source": [
    "## 1-1. 데이터 시각화"
   ]
  },
  {
   "cell_type": "code",
   "execution_count": 3,
   "metadata": {},
   "outputs": [
    {
     "data": {
      "image/png": "[encoded data removed]",
      "text/plain": [
       "<Figure size 360x360 with 6 Axes>"
      ]
     },
     "metadata": {
      "needs_background": "light"
     },
     "output_type": "display_data"
    }
   ],
   "source": [
    "# 데이터 프레임 형성\n",
    "sample = pd.DataFrame(list(zip(x,y)), columns=['x','y'])\n",
    "\n",
    "# 상관분석에 앞서 먼저 시각화를 이용하여 상관성을 육안으로 확인해본다.\n",
    "\n",
    "sns.pairplot(sample, kind='reg')\n",
    "plt.show()"
   ]
  },
  {
   "cell_type": "markdown",
   "metadata": {},
   "source": [
    "## 1-2. 상관분석"
   ]
  },
  {
   "cell_type": "markdown",
   "metadata": {},
   "source": [
    "### A. 공분산"
   ]
  },
  {
   "cell_type": "code",
   "execution_count": 4,
   "metadata": {},
   "outputs": [
    {
     "name": "stdout",
     "output_type": "stream",
     "text": [
      "-61.68666666666666\n",
      "[[160.90666667 -61.68666667]\n",
      " [-61.68666667 200.91555556]]\n"
     ]
    }
   ],
   "source": [
    "# 하나씩 시행해보기\n",
    "\n",
    "# mu = mean (공통적으로 적용)\n",
    "mu_1 = np.sum(sample['x'])/len(sample['x'])\n",
    "mu_2 = np.sum(sample['y'])/len(sample['y'])\n",
    "\n",
    "# var = variance (잔차의 재곱합의 평균), 표준편차 = var의 제곱근\n",
    "var_1 = np.sum([pow(i - mu_1, 2) for i in sample['x']]) / (len(sample['x']))\n",
    "var_2 = np.sum([pow(i - mu_2, 2) for i in sample['y']]) / (len(sample['y']))\n",
    "std_1 = var_1 ** 0.5\n",
    "std_2 = var_2 ** 0.5\n",
    "\n",
    "# 공분산 (표본상관계수를 구하는 것이 아니고 모집단으로 도출하므로 자유도는 0으로 설정하였음.)\n",
    "covariance = sum( (sample['x'] - mu_1) * (sample['y'] - mu_2) ) / (len(sample['x']))\n",
    "\n",
    "# COV(X,Y) : 모집단인 경우 (numpy와 비교, 자유도 0 설정은 ddof=0)\n",
    "print(covariance)\n",
    "print(np.cov(sample['x'],sample['y'], ddof=0)) # 공분산 행렬의 (1,2), (2,1)이 COV(X,Y)"
   ]
  },
  {
   "cell_type": "markdown",
   "metadata": {},
   "source": [
    "### B. 피어슨 상관계수"
   ]
  },
  {
   "cell_type": "code",
   "execution_count": 5,
   "metadata": {},
   "outputs": [
    {
     "name": "stdout",
     "output_type": "stream",
     "text": [
      "-0.34308166001608753\n"
     ]
    }
   ],
   "source": [
    "# 위의 공분산에서 이어짐\n",
    "correlation = covariance / (std_1 * std_2)\n",
    "\n",
    "# 피어슨 상관계수\n",
    "print(correlation)"
   ]
  },
  {
   "cell_type": "code",
   "execution_count": 6,
   "metadata": {},
   "outputs": [
    {
     "data": {
      "text/plain": [
       "(-0.3430816600160875, 0.0634428569239739)"
      ]
     },
     "execution_count": 6,
     "metadata": {},
     "output_type": "execute_result"
    }
   ],
   "source": [
    "# 피어슨 상관계수를 구하는 다른 방법으로는 scipy라이브러리를 활용하는 법\n",
    "\n",
    "from scipy.stats import pearsonr\n",
    "# 귀무가설은 '두 데이터의 상관 계수가 0이다.(독립)'로 설정되어 있음.\n",
    "pearsonr(sample['x'], sample['y'])"
   ]
  },
  {
   "cell_type": "code",
   "execution_count": 7,
   "metadata": {},
   "outputs": [
    {
     "name": "stdout",
     "output_type": "stream",
     "text": [
      "1. 모집단으로 가정한 경우\n",
      "모집단 data 각각의 분산 값은 COV(X,X) = 160.907, COV(Y,Y) = 200.916(으)로 계산됩니다.\n",
      "모집단 data에 대한 공분산 값 : -61.687\n",
      "모집단 data에 대한 피어슨 상관계수 값 : -0.343\n",
      "Scipy로 구한 피어슨 상관계수는 -0.343입니다.\n",
      "Scipy는 각 데이터의 상관계수가 유의한지 판단합니다. 위 검정의 p-value는 6.343999999999999%로 두 데이터의 연관성이 없다는 귀무가설을 5%의 유의수준으로 기각할 수 없습니다.\n",
      "\n",
      "2. 표본집단으로 가정한 경우\n",
      "표본 data 각각의 추정된 분산 값은 COV(x,x) = 166.455, COV(y,y) = 207.844(으)로 계산됩니다.\n",
      "표본 data로 추정한 모집단의 공분산 값 : -63.814\n",
      "표본 data로 추정한 모집단의 피어슨 상관계수 값 : -0.343\n",
      "Scipy로 구한 피어슨 상관계수는 -0.343입니다.\n",
      "Scipy는 각 데이터의 상관계수가 유의한지 판단합니다. 위 검정의 p-value는 6.343999999999999%로 두 데이터의 연관성이 없다는 귀무가설을 5%의 유의수준으로 기각할 수 없습니다.\n"
     ]
    }
   ],
   "source": [
    "# 함수화 시행\n",
    "def cov_pearson(data1, data2, population = True):\n",
    "    # 라이브러리 호출\n",
    "    import numpy as np\n",
    "    from scipy.stats import pearsonr\n",
    "\n",
    "    # 변수를 설정하는 부분입니다.\n",
    "    mu_1 = np.sum(data1)/len(data1)\n",
    "    mu_2 = np.sum(data2)/len(data2)\n",
    "    var_1 = np.sum([pow(i - mu_1, 2) for i in data1]) / (len(data1))\n",
    "    var_2 = np.sum([pow(i - mu_2, 2) for i in data2]) / (len(data2))\n",
    "    std_1 = var_1 ** 0.5\n",
    "    std_2 = var_2 ** 0.5\n",
    "    \n",
    "    # 데이터가 모수인지 표본인지에 따라 자유도를 산입할지 여부를 결정합니다.\n",
    "    if population == True:\n",
    "        covariance = sum( (data1 - mu_1) * (data2 - mu_2) ) / (len(data1))\n",
    "        correlation = covariance / (std_1 * std_2)\n",
    "        print(f'모집단 data 각각의 분산 값은 COV(X,X) = {round(var_1,3)}, COV(Y,Y) = {round(var_2,3)}(으)로 계산됩니다.')\n",
    "        print(f'모집단 data에 대한 공분산 값 : {round(covariance,3)}')\n",
    "        print(f'모집단 data에 대한 피어슨 상관계수 값 : {round(correlation,3)}')\n",
    "    else:\n",
    "        var_1 = np.sum([pow(i - mu_1, 2) for i in data1]) / (len(data1) - 1)\n",
    "        var_2 = np.sum([pow(i - mu_2, 2) for i in data2]) / (len(data2) - 1)\n",
    "        std_1 = var_1 ** 0.5\n",
    "        std_2 = var_2 ** 0.5\n",
    "        covariance_ddof = sum( (data1 - mu_1) * (data2 - mu_2) ) / (len(data1) -1)\n",
    "        correlation_ddof = covariance_ddof / (std_1 * std_2)\n",
    "        print(f'표본 data 각각의 추정된 분산 값은 COV(x,x) = {round(var_1,3)}, COV(y,y) = {round(var_2,3)}(으)로 계산됩니다.')\n",
    "        print(f'표본 data로 추정한 모집단의 공분산 값 : {round(covariance_ddof,3)}')\n",
    "        print(f'표본 data로 추정한 모집단의 피어슨 상관계수 값 : {round(correlation_ddof,3)}')\n",
    "\n",
    "    # Scipy 라이브러리에서 구한 피어슨 계수를 통해 위에서 확인한 상관계수 값을 검증해봅니다.\n",
    "    print(f'Scipy로 구한 피어슨 상관계수는 {round(pearsonr(data1, data2)[0], 3)}입니다.')\n",
    "    \n",
    "    # Scipy에서 제공하는 피어슨 검정의 P값을 이용하여 데이터 간의 독립성에 대한 검정 결과 해석을 출력합니다.\n",
    "    if pearsonr(data1, data2)[1] < 0.05:\n",
    "        print(f'Scipy는 각 데이터의 상관계수가 유의한지 판단합니다. 위 검정의 p-value는 {round(pearsonr(data1, data2)[1],5) * 100}%로 두 데이터의 연관성이 없다는 귀무가설을 5%의 유의수준으로 기각할 수 있습니다.')\n",
    "    else:\n",
    "        print(f'Scipy는 각 데이터의 상관계수가 유의한지 판단합니다. 위 검정의 p-value는 {round(pearsonr(data1, data2)[1],5) * 100}%로 두 데이터의 연관성이 없다는 귀무가설을 5%의 유의수준으로 기각할 수 없습니다.')\n",
    "\n",
    "print('1. 모집단으로 가정한 경우')\n",
    "cov_pearson(sample['x'], sample['y'], True)\n",
    "\n",
    "print('\\n2. 표본집단으로 가정한 경우')\n",
    "cov_pearson(sample['x'], sample['y'], False)"
   ]
  },
  {
   "cell_type": "markdown",
   "metadata": {},
   "source": [
    "### C. 스피어만 상관계수"
   ]
  },
  {
   "cell_type": "code",
   "execution_count": 8,
   "metadata": {},
   "outputs": [
    {
     "name": "stdout",
     "output_type": "stream",
     "text": [
      "x1 : [14 17 18 18 17 19 17 10  2 12]\n",
      "y1 : [ 9 12 17  7  9 15 17 12  2  3]\n",
      "\n",
      "smaple1 dataframe은 다음과 같습니다.\n"
     ]
    },
    {
     "data": {
      "text/html": [
       "<div>\n",
       "<style scoped>\n",
       "    .dataframe tbody tr th:only-of-type {\n",
       "        vertical-align: middle;\n",
       "    }\n",
       "\n",
       "    .dataframe tbody tr th {\n",
       "        vertical-align: top;\n",
       "    }\n",
       "\n",
       "    .dataframe thead th {\n",
       "        text-align: right;\n",
       "    }\n",
       "</style>\n",
       "<table border=\"1\" class=\"dataframe\">\n",
       "  <thead>\n",
       "    <tr style=\"text-align: right;\">\n",
       "      <th></th>\n",
       "      <th>x</th>\n",
       "      <th>y</th>\n",
       "    </tr>\n",
       "  </thead>\n",
       "  <tbody>\n",
       "    <tr>\n",
       "      <th>0</th>\n",
       "      <td>14</td>\n",
       "      <td>9</td>\n",
       "    </tr>\n",
       "    <tr>\n",
       "      <th>1</th>\n",
       "      <td>17</td>\n",
       "      <td>12</td>\n",
       "    </tr>\n",
       "    <tr>\n",
       "      <th>2</th>\n",
       "      <td>18</td>\n",
       "      <td>17</td>\n",
       "    </tr>\n",
       "    <tr>\n",
       "      <th>3</th>\n",
       "      <td>18</td>\n",
       "      <td>7</td>\n",
       "    </tr>\n",
       "    <tr>\n",
       "      <th>4</th>\n",
       "      <td>17</td>\n",
       "      <td>9</td>\n",
       "    </tr>\n",
       "    <tr>\n",
       "      <th>5</th>\n",
       "      <td>19</td>\n",
       "      <td>15</td>\n",
       "    </tr>\n",
       "    <tr>\n",
       "      <th>6</th>\n",
       "      <td>17</td>\n",
       "      <td>17</td>\n",
       "    </tr>\n",
       "    <tr>\n",
       "      <th>7</th>\n",
       "      <td>10</td>\n",
       "      <td>12</td>\n",
       "    </tr>\n",
       "    <tr>\n",
       "      <th>8</th>\n",
       "      <td>2</td>\n",
       "      <td>2</td>\n",
       "    </tr>\n",
       "    <tr>\n",
       "      <th>9</th>\n",
       "      <td>12</td>\n",
       "      <td>3</td>\n",
       "    </tr>\n",
       "  </tbody>\n",
       "</table>\n",
       "</div>"
      ],
      "text/plain": [
       "    x   y\n",
       "0  14   9\n",
       "1  17  12\n",
       "2  18  17\n",
       "3  18   7\n",
       "4  17   9\n",
       "5  19  15\n",
       "6  17  17\n",
       "7  10  12\n",
       "8   2   2\n",
       "9  12   3"
      ]
     },
     "execution_count": 8,
     "metadata": {},
     "output_type": "execute_result"
    }
   ],
   "source": [
    "# 랜덤한 데이터 형성 (시드 부여)\n",
    "np.random.seed(2022)\n",
    "\n",
    "x1 = np.random.randint(1,20,10)\n",
    "y1 = np.random.randint(1,20,10)\n",
    "\n",
    "print('x1 :',x1)\n",
    "print('y1 :',y1)\n",
    "\n",
    "sample1 = pd.DataFrame(list(zip(x1,y1)), columns=['x','y'])\n",
    "print('\\nsmaple1 dataframe은 다음과 같습니다.')\n",
    "sample1"
   ]
  },
  {
   "cell_type": "code",
   "execution_count": 9,
   "metadata": {},
   "outputs": [
    {
     "data": {
      "text/html": [
       "<div>\n",
       "<style scoped>\n",
       "    .dataframe tbody tr th:only-of-type {\n",
       "        vertical-align: middle;\n",
       "    }\n",
       "\n",
       "    .dataframe tbody tr th {\n",
       "        vertical-align: top;\n",
       "    }\n",
       "\n",
       "    .dataframe thead th {\n",
       "        text-align: right;\n",
       "    }\n",
       "</style>\n",
       "<table border=\"1\" class=\"dataframe\">\n",
       "  <thead>\n",
       "    <tr style=\"text-align: right;\">\n",
       "      <th></th>\n",
       "      <th>x</th>\n",
       "      <th>y</th>\n",
       "      <th>rank_x</th>\n",
       "      <th>rank_y</th>\n",
       "      <th>diff</th>\n",
       "      <th>d^2</th>\n",
       "    </tr>\n",
       "  </thead>\n",
       "  <tbody>\n",
       "    <tr>\n",
       "      <th>0</th>\n",
       "      <td>14</td>\n",
       "      <td>9</td>\n",
       "      <td>4.0</td>\n",
       "      <td>4.5</td>\n",
       "      <td>-0.5</td>\n",
       "      <td>0.25</td>\n",
       "    </tr>\n",
       "    <tr>\n",
       "      <th>1</th>\n",
       "      <td>17</td>\n",
       "      <td>12</td>\n",
       "      <td>6.0</td>\n",
       "      <td>6.5</td>\n",
       "      <td>-0.5</td>\n",
       "      <td>0.25</td>\n",
       "    </tr>\n",
       "    <tr>\n",
       "      <th>2</th>\n",
       "      <td>18</td>\n",
       "      <td>17</td>\n",
       "      <td>8.5</td>\n",
       "      <td>9.5</td>\n",
       "      <td>-1.0</td>\n",
       "      <td>1.00</td>\n",
       "    </tr>\n",
       "    <tr>\n",
       "      <th>3</th>\n",
       "      <td>18</td>\n",
       "      <td>7</td>\n",
       "      <td>8.5</td>\n",
       "      <td>3.0</td>\n",
       "      <td>5.5</td>\n",
       "      <td>30.25</td>\n",
       "    </tr>\n",
       "    <tr>\n",
       "      <th>4</th>\n",
       "      <td>17</td>\n",
       "      <td>9</td>\n",
       "      <td>6.0</td>\n",
       "      <td>4.5</td>\n",
       "      <td>1.5</td>\n",
       "      <td>2.25</td>\n",
       "    </tr>\n",
       "    <tr>\n",
       "      <th>5</th>\n",
       "      <td>19</td>\n",
       "      <td>15</td>\n",
       "      <td>10.0</td>\n",
       "      <td>8.0</td>\n",
       "      <td>2.0</td>\n",
       "      <td>4.00</td>\n",
       "    </tr>\n",
       "    <tr>\n",
       "      <th>6</th>\n",
       "      <td>17</td>\n",
       "      <td>17</td>\n",
       "      <td>6.0</td>\n",
       "      <td>9.5</td>\n",
       "      <td>-3.5</td>\n",
       "      <td>12.25</td>\n",
       "    </tr>\n",
       "    <tr>\n",
       "      <th>7</th>\n",
       "      <td>10</td>\n",
       "      <td>12</td>\n",
       "      <td>2.0</td>\n",
       "      <td>6.5</td>\n",
       "      <td>-4.5</td>\n",
       "      <td>20.25</td>\n",
       "    </tr>\n",
       "    <tr>\n",
       "      <th>8</th>\n",
       "      <td>2</td>\n",
       "      <td>2</td>\n",
       "      <td>1.0</td>\n",
       "      <td>1.0</td>\n",
       "      <td>0.0</td>\n",
       "      <td>0.00</td>\n",
       "    </tr>\n",
       "    <tr>\n",
       "      <th>9</th>\n",
       "      <td>12</td>\n",
       "      <td>3</td>\n",
       "      <td>3.0</td>\n",
       "      <td>2.0</td>\n",
       "      <td>1.0</td>\n",
       "      <td>1.00</td>\n",
       "    </tr>\n",
       "  </tbody>\n",
       "</table>\n",
       "</div>"
      ],
      "text/plain": [
       "    x   y  rank_x  rank_y  diff    d^2\n",
       "0  14   9     4.0     4.5  -0.5   0.25\n",
       "1  17  12     6.0     6.5  -0.5   0.25\n",
       "2  18  17     8.5     9.5  -1.0   1.00\n",
       "3  18   7     8.5     3.0   5.5  30.25\n",
       "4  17   9     6.0     4.5   1.5   2.25\n",
       "5  19  15    10.0     8.0   2.0   4.00\n",
       "6  17  17     6.0     9.5  -3.5  12.25\n",
       "7  10  12     2.0     6.5  -4.5  20.25\n",
       "8   2   2     1.0     1.0   0.0   0.00\n",
       "9  12   3     3.0     2.0   1.0   1.00"
      ]
     },
     "execution_count": 9,
     "metadata": {},
     "output_type": "execute_result"
    }
   ],
   "source": [
    "sample1['rank_x'] = pd.DataFrame(sample1['x'].rank())\n",
    "sample1['rank_y'] = pd.DataFrame(sample1['y'].rank())\n",
    "sample1['diff'] = sample1['rank_x'] - sample1['rank_y']\n",
    "sample1['d^2'] = sample1['diff'] ** 2\n",
    "\n",
    "sample1"
   ]
  },
  {
   "cell_type": "code",
   "execution_count": 10,
   "metadata": {},
   "outputs": [
    {
     "data": {
      "text/plain": [
       "0.5666666666666667"
      ]
     },
     "execution_count": 10,
     "metadata": {},
     "output_type": "execute_result"
    }
   ],
   "source": [
    "n = len(sample1['d^2'])\n",
    "sq_distance = 6 * sample1['d^2'].sum()\n",
    "spearman = 1 - sq_distance / (n * ( n ** 2 - 1))\n",
    "spearman"
   ]
  },
  {
   "cell_type": "code",
   "execution_count": 11,
   "metadata": {},
   "outputs": [
    {
     "data": {
      "text/plain": [
       "SpearmanrResult(correlation=0.5559113444061977, pvalue=0.09519504230496476)"
      ]
     },
     "execution_count": 11,
     "metadata": {},
     "output_type": "execute_result"
    }
   ],
   "source": [
    "# 스피어만 (변수가 모두 연속형이며, 정규성을 따르지 않는 경우에 사용한다)\n",
    "from scipy.stats import spearmanr\n",
    "\n",
    "spearmanr(sample1['x'], sample1['y'])"
   ]
  },
  {
   "cell_type": "code",
   "execution_count": 12,
   "metadata": {},
   "outputs": [
    {
     "name": "stderr",
     "output_type": "stream",
     "text": [
      "/var/folders/1v/ctxpzb994v98h43xyk972tmc0000gn/T/ipykernel_3452/23926823.py:1: FutureWarning: Passing a set as an indexer is deprecated and will raise in a future version. Use a list instead.\n",
      "  sample1[{'x','y'}].corr(method='spearman')\n"
     ]
    },
    {
     "data": {
      "text/html": [
       "<div>\n",
       "<style scoped>\n",
       "    .dataframe tbody tr th:only-of-type {\n",
       "        vertical-align: middle;\n",
       "    }\n",
       "\n",
       "    .dataframe tbody tr th {\n",
       "        vertical-align: top;\n",
       "    }\n",
       "\n",
       "    .dataframe thead th {\n",
       "        text-align: right;\n",
       "    }\n",
       "</style>\n",
       "<table border=\"1\" class=\"dataframe\">\n",
       "  <thead>\n",
       "    <tr style=\"text-align: right;\">\n",
       "      <th></th>\n",
       "      <th>x</th>\n",
       "      <th>y</th>\n",
       "    </tr>\n",
       "  </thead>\n",
       "  <tbody>\n",
       "    <tr>\n",
       "      <th>x</th>\n",
       "      <td>1.000000</td>\n",
       "      <td>0.555911</td>\n",
       "    </tr>\n",
       "    <tr>\n",
       "      <th>y</th>\n",
       "      <td>0.555911</td>\n",
       "      <td>1.000000</td>\n",
       "    </tr>\n",
       "  </tbody>\n",
       "</table>\n",
       "</div>"
      ],
      "text/plain": [
       "          x         y\n",
       "x  1.000000  0.555911\n",
       "y  0.555911  1.000000"
      ]
     },
     "execution_count": 12,
     "metadata": {},
     "output_type": "execute_result"
    }
   ],
   "source": [
    "sample1[{'x','y'}].corr(method='spearman')"
   ]
  },
  {
   "cell_type": "code",
   "execution_count": 13,
   "metadata": {},
   "outputs": [],
   "source": [
    "# sub1 = pd.DataFrame(sample1['x'].sort_values().values).rank(method='min', ascending=True)\n",
    "# sub2 = pd.DataFrame(sample1['y'].sort_values().values).rank(method='min', ascending=True)\n",
    "\n",
    "# ranked = pd.concat((sub1,sub2), axis=1)\n",
    "# ranked.columns = ['ranked_x1','ranked_y1']\n",
    "# ranked"
   ]
  },
  {
   "cell_type": "markdown",
   "metadata": {},
   "source": [
    "### D. 켄달 상관계수"
   ]
  },
  {
   "cell_type": "code",
   "execution_count": 14,
   "metadata": {},
   "outputs": [
    {
     "name": "stdout",
     "output_type": "stream",
     "text": [
      "KendalltauResult(correlation=-0.6, pvalue=0.23333333333333334)\n"
     ]
    },
    {
     "data": {
      "text/html": [
       "<div>\n",
       "<style scoped>\n",
       "    .dataframe tbody tr th:only-of-type {\n",
       "        vertical-align: middle;\n",
       "    }\n",
       "\n",
       "    .dataframe tbody tr th {\n",
       "        vertical-align: top;\n",
       "    }\n",
       "\n",
       "    .dataframe thead th {\n",
       "        text-align: right;\n",
       "    }\n",
       "</style>\n",
       "<table border=\"1\" class=\"dataframe\">\n",
       "  <thead>\n",
       "    <tr style=\"text-align: right;\">\n",
       "      <th></th>\n",
       "      <th>x</th>\n",
       "      <th>y</th>\n",
       "      <th>x_rank</th>\n",
       "      <th>y_rank</th>\n",
       "    </tr>\n",
       "  </thead>\n",
       "  <tbody>\n",
       "    <tr>\n",
       "      <th>0</th>\n",
       "      <td>12</td>\n",
       "      <td>1</td>\n",
       "      <td>5.0</td>\n",
       "      <td>2.0</td>\n",
       "    </tr>\n",
       "    <tr>\n",
       "      <th>1</th>\n",
       "      <td>2</td>\n",
       "      <td>4</td>\n",
       "      <td>2.0</td>\n",
       "      <td>4.0</td>\n",
       "    </tr>\n",
       "    <tr>\n",
       "      <th>2</th>\n",
       "      <td>1</td>\n",
       "      <td>7</td>\n",
       "      <td>1.0</td>\n",
       "      <td>5.0</td>\n",
       "    </tr>\n",
       "    <tr>\n",
       "      <th>3</th>\n",
       "      <td>11</td>\n",
       "      <td>2</td>\n",
       "      <td>4.0</td>\n",
       "      <td>3.0</td>\n",
       "    </tr>\n",
       "    <tr>\n",
       "      <th>4</th>\n",
       "      <td>3</td>\n",
       "      <td>0</td>\n",
       "      <td>3.0</td>\n",
       "      <td>1.0</td>\n",
       "    </tr>\n",
       "  </tbody>\n",
       "</table>\n",
       "</div>"
      ],
      "text/plain": [
       "    x  y  x_rank  y_rank\n",
       "0  12  1     5.0     2.0\n",
       "1   2  4     2.0     4.0\n",
       "2   1  7     1.0     5.0\n",
       "3  11  2     4.0     3.0\n",
       "4   3  0     3.0     1.0"
      ]
     },
     "execution_count": 14,
     "metadata": {},
     "output_type": "execute_result"
    }
   ],
   "source": [
    "from scipy.stats import kendalltau\n",
    "\n",
    "X = [12, 2, 1, 11, 3]\n",
    "Y = [1, 4, 7, 2, 0]\n",
    "\n",
    "print(kendalltau(X,Y))\n",
    "\n",
    "# 데이터 프레임 형성 (x, y + x, y의 rank)\n",
    "kendal_df = pd.DataFrame(list(zip(X,Y)), columns=['x','y'])\n",
    "kendal_df\n",
    "kendal_df['x_rank'] = kendal_df['x'].rank()\n",
    "kendal_df['y_rank'] = kendal_df['y'].rank()\n",
    "kendal_df"
   ]
  },
  {
   "cell_type": "code",
   "execution_count": 15,
   "metadata": {},
   "outputs": [
    {
     "data": {
      "text/html": [
       "<div>\n",
       "<style scoped>\n",
       "    .dataframe tbody tr th:only-of-type {\n",
       "        vertical-align: middle;\n",
       "    }\n",
       "\n",
       "    .dataframe tbody tr th {\n",
       "        vertical-align: top;\n",
       "    }\n",
       "\n",
       "    .dataframe thead th {\n",
       "        text-align: right;\n",
       "    }\n",
       "</style>\n",
       "<table border=\"1\" class=\"dataframe\">\n",
       "  <thead>\n",
       "    <tr style=\"text-align: right;\">\n",
       "      <th></th>\n",
       "      <th>x</th>\n",
       "      <th>y</th>\n",
       "      <th>x_rank</th>\n",
       "      <th>y_rank</th>\n",
       "    </tr>\n",
       "  </thead>\n",
       "  <tbody>\n",
       "    <tr>\n",
       "      <th>0</th>\n",
       "      <td>1</td>\n",
       "      <td>7</td>\n",
       "      <td>1.0</td>\n",
       "      <td>5.0</td>\n",
       "    </tr>\n",
       "    <tr>\n",
       "      <th>1</th>\n",
       "      <td>2</td>\n",
       "      <td>4</td>\n",
       "      <td>2.0</td>\n",
       "      <td>4.0</td>\n",
       "    </tr>\n",
       "    <tr>\n",
       "      <th>2</th>\n",
       "      <td>3</td>\n",
       "      <td>0</td>\n",
       "      <td>3.0</td>\n",
       "      <td>1.0</td>\n",
       "    </tr>\n",
       "    <tr>\n",
       "      <th>3</th>\n",
       "      <td>11</td>\n",
       "      <td>2</td>\n",
       "      <td>4.0</td>\n",
       "      <td>3.0</td>\n",
       "    </tr>\n",
       "    <tr>\n",
       "      <th>4</th>\n",
       "      <td>12</td>\n",
       "      <td>1</td>\n",
       "      <td>5.0</td>\n",
       "      <td>2.0</td>\n",
       "    </tr>\n",
       "  </tbody>\n",
       "</table>\n",
       "</div>"
      ],
      "text/plain": [
       "    x  y  x_rank  y_rank\n",
       "0   1  7     1.0     5.0\n",
       "1   2  4     2.0     4.0\n",
       "2   3  0     3.0     1.0\n",
       "3  11  2     4.0     3.0\n",
       "4  12  1     5.0     2.0"
      ]
     },
     "execution_count": 15,
     "metadata": {},
     "output_type": "execute_result"
    }
   ],
   "source": [
    "# x의 rank를 기준으로 재정렬\n",
    "sort_kendal = kendal_df.sort_values(by='x_rank').reset_index()\n",
    "sort_kendal.drop(columns='index', inplace=True)\n",
    "sort_kendal"
   ]
  },
  {
   "cell_type": "code",
   "execution_count": 16,
   "metadata": {},
   "outputs": [
    {
     "data": {
      "text/html": [
       "<div>\n",
       "<style scoped>\n",
       "    .dataframe tbody tr th:only-of-type {\n",
       "        vertical-align: middle;\n",
       "    }\n",
       "\n",
       "    .dataframe tbody tr th {\n",
       "        vertical-align: top;\n",
       "    }\n",
       "\n",
       "    .dataframe thead th {\n",
       "        text-align: right;\n",
       "    }\n",
       "</style>\n",
       "<table border=\"1\" class=\"dataframe\">\n",
       "  <thead>\n",
       "    <tr style=\"text-align: right;\">\n",
       "      <th></th>\n",
       "      <th>x</th>\n",
       "      <th>y</th>\n",
       "      <th>x_rank</th>\n",
       "      <th>y_rank</th>\n",
       "      <th>direction</th>\n",
       "    </tr>\n",
       "  </thead>\n",
       "  <tbody>\n",
       "    <tr>\n",
       "      <th>0</th>\n",
       "      <td>1</td>\n",
       "      <td>7</td>\n",
       "      <td>1.0</td>\n",
       "      <td>5.0</td>\n",
       "      <td>downward</td>\n",
       "    </tr>\n",
       "    <tr>\n",
       "      <th>1</th>\n",
       "      <td>2</td>\n",
       "      <td>4</td>\n",
       "      <td>2.0</td>\n",
       "      <td>4.0</td>\n",
       "      <td>downward</td>\n",
       "    </tr>\n",
       "    <tr>\n",
       "      <th>2</th>\n",
       "      <td>3</td>\n",
       "      <td>0</td>\n",
       "      <td>3.0</td>\n",
       "      <td>1.0</td>\n",
       "      <td>upward</td>\n",
       "    </tr>\n",
       "    <tr>\n",
       "      <th>3</th>\n",
       "      <td>11</td>\n",
       "      <td>2</td>\n",
       "      <td>4.0</td>\n",
       "      <td>3.0</td>\n",
       "      <td>downward</td>\n",
       "    </tr>\n",
       "    <tr>\n",
       "      <th>4</th>\n",
       "      <td>12</td>\n",
       "      <td>1</td>\n",
       "      <td>5.0</td>\n",
       "      <td>2.0</td>\n",
       "      <td>NaN</td>\n",
       "    </tr>\n",
       "  </tbody>\n",
       "</table>\n",
       "</div>"
      ],
      "text/plain": [
       "    x  y  x_rank  y_rank direction\n",
       "0   1  7     1.0     5.0  downward\n",
       "1   2  4     2.0     4.0  downward\n",
       "2   3  0     3.0     1.0    upward\n",
       "3  11  2     4.0     3.0  downward\n",
       "4  12  1     5.0     2.0       NaN"
      ]
     },
     "execution_count": 16,
     "metadata": {},
     "output_type": "execute_result"
    }
   ],
   "source": [
    "s = []\n",
    "for i in range(4):\n",
    "    if sort_kendal['y_rank'][i] < sort_kendal['y_rank'][i+1] :\n",
    "        s.append('upward')\n",
    "    else:\n",
    "        s.append('downward')\n",
    "\n",
    "\n",
    "sort_kendal = pd.concat([sort_kendal, pd.DataFrame(s, columns={'direction'})], axis=1)\n",
    "sort_kendal"
   ]
  },
  {
   "cell_type": "code",
   "execution_count": 17,
   "metadata": {},
   "outputs": [
    {
     "name": "stdout",
     "output_type": "stream",
     "text": [
      "kendal 상관계수의 값은 (c-d)/(c+d)입니다. 즉 -0.6로 도출됩니다.\n"
     ]
    }
   ],
   "source": [
    "C = [0, 0, 1, 0]\n",
    "D = [2, 1, 0, 1]\n",
    "\n",
    "kendal = pd.concat([sort_kendal, pd.DataFrame(list(zip(C,D)), columns=['c','d'])], axis=1)\n",
    "kendal\n",
    "\n",
    "c = kendal['c'].sum()\n",
    "d = kendal['d'].sum()\n",
    "\n",
    "print(f'kendal 상관계수의 값은 (c-d)/(c+d)입니다. 즉 {(c-d)/(c+d)}로 도출됩니다.')"
   ]
  },
  {
   "cell_type": "markdown",
   "metadata": {},
   "source": [
    "# 실습 (데이터 불러오기)"
   ]
  },
  {
   "cell_type": "code",
   "execution_count": 44,
   "metadata": {},
   "outputs": [
    {
     "name": "stdout",
     "output_type": "stream",
     "text": [
      "[*********************100%***********************]  2 of 2 completed\n"
     ]
    },
    {
     "data": {
      "text/html": [
       "<div>\n",
       "<style scoped>\n",
       "    .dataframe tbody tr th:only-of-type {\n",
       "        vertical-align: middle;\n",
       "    }\n",
       "\n",
       "    .dataframe tbody tr th {\n",
       "        vertical-align: top;\n",
       "    }\n",
       "\n",
       "    .dataframe thead tr th {\n",
       "        text-align: left;\n",
       "    }\n",
       "\n",
       "    .dataframe thead tr:last-of-type th {\n",
       "        text-align: right;\n",
       "    }\n",
       "</style>\n",
       "<table border=\"1\" class=\"dataframe\">\n",
       "  <thead>\n",
       "    <tr>\n",
       "      <th></th>\n",
       "      <th colspan=\"2\" halign=\"left\">Adj Close</th>\n",
       "      <th colspan=\"2\" halign=\"left\">Close</th>\n",
       "      <th colspan=\"2\" halign=\"left\">High</th>\n",
       "      <th colspan=\"2\" halign=\"left\">Low</th>\n",
       "      <th colspan=\"2\" halign=\"left\">Open</th>\n",
       "      <th colspan=\"2\" halign=\"left\">Volume</th>\n",
       "    </tr>\n",
       "    <tr>\n",
       "      <th></th>\n",
       "      <th>005930.KS</th>\n",
       "      <th>^KS11</th>\n",
       "      <th>005930.KS</th>\n",
       "      <th>^KS11</th>\n",
       "      <th>005930.KS</th>\n",
       "      <th>^KS11</th>\n",
       "      <th>005930.KS</th>\n",
       "      <th>^KS11</th>\n",
       "      <th>005930.KS</th>\n",
       "      <th>^KS11</th>\n",
       "      <th>005930.KS</th>\n",
       "      <th>^KS11</th>\n",
       "    </tr>\n",
       "    <tr>\n",
       "      <th>Date</th>\n",
       "      <th></th>\n",
       "      <th></th>\n",
       "      <th></th>\n",
       "      <th></th>\n",
       "      <th></th>\n",
       "      <th></th>\n",
       "      <th></th>\n",
       "      <th></th>\n",
       "      <th></th>\n",
       "      <th></th>\n",
       "      <th></th>\n",
       "      <th></th>\n",
       "    </tr>\n",
       "  </thead>\n",
       "  <tbody>\n",
       "    <tr>\n",
       "      <th>2019-01-02</th>\n",
       "      <td>35331.628906</td>\n",
       "      <td>2010.000000</td>\n",
       "      <td>38750.0</td>\n",
       "      <td>2010.000000</td>\n",
       "      <td>39400.0</td>\n",
       "      <td>2053.449951</td>\n",
       "      <td>38550.0</td>\n",
       "      <td>2004.270020</td>\n",
       "      <td>39400.0</td>\n",
       "      <td>2050.550049</td>\n",
       "      <td>7847664</td>\n",
       "      <td>326400</td>\n",
       "    </tr>\n",
       "    <tr>\n",
       "      <th>2019-01-03</th>\n",
       "      <td>34283.085938</td>\n",
       "      <td>1993.699951</td>\n",
       "      <td>37600.0</td>\n",
       "      <td>1993.699951</td>\n",
       "      <td>38550.0</td>\n",
       "      <td>2014.719971</td>\n",
       "      <td>37450.0</td>\n",
       "      <td>1991.650024</td>\n",
       "      <td>38300.0</td>\n",
       "      <td>2011.810059</td>\n",
       "      <td>12471493</td>\n",
       "      <td>428000</td>\n",
       "    </tr>\n",
       "    <tr>\n",
       "      <th>2019-01-04</th>\n",
       "      <td>34146.308594</td>\n",
       "      <td>2010.250000</td>\n",
       "      <td>37450.0</td>\n",
       "      <td>2010.250000</td>\n",
       "      <td>37600.0</td>\n",
       "      <td>2011.560059</td>\n",
       "      <td>36850.0</td>\n",
       "      <td>1984.530029</td>\n",
       "      <td>37450.0</td>\n",
       "      <td>1992.400024</td>\n",
       "      <td>14108958</td>\n",
       "      <td>409000</td>\n",
       "    </tr>\n",
       "    <tr>\n",
       "      <th>2019-01-07</th>\n",
       "      <td>35331.628906</td>\n",
       "      <td>2037.099976</td>\n",
       "      <td>38750.0</td>\n",
       "      <td>2037.099976</td>\n",
       "      <td>38900.0</td>\n",
       "      <td>2048.060059</td>\n",
       "      <td>37800.0</td>\n",
       "      <td>2030.900024</td>\n",
       "      <td>38000.0</td>\n",
       "      <td>2034.239990</td>\n",
       "      <td>12748997</td>\n",
       "      <td>440200</td>\n",
       "    </tr>\n",
       "    <tr>\n",
       "      <th>2019-01-08</th>\n",
       "      <td>34738.980469</td>\n",
       "      <td>2025.270020</td>\n",
       "      <td>38100.0</td>\n",
       "      <td>2025.270020</td>\n",
       "      <td>39200.0</td>\n",
       "      <td>2042.699951</td>\n",
       "      <td>37950.0</td>\n",
       "      <td>2023.589966</td>\n",
       "      <td>38000.0</td>\n",
       "      <td>2038.680054</td>\n",
       "      <td>12756554</td>\n",
       "      <td>397800</td>\n",
       "    </tr>\n",
       "    <tr>\n",
       "      <th>...</th>\n",
       "      <td>...</td>\n",
       "      <td>...</td>\n",
       "      <td>...</td>\n",
       "      <td>...</td>\n",
       "      <td>...</td>\n",
       "      <td>...</td>\n",
       "      <td>...</td>\n",
       "      <td>...</td>\n",
       "      <td>...</td>\n",
       "      <td>...</td>\n",
       "      <td>...</td>\n",
       "      <td>...</td>\n",
       "    </tr>\n",
       "    <tr>\n",
       "      <th>2021-12-24</th>\n",
       "      <td>80138.101562</td>\n",
       "      <td>3012.429932</td>\n",
       "      <td>80500.0</td>\n",
       "      <td>3012.429932</td>\n",
       "      <td>80800.0</td>\n",
       "      <td>3025.770020</td>\n",
       "      <td>80200.0</td>\n",
       "      <td>3009.479980</td>\n",
       "      <td>80200.0</td>\n",
       "      <td>3009.479980</td>\n",
       "      <td>12086380</td>\n",
       "      <td>537500</td>\n",
       "    </tr>\n",
       "    <tr>\n",
       "      <th>2021-12-27</th>\n",
       "      <td>79839.453125</td>\n",
       "      <td>2999.550049</td>\n",
       "      <td>80200.0</td>\n",
       "      <td>2999.550049</td>\n",
       "      <td>80600.0</td>\n",
       "      <td>3017.310059</td>\n",
       "      <td>79800.0</td>\n",
       "      <td>2999.300049</td>\n",
       "      <td>80600.0</td>\n",
       "      <td>3013.939941</td>\n",
       "      <td>10783368</td>\n",
       "      <td>475000</td>\n",
       "    </tr>\n",
       "    <tr>\n",
       "      <th>2021-12-28</th>\n",
       "      <td>79939.000000</td>\n",
       "      <td>3020.239990</td>\n",
       "      <td>80300.0</td>\n",
       "      <td>3020.239990</td>\n",
       "      <td>80400.0</td>\n",
       "      <td>3020.290039</td>\n",
       "      <td>79700.0</td>\n",
       "      <td>2991.550049</td>\n",
       "      <td>80200.0</td>\n",
       "      <td>3006.770020</td>\n",
       "      <td>18226325</td>\n",
       "      <td>607000</td>\n",
       "    </tr>\n",
       "    <tr>\n",
       "      <th>2021-12-29</th>\n",
       "      <td>78800.000000</td>\n",
       "      <td>2993.290039</td>\n",
       "      <td>78800.0</td>\n",
       "      <td>2993.290039</td>\n",
       "      <td>80200.0</td>\n",
       "      <td>3007.719971</td>\n",
       "      <td>78500.0</td>\n",
       "      <td>2988.669922</td>\n",
       "      <td>80200.0</td>\n",
       "      <td>3002.899902</td>\n",
       "      <td>19794795</td>\n",
       "      <td>545800</td>\n",
       "    </tr>\n",
       "    <tr>\n",
       "      <th>2021-12-30</th>\n",
       "      <td>78300.000000</td>\n",
       "      <td>2977.649902</td>\n",
       "      <td>78300.0</td>\n",
       "      <td>2977.649902</td>\n",
       "      <td>79500.0</td>\n",
       "      <td>3005.360107</td>\n",
       "      <td>78100.0</td>\n",
       "      <td>2975.739990</td>\n",
       "      <td>78900.0</td>\n",
       "      <td>2999.750000</td>\n",
       "      <td>14236700</td>\n",
       "      <td>460600</td>\n",
       "    </tr>\n",
       "  </tbody>\n",
       "</table>\n",
       "<p>742 rows × 12 columns</p>\n",
       "</div>"
      ],
      "text/plain": [
       "               Adj Close                  Close                   High  \\\n",
       "               005930.KS        ^KS11 005930.KS        ^KS11 005930.KS   \n",
       "Date                                                                     \n",
       "2019-01-02  35331.628906  2010.000000   38750.0  2010.000000   39400.0   \n",
       "2019-01-03  34283.085938  1993.699951   37600.0  1993.699951   38550.0   \n",
       "2019-01-04  34146.308594  2010.250000   37450.0  2010.250000   37600.0   \n",
       "2019-01-07  35331.628906  2037.099976   38750.0  2037.099976   38900.0   \n",
       "2019-01-08  34738.980469  2025.270020   38100.0  2025.270020   39200.0   \n",
       "...                  ...          ...       ...          ...       ...   \n",
       "2021-12-24  80138.101562  3012.429932   80500.0  3012.429932   80800.0   \n",
       "2021-12-27  79839.453125  2999.550049   80200.0  2999.550049   80600.0   \n",
       "2021-12-28  79939.000000  3020.239990   80300.0  3020.239990   80400.0   \n",
       "2021-12-29  78800.000000  2993.290039   78800.0  2993.290039   80200.0   \n",
       "2021-12-30  78300.000000  2977.649902   78300.0  2977.649902   79500.0   \n",
       "\n",
       "                              Low                   Open               \\\n",
       "                  ^KS11 005930.KS        ^KS11 005930.KS        ^KS11   \n",
       "Date                                                                    \n",
       "2019-01-02  2053.449951   38550.0  2004.270020   39400.0  2050.550049   \n",
       "2019-01-03  2014.719971   37450.0  1991.650024   38300.0  2011.810059   \n",
       "2019-01-04  2011.560059   36850.0  1984.530029   37450.0  1992.400024   \n",
       "2019-01-07  2048.060059   37800.0  2030.900024   38000.0  2034.239990   \n",
       "2019-01-08  2042.699951   37950.0  2023.589966   38000.0  2038.680054   \n",
       "...                 ...       ...          ...       ...          ...   \n",
       "2021-12-24  3025.770020   80200.0  3009.479980   80200.0  3009.479980   \n",
       "2021-12-27  3017.310059   79800.0  2999.300049   80600.0  3013.939941   \n",
       "2021-12-28  3020.290039   79700.0  2991.550049   80200.0  3006.770020   \n",
       "2021-12-29  3007.719971   78500.0  2988.669922   80200.0  3002.899902   \n",
       "2021-12-30  3005.360107   78100.0  2975.739990   78900.0  2999.750000   \n",
       "\n",
       "              Volume          \n",
       "           005930.KS   ^KS11  \n",
       "Date                          \n",
       "2019-01-02   7847664  326400  \n",
       "2019-01-03  12471493  428000  \n",
       "2019-01-04  14108958  409000  \n",
       "2019-01-07  12748997  440200  \n",
       "2019-01-08  12756554  397800  \n",
       "...              ...     ...  \n",
       "2021-12-24  12086380  537500  \n",
       "2021-12-27  10783368  475000  \n",
       "2021-12-28  18226325  607000  \n",
       "2021-12-29  19794795  545800  \n",
       "2021-12-30  14236700  460600  \n",
       "\n",
       "[742 rows x 12 columns]"
      ]
     },
     "execution_count": 44,
     "metadata": {},
     "output_type": "execute_result"
    }
   ],
   "source": [
    "# # 삼성전자, KOSPI 데이터 불러오기\n",
    "# stock_price = yf.download({'005930.KS','^KS11'}, '2022-01-01', '2022-01-21')\n",
    "\n",
    "# stock_price\n",
    "\n",
    "# yfinance 데이터 불러오기\n",
    "stock_price = yf.download({'005930.KS','^KS11'}, '2019-01-01', '2022-01-01', period='1d')\n",
    "stock_price"
   ]
  },
  {
   "cell_type": "code",
   "execution_count": 45,
   "metadata": {},
   "outputs": [
    {
     "name": "stderr",
     "output_type": "stream",
     "text": [
      "/var/folders/1v/ctxpzb994v98h43xyk972tmc0000gn/T/ipykernel_1769/2458945650.py:15: PerformanceWarning: dropping on a non-lexsorted multi-index without a level parameter may impact performance.\n",
      "  stock_price = stock_price.drop(columns='Date')\n"
     ]
    },
    {
     "data": {
      "text/html": [
       "<div>\n",
       "<style scoped>\n",
       "    .dataframe tbody tr th:only-of-type {\n",
       "        vertical-align: middle;\n",
       "    }\n",
       "\n",
       "    .dataframe tbody tr th {\n",
       "        vertical-align: top;\n",
       "    }\n",
       "\n",
       "    .dataframe thead tr th {\n",
       "        text-align: left;\n",
       "    }\n",
       "\n",
       "    .dataframe thead tr:last-of-type th {\n",
       "        text-align: right;\n",
       "    }\n",
       "</style>\n",
       "<table border=\"1\" class=\"dataframe\">\n",
       "  <thead>\n",
       "    <tr>\n",
       "      <th></th>\n",
       "      <th colspan=\"2\" halign=\"left\">Adj Close</th>\n",
       "      <th colspan=\"2\" halign=\"left\">Close</th>\n",
       "      <th colspan=\"2\" halign=\"left\">High</th>\n",
       "      <th colspan=\"2\" halign=\"left\">Low</th>\n",
       "      <th colspan=\"2\" halign=\"left\">Open</th>\n",
       "      <th colspan=\"2\" halign=\"left\">Volume</th>\n",
       "    </tr>\n",
       "    <tr>\n",
       "      <th></th>\n",
       "      <th>005930.KS</th>\n",
       "      <th>^KS11</th>\n",
       "      <th>005930.KS</th>\n",
       "      <th>^KS11</th>\n",
       "      <th>005930.KS</th>\n",
       "      <th>^KS11</th>\n",
       "      <th>005930.KS</th>\n",
       "      <th>^KS11</th>\n",
       "      <th>005930.KS</th>\n",
       "      <th>^KS11</th>\n",
       "      <th>005930.KS</th>\n",
       "      <th>^KS11</th>\n",
       "    </tr>\n",
       "    <tr>\n",
       "      <th>Date</th>\n",
       "      <th></th>\n",
       "      <th></th>\n",
       "      <th></th>\n",
       "      <th></th>\n",
       "      <th></th>\n",
       "      <th></th>\n",
       "      <th></th>\n",
       "      <th></th>\n",
       "      <th></th>\n",
       "      <th></th>\n",
       "      <th></th>\n",
       "      <th></th>\n",
       "    </tr>\n",
       "  </thead>\n",
       "  <tbody>\n",
       "    <tr>\n",
       "      <th>2019-01-03</th>\n",
       "      <td>-0.029677</td>\n",
       "      <td>-0.008109</td>\n",
       "      <td>-0.029677</td>\n",
       "      <td>-0.008109</td>\n",
       "      <td>-0.021574</td>\n",
       "      <td>-0.018861</td>\n",
       "      <td>-0.028534</td>\n",
       "      <td>-0.006297</td>\n",
       "      <td>-0.027919</td>\n",
       "      <td>-0.018892</td>\n",
       "      <td>0.589198</td>\n",
       "      <td>0.311275</td>\n",
       "    </tr>\n",
       "    <tr>\n",
       "      <th>2019-01-04</th>\n",
       "      <td>-0.003990</td>\n",
       "      <td>0.008301</td>\n",
       "      <td>-0.003989</td>\n",
       "      <td>0.008301</td>\n",
       "      <td>-0.024643</td>\n",
       "      <td>-0.001568</td>\n",
       "      <td>-0.016021</td>\n",
       "      <td>-0.003575</td>\n",
       "      <td>-0.022193</td>\n",
       "      <td>-0.009648</td>\n",
       "      <td>0.131297</td>\n",
       "      <td>-0.044393</td>\n",
       "    </tr>\n",
       "    <tr>\n",
       "      <th>2019-01-07</th>\n",
       "      <td>0.034713</td>\n",
       "      <td>0.013357</td>\n",
       "      <td>0.034713</td>\n",
       "      <td>0.013357</td>\n",
       "      <td>0.034574</td>\n",
       "      <td>0.018145</td>\n",
       "      <td>0.025780</td>\n",
       "      <td>0.023366</td>\n",
       "      <td>0.014686</td>\n",
       "      <td>0.021000</td>\n",
       "      <td>-0.096390</td>\n",
       "      <td>0.076284</td>\n",
       "    </tr>\n",
       "    <tr>\n",
       "      <th>2019-01-08</th>\n",
       "      <td>-0.016774</td>\n",
       "      <td>-0.005807</td>\n",
       "      <td>-0.016774</td>\n",
       "      <td>-0.005807</td>\n",
       "      <td>0.007712</td>\n",
       "      <td>-0.002617</td>\n",
       "      <td>0.003968</td>\n",
       "      <td>-0.003599</td>\n",
       "      <td>0.000000</td>\n",
       "      <td>0.002183</td>\n",
       "      <td>0.000593</td>\n",
       "      <td>-0.096320</td>\n",
       "    </tr>\n",
       "    <tr>\n",
       "      <th>2019-01-09</th>\n",
       "      <td>0.039370</td>\n",
       "      <td>0.019474</td>\n",
       "      <td>0.039370</td>\n",
       "      <td>0.019474</td>\n",
       "      <td>0.010204</td>\n",
       "      <td>0.012498</td>\n",
       "      <td>0.009223</td>\n",
       "      <td>0.005238</td>\n",
       "      <td>0.017105</td>\n",
       "      <td>-0.002202</td>\n",
       "      <td>0.368137</td>\n",
       "      <td>-0.029160</td>\n",
       "    </tr>\n",
       "    <tr>\n",
       "      <th>...</th>\n",
       "      <td>...</td>\n",
       "      <td>...</td>\n",
       "      <td>...</td>\n",
       "      <td>...</td>\n",
       "      <td>...</td>\n",
       "      <td>...</td>\n",
       "      <td>...</td>\n",
       "      <td>...</td>\n",
       "      <td>...</td>\n",
       "      <td>...</td>\n",
       "      <td>...</td>\n",
       "      <td>...</td>\n",
       "    </tr>\n",
       "    <tr>\n",
       "      <th>2021-12-24</th>\n",
       "      <td>0.007509</td>\n",
       "      <td>0.004756</td>\n",
       "      <td>0.007509</td>\n",
       "      <td>0.004756</td>\n",
       "      <td>0.010000</td>\n",
       "      <td>0.008355</td>\n",
       "      <td>0.011349</td>\n",
       "      <td>0.009584</td>\n",
       "      <td>0.005013</td>\n",
       "      <td>0.003823</td>\n",
       "      <td>-0.109823</td>\n",
       "      <td>0.112146</td>\n",
       "    </tr>\n",
       "    <tr>\n",
       "      <th>2021-12-27</th>\n",
       "      <td>-0.003727</td>\n",
       "      <td>-0.004276</td>\n",
       "      <td>-0.003727</td>\n",
       "      <td>-0.004276</td>\n",
       "      <td>-0.002475</td>\n",
       "      <td>-0.002796</td>\n",
       "      <td>-0.004988</td>\n",
       "      <td>-0.003383</td>\n",
       "      <td>0.004988</td>\n",
       "      <td>0.001482</td>\n",
       "      <td>-0.107808</td>\n",
       "      <td>-0.116279</td>\n",
       "    </tr>\n",
       "    <tr>\n",
       "      <th>2021-12-28</th>\n",
       "      <td>0.001247</td>\n",
       "      <td>0.006898</td>\n",
       "      <td>0.001247</td>\n",
       "      <td>0.006898</td>\n",
       "      <td>-0.002481</td>\n",
       "      <td>0.000988</td>\n",
       "      <td>-0.001253</td>\n",
       "      <td>-0.002584</td>\n",
       "      <td>-0.004963</td>\n",
       "      <td>-0.002379</td>\n",
       "      <td>0.690226</td>\n",
       "      <td>0.277895</td>\n",
       "    </tr>\n",
       "    <tr>\n",
       "      <th>2021-12-29</th>\n",
       "      <td>-0.014248</td>\n",
       "      <td>-0.008923</td>\n",
       "      <td>-0.018680</td>\n",
       "      <td>-0.008923</td>\n",
       "      <td>-0.002488</td>\n",
       "      <td>-0.004162</td>\n",
       "      <td>-0.015056</td>\n",
       "      <td>-0.000963</td>\n",
       "      <td>0.000000</td>\n",
       "      <td>-0.001287</td>\n",
       "      <td>0.086055</td>\n",
       "      <td>-0.100824</td>\n",
       "    </tr>\n",
       "    <tr>\n",
       "      <th>2021-12-30</th>\n",
       "      <td>-0.006345</td>\n",
       "      <td>-0.005225</td>\n",
       "      <td>-0.006345</td>\n",
       "      <td>-0.005225</td>\n",
       "      <td>-0.008728</td>\n",
       "      <td>-0.000785</td>\n",
       "      <td>-0.005096</td>\n",
       "      <td>-0.004326</td>\n",
       "      <td>-0.016209</td>\n",
       "      <td>-0.001049</td>\n",
       "      <td>-0.280786</td>\n",
       "      <td>-0.156101</td>\n",
       "    </tr>\n",
       "  </tbody>\n",
       "</table>\n",
       "<p>741 rows × 12 columns</p>\n",
       "</div>"
      ],
      "text/plain": [
       "           Adj Close               Close                High            \\\n",
       "           005930.KS     ^KS11 005930.KS     ^KS11 005930.KS     ^KS11   \n",
       "Date                                                                     \n",
       "2019-01-03 -0.029677 -0.008109 -0.029677 -0.008109 -0.021574 -0.018861   \n",
       "2019-01-04 -0.003990  0.008301 -0.003989  0.008301 -0.024643 -0.001568   \n",
       "2019-01-07  0.034713  0.013357  0.034713  0.013357  0.034574  0.018145   \n",
       "2019-01-08 -0.016774 -0.005807 -0.016774 -0.005807  0.007712 -0.002617   \n",
       "2019-01-09  0.039370  0.019474  0.039370  0.019474  0.010204  0.012498   \n",
       "...              ...       ...       ...       ...       ...       ...   \n",
       "2021-12-24  0.007509  0.004756  0.007509  0.004756  0.010000  0.008355   \n",
       "2021-12-27 -0.003727 -0.004276 -0.003727 -0.004276 -0.002475 -0.002796   \n",
       "2021-12-28  0.001247  0.006898  0.001247  0.006898 -0.002481  0.000988   \n",
       "2021-12-29 -0.014248 -0.008923 -0.018680 -0.008923 -0.002488 -0.004162   \n",
       "2021-12-30 -0.006345 -0.005225 -0.006345 -0.005225 -0.008728 -0.000785   \n",
       "\n",
       "                 Low                Open              Volume            \n",
       "           005930.KS     ^KS11 005930.KS     ^KS11 005930.KS     ^KS11  \n",
       "Date                                                                    \n",
       "2019-01-03 -0.028534 -0.006297 -0.027919 -0.018892  0.589198  0.311275  \n",
       "2019-01-04 -0.016021 -0.003575 -0.022193 -0.009648  0.131297 -0.044393  \n",
       "2019-01-07  0.025780  0.023366  0.014686  0.021000 -0.096390  0.076284  \n",
       "2019-01-08  0.003968 -0.003599  0.000000  0.002183  0.000593 -0.096320  \n",
       "2019-01-09  0.009223  0.005238  0.017105 -0.002202  0.368137 -0.029160  \n",
       "...              ...       ...       ...       ...       ...       ...  \n",
       "2021-12-24  0.011349  0.009584  0.005013  0.003823 -0.109823  0.112146  \n",
       "2021-12-27 -0.004988 -0.003383  0.004988  0.001482 -0.107808 -0.116279  \n",
       "2021-12-28 -0.001253 -0.002584 -0.004963 -0.002379  0.690226  0.277895  \n",
       "2021-12-29 -0.015056 -0.000963  0.000000 -0.001287  0.086055 -0.100824  \n",
       "2021-12-30 -0.005096 -0.004326 -0.016209 -0.001049 -0.280786 -0.156101  \n",
       "\n",
       "[741 rows x 12 columns]"
      ]
     },
     "execution_count": 45,
     "metadata": {},
     "output_type": "execute_result"
    }
   ],
   "source": [
    "# 데이터 인덱스(날짜)를 컬럼으로 형성 후 처음과 끝을 추출\n",
    "stock_price = stock_price.reset_index()\n",
    "start_date2 = stock_price['Date'].astype(str).iloc[0]\n",
    "end_date2 = stock_price['Date'].astype(str).iloc[-1]\n",
    "\n",
    "# 날짜 처음과 끝에서 영업일 기준 freq 적용 후 데이터 프레임 형성\n",
    "date_all2 = pd.date_range(start_date2, end_date2, freq='B').to_frame().rename(columns={0:'Date'}).reset_index(drop=True)\n",
    "\n",
    "# 각 월당 마지막 영업일 도출\n",
    "# month_end = pd.date_range('2019-01-01', '2022-01-01', freq='BM')\n",
    "\n",
    "# 마지막 영업일 제외후 나머지 drop\n",
    "# stock_price = stock_price[stock_price['Date'].isin(month_end)].reset_index(drop=True)\n",
    "stock_price = stock_price.set_index(stock_price['Date'])\n",
    "stock_price = stock_price.drop(columns='Date')\n",
    "\n",
    "# 전월대비 수익률 도출 (pct_change 사용, %로 표현하기 위해 100을 곱해준다)\n",
    "stock_price = stock_price.pct_change().dropna()\n",
    "stock_price = pd.DataFrame(stock_price)\n",
    "stock_price"
   ]
  },
  {
   "cell_type": "code",
   "execution_count": 48,
   "metadata": {},
   "outputs": [
    {
     "name": "stderr",
     "output_type": "stream",
     "text": [
      "/Users/jeong-giho/Desktop/financial_python/finance/lib/python3.9/site-packages/seaborn/distributions.py:2619: FutureWarning: `distplot` is a deprecated function and will be removed in a future version. Please adapt your code to use either `displot` (a figure-level function with similar flexibility) or `histplot` (an axes-level function for histograms).\n",
      "  warnings.warn(msg, FutureWarning)\n"
     ]
    },
    {
     "data": {
      "image/png": "[encoded data removed]",
      "text/plain": [
       "<Figure size 432x288 with 2 Axes>"
      ]
     },
     "metadata": {
      "needs_background": "light"
     },
     "output_type": "display_data"
    }
   ],
   "source": [
    "# 코스피 전일대비 수익률 그래프 도출\n",
    "\n",
    "plt.subplot(1,2,1)\n",
    "sns.distplot(stock_price['Adj Close']['^KS11'])\n",
    "plt.title('코스피 수익률 분포')\n",
    "plt.subplot(1,2,2)\n",
    "stock_price['Close']['^KS11'].plot(kind='line')\n",
    "plt.title('KOSPI 전일대비 수익률 (2019-2021년)')\n",
    "plt.show()"
   ]
  },
  {
   "cell_type": "code",
   "execution_count": 49,
   "metadata": {},
   "outputs": [
    {
     "name": "stderr",
     "output_type": "stream",
     "text": [
      "/Users/jeong-giho/Desktop/financial_python/finance/lib/python3.9/site-packages/seaborn/distributions.py:2619: FutureWarning: `distplot` is a deprecated function and will be removed in a future version. Please adapt your code to use either `displot` (a figure-level function with similar flexibility) or `histplot` (an axes-level function for histograms).\n",
      "  warnings.warn(msg, FutureWarning)\n"
     ]
    },
    {
     "data": {
      "image/png": "[encoded data removed]",
      "text/plain": [
       "<Figure size 432x288 with 2 Axes>"
      ]
     },
     "metadata": {
      "needs_background": "light"
     },
     "output_type": "display_data"
    }
   ],
   "source": [
    "# 삼성전자 전일대비 수익률 그래프 도출\n",
    "\n",
    "plt.subplot(1,2,1)\n",
    "sns.distplot(stock_price['Adj Close']['005930.KS'])\n",
    "plt.title('Samsung 수익률 분포')\n",
    "plt.subplot(1,2,2)\n",
    "stock_price['Close']['005930.KS'].plot(kind='line')\n",
    "plt.title('Samsung 전일대비 수익률 (2019-2021년)')\n",
    "plt.show()"
   ]
  },
  {
   "cell_type": "code",
   "execution_count": 62,
   "metadata": {},
   "outputs": [
    {
     "name": "stdout",
     "output_type": "stream",
     "text": [
      "^KS11의 경우, p값이  0.000% 이므로 정규성을 충족한다는 귀무가설을 5% 유의수준으로 기각할 수 있습니다.\n",
      "005930.KS의 경우, p값이  0.000% 이므로 정규성을 충족한다는 귀무가설을 5% 유의수준으로 기각할 수 있습니다.\n"
     ]
    }
   ],
   "source": [
    "# 정규성 검정 (모수적 특성이 존재하는지 여부 판단)\n",
    "\n",
    "# shapiro 검정 시행\n",
    "from scipy.stats import shapiro\n",
    "\n",
    "for i in ['^KS11', '005930.KS']:\n",
    "    stats, pval = shapiro(stock_price['Adj Close'][i])\n",
    "    \n",
    "    if pval < .05:\n",
    "        print(f'{i}의 경우, p값이 {pval*100 : .3f}% 이므로 정규성을 충족한다는 귀무가설을 5% 유의수준으로 기각할 수 있습니다.')\n",
    "    else:\n",
    "        print(f'{i}의 경우, p값이 {pval*100 : .3f}% 이므로 정규성을 충족한다는 귀무가설을 5% 유의수준으로 기각할 수 없습니다.')\n"
   ]
  },
  {
   "cell_type": "markdown",
   "metadata": {},
   "source": [
    "## 상관분석"
   ]
  },
  {
   "cell_type": "markdown",
   "metadata": {},
   "source": [
    "### A. 공분산"
   ]
  },
  {
   "cell_type": "code",
   "execution_count": 63,
   "metadata": {},
   "outputs": [
    {
     "data": {
      "image/png": "[encoded data removed]",
      "text/plain": [
       "<Figure size 360x360 with 6 Axes>"
      ]
     },
     "metadata": {
      "needs_background": "light"
     },
     "output_type": "display_data"
    }
   ],
   "source": [
    "# 상관분석에 앞서 먼저 시각화를 이용하여 상관성을 육안으로 확인해본다.\n",
    "sub = stock_price['Adj Close']\n",
    "\n",
    "# 각 데이터의 히스토그램과 산점도를 도출(산점도에는 회귀선까지 구현)\n",
    "sns.pairplot(sub, kind='reg')\n",
    "plt.show()"
   ]
  },
  {
   "cell_type": "markdown",
   "metadata": {},
   "source": [
    "### B. 피어슨 상관 계수"
   ]
  },
  {
   "cell_type": "code",
   "execution_count": 64,
   "metadata": {},
   "outputs": [
    {
     "name": "stdout",
     "output_type": "stream",
     "text": [
      "0.00017265039545088376\n",
      "[[0.00028093 0.00017265]\n",
      " [0.00017265 0.00016202]]\n",
      "0.8092555635701385\n"
     ]
    }
   ],
   "source": [
    "# 하나씩 시행해보기\n",
    "# 변수 지정\n",
    "x1 = stock_price['Adj Close']['005930.KS']\n",
    "x2 = stock_price['Adj Close']['^KS11']\n",
    "\n",
    "# 만약 표본상관계수를 도출하게 된다면 (n-1로 또 나눠주어야 함)\n",
    "# mu = mean (공통적으로 적용)\n",
    "mu_1 = np.sum(x1)/len(x1)\n",
    "mu_2 = np.sum(x2)/len(x2)\n",
    "# 분산을 구하는 부분에서도 모분산 추정이므로 자유도 1 설정\n",
    "var_1 = np.sum([pow(i - mu_1, 2) for i in x1]) / (len(x1) - 1)\n",
    "var_2 = np.sum([pow(i - mu_2, 2) for i in x2]) / (len(x2) - 1)\n",
    "std_1 = var_1 ** 0.5\n",
    "std_2 = var_2 ** 0.5\n",
    "\n",
    "covariance_ddof = sum( (x1 - mu_1) * (x2 - mu_2) ) / (len(x1) -1)\n",
    "correlation_ddof = covariance_ddof / (std_1 * std_2)\n",
    "\n",
    "# COV(X,Y) : 표본인 경우 (numpy와 비교)\n",
    "print(covariance_ddof)\n",
    "print(np.cov(x1,x2))\n",
    "# 피어슨 상관계수\n",
    "print(correlation_ddof)"
   ]
  },
  {
   "cell_type": "code",
   "execution_count": 65,
   "metadata": {},
   "outputs": [
    {
     "data": {
      "text/plain": [
       "(0.8092555635701392, 6.796191920390987e-173)"
      ]
     },
     "execution_count": 65,
     "metadata": {},
     "output_type": "execute_result"
    }
   ],
   "source": [
    "# 피어슨 상관계수를 구하는 다른 방법으로는 scipy라이브러리를 활용하는 법\n",
    "\n",
    "from scipy.stats import pearsonr\n",
    "# 귀무가설은 '두 데이터의 상관 계수가 0이다.(독립)'로 설정되어 있음.\n",
    "pearsonr(x1, x2)"
   ]
  },
  {
   "cell_type": "code",
   "execution_count": 66,
   "metadata": {},
   "outputs": [
    {
     "name": "stdout",
     "output_type": "stream",
     "text": [
      "1. 모집단으로 가정한 경우\n",
      "모집단 data 각각의 분산 값은 COV(X,X) = 0.0, COV(Y,Y) = 0.0(으)로 계산됩니다.\n",
      "모집단 data에 대한 공분산 값 : 0.0\n",
      "모집단 data에 대한 피어슨 상관계수 값 : 0.809\n",
      "Scipy로 구한 피어슨 상관계수는 0.809입니다.\n",
      "Scipy는 각 데이터의 상관계수가 유의한지 판단합니다. 위 검정의 p-value는 0.0%로 두 데이터의 연관성이 없다는 귀무가설을 5%의 유의수준으로 기각할 수 있습니다.\n",
      "\n",
      "2. 표본집단으로 가정한 경우\n",
      "표본 data 각각의 추정된 분산 값은 COV(x,x) = 0.0, COV(y,y) = 0.0(으)로 계산됩니다.\n",
      "표본 data로 추정한 모집단의 공분산 값 : 0.0\n",
      "표본 data로 추정한 모집단의 피어슨 상관계수 값 : 0.809\n",
      "Scipy로 구한 피어슨 상관계수는 0.809입니다.\n",
      "Scipy는 각 데이터의 상관계수가 유의한지 판단합니다. 위 검정의 p-value는 0.0%로 두 데이터의 연관성이 없다는 귀무가설을 5%의 유의수준으로 기각할 수 있습니다.\n"
     ]
    }
   ],
   "source": [
    "def cov_pearson(data1, data2, population = True):\n",
    "    # 라이브러리 호출\n",
    "    import numpy as np\n",
    "    from scipy.stats import pearsonr\n",
    "\n",
    "    # 변수를 설정하는 부분입니다.\n",
    "    mu_1 = np.sum(data1)/len(data1)\n",
    "    mu_2 = np.sum(data2)/len(data2)\n",
    "    var_1 = np.sum([pow(i - mu_1, 2) for i in data1]) / (len(data1))\n",
    "    var_2 = np.sum([pow(i - mu_2, 2) for i in data2]) / (len(data2))\n",
    "    std_1 = var_1 ** 0.5\n",
    "    std_2 = var_2 ** 0.5\n",
    "    \n",
    "    # 데이터가 모수인지 표본인지에 따라 자유도를 산입할지 여부를 결정합니다.\n",
    "    if population == True:\n",
    "        covariance = sum( (data1 - mu_1) * (data2 - mu_2) ) / (len(data1))\n",
    "        correlation = covariance / (std_1 * std_2)\n",
    "        print(f'모집단 data 각각의 분산 값은 COV(X,X) = {round(var_1,3)}, COV(Y,Y) = {round(var_2,3)}(으)로 계산됩니다.')\n",
    "        print(f'모집단 data에 대한 공분산 값 : {round(covariance,3)}')\n",
    "        print(f'모집단 data에 대한 피어슨 상관계수 값 : {round(correlation,3)}')\n",
    "    else:\n",
    "        var_1 = np.sum([pow(i - mu_1, 2) for i in data1]) / (len(data1) - 1)\n",
    "        var_2 = np.sum([pow(i - mu_2, 2) for i in data2]) / (len(data2) - 1)\n",
    "        std_1 = var_1 ** 0.5\n",
    "        std_2 = var_2 ** 0.5\n",
    "        covariance_ddof = sum( (data1 - mu_1) * (data2 - mu_2) ) / (len(data1) -1)\n",
    "        correlation_ddof = covariance_ddof / (std_1 * std_2)\n",
    "        print(f'표본 data 각각의 추정된 분산 값은 COV(x,x) = {round(var_1,3)}, COV(y,y) = {round(var_2,3)}(으)로 계산됩니다.')\n",
    "        print(f'표본 data로 추정한 모집단의 공분산 값 : {round(covariance_ddof,3)}')\n",
    "        print(f'표본 data로 추정한 모집단의 피어슨 상관계수 값 : {round(correlation_ddof,3)}')\n",
    "\n",
    "    # Scipy 라이브러리에서 구한 피어슨 계수를 통해 위에서 확인한 상관계수 값을 검증해봅니다.\n",
    "    print(f'Scipy로 구한 피어슨 상관계수는 {round(pearsonr(data1, data2)[0], 3)}입니다.')\n",
    "    \n",
    "    # Scipy에서 제공하는 피어슨 검정의 P값을 이용하여 데이터 간의 독립성에 대한 검정 결과 해석을 출력합니다.\n",
    "    if pearsonr(data1, data2)[1] < 0.05:\n",
    "        print(f'Scipy는 각 데이터의 상관계수가 유의한지 판단합니다. 위 검정의 p-value는 {round(pearsonr(data1, data2)[1],5) * 100}%로 두 데이터의 연관성이 없다는 귀무가설을 5%의 유의수준으로 기각할 수 있습니다.')\n",
    "    else:\n",
    "        print(f'Scipy는 각 데이터의 상관계수가 유의한지 판단합니다. 위 검정의 p-value는 {round(pearsonr(data1, data2)[1],5) * 100}%로 두 데이터의 연관성이 없다는 귀무가설을 5%의 유의수준으로 기각할 수 없습니다.')\n",
    "\n",
    "print('1. 모집단으로 가정한 경우')\n",
    "cov_pearson(x1, x2, True)\n",
    "\n",
    "print('\\n2. 표본집단으로 가정한 경우')\n",
    "cov_pearson(x1, x2, False)"
   ]
  },
  {
   "cell_type": "markdown",
   "metadata": {},
   "source": [
    "### C. 스피어만 상관 계수"
   ]
  },
  {
   "cell_type": "code",
   "execution_count": 67,
   "metadata": {},
   "outputs": [
    {
     "data": {
      "text/plain": [
       "0.809296404231856"
      ]
     },
     "execution_count": 67,
     "metadata": {},
     "output_type": "execute_result"
    }
   ],
   "source": [
    "# 스피어만 계수는 순위합으로 도출되기 때문에, 이를 직접 구현하기 위해선 ordinalencoder로 순위를 구하고 순위합을 도출해야 함\n",
    "from sklearn.preprocessing import OrdinalEncoder\n",
    "encoder = OrdinalEncoder()\n",
    "\n",
    "# transform data (데이터를 인코딩하는 작업)\n",
    "result = encoder.fit_transform(stock_price['Adj Close'])\n",
    "result = pd.DataFrame(result, columns={'Samsung', 'KOSPI'})\n",
    "# 순위 척도의 차이를 도출하는 부분\n",
    "result['diff'] = result['Samsung'] - result['KOSPI']\n",
    "# 데이터 개수 지정\n",
    "n = len(result['diff'])\n",
    "\n",
    "# 스피어만 계수 산출하는 부분 (스피어만 계수 산출 공식 적용)\n",
    "sum_diff = 6 * sum([pow(i, 2) for i in result['diff'].tolist()])\n",
    "spearman = 1 - sum_diff/(n * (n ** 2 -1))\n",
    "spearman"
   ]
  },
  {
   "cell_type": "code",
   "execution_count": 68,
   "metadata": {},
   "outputs": [
    {
     "data": {
      "text/plain": [
       "SpearmanrResult(correlation=0.8011347144657708, pvalue=6.387060225135583e-167)"
      ]
     },
     "execution_count": 68,
     "metadata": {},
     "output_type": "execute_result"
    }
   ],
   "source": [
    "# 스피어만 (변수가 모두 연속형이며, 정규성을 따르지 않는 경우에 사용한다)\n",
    "from scipy.stats import spearmanr\n",
    "\n",
    "spearmanr(x1, x2)"
   ]
  },
  {
   "cell_type": "code",
   "execution_count": 69,
   "metadata": {},
   "outputs": [
    {
     "name": "stdout",
     "output_type": "stream",
     "text": [
      "모집단 data 각각의 분산 값은 COV(X,X) = 45756.667, COV(Y,Y) = 38129.668(으)로 계산됩니다.\n",
      "모집단 data에 대한 공분산 값 : 33492.46\n",
      "모집단 data에 대한 피어슨 상관계수 값 : 0.802\n",
      "Scipy로 구한 피어슨 상관계수는 0.802입니다.\n",
      "Scipy는 각 데이터의 상관계수가 유의한지 판단합니다. 위 검정의 p-value는 0.0%로 두 데이터의 연관성이 없다는 귀무가설을 5%의 유의수준으로 기각할 수 있습니다.\n",
      "\n",
      "스피어만 계수와 비교\n",
      "모집단 data 각각의 분산 값은 COV(X,X) = 0.0, COV(Y,Y) = 0.0(으)로 계산됩니다.\n",
      "모집단 data에 대한 공분산 값 : 0.0\n",
      "모집단 data에 대한 피어슨 상관계수 값 : 0.809\n",
      "Scipy로 구한 피어슨 상관계수는 0.809입니다.\n",
      "Scipy는 각 데이터의 상관계수가 유의한지 판단합니다. 위 검정의 p-value는 0.0%로 두 데이터의 연관성이 없다는 귀무가설을 5%의 유의수준으로 기각할 수 있습니다.\n"
     ]
    }
   ],
   "source": [
    "# 스피어만 계수는 순위 척도를 계산한 후에는 피어슨 계수와 구하는 공식이 동일하기 때문에 위의 피어슨 계수에 이를 입력하여도 동일한 결과를 가져옴\n",
    "# 따라서 밑에는 피어슨 계수로 값이 출력되었지만, 사실은 스피어만 계수임 (따라서 공분산 값과 분산은 확인하지 않아도 됨)\n",
    "cov_pearson(result['Samsung'], result['KOSPI'], True)\n",
    "\n",
    "print('\\n스피어만 계수와 비교')\n",
    "cov_pearson(x1, x2, True)"
   ]
  },
  {
   "cell_type": "markdown",
   "metadata": {},
   "source": [
    "### D. 켄달 상관계수"
   ]
  },
  {
   "cell_type": "code",
   "execution_count": 70,
   "metadata": {},
   "outputs": [
    {
     "data": {
      "text/plain": [
       "KendalltauResult(correlation=-0.6, pvalue=0.23333333333333334)"
      ]
     },
     "execution_count": 70,
     "metadata": {},
     "output_type": "execute_result"
    }
   ],
   "source": [
    "# simple data 부분 잠시 리뷰\n",
    "from scipy.stats import kendalltau\n",
    "\n",
    "X = [12, 2, 1, 11, 3]\n",
    "Y = [1, 4, 7, 2, 0]\n",
    "\n",
    "kendalltau(X,Y)"
   ]
  },
  {
   "cell_type": "code",
   "execution_count": 71,
   "metadata": {},
   "outputs": [
    {
     "data": {
      "text/plain": [
       "KendalltauResult(correlation=0.6133550405209571, pvalue=1.9684708066198648e-137)"
      ]
     },
     "execution_count": 71,
     "metadata": {},
     "output_type": "execute_result"
    }
   ],
   "source": [
    "kendalltau(x1, x2)"
   ]
  },
  {
   "cell_type": "markdown",
   "metadata": {},
   "source": [
    "### 참고) heatmap"
   ]
  },
  {
   "cell_type": "code",
   "execution_count": 72,
   "metadata": {},
   "outputs": [
    {
     "data": {
      "image/png": "[encoded data removed]",
      "text/plain": [
       "<Figure size 2160x2160 with 2 Axes>"
      ]
     },
     "metadata": {
      "needs_background": "light"
     },
     "output_type": "display_data"
    }
   ],
   "source": [
    "# corr 시각화\n",
    "def corr_heatmap(dataset, method_option = 'pearson'):\n",
    "    \"\"\"[상관관계 그래프]\n",
    "\n",
    "    Args:\n",
    "        dataset ([DataFrame]): [데이터프래임을 입력해주세요]\n",
    "        method_option (str, optional): [correlation을 도출하는 방식 선택]. Defaults to 'pearson' in addition, there are other options ('spearman', 'kendall').\n",
    "        \n",
    "    \"\"\"\n",
    "    # 라이브러리 호출\n",
    "    import numpy as np\n",
    "    import matplotlib.pyplot as plt\n",
    "    import seaborn as sns\n",
    "    # 한글폰트 출력 가능 코드\n",
    "    from matplotlib import rc\n",
    "    rc('font', family='AppleGothic') # Mac Os\n",
    "    #rc('font', family='NanumGothic') # Windows Os\n",
    "    plt.rcParams['axes.unicode_minus'] = False\n",
    "    \n",
    "    # heatmap 그리기\n",
    "    mask_ut=np.triu(np.ones(dataset.corr().shape)).astype(bool) \n",
    "    plt.figure(figsize=(30,30))\n",
    "    sns.heatmap(dataset.corr(method=method_option), annot = True, cmap = 'RdYlBu_r', cbar_kws={\"shrink\": .5}, \n",
    "                annot_kws={\"size\": 10}, linewidths=.5, mask=mask_ut)\n",
    "    plt.show()\n",
    "\n",
    "# 함수 사용\n",
    "corr_heatmap(stock_price)"
   ]
  },
  {
   "cell_type": "code",
   "execution_count": 73,
   "metadata": {},
   "outputs": [
    {
     "data": {
      "image/png": "[encoded data removed]",
      "text/plain": [
       "<Figure size 2160x2160 with 2 Axes>"
      ]
     },
     "metadata": {
      "needs_background": "light"
     },
     "output_type": "display_data"
    }
   ],
   "source": [
    "corr_heatmap(stock_price, method_option='spearman')"
   ]
  },
  {
   "cell_type": "code",
   "execution_count": 74,
   "metadata": {},
   "outputs": [
    {
     "data": {
      "image/png": "[encoded data removed]",
      "text/plain": [
       "<Figure size 2160x2160 with 2 Axes>"
      ]
     },
     "metadata": {
      "needs_background": "light"
     },
     "output_type": "display_data"
    }
   ],
   "source": [
    "corr_heatmap(stock_price, method_option='kendall')"
   ]
  },
  {
   "cell_type": "markdown",
   "metadata": {},
   "source": [
    "### 참고2) ACF, PACF (자기상관계수, 편자기상관계수)"
   ]
  },
  {
   "cell_type": "code",
   "execution_count": 75,
   "metadata": {},
   "outputs": [
    {
     "data": {
      "image/png": "[encoded data removed]",
      "text/plain": [
       "<Figure size 432x288 with 1 Axes>"
      ]
     },
     "metadata": {
      "needs_background": "light"
     },
     "output_type": "display_data"
    }
   ],
   "source": [
    "def acf_plot(data, N_LAGS, alpha): \n",
    "    from statsmodels.graphics.tsaplots import plot_acf \n",
    "    fig = plot_acf(data, lags=N_LAGS, alpha=alpha) \n",
    "    plt.xlabel(f'Lag at 0 to {N_LAGS}') \n",
    "    plt.ylabel(\"lag at k's autocorrelation\") \n",
    "    plt.show()\n",
    "    \n",
    "acf_plot(stock_price['Adj Close']['005930.KS'], 8, 0.05)\n"
   ]
  },
  {
   "cell_type": "code",
   "execution_count": 76,
   "metadata": {},
   "outputs": [
    {
     "name": "stdout",
     "output_type": "stream",
     "text": [
      "lag at 0's autocorrelation =  1.0\n",
      "lag at 1's autocorrelation =  0.03\n",
      "lag at 2's autocorrelation =  0.06\n",
      "lag at 3's autocorrelation =  -0.01\n",
      "lag at 4's autocorrelation =  -0.05\n",
      "lag at 5's autocorrelation =  -0.02\n",
      "lag at 6's autocorrelation =  -0.02\n",
      "lag at 7's autocorrelation =  0.03\n",
      "lag at 8's autocorrelation =  0.03\n"
     ]
    },
    {
     "data": {
      "image/png": "[encoded data removed]",
      "text/plain": [
       "<Figure size 432x288 with 1 Axes>"
      ]
     },
     "metadata": {
      "needs_background": "light"
     },
     "output_type": "display_data"
    }
   ],
   "source": [
    "def acf_plot(data, N_LAGS, pval): \n",
    "    from statsmodels.graphics.tsaplots import plot_acf \n",
    "    auto = pd.Series(data.values) \n",
    "    for i in range(0, N_LAGS+1): \n",
    "        print(f\"lag at {i}'s autocorrelation = \", round(auto.autocorr(lag=i),2)) \n",
    "        scatter = pd.DataFrame() \n",
    "        scatter['lags'] = [i for i in range (1, N_LAGS +1)] \n",
    "        scatter['autocorrelation'] = [ auto.autocorr(lag=i) for i in range(1, N_LAGS +1)] \n",
    "    fig = plot_acf(data, lags=N_LAGS, alpha=pval) \n",
    "    plt.xlabel(f'Lag at k (0 to {N_LAGS})') \n",
    "    plt.ylabel(\"lag at k's autocorrelation\") \n",
    "    plt.scatter(x=scatter['lags'], y=scatter['autocorrelation'], edgecolors='red',linewidth=1, s=200, alpha = .5) \n",
    "    plt.show() \n",
    "\n",
    "acf_plot(stock_price['Adj Close']['005930.KS'], 8, 0.05)"
   ]
  },
  {
   "cell_type": "code",
   "execution_count": 77,
   "metadata": {},
   "outputs": [
    {
     "data": {
      "image/png": "[encoded data removed]",
      "text/plain": [
       "<Figure size 432x288 with 1 Axes>"
      ]
     },
     "metadata": {
      "needs_background": "light"
     },
     "output_type": "display_data"
    }
   ],
   "source": [
    "def pacf_plot(data, N_LAGS, pval): \n",
    "    from statsmodels.graphics.tsaplots import plot_pacf \n",
    "    plot_pacf(data, lags=N_LAGS, alpha=pval, method='ywm') \n",
    "    plt.xlabel(f'Lag at k (0 to {N_LAGS})') \n",
    "    plt.ylabel(\"lag at k's Partial autocorrelation\") \n",
    "    plt.show() \n",
    "    \n",
    "pacf_plot(stock_price['Adj Close']['005930.KS'], 5, 0.05)"
   ]
  },
  {
   "cell_type": "code",
   "execution_count": 78,
   "metadata": {},
   "outputs": [
    {
     "name": "stdout",
     "output_type": "stream",
     "text": [
      "       pacf  upper confidence interval  lower confidence interval\n",
      "0  1.000000                   1.000000                   1.000000\n",
      "1  0.025419                   0.097420                  -0.046582\n",
      "2  0.056500                   0.128501                  -0.015501\n",
      "3 -0.009251                   0.062751                  -0.081252\n",
      "4 -0.052745                   0.019256                  -0.124746\n",
      "5 -0.018511                   0.053490                  -0.090512\n"
     ]
    }
   ],
   "source": [
    "def pacf(data, alpha, N_LAGS): \n",
    "    from statsmodels.tsa.stattools import pacf \n",
    "    result = pd.DataFrame() \n",
    "    result['pacf'] = pacf(data, alpha=alpha)[0][:N_LAGS+1] \n",
    "    result['upper confidence interval'] = [pacf(data, alpha=alpha)[1][i][1] for i in range(N_LAGS + 1)] \n",
    "    result['lower confidence interval'] = [pacf(data, alpha=alpha)[1][i][0] for i in range(N_LAGS + 1)] \n",
    "    \n",
    "    return result \n",
    "\n",
    "result = pacf(stock_price['Adj Close']['005930.KS'], 0.05, 5) \n",
    "print(result)"
   ]
  },
  {
   "cell_type": "code",
   "execution_count": 79,
   "metadata": {},
   "outputs": [
    {
     "name": "stdout",
     "output_type": "stream",
     "text": [
      "lag at 0's Partial autocorrelation =  1.0\n",
      "lag at 1's Partial autocorrelation =  0.03\n",
      "lag at 2's Partial autocorrelation =  0.06\n",
      "lag at 3's Partial autocorrelation =  -0.01\n",
      "lag at 4's Partial autocorrelation =  -0.05\n",
      "lag at 5's Partial autocorrelation =  -0.02\n",
      "1번째 lag애서 파란 음영의 값 범위는 -0.07204970901055448, +0.07204970901055448입니다.\n"
     ]
    },
    {
     "data": {
      "image/png": "[encoded data removed]",
      "text/plain": [
       "<Figure size 432x288 with 1 Axes>"
      ]
     },
     "metadata": {
      "needs_background": "light"
     },
     "output_type": "display_data"
    }
   ],
   "source": [
    "def pacf_plot(data, N_LAGS, alpha): \n",
    "    # 라이브러리 호출 \n",
    "    from statsmodels.graphics.tsaplots import plot_pacf \n",
    "    from statsmodels.tsa.stattools import pacf \n",
    "    import scipy.stats\n",
    "    \n",
    "    # 편자기상관계수를 구하는 부분 \n",
    "    auto = pd.Series(data.values) \n",
    "    \n",
    "    for i in range(0, N_LAGS+1): \n",
    "        # lag 별 pacf 추정 계수를 출력하는 부분 \n",
    "        print(f\"lag at {i}'s Partial autocorrelation = \", round(pacf(data, alpha=.05)[0][i],2)) \n",
    "        \n",
    "        scatter = pd.DataFrame() \n",
    "        scatter['lags'] = [i for i in range (1, N_LAGS +1)] \n",
    "        scatter['Partial autocorrelation'] = [pacf(data, alpha=.05)[0][i] for i in range(1, N_LAGS +1)] \n",
    "    print(f\"1번째 lag애서 파란 음영의 값 범위는 -{scipy.stats.norm.ppf(1-(alpha)/2) * np.sqrt(1/(data.shape[0]-1))}, +{scipy.stats.norm.ppf(1-(alpha)/2) * np.sqrt(1/(data.shape[0]-1))}입니다.\") \n",
    "    # 표 그리는 부분 \n",
    "    plot_pacf(data, lags=N_LAGS, alpha=alpha, method='ywm')\n",
    "    plt.xlabel(f'Lag at k (0 to {N_LAGS})') \n",
    "    plt.ylabel(\"lag at k's Partial autocorrelation\") \n",
    "    # lag 별로 PACF 추정 계수를 점으로 찍는 부분 \n",
    "    plt.scatter(x=scatter['lags'], y=scatter['Partial autocorrelation'], edgecolors='red',linewidth=1, s=200, alpha = .5) \n",
    "    # lag = 1 에서 신뢰구간의 upper 부분을 점으로 찍는 부분 \n",
    "    plt.scatter(x=1, y=[scipy.stats.norm.ppf(1-(alpha)/2) * (1/np.sqrt(data.shape[0]))]) \n",
    "    plt.show() \n",
    "\n",
    "pacf_plot(stock_price['Adj Close']['005930.KS'], 5, 0.05)\n"
   ]
  },
  {
   "cell_type": "markdown",
   "metadata": {},
   "source": [
    "### 참고3) Cross correlation 시차상관계수"
   ]
  },
  {
   "cell_type": "code",
   "execution_count": 80,
   "metadata": {},
   "outputs": [
    {
     "name": "stdout",
     "output_type": "stream",
     "text": [
      "마케팅 비용과 수익의 0번째 기간 후 상관계수 값 :  0.77109\n",
      "마케팅 비용과 수익의 1번째 기간 후 상관계수 값 :  0.46239\n",
      "마케팅 비용과 수익의 2번째 기간 후 상관계수 값 :  0.19352\n",
      "마케팅 비용과 수익의 3번째 기간 후 상관계수 값 : -0.06066\n",
      "마케팅 비용과 수익의 4번째 기간 후 상관계수 값 : -0.28160\n",
      "마케팅 비용과 수익의 5번째 기간 후 상관계수 값 : -0.44531\n",
      "마케팅 비용과 수익의 6번째 기간 후 상관계수 값 : -0.49159\n",
      "마케팅 비용과 수익의 7번째 기간 후 상관계수 값 : -0.35784\n",
      "마케팅 비용과 수익의 8번째 기간 후 상관계수 값 : -0.15697\n",
      "마케팅 비용과 수익의 9번째 기간 후 상관계수 값 : -0.03430\n",
      "마케팅 비용과 수익의 10번째 기간 후 상관계수 값 :  0.01588\n",
      "마케팅 비용과 수익의 11번째 기간 후 상관계수 값 :  0.00704\n"
     ]
    },
    {
     "data": {
      "image/png": "[encoded data removed]",
      "text/plain": [
       "<Figure size 432x288 with 1 Axes>"
      ]
     },
     "metadata": {
      "needs_background": "light"
     },
     "output_type": "display_data"
    }
   ],
   "source": [
    "# 예시 : 마케팅 비용과 수익간의 상관성 분석\n",
    "import statsmodels.api as sm\n",
    "import numpy as np\n",
    "import matplotlib.pyplot as plt\n",
    "\n",
    "marketing = np.array([3, 4, 5, 5, 7, 9, 13, 15, 12, 10, 8, 8])\n",
    "revenue = np.array([21, 19, 22, 24, 25, 29, 30, 34, 37, 40, 35, 30]) \n",
    "\n",
    "\n",
    "cc = sm.tsa.stattools.ccf(marketing, revenue, adjusted=False)\n",
    "\n",
    "for i in range(len(cc)):\n",
    "    print(f'마케팅 비용과 수익의 {i}번째 기간 후 상관계수 값 : {cc[i] : .5f}')\n",
    "\n",
    "for i in range(len(cc)):\n",
    "    plt.scatter(i, cc[i])\n",
    "plt.axvline(x=0, color='k' ,linestyle = ':') # draw x =0 axes \n",
    "plt.axhline(y=0, color='k' ,linestyle = ':') # draw y =0 axes\n",
    "plt.title('Cross correlation (marketing, revenue)')\n",
    "plt.xlabel('after k period')\n",
    "plt.ylabel('cross corr')\n",
    "plt.show()"
   ]
  },
  {
   "cell_type": "code",
   "execution_count": 81,
   "metadata": {},
   "outputs": [
    {
     "data": {
      "text/plain": [
       "36"
      ]
     },
     "execution_count": 81,
     "metadata": {},
     "output_type": "execute_result"
    }
   ],
   "source": [
    "x =2\n",
    "y =3\n",
    "np.dot(x, x) * np.dot(y, y)"
   ]
  },
  {
   "cell_type": "code",
   "execution_count": 82,
   "metadata": {},
   "outputs": [
    {
     "data": {
      "text/plain": [
       "(array([-5, -4, -3, -2, -1,  0,  1,  2,  3,  4,  5]),\n",
       " array([0.48499974, 0.63799254, 0.76590456, 0.86183857, 0.91858386,\n",
       "        0.96216172, 0.90510293, 0.82954706, 0.73329954, 0.64771135,\n",
       "        0.55679349]))"
      ]
     },
     "execution_count": 82,
     "metadata": {},
     "output_type": "execute_result"
    }
   ],
   "source": [
    "def xcorr(x, y, normed=True, detrend=False, maxlags=10):\n",
    "    # Cross correlation of two signals of equal length\n",
    "    # Returns the coefficients when normed=True\n",
    "    # Returns inner products when normed=False\n",
    "    # Usage: lags, c = xcorr(x,y,maxlags=len(x)-1)\n",
    "    # Optional detrending e.g. mlab.detrend_mean\n",
    "\n",
    "    Nx = len(x)\n",
    "    if Nx != len(y):\n",
    "        raise ValueError('x and y must be equal length')\n",
    "    \n",
    "    if detrend:\n",
    "        import matplotlib.mlab as mlab\n",
    "        x = mlab.detrend_mean(np.asarray(x)) # can set your preferences here\n",
    "        y = mlab.detrend_mean(np.asarray(y))\n",
    "    \n",
    "    c = np.correlate(x, y, mode='full')\n",
    "\n",
    "    if normed:\n",
    "        n = np.sqrt(np.dot(x, x) * np.dot(y, y)) # this is the transformation function\n",
    "        c = np.true_divide(c,n)\n",
    "\n",
    "    if maxlags is None:\n",
    "        maxlags = Nx - 1\n",
    "\n",
    "    if maxlags >= Nx or maxlags < 1:\n",
    "        raise ValueError('maglags must be None or strictly '\n",
    "                         'positive < %d' % Nx)\n",
    "\n",
    "    lags = np.arange(-maxlags, maxlags + 1)\n",
    "    c = c[Nx - 1 - maxlags:Nx + maxlags]\n",
    "    \n",
    "    return lags, c\n",
    "\n",
    "xcorr(marketing, revenue, maxlags=5)"
   ]
  },
  {
   "cell_type": "markdown",
   "metadata": {},
   "source": [
    "#### 참고 3 실습 : 한국국채 10년물, KOSPI"
   ]
  },
  {
   "cell_type": "code",
   "execution_count": 83,
   "metadata": {},
   "outputs": [],
   "source": [
    "import FinanceDataReader as fdr\n",
    "\n",
    "kr10YT = fdr.DataReader('KR10YT=RR','2010-01-01', '2020-01-01')\n",
    "ks11 = fdr.DataReader('KS11', '2010-01-01', '2020-01-01')"
   ]
  },
  {
   "cell_type": "code",
   "execution_count": 84,
   "metadata": {},
   "outputs": [
    {
     "data": {
      "text/html": [
       "<div>\n",
       "<style scoped>\n",
       "    .dataframe tbody tr th:only-of-type {\n",
       "        vertical-align: middle;\n",
       "    }\n",
       "\n",
       "    .dataframe tbody tr th {\n",
       "        vertical-align: top;\n",
       "    }\n",
       "\n",
       "    .dataframe thead th {\n",
       "        text-align: right;\n",
       "    }\n",
       "</style>\n",
       "<table border=\"1\" class=\"dataframe\">\n",
       "  <thead>\n",
       "    <tr style=\"text-align: right;\">\n",
       "      <th></th>\n",
       "      <th>Close</th>\n",
       "      <th>Open</th>\n",
       "      <th>High</th>\n",
       "      <th>Low</th>\n",
       "      <th>Change</th>\n",
       "    </tr>\n",
       "    <tr>\n",
       "      <th>Date</th>\n",
       "      <th></th>\n",
       "      <th></th>\n",
       "      <th></th>\n",
       "      <th></th>\n",
       "      <th></th>\n",
       "    </tr>\n",
       "  </thead>\n",
       "  <tbody>\n",
       "    <tr>\n",
       "      <th>2010-01-29</th>\n",
       "      <td>5.34</td>\n",
       "      <td>5.34</td>\n",
       "      <td>5.34</td>\n",
       "      <td>5.34</td>\n",
       "      <td>-0.0056</td>\n",
       "    </tr>\n",
       "    <tr>\n",
       "      <th>2010-02-26</th>\n",
       "      <td>5.13</td>\n",
       "      <td>5.13</td>\n",
       "      <td>5.13</td>\n",
       "      <td>5.13</td>\n",
       "      <td>0.0000</td>\n",
       "    </tr>\n",
       "    <tr>\n",
       "      <th>2010-03-31</th>\n",
       "      <td>4.94</td>\n",
       "      <td>4.94</td>\n",
       "      <td>4.94</td>\n",
       "      <td>4.94</td>\n",
       "      <td>-0.0120</td>\n",
       "    </tr>\n",
       "    <tr>\n",
       "      <th>2010-04-30</th>\n",
       "      <td>4.83</td>\n",
       "      <td>4.83</td>\n",
       "      <td>4.83</td>\n",
       "      <td>4.83</td>\n",
       "      <td>0.0021</td>\n",
       "    </tr>\n",
       "    <tr>\n",
       "      <th>2010-05-31</th>\n",
       "      <td>4.94</td>\n",
       "      <td>4.94</td>\n",
       "      <td>4.94</td>\n",
       "      <td>4.94</td>\n",
       "      <td>0.0041</td>\n",
       "    </tr>\n",
       "  </tbody>\n",
       "</table>\n",
       "</div>"
      ],
      "text/plain": [
       "            Close  Open  High   Low  Change\n",
       "Date                                       \n",
       "2010-01-29   5.34  5.34  5.34  5.34 -0.0056\n",
       "2010-02-26   5.13  5.13  5.13  5.13  0.0000\n",
       "2010-03-31   4.94  4.94  4.94  4.94 -0.0120\n",
       "2010-04-30   4.83  4.83  4.83  4.83  0.0021\n",
       "2010-05-31   4.94  4.94  4.94  4.94  0.0041"
      ]
     },
     "execution_count": 84,
     "metadata": {},
     "output_type": "execute_result"
    }
   ],
   "source": [
    "# 월말 영업일 데이터만 추출 시행\n",
    "\n",
    "# 데이터 인덱스(날짜)를 컬럼으로 형성 후 처음과 끝을 추출\n",
    "kr10YT = kr10YT.reset_index()\n",
    "start_date = kr10YT['Date'].astype(str).iloc[0]\n",
    "end_date = kr10YT['Date'].astype(str).iloc[-1]\n",
    "\n",
    "# 날짜 처음과 끝에서 영업일 기준 freq 적용 후 데이터 프레임 형성\n",
    "date_all = pd.date_range(start_date, end_date, freq='B').to_frame().rename(columns={0:'Date'}).reset_index(drop=True)\n",
    "\n",
    "# 데이터 병합 (영업일 date와 10년물 국체 병합)\n",
    "df_all = pd.merge(date_all,kr10YT,how='left')\n",
    "\n",
    "# 직전 값으로 NaN 값 채우기\n",
    "df_all = df_all.fillna(method='ffill')\n",
    "\n",
    "# 마지막 영업일 제외후 나머지 drop\n",
    "df_KR10 = df_all.set_index(df_all['Date'])\n",
    "\n",
    "# 각 월당 마지막 영업일 도출\n",
    "month_end = pd.date_range('2010-01-01', '2020-01-01', freq='BM')\n",
    "\n",
    "# 마지막 영업일 제외후 나머지 drop\n",
    "kr10yt_BM = df_KR10[df_KR10['Date'].isin(month_end)].reset_index(drop=True)\n",
    "kr10yt_BM = kr10yt_BM.set_index(kr10yt_BM['Date'])\n",
    "kr10yt_BM = kr10yt_BM.drop(columns='Date')\n",
    "kr10yt_BM.head()"
   ]
  },
  {
   "cell_type": "code",
   "execution_count": 85,
   "metadata": {},
   "outputs": [
    {
     "data": {
      "text/html": [
       "<div>\n",
       "<style scoped>\n",
       "    .dataframe tbody tr th:only-of-type {\n",
       "        vertical-align: middle;\n",
       "    }\n",
       "\n",
       "    .dataframe tbody tr th {\n",
       "        vertical-align: top;\n",
       "    }\n",
       "\n",
       "    .dataframe thead th {\n",
       "        text-align: right;\n",
       "    }\n",
       "</style>\n",
       "<table border=\"1\" class=\"dataframe\">\n",
       "  <thead>\n",
       "    <tr style=\"text-align: right;\">\n",
       "      <th></th>\n",
       "      <th>Close</th>\n",
       "    </tr>\n",
       "    <tr>\n",
       "      <th>Date</th>\n",
       "      <th></th>\n",
       "    </tr>\n",
       "  </thead>\n",
       "  <tbody>\n",
       "    <tr>\n",
       "      <th>2010-02-26</th>\n",
       "      <td>-3.932584</td>\n",
       "    </tr>\n",
       "    <tr>\n",
       "      <th>2010-03-31</th>\n",
       "      <td>-3.703704</td>\n",
       "    </tr>\n",
       "    <tr>\n",
       "      <th>2010-04-30</th>\n",
       "      <td>-2.226721</td>\n",
       "    </tr>\n",
       "    <tr>\n",
       "      <th>2010-05-31</th>\n",
       "      <td>2.277433</td>\n",
       "    </tr>\n",
       "    <tr>\n",
       "      <th>2010-06-30</th>\n",
       "      <td>0.000000</td>\n",
       "    </tr>\n",
       "  </tbody>\n",
       "</table>\n",
       "</div>"
      ],
      "text/plain": [
       "               Close\n",
       "Date                \n",
       "2010-02-26 -3.932584\n",
       "2010-03-31 -3.703704\n",
       "2010-04-30 -2.226721\n",
       "2010-05-31  2.277433\n",
       "2010-06-30  0.000000"
      ]
     },
     "execution_count": 85,
     "metadata": {},
     "output_type": "execute_result"
    }
   ],
   "source": [
    "# 전월대비 수익률 도출 (pct_change 사용, %로 표현하기 위해 100을 곱해준다)\n",
    "\n",
    "kr10yt_bm_return = kr10yt_BM['Close'].pct_change().dropna()\n",
    "kr10yt_bm_return = pd.DataFrame(kr10yt_bm_return) * 100\n",
    "kr10yt_bm_return.head()"
   ]
  },
  {
   "cell_type": "code",
   "execution_count": 86,
   "metadata": {},
   "outputs": [
    {
     "data": {
      "text/html": [
       "<div>\n",
       "<style scoped>\n",
       "    .dataframe tbody tr th:only-of-type {\n",
       "        vertical-align: middle;\n",
       "    }\n",
       "\n",
       "    .dataframe tbody tr th {\n",
       "        vertical-align: top;\n",
       "    }\n",
       "\n",
       "    .dataframe thead th {\n",
       "        text-align: right;\n",
       "    }\n",
       "</style>\n",
       "<table border=\"1\" class=\"dataframe\">\n",
       "  <thead>\n",
       "    <tr style=\"text-align: right;\">\n",
       "      <th></th>\n",
       "      <th>Close</th>\n",
       "      <th>Open</th>\n",
       "      <th>High</th>\n",
       "      <th>Low</th>\n",
       "      <th>Volume</th>\n",
       "      <th>Change</th>\n",
       "    </tr>\n",
       "    <tr>\n",
       "      <th>Date</th>\n",
       "      <th></th>\n",
       "      <th></th>\n",
       "      <th></th>\n",
       "      <th></th>\n",
       "      <th></th>\n",
       "      <th></th>\n",
       "    </tr>\n",
       "  </thead>\n",
       "  <tbody>\n",
       "    <tr>\n",
       "      <th>2010-01-29</th>\n",
       "      <td>1602.43</td>\n",
       "      <td>1621.00</td>\n",
       "      <td>1626.57</td>\n",
       "      <td>1595.39</td>\n",
       "      <td>473940000.0</td>\n",
       "      <td>-0.0244</td>\n",
       "    </tr>\n",
       "    <tr>\n",
       "      <th>2010-02-26</th>\n",
       "      <td>1594.58</td>\n",
       "      <td>1593.73</td>\n",
       "      <td>1596.55</td>\n",
       "      <td>1580.70</td>\n",
       "      <td>331760000.0</td>\n",
       "      <td>0.0045</td>\n",
       "    </tr>\n",
       "    <tr>\n",
       "      <th>2010-03-31</th>\n",
       "      <td>1692.85</td>\n",
       "      <td>1702.58</td>\n",
       "      <td>1704.81</td>\n",
       "      <td>1689.92</td>\n",
       "      <td>328320000.0</td>\n",
       "      <td>-0.0043</td>\n",
       "    </tr>\n",
       "    <tr>\n",
       "      <th>2010-04-30</th>\n",
       "      <td>1741.56</td>\n",
       "      <td>1742.32</td>\n",
       "      <td>1749.69</td>\n",
       "      <td>1739.81</td>\n",
       "      <td>412070000.0</td>\n",
       "      <td>0.0076</td>\n",
       "    </tr>\n",
       "    <tr>\n",
       "      <th>2010-05-31</th>\n",
       "      <td>1641.25</td>\n",
       "      <td>1625.08</td>\n",
       "      <td>1641.25</td>\n",
       "      <td>1621.09</td>\n",
       "      <td>299380000.0</td>\n",
       "      <td>0.0114</td>\n",
       "    </tr>\n",
       "  </tbody>\n",
       "</table>\n",
       "</div>"
      ],
      "text/plain": [
       "              Close     Open     High      Low       Volume  Change\n",
       "Date                                                               \n",
       "2010-01-29  1602.43  1621.00  1626.57  1595.39  473940000.0 -0.0244\n",
       "2010-02-26  1594.58  1593.73  1596.55  1580.70  331760000.0  0.0045\n",
       "2010-03-31  1692.85  1702.58  1704.81  1689.92  328320000.0 -0.0043\n",
       "2010-04-30  1741.56  1742.32  1749.69  1739.81  412070000.0  0.0076\n",
       "2010-05-31  1641.25  1625.08  1641.25  1621.09  299380000.0  0.0114"
      ]
     },
     "execution_count": 86,
     "metadata": {},
     "output_type": "execute_result"
    }
   ],
   "source": [
    "# 월말 영업일 데이터만 추출 시행\n",
    "\n",
    "# 데이터 인덱스(날짜)를 컬럼으로 형성 후 처음과 끝을 추출\n",
    "ks11 = ks11.reset_index()\n",
    "start_date = ks11['Date'].astype(str).iloc[0]\n",
    "end_date = ks11['Date'].astype(str).iloc[-1]\n",
    "\n",
    "# 날짜 처음과 끝에서 영업일 기준 freq 적용 후 데이터 프레임 형성\n",
    "date_all = pd.date_range(start_date, end_date, freq='B').to_frame().rename(columns={0:'Date'}).reset_index(drop=True)\n",
    "\n",
    "# 데이터 병합 (영업일 date와 10년물 국체 병합)\n",
    "df_all = pd.merge(date_all,ks11,how='left')\n",
    "\n",
    "# 직전 값으로 NaN 값 채우기\n",
    "df_all = df_all.fillna(method='ffill')\n",
    "\n",
    "\n",
    "# 마지막 영업일 제외후 나머지 drop\n",
    "df_ks11 = df_all.set_index(df_all['Date'])\n",
    "\n",
    "# 각 월당 마지막 영업일 도출\n",
    "month_end = pd.date_range('2010-01-01', '2020-01-01', freq='BM')\n",
    "\n",
    "# 마지막 영업일 제외후 나머지 drop\n",
    "ks11_BM = df_ks11[df_ks11['Date'].isin(month_end)].reset_index(drop=True)\n",
    "ks11_BM = ks11_BM.set_index(ks11_BM['Date'])\n",
    "ks11_BM = ks11_BM.drop(columns='Date')\n",
    "ks11_BM.head()"
   ]
  },
  {
   "cell_type": "code",
   "execution_count": 87,
   "metadata": {},
   "outputs": [
    {
     "data": {
      "text/html": [
       "<div>\n",
       "<style scoped>\n",
       "    .dataframe tbody tr th:only-of-type {\n",
       "        vertical-align: middle;\n",
       "    }\n",
       "\n",
       "    .dataframe tbody tr th {\n",
       "        vertical-align: top;\n",
       "    }\n",
       "\n",
       "    .dataframe thead th {\n",
       "        text-align: right;\n",
       "    }\n",
       "</style>\n",
       "<table border=\"1\" class=\"dataframe\">\n",
       "  <thead>\n",
       "    <tr style=\"text-align: right;\">\n",
       "      <th></th>\n",
       "      <th>Close</th>\n",
       "    </tr>\n",
       "    <tr>\n",
       "      <th>Date</th>\n",
       "      <th></th>\n",
       "    </tr>\n",
       "  </thead>\n",
       "  <tbody>\n",
       "    <tr>\n",
       "      <th>2010-02-26</th>\n",
       "      <td>-0.489881</td>\n",
       "    </tr>\n",
       "    <tr>\n",
       "      <th>2010-03-31</th>\n",
       "      <td>6.162751</td>\n",
       "    </tr>\n",
       "    <tr>\n",
       "      <th>2010-04-30</th>\n",
       "      <td>2.877396</td>\n",
       "    </tr>\n",
       "    <tr>\n",
       "      <th>2010-05-31</th>\n",
       "      <td>-5.759779</td>\n",
       "    </tr>\n",
       "    <tr>\n",
       "      <th>2010-06-30</th>\n",
       "      <td>3.475400</td>\n",
       "    </tr>\n",
       "  </tbody>\n",
       "</table>\n",
       "</div>"
      ],
      "text/plain": [
       "               Close\n",
       "Date                \n",
       "2010-02-26 -0.489881\n",
       "2010-03-31  6.162751\n",
       "2010-04-30  2.877396\n",
       "2010-05-31 -5.759779\n",
       "2010-06-30  3.475400"
      ]
     },
     "execution_count": 87,
     "metadata": {},
     "output_type": "execute_result"
    }
   ],
   "source": [
    "# 전월대비 수익률 도출 (pct_change 사용, %로 표현하기 위해 100을 곱해준다)\n",
    "\n",
    "kospi_bm_return = ks11_BM['Close'].pct_change().dropna()\n",
    "kospi_bm_return = pd.DataFrame(kospi_bm_return) * 100\n",
    "kospi_bm_return.head()"
   ]
  },
  {
   "cell_type": "code",
   "execution_count": 88,
   "metadata": {},
   "outputs": [
    {
     "name": "stdout",
     "output_type": "stream",
     "text": [
      "10년물 국체수익률과 코스피지수의 0개월 후 상관계수 값 : -0.43303\n",
      "10년물 국체수익률과 코스피지수의 1개월 후 상관계수 값 : -0.45656\n",
      "10년물 국체수익률과 코스피지수의 2개월 후 상관계수 값 : -0.44144\n",
      "10년물 국체수익률과 코스피지수의 3개월 후 상관계수 값 : -0.41604\n",
      "10년물 국체수익률과 코스피지수의 4개월 후 상관계수 값 : -0.40058\n",
      "10년물 국체수익률과 코스피지수의 5개월 후 상관계수 값 : -0.39650\n",
      "10년물 국체수익률과 코스피지수의 6개월 후 상관계수 값 : -0.38512\n",
      "10년물 국체수익률과 코스피지수의 7개월 후 상관계수 값 : -0.37847\n",
      "10년물 국체수익률과 코스피지수의 8개월 후 상관계수 값 : -0.37944\n",
      "10년물 국체수익률과 코스피지수의 9개월 후 상관계수 값 : -0.37080\n",
      "10년물 국체수익률과 코스피지수의 10개월 후 상관계수 값 : -0.36968\n",
      "10년물 국체수익률과 코스피지수의 11개월 후 상관계수 값 : -0.36963\n",
      "10년물 국체수익률과 코스피지수의 12개월 후 상관계수 값 : -0.36676\n",
      "10년물 국체수익률과 코스피지수의 13개월 후 상관계수 값 : -0.38482\n",
      "10년물 국체수익률과 코스피지수의 14개월 후 상관계수 값 : -0.41424\n",
      "10년물 국체수익률과 코스피지수의 15개월 후 상관계수 값 : -0.42477\n",
      "10년물 국체수익률과 코스피지수의 16개월 후 상관계수 값 : -0.45561\n",
      "10년물 국체수익률과 코스피지수의 17개월 후 상관계수 값 : -0.49250\n",
      "10년물 국체수익률과 코스피지수의 18개월 후 상관계수 값 : -0.51110\n",
      "10년물 국체수익률과 코스피지수의 19개월 후 상관계수 값 : -0.52868\n",
      "10년물 국체수익률과 코스피지수의 20개월 후 상관계수 값 : -0.54698\n",
      "10년물 국체수익률과 코스피지수의 21개월 후 상관계수 값 : -0.53097\n",
      "10년물 국체수익률과 코스피지수의 22개월 후 상관계수 값 : -0.51061\n",
      "10년물 국체수익률과 코스피지수의 23개월 후 상관계수 값 : -0.50377\n",
      "10년물 국체수익률과 코스피지수의 24개월 후 상관계수 값 : -0.48936\n",
      "10년물 국체수익률과 코스피지수의 25개월 후 상관계수 값 : -0.46923\n",
      "10년물 국체수익률과 코스피지수의 26개월 후 상관계수 값 : -0.45415\n",
      "10년물 국체수익률과 코스피지수의 27개월 후 상관계수 값 : -0.44599\n",
      "10년물 국체수익률과 코스피지수의 28개월 후 상관계수 값 : -0.43527\n",
      "10년물 국체수익률과 코스피지수의 29개월 후 상관계수 값 : -0.42443\n",
      "10년물 국체수익률과 코스피지수의 30개월 후 상관계수 값 : -0.40159\n",
      "10년물 국체수익률과 코스피지수의 31개월 후 상관계수 값 : -0.38237\n",
      "10년물 국체수익률과 코스피지수의 32개월 후 상관계수 값 : -0.35833\n",
      "10년물 국체수익률과 코스피지수의 33개월 후 상관계수 값 : -0.32649\n",
      "10년물 국체수익률과 코스피지수의 34개월 후 상관계수 값 : -0.30301\n",
      "10년물 국체수익률과 코스피지수의 35개월 후 상관계수 값 : -0.26859\n",
      "10년물 국체수익률과 코스피지수의 36개월 후 상관계수 값 : -0.24305\n",
      "10년물 국체수익률과 코스피지수의 37개월 후 상관계수 값 : -0.22263\n",
      "10년물 국체수익률과 코스피지수의 38개월 후 상관계수 값 : -0.18918\n",
      "10년물 국체수익률과 코스피지수의 39개월 후 상관계수 값 : -0.16819\n",
      "10년물 국체수익률과 코스피지수의 40개월 후 상관계수 값 : -0.14778\n",
      "10년물 국체수익률과 코스피지수의 41개월 후 상관계수 값 : -0.12006\n",
      "10년물 국체수익률과 코스피지수의 42개월 후 상관계수 값 : -0.09733\n",
      "10년물 국체수익률과 코스피지수의 43개월 후 상관계수 값 : -0.06325\n",
      "10년물 국체수익률과 코스피지수의 44개월 후 상관계수 값 : -0.03213\n",
      "10년물 국체수익률과 코스피지수의 45개월 후 상관계수 값 : -0.00924\n",
      "10년물 국체수익률과 코스피지수의 46개월 후 상관계수 값 :  0.01031\n",
      "10년물 국체수익률과 코스피지수의 47개월 후 상관계수 값 :  0.01729\n",
      "10년물 국체수익률과 코스피지수의 48개월 후 상관계수 값 :  0.02366\n",
      "10년물 국체수익률과 코스피지수의 49개월 후 상관계수 값 :  0.03159\n",
      "10년물 국체수익률과 코스피지수의 50개월 후 상관계수 값 :  0.04084\n",
      "10년물 국체수익률과 코스피지수의 51개월 후 상관계수 값 :  0.04655\n",
      "10년물 국체수익률과 코스피지수의 52개월 후 상관계수 값 :  0.04794\n",
      "10년물 국체수익률과 코스피지수의 53개월 후 상관계수 값 :  0.05286\n",
      "10년물 국체수익률과 코스피지수의 54개월 후 상관계수 값 :  0.04675\n",
      "10년물 국체수익률과 코스피지수의 55개월 후 상관계수 값 :  0.03534\n",
      "10년물 국체수익률과 코스피지수의 56개월 후 상관계수 값 :  0.01795\n",
      "10년물 국체수익률과 코스피지수의 57개월 후 상관계수 값 :  0.00751\n",
      "10년물 국체수익률과 코스피지수의 58개월 후 상관계수 값 :  0.00799\n",
      "10년물 국체수익률과 코스피지수의 59개월 후 상관계수 값 :  0.01581\n"
     ]
    },
    {
     "data": {
      "image/png": "[encoded data removed]",
      "text/plain": [
       "<Figure size 432x288 with 1 Axes>"
      ]
     },
     "metadata": {
      "needs_background": "light"
     },
     "output_type": "display_data"
    }
   ],
   "source": [
    "import statsmodels.api as sm\n",
    "import numpy as np\n",
    "import matplotlib.pyplot as plt\n",
    "\n",
    "kr10yt_data = np.array(kr10yt_BM['Close'])\n",
    "ks11_data = np.array(ks11_BM['Close'])\n",
    "\n",
    "\n",
    "cc = sm.tsa.stattools.ccf(ks11_data, kr10yt_data, adjusted=False, fft=True)\n",
    "\n",
    "for i in range(60):\n",
    "    print(f'10년물 국체수익률과 코스피지수의 {i}개월 후 상관계수 값 : {cc[i] : .5f}')\n",
    "\n",
    "for i in range(60):\n",
    "    plt.scatter(i, cc[i])\n",
    "plt.axvline(x=0, color='k' ,linestyle = ':') \n",
    "plt.axhline(y=0, color='k' ,linestyle = ':')\n",
    "plt.title('Cross correlation (KS11, KR10YT)')\n",
    "plt.xlabel('after k period')\n",
    "plt.ylabel('cross corr')\n",
    "plt.show()"
   ]
  },
  {
   "cell_type": "code",
   "execution_count": 89,
   "metadata": {},
   "outputs": [
    {
     "name": "stdout",
     "output_type": "stream",
     "text": [
      "10년물 국체수익률과 코스피지수 수익률의 0개월 후 상관계수 값 :  0.12547\n",
      "10년물 국체수익률과 코스피지수 수익률의 1개월 후 상관계수 값 :  0.14507\n",
      "10년물 국체수익률과 코스피지수 수익률의 2개월 후 상관계수 값 : -0.13085\n",
      "10년물 국체수익률과 코스피지수 수익률의 3개월 후 상관계수 값 :  0.02708\n",
      "10년물 국체수익률과 코스피지수 수익률의 4개월 후 상관계수 값 :  0.07631\n",
      "10년물 국체수익률과 코스피지수 수익률의 5개월 후 상관계수 값 :  0.09027\n",
      "10년물 국체수익률과 코스피지수 수익률의 6개월 후 상관계수 값 :  0.01290\n",
      "10년물 국체수익률과 코스피지수 수익률의 7개월 후 상관계수 값 :  0.01621\n",
      "10년물 국체수익률과 코스피지수 수익률의 8개월 후 상관계수 값 : -0.04429\n",
      "10년물 국체수익률과 코스피지수 수익률의 9개월 후 상관계수 값 : -0.04753\n",
      "10년물 국체수익률과 코스피지수 수익률의 10개월 후 상관계수 값 : -0.00915\n",
      "10년물 국체수익률과 코스피지수 수익률의 11개월 후 상관계수 값 : -0.06412\n",
      "10년물 국체수익률과 코스피지수 수익률의 12개월 후 상관계수 값 :  0.06611\n",
      "10년물 국체수익률과 코스피지수 수익률의 13개월 후 상관계수 값 :  0.08057\n",
      "10년물 국체수익률과 코스피지수 수익률의 14개월 후 상관계수 값 : -0.07865\n",
      "10년물 국체수익률과 코스피지수 수익률의 15개월 후 상관계수 값 :  0.04310\n",
      "10년물 국체수익률과 코스피지수 수익률의 16개월 후 상관계수 값 : -0.05456\n",
      "10년물 국체수익률과 코스피지수 수익률의 17개월 후 상관계수 값 : -0.19848\n",
      "10년물 국체수익률과 코스피지수 수익률의 18개월 후 상관계수 값 :  0.05902\n",
      "10년물 국체수익률과 코스피지수 수익률의 19개월 후 상관계수 값 : -0.05833\n",
      "10년물 국체수익률과 코스피지수 수익률의 20개월 후 상관계수 값 : -0.13140\n",
      "10년물 국체수익률과 코스피지수 수익률의 21개월 후 상관계수 값 :  0.07690\n",
      "10년물 국체수익률과 코스피지수 수익률의 22개월 후 상관계수 값 : -0.03310\n",
      "10년물 국체수익률과 코스피지수 수익률의 23개월 후 상관계수 값 : -0.01028\n",
      "10년물 국체수익률과 코스피지수 수익률의 24개월 후 상관계수 값 : -0.05733\n",
      "10년물 국체수익률과 코스피지수 수익률의 25개월 후 상관계수 값 : -0.10359\n",
      "10년물 국체수익률과 코스피지수 수익률의 26개월 후 상관계수 값 : -0.00635\n",
      "10년물 국체수익률과 코스피지수 수익률의 27개월 후 상관계수 값 : -0.01628\n",
      "10년물 국체수익률과 코스피지수 수익률의 28개월 후 상관계수 값 :  0.08657\n",
      "10년물 국체수익률과 코스피지수 수익률의 29개월 후 상관계수 값 :  0.04188\n",
      "10년물 국체수익률과 코스피지수 수익률의 30개월 후 상관계수 값 :  0.05887\n",
      "10년물 국체수익률과 코스피지수 수익률의 31개월 후 상관계수 값 : -0.10078\n",
      "10년물 국체수익률과 코스피지수 수익률의 32개월 후 상관계수 값 : -0.16525\n",
      "10년물 국체수익률과 코스피지수 수익률의 33개월 후 상관계수 값 :  0.00741\n",
      "10년물 국체수익률과 코스피지수 수익률의 34개월 후 상관계수 값 : -0.05262\n",
      "10년물 국체수익률과 코스피지수 수익률의 35개월 후 상관계수 값 :  0.11029\n",
      "10년물 국체수익률과 코스피지수 수익률의 36개월 후 상관계수 값 :  0.00799\n",
      "10년물 국체수익률과 코스피지수 수익률의 37개월 후 상관계수 값 : -0.11735\n",
      "10년물 국체수익률과 코스피지수 수익률의 38개월 후 상관계수 값 :  0.10892\n",
      "10년물 국체수익률과 코스피지수 수익률의 39개월 후 상관계수 값 :  0.05667\n",
      "10년물 국체수익률과 코스피지수 수익률의 40개월 후 상관계수 값 : -0.02817\n",
      "10년물 국체수익률과 코스피지수 수익률의 41개월 후 상관계수 값 : -0.00744\n",
      "10년물 국체수익률과 코스피지수 수익률의 42개월 후 상관계수 값 :  0.05447\n",
      "10년물 국체수익률과 코스피지수 수익률의 43개월 후 상관계수 값 : -0.04247\n",
      "10년물 국체수익률과 코스피지수 수익률의 44개월 후 상관계수 값 :  0.10626\n",
      "10년물 국체수익률과 코스피지수 수익률의 45개월 후 상관계수 값 : -0.04575\n",
      "10년물 국체수익률과 코스피지수 수익률의 46개월 후 상관계수 값 :  0.11849\n",
      "10년물 국체수익률과 코스피지수 수익률의 47개월 후 상관계수 값 : -0.01288\n",
      "10년물 국체수익률과 코스피지수 수익률의 48개월 후 상관계수 값 :  0.04041\n",
      "10년물 국체수익률과 코스피지수 수익률의 49개월 후 상관계수 값 :  0.06638\n",
      "10년물 국체수익률과 코스피지수 수익률의 50개월 후 상관계수 값 : -0.02307\n",
      "10년물 국체수익률과 코스피지수 수익률의 51개월 후 상관계수 값 :  0.05367\n",
      "10년물 국체수익률과 코스피지수 수익률의 52개월 후 상관계수 값 : -0.03267\n",
      "10년물 국체수익률과 코스피지수 수익률의 53개월 후 상관계수 값 :  0.08665\n",
      "10년물 국체수익률과 코스피지수 수익률의 54개월 후 상관계수 값 :  0.05277\n",
      "10년물 국체수익률과 코스피지수 수익률의 55개월 후 상관계수 값 : -0.01266\n",
      "10년물 국체수익률과 코스피지수 수익률의 56개월 후 상관계수 값 : -0.04976\n",
      "10년물 국체수익률과 코스피지수 수익률의 57개월 후 상관계수 값 : -0.05664\n",
      "10년물 국체수익률과 코스피지수 수익률의 58개월 후 상관계수 값 : -0.01772\n",
      "10년물 국체수익률과 코스피지수 수익률의 59개월 후 상관계수 값 :  0.03169\n"
     ]
    },
    {
     "data": {
      "image/png": "[encoded data removed]",
      "text/plain": [
       "<Figure size 432x288 with 1 Axes>"
      ]
     },
     "metadata": {
      "needs_background": "light"
     },
     "output_type": "display_data"
    }
   ],
   "source": [
    "# 예시 : 마케팅 비용과 수익간의 상관성 분석\n",
    "import statsmodels.api as sm\n",
    "import numpy as np\n",
    "import matplotlib.pyplot as plt\n",
    "\n",
    "kr10yt_data = np.array(kr10yt_bm_return['Close'])\n",
    "ks11_data = np.array(kospi_bm_return['Close'])\n",
    "\n",
    "\n",
    "cc = sm.tsa.stattools.ccf(ks11_data, kr10yt_data, adjusted=False, fft=True)\n",
    "\n",
    "for i in range(60):\n",
    "    print(f'10년물 국체수익률과 코스피지수 수익률의 {i}개월 후 상관계수 값 : {cc[i] : .5f}')\n",
    "\n",
    "for i in range(60):\n",
    "    plt.scatter(i, cc[i])\n",
    "plt.axvline(x=0, color='k' ,linestyle = ':') \n",
    "plt.axhline(y=0, color='k' ,linestyle = ':')\n",
    "plt.title('Cross correlation (KS11, KR10YT)')\n",
    "plt.xlabel('after k period')\n",
    "plt.ylabel('cross corr')\n",
    "plt.show()"
   ]
  }
 ],
 "metadata": {
  "interpreter": {
   "hash": "aee8b7b246df8f9039afb4144a1f6fd8d2ca17a180786b69acc140d282b71a49"
  },
  "kernelspec": {
   "display_name": "Python 3.9.4 64-bit",
   "language": "python",
   "name": "python3"
  },
  "language_info": {
   "codemirror_mode": {
    "name": "ipython",
    "version": 3
   },
   "file_extension": ".py",
   "mimetype": "text/x-python",
   "name": "python",
   "nbconvert_exporter": "python",
   "pygments_lexer": "ipython3",
   "version": "3.9.7"
  },
  "orig_nbformat": 4
 },
 "nbformat": 4,
 "nbformat_minor": 2
}
