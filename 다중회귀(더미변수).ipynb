{
 "cells": [
  {
   "cell_type": "markdown",
   "id": "c64ea30e",
   "metadata": {},
   "source": [
    "# 더미변수"
   ]
  },
  {
   "cell_type": "code",
   "execution_count": null,
   "id": "7eb48891",
   "metadata": {},
   "outputs": [],
   "source": [
    "# 데이터 준비: pandas DataFrame을 사용하여 결제 방식과 소비금액 데이터를 준비합니다.\n",
    "# 더미 변수 생성: pd.get_dummies 함수로 결제 방식의 더미 변수를 생성합니다. drop_first=True 옵션으로 첫 번째 카테고리를 기준 범주로 설정하고, 이를 제외합니다. 이렇게 하면 '카드결제'가 기준 범주가 되며, '현금결제'와 '페이결제'에 대한 더미 변수만 생성됩니다.\n",
    "# 모델 생성 및 적합: statsmodels의 OLS 클래스를 사용하여 종속변수 y와 독립변수 X에 대한 다중회귀분석 모델을 생성하고 적합시킵니다. 여기서 X는 상수항(절편)을 추가한 더미 변수입니다.\n",
    "# 결과 출력: model.summary() 메소드를 호출하여 회귀분석 결과를 출력합니다. 이 결과에는 각 독립변수의 계수, 통계적 유의성(p-value), 모델의 결정계수(R-squared) 등이 포함됩니다."
   ]
  },
  {
   "cell_type": "code",
   "execution_count": 2,
   "id": "f5c61e19",
   "metadata": {},
   "outputs": [
    {
     "name": "stdout",
     "output_type": "stream",
     "text": [
      "                            OLS Regression Results                            \n",
      "==============================================================================\n",
      "Dep. Variable:                   소비금액   R-squared:                       0.864\n",
      "Model:                            OLS   Adj. R-squared:                  0.818\n",
      "Method:                 Least Squares   F-statistic:                     19.00\n",
      "Date:                Fri, 22 Mar 2024   Prob (F-statistic):            0.00254\n",
      "Time:                        20:21:18   Log-Likelihood:                -31.669\n",
      "No. Observations:                   9   AIC:                             69.34\n",
      "Df Residuals:                       6   BIC:                             69.93\n",
      "Df Model:                           2                                         \n",
      "Covariance Type:            nonrobust                                         \n",
      "==============================================================================\n",
      "                 coef    std err          t      P>|t|      [0.025      0.975]\n",
      "------------------------------------------------------------------------------\n",
      "const        210.0000      5.774     36.373      0.000     195.873     224.127\n",
      "현금결제         -50.0000      8.165     -6.124      0.001     -69.979     -30.021\n",
      "페이결제         -20.0000      8.165     -2.449      0.050     -39.979      -0.021\n",
      "==============================================================================\n",
      "Omnibus:                        3.417   Durbin-Watson:                   1.000\n",
      "Prob(Omnibus):                  0.181   Jarque-Bera (JB):                0.844\n",
      "Skew:                           0.000   Prob(JB):                        0.656\n",
      "Kurtosis:                       1.500   Cond. No.                         3.73\n",
      "==============================================================================\n",
      "\n",
      "Notes:\n",
      "[1] Standard Errors assume that the covariance matrix of the errors is correctly specified.\n"
     ]
    },
    {
     "name": "stderr",
     "output_type": "stream",
     "text": [
      "c:\\users\\jyb\\appdata\\local\\programs\\python\\python39\\lib\\site-packages\\scipy\\stats\\stats.py:1541: UserWarning: kurtosistest only valid for n>=20 ... continuing anyway, n=9\n",
      "  warnings.warn(\"kurtosistest only valid for n>=20 ... continuing \"\n"
     ]
    }
   ],
   "source": [
    "import pandas as pd\n",
    "import statsmodels.api as sm\n",
    "\n",
    "# 예제 데이터 생성\n",
    "data = {\n",
    "    '결제방식': ['카드결제', '현금결제', '페이결제', '카드결제', '현금결제', '페이결제', '카드결제', '현금결제', '페이결제'],\n",
    "    '소비금액': [200, 150, 180, 220, 160, 190, 210, 170, 200]\n",
    "}\n",
    "df = pd.DataFrame(data)\n",
    "\n",
    "# 더미 변수 생성\n",
    "# '카드결제'를 기준 범주로 하여 더미 변수를 생성합니다. pd.get_dummies 함수는 자동으로 범주형 변수를 더미 변수로 변환합니다.\n",
    "# drop_first=True 옵션을 사용하여 첫 번째 범주('카드결제')에 대한 더미 변수를 제외하고, 기준(참조) 범주로 설정합니다.\n",
    "df_dummies = pd.get_dummies(df['결제방식'], drop_first=True)\n",
    "\n",
    "# 원본 데이터프레임에 더미 변수 추가\n",
    "df = pd.concat([df, df_dummies], axis=1)\n",
    "\n",
    "# 다중회귀분석 모델 생성 및 적합\n",
    "X = df[['현금결제', '페이결제']]  # 독립변수. '카드결제'를 제외한 더미 변수를 사용합니다.\n",
    "y = df['소비금액']  # 종속변수\n",
    "X = sm.add_constant(X)  # 모델에 상수항(절편) 추가\n",
    "\n",
    "model = sm.OLS(y, X).fit()  # OLS 모델 적합\n",
    "\n",
    "# 결과 출력\n",
    "print(model.summary())\n"
   ]
  },
  {
   "cell_type": "code",
   "execution_count": null,
   "id": "bc33686e",
   "metadata": {},
   "outputs": [],
   "source": [
    "# 카드 200 220  210  합계 630   # 기준범주\n",
    "# 현금 : 150 160 170  합계 480  # 더미1\n",
    "# 페이 :180 190 200   합계 570  #더미2\n",
    "\n",
    "# 더미1 회귀계수 -50 : 480의 평균 160 과 기준범주 카드결제 평균 210과 차이 -50 즉 현금결제가 카드결제 대비 평균 50 소비액이 작다.\n",
    "# 더미2 회귀계수 -20 : 570의 평균 190 과 기준범주 카드결제 평균 210과 차이 -20 즉 페이결제가 카드결제 대비 평균 20 소비액이 작다.\n"
   ]
  }
 ],
 "metadata": {
  "kernelspec": {
   "display_name": "Python 3 (ipykernel)",
   "language": "python",
   "name": "python3"
  },
  "language_info": {
   "codemirror_mode": {
    "name": "ipython",
    "version": 3
   },
   "file_extension": ".py",
   "mimetype": "text/x-python",
   "name": "python",
   "nbconvert_exporter": "python",
   "pygments_lexer": "ipython3",
   "version": "3.9.11"
  },
  "toc": {
   "base_numbering": 1,
   "nav_menu": {},
   "number_sections": true,
   "sideBar": true,
   "skip_h1_title": false,
   "title_cell": "Table of Contents",
   "title_sidebar": "Contents",
   "toc_cell": false,
   "toc_position": {},
   "toc_section_display": true,
   "toc_window_display": false
  }
 },
 "nbformat": 4,
 "nbformat_minor": 5
}
