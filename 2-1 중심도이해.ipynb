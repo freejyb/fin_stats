{
 "cells": [
  {
   "cell_type": "code",
   "execution_count": 1,
   "metadata": {},
   "outputs": [],
   "source": [
    "# 필요한 라이브러리 호출\n",
    "import pandas as pd\n",
    "import matplotlib.pyplot as plt\n",
    "import numpy as np\n",
    "import seaborn as sns\n",
    "# 한글폰트 출력 가능 코드\n",
    "from matplotlib import rc\n",
    "rc('font', family='AppleGothic') # Mac Os\n",
    "#rc('font', family='NanumGothic') # Windows Os\n",
    "plt.rcParams['axes.unicode_minus'] = False"
   ]
  },
  {
   "cell_type": "markdown",
   "metadata": {},
   "source": [
    "# 1. Simple data 형성"
   ]
  },
  {
   "cell_type": "code",
   "execution_count": 2,
   "metadata": {},
   "outputs": [
    {
     "name": "stdout",
     "output_type": "stream",
     "text": [
      "[ 6 12 13  9 10 12  6 16  1 17  2 13]\n"
     ]
    }
   ],
   "source": [
    "# 데이터 랜덤하게 형성 (seed 부여)\n",
    "np.random.seed(1)\n",
    "\n",
    "# 12개월 동안 발생한 특정 회사 A의 판매 건수라고 가정\n",
    "X = np.random.randint(1,20,12)\n",
    "print(X)"
   ]
  },
  {
   "cell_type": "markdown",
   "metadata": {},
   "source": [
    "## 1-1. 데이터 시각화"
   ]
  },
  {
   "cell_type": "code",
   "execution_count": 81,
   "metadata": {},
   "outputs": [
    {
     "data": {
      "image/png": "[encoded data removed]",
      "text/plain": [
       "<Figure size 432x288 with 1 Axes>"
      ]
     },
     "metadata": {
      "needs_background": "light"
     },
     "output_type": "display_data"
    }
   ],
   "source": [
    "# 데이터 보기 (시각화로 각 원소별 개수를 출력)\n",
    "\n",
    "sns.barplot(x= list(map(lambda x: x , range(1,13))), y=X)\n",
    "plt.title('월별 판매 건수')\n",
    "plt.xlabel('월')\n",
    "plt.grid(axis='y')\n",
    "plt.show()"
   ]
  },
  {
   "cell_type": "markdown",
   "metadata": {},
   "source": [
    "## 1-2. 평균 도출\n",
    "\n",
    "### A. 산술평균"
   ]
  },
  {
   "cell_type": "code",
   "execution_count": 4,
   "metadata": {},
   "outputs": [
    {
     "name": "stdout",
     "output_type": "stream",
     "text": [
      "9.75\n",
      "9.75\n",
      "10\n"
     ]
    }
   ],
   "source": [
    "# 데이터의 평균값을 도출해보기 (전체 합 / 전체 데이터 개수)\n",
    "\n",
    "print(X.sum()/len(X))\n",
    "\n",
    "print(X.mean())\n",
    "\n",
    "# 만약, 소수점을 출력하지 않는 경우 (round 반올림 함수 이용)\n",
    "\n",
    "print(round(X.mean()))"
   ]
  },
  {
   "cell_type": "markdown",
   "metadata": {},
   "source": [
    "### B. 기하평균"
   ]
  },
  {
   "cell_type": "code",
   "execution_count": 82,
   "metadata": {},
   "outputs": [
    {
     "name": "stdout",
     "output_type": "stream",
     "text": [
      "1월 대비 2월의 판매건수 비율은 약  200.00% 입니다.\n",
      "2월 대비 3월의 판매건수 비율은 약  108.33% 입니다.\n",
      "3월 대비 4월의 판매건수 비율은 약  69.23% 입니다.\n",
      "4월 대비 5월의 판매건수 비율은 약  111.11% 입니다.\n",
      "5월 대비 6월의 판매건수 비율은 약  120.00% 입니다.\n",
      "6월 대비 7월의 판매건수 비율은 약  50.00% 입니다.\n",
      "7월 대비 8월의 판매건수 비율은 약  266.67% 입니다.\n",
      "8월 대비 9월의 판매건수 비율은 약  6.25% 입니다.\n",
      "9월 대비 10월의 판매건수 비율은 약  1700.00% 입니다.\n",
      "10월 대비 11월의 판매건수 비율은 약  11.76% 입니다.\n",
      "11월 대비 12월의 판매건수 비율은 약  650.00% 입니다.\n"
     ]
    }
   ],
   "source": [
    "# 변화율 도출하기 (월별 범죄 건수가 얼마의 비율로 변화되었는지)\n",
    "rate = []\n",
    "for i in range(len(X)-1):\n",
    "    rate.append((( (X[i+1]) / X[i] )))\n",
    "\n",
    "for i in range(11):\n",
    "    print(f'{i+1}월 대비 {i+2}월의 판매건수 비율은 약 {rate[i]*100 : .2f}% 입니다.')"
   ]
  },
  {
   "cell_type": "code",
   "execution_count": 6,
   "metadata": {},
   "outputs": [
    {
     "name": "stdout",
     "output_type": "stream",
     "text": [
      "변화율의 모든 값을 곱하면 2.166666666666666가 됩니다.\n",
      "해당 데이터의 기하평균(=평균 증가율) 값은 약 107.28192428296298% 입니다.\n"
     ]
    }
   ],
   "source": [
    "# 변수 설정 (simple data X는 동일)\n",
    "# 곱셈에 대한 항등원 1\n",
    "mulScores = 1 \n",
    "\n",
    "# 항목들로 반복 (rate의 모든 항목을 곱셈하기 위한 코드)\n",
    "for item in rate:\n",
    "    mulScores *= item\n",
    "print(f'변화율의 모든 값을 곱하면 {mulScores}가 됩니다.')    \n",
    "\n",
    "# 제곱 연산자 '**'로 기하평균을 도츌합니다.\n",
    "geometricMean1 = mulScores ** (1/len(rate)) \n",
    "print(f'해당 데이터의 기하평균(=평균 증가율) 값은 약 {geometricMean1*100}% 입니다.')"
   ]
  },
  {
   "cell_type": "markdown",
   "metadata": {},
   "source": [
    "### C. 가중평균"
   ]
  },
  {
   "cell_type": "code",
   "execution_count": 83,
   "metadata": {},
   "outputs": [
    {
     "name": "stdout",
     "output_type": "stream",
     "text": [
      "가중치 : [2 1 2 1 2 2 1 4 1 3 1 1]\n",
      "판매 건수 : [ 6 12 13  9 10 12  6 16  1 17  2 13]\n",
      "판매 건수의 순이익에 대한 가중평균 값 : 11.428571428571429\n"
     ]
    }
   ],
   "source": [
    "# 가중치도 랜덤으로 설정합니다. (각 의미는 매출이 아닌 순이익의 비율로 가정해봅니다.)\n",
    "np.random.seed(2022)\n",
    "weight = np.random.randint(1, 5, 12)\n",
    "\n",
    "print('가중치 :',weight)\n",
    "print('판매 건수 :',X)\n",
    "print('판매 건수의 순이익에 대한 가중평균 값 :', sum(X * weight)/sum(weight))"
   ]
  },
  {
   "cell_type": "markdown",
   "metadata": {},
   "source": [
    "### D. 절사평균"
   ]
  },
  {
   "cell_type": "code",
   "execution_count": 8,
   "metadata": {},
   "outputs": [
    {
     "name": "stdout",
     "output_type": "stream",
     "text": [
      "5.0% 비율로 절사한 후 data는 [2, 6, 6, 9, 10, 12, 12, 13, 13, 16]입니다.\n",
      "5.0% 비율로 절사한 후 data의 평균은 9.9입니다.\n"
     ]
    }
   ],
   "source": [
    "# 인덱스 슬라이싱을 적용하여 tem_data 내에서 절사 시행\n",
    "\n",
    "# 변수 설정 (양 극단 5%의 데이터 제외)\n",
    "cut = 0.05\n",
    "n = len(X)\n",
    "tem_data = sorted(X)\n",
    "cut_data = round(n * cut)\n",
    "\n",
    "# 인덱싱 데이터 출력\n",
    "print(f'{cut*100}% 비율로 절사한 후 data는 {tem_data[cut_data : -cut_data]}입니다.')\n",
    "\n",
    "# 인덱싱 후 데이터의 평균 출력\n",
    "print(f'{cut*100}% 비율로 절사한 후 data의 평균은 {np.mean(tem_data[cut_data : -cut_data])}입니다.')"
   ]
  },
  {
   "cell_type": "markdown",
   "metadata": {},
   "source": [
    "## 1-3. 중위값 도출"
   ]
  },
  {
   "cell_type": "code",
   "execution_count": 9,
   "metadata": {},
   "outputs": [
    {
     "name": "stdout",
     "output_type": "stream",
     "text": [
      "[1, 2, 6, 6, 9, 10, 12, 12, 13, 13, 16, 17]\n",
      "6\n",
      "11.0\n",
      "11.0\n"
     ]
    }
   ],
   "source": [
    "# 하나씩 실행해보는 부분\n",
    "\n",
    "# 오름차순으로 정렬한 검거율 데이터를 따로 형성\n",
    "tem_data = sorted(X)\n",
    "print(tem_data)\n",
    "\n",
    "# 검거율 데이터의 길이를 2로 나눈 몫을 출력\n",
    "center = len(tem_data) // 2\n",
    "print(center)\n",
    "\n",
    "# 인덱스로 접근하여 tem_data의 3번째 값과 -4번째 (= 2번째) 값을 더한 후 2로 나눠준다.\n",
    "# 참고로 인덱스는 0부터 시작한다.\n",
    "print((tem_data[center] + tem_data[-center - 1])/2)\n",
    "\n",
    "# np.median을 사용\n",
    "print(np.median(X))"
   ]
  },
  {
   "cell_type": "markdown",
   "metadata": {},
   "source": [
    "# 데이터 실습"
   ]
  },
  {
   "cell_type": "code",
   "execution_count": 66,
   "metadata": {},
   "outputs": [
    {
     "name": "stdout",
     "output_type": "stream",
     "text": [
      "[*********************100%***********************]  1 of 1 completed\n"
     ]
    },
    {
     "data": {
      "text/html": [
       "<div>\n",
       "<style scoped>\n",
       "    .dataframe tbody tr th:only-of-type {\n",
       "        vertical-align: middle;\n",
       "    }\n",
       "\n",
       "    .dataframe tbody tr th {\n",
       "        vertical-align: top;\n",
       "    }\n",
       "\n",
       "    .dataframe thead th {\n",
       "        text-align: right;\n",
       "    }\n",
       "</style>\n",
       "<table border=\"1\" class=\"dataframe\">\n",
       "  <thead>\n",
       "    <tr style=\"text-align: right;\">\n",
       "      <th></th>\n",
       "      <th>Open</th>\n",
       "      <th>High</th>\n",
       "      <th>Low</th>\n",
       "      <th>Close</th>\n",
       "      <th>Adj Close</th>\n",
       "      <th>Volume</th>\n",
       "    </tr>\n",
       "    <tr>\n",
       "      <th>Date</th>\n",
       "      <th></th>\n",
       "      <th></th>\n",
       "      <th></th>\n",
       "      <th></th>\n",
       "      <th></th>\n",
       "      <th></th>\n",
       "    </tr>\n",
       "  </thead>\n",
       "  <tbody>\n",
       "    <tr>\n",
       "      <th>2022-01-04</th>\n",
       "      <td>78800.0</td>\n",
       "      <td>79200.0</td>\n",
       "      <td>78300.0</td>\n",
       "      <td>78700.0</td>\n",
       "      <td>78700.0</td>\n",
       "      <td>12427416</td>\n",
       "    </tr>\n",
       "    <tr>\n",
       "      <th>2022-01-05</th>\n",
       "      <td>78800.0</td>\n",
       "      <td>79000.0</td>\n",
       "      <td>76400.0</td>\n",
       "      <td>77400.0</td>\n",
       "      <td>77400.0</td>\n",
       "      <td>25470640</td>\n",
       "    </tr>\n",
       "    <tr>\n",
       "      <th>2022-01-06</th>\n",
       "      <td>76700.0</td>\n",
       "      <td>77600.0</td>\n",
       "      <td>76600.0</td>\n",
       "      <td>76900.0</td>\n",
       "      <td>76900.0</td>\n",
       "      <td>12931954</td>\n",
       "    </tr>\n",
       "    <tr>\n",
       "      <th>2022-01-07</th>\n",
       "      <td>78100.0</td>\n",
       "      <td>78400.0</td>\n",
       "      <td>77400.0</td>\n",
       "      <td>78300.0</td>\n",
       "      <td>78300.0</td>\n",
       "      <td>15163757</td>\n",
       "    </tr>\n",
       "    <tr>\n",
       "      <th>2022-01-10</th>\n",
       "      <td>78100.0</td>\n",
       "      <td>78100.0</td>\n",
       "      <td>77100.0</td>\n",
       "      <td>78000.0</td>\n",
       "      <td>78000.0</td>\n",
       "      <td>9947422</td>\n",
       "    </tr>\n",
       "    <tr>\n",
       "      <th>2022-01-11</th>\n",
       "      <td>78400.0</td>\n",
       "      <td>79000.0</td>\n",
       "      <td>78000.0</td>\n",
       "      <td>78900.0</td>\n",
       "      <td>78900.0</td>\n",
       "      <td>13221123</td>\n",
       "    </tr>\n",
       "    <tr>\n",
       "      <th>2022-01-12</th>\n",
       "      <td>79500.0</td>\n",
       "      <td>79600.0</td>\n",
       "      <td>78600.0</td>\n",
       "      <td>78900.0</td>\n",
       "      <td>78900.0</td>\n",
       "      <td>11000502</td>\n",
       "    </tr>\n",
       "    <tr>\n",
       "      <th>2022-01-13</th>\n",
       "      <td>79300.0</td>\n",
       "      <td>79300.0</td>\n",
       "      <td>77900.0</td>\n",
       "      <td>77900.0</td>\n",
       "      <td>77900.0</td>\n",
       "      <td>13889401</td>\n",
       "    </tr>\n",
       "    <tr>\n",
       "      <th>2022-01-14</th>\n",
       "      <td>77700.0</td>\n",
       "      <td>78100.0</td>\n",
       "      <td>77100.0</td>\n",
       "      <td>77300.0</td>\n",
       "      <td>77300.0</td>\n",
       "      <td>10096725</td>\n",
       "    </tr>\n",
       "    <tr>\n",
       "      <th>2022-01-17</th>\n",
       "      <td>77600.0</td>\n",
       "      <td>77800.0</td>\n",
       "      <td>76900.0</td>\n",
       "      <td>77500.0</td>\n",
       "      <td>77500.0</td>\n",
       "      <td>8785122</td>\n",
       "    </tr>\n",
       "  </tbody>\n",
       "</table>\n",
       "</div>"
      ],
      "text/plain": [
       "               Open     High      Low    Close  Adj Close    Volume\n",
       "Date                                                               \n",
       "2022-01-04  78800.0  79200.0  78300.0  78700.0    78700.0  12427416\n",
       "2022-01-05  78800.0  79000.0  76400.0  77400.0    77400.0  25470640\n",
       "2022-01-06  76700.0  77600.0  76600.0  76900.0    76900.0  12931954\n",
       "2022-01-07  78100.0  78400.0  77400.0  78300.0    78300.0  15163757\n",
       "2022-01-10  78100.0  78100.0  77100.0  78000.0    78000.0   9947422\n",
       "2022-01-11  78400.0  79000.0  78000.0  78900.0    78900.0  13221123\n",
       "2022-01-12  79500.0  79600.0  78600.0  78900.0    78900.0  11000502\n",
       "2022-01-13  79300.0  79300.0  77900.0  77900.0    77900.0  13889401\n",
       "2022-01-14  77700.0  78100.0  77100.0  77300.0    77300.0  10096725\n",
       "2022-01-17  77600.0  77800.0  76900.0  77500.0    77500.0   8785122"
      ]
     },
     "execution_count": 66,
     "metadata": {},
     "output_type": "execute_result"
    }
   ],
   "source": [
    "import yfinance\n",
    "\n",
    "# 야후 파이낸스를 이용하여 주가 정보를 다운받습니다.\n",
    "samsung_price = yfinance.download('005930.KS', '2022-01-01', '2022-01-18')\n",
    "samsung_price"
   ]
  },
  {
   "cell_type": "markdown",
   "metadata": {},
   "source": [
    "## 실습\n"
   ]
  },
  {
   "cell_type": "code",
   "execution_count": 67,
   "metadata": {},
   "outputs": [
    {
     "name": "stdout",
     "output_type": "stream",
     "text": [
      "Date\n",
      "2022-01-04    78700.0\n",
      "2022-01-05    77400.0\n",
      "2022-01-06    76900.0\n",
      "2022-01-07    78300.0\n",
      "2022-01-10    78000.0\n",
      "2022-01-11    78900.0\n",
      "2022-01-12    78900.0\n",
      "2022-01-13    77900.0\n",
      "2022-01-14    77300.0\n",
      "2022-01-17    77500.0\n",
      "Name: Adj Close, dtype: float64\n"
     ]
    },
    {
     "data": {
      "image/png": "[encoded data removed]",
      "text/plain": [
       "<Figure size 432x288 with 1 Axes>"
      ]
     },
     "metadata": {
      "needs_background": "light"
     },
     "output_type": "display_data"
    }
   ],
   "source": [
    "# 데이터 보기\n",
    "print(samsung_price['Adj Close'])\n",
    "\n",
    "sns.lineplot(x=samsung_price.index,\n",
    "             y=samsung_price['Adj Close'], \n",
    "             data=samsung_price)\n",
    "plt.title('Samsung 1월 주가')\n",
    "plt.show()"
   ]
  },
  {
   "cell_type": "markdown",
   "metadata": {},
   "source": [
    "### 1. 평균값\n",
    "\n",
    "#### A 산술평균"
   ]
  },
  {
   "cell_type": "code",
   "execution_count": 68,
   "metadata": {},
   "outputs": [
    {
     "name": "stdout",
     "output_type": "stream",
     "text": [
      "77980.0\n",
      "77980.0\n",
      "77980.0\n"
     ]
    }
   ],
   "source": [
    "# 데이터의 평균값을 도출해보기 (전체 합 / 전체 데이터 개수)\n",
    "\n",
    "print(samsung_price['Adj Close'].sum()/len(samsung_price['Adj Close']))\n",
    "\n",
    "print(samsung_price['Adj Close'].mean())\n",
    "\n",
    "# 만약, 소수점 2째 자리까지만 출력하는 경우 (round 반올림 함수 이용)\n",
    "\n",
    "print(round(samsung_price['Adj Close'].mean(), 2))"
   ]
  },
  {
   "cell_type": "code",
   "execution_count": 69,
   "metadata": {},
   "outputs": [
    {
     "name": "stdout",
     "output_type": "stream",
     "text": [
      "해당 데이터의 컬럼 중 Adj Close의 평균값(mean)은 77980.0 입니다.\n"
     ]
    }
   ],
   "source": [
    "# 평균값 도출을 위한 함수입니다.\n",
    "def mean(data, column_name):\n",
    "    print(f'해당 데이터의 컬럼 중 {column_name}의 평균값(mean)은 {data[column_name].mean()} 입니다.')\n",
    "\n",
    "mean(samsung_price, 'Adj Close')"
   ]
  },
  {
   "cell_type": "markdown",
   "metadata": {},
   "source": [
    "#### B. 기하평균"
   ]
  },
  {
   "cell_type": "code",
   "execution_count": 70,
   "metadata": {},
   "outputs": [
    {
     "name": "stdout",
     "output_type": "stream",
     "text": [
      "2월 1번재 영업일 대비 2월 2번재 영업일의 조정종가는 약 -1.65% 입니다.\n",
      "2월 2번재 영업일 대비 2월 3번재 영업일의 조정종가는 약 -0.65% 입니다.\n",
      "2월 3번재 영업일 대비 2월 4번재 영업일의 조정종가는 약  1.82% 입니다.\n",
      "2월 4번재 영업일 대비 2월 5번재 영업일의 조정종가는 약 -0.38% 입니다.\n",
      "2월 5번재 영업일 대비 2월 6번재 영업일의 조정종가는 약  1.15% 입니다.\n",
      "2월 6번재 영업일 대비 2월 7번재 영업일의 조정종가는 약  0.00% 입니다.\n",
      "2월 7번재 영업일 대비 2월 8번재 영업일의 조정종가는 약 -1.27% 입니다.\n",
      "2월 8번재 영업일 대비 2월 9번재 영업일의 조정종가는 약 -0.77% 입니다.\n",
      "2월 9번재 영업일 대비 2월 10번재 영업일의 조정종가는 약  0.26% 입니다.\n"
     ]
    }
   ],
   "source": [
    "# 증감률 도출하기 (월별 범죄 건수가 어떤 비율로 증감되었는지)\n",
    "rate = []\n",
    "for i in range(len(samsung_price['Adj Close'])-1):\n",
    "    rate.append((( (samsung_price['Adj Close'][i+1] ) / samsung_price['Adj Close'][i] )))\n",
    "\n",
    "\n",
    "for i in range(len(samsung_price['Adj Close'])-1):\n",
    "    print(f'2월 {i+1}번재 영업일 대비 2월 {i+2}번재 영업일의 조정종가는 약 {rate[i]*100 -100 : .2f}% 입니다.')"
   ]
  },
  {
   "cell_type": "code",
   "execution_count": 71,
   "metadata": {},
   "outputs": [
    {
     "name": "stdout",
     "output_type": "stream",
     "text": [
      "[0.9834815756035579, 0.9935400516795866, 1.0182054616384915, 0.9961685823754789, 1.0115384615384615, 1.0, 0.9873257287705957, 0.9922978177150192, 1.0025873221216042] 내의 모든 값을 곱하면 0.9847522236340532가 됩니다.\n",
      "해당 데이터의 기하평균 값은 0.9982942099537445 입니다.\n"
     ]
    }
   ],
   "source": [
    "# 변수 설정\n",
    "mulScores = 1 # 곱셈에 대한 항등원 1\n",
    "\n",
    "# 항목들로 반복 (tem_data의 모든 항목을 곱셈하기 위한 코드)\n",
    "for item in rate:\n",
    "    mulScores *= item\n",
    "print(f'{rate} 내의 모든 값을 곱하면 {mulScores}가 됩니다.')    \n",
    "\n",
    "# 제곱 연산자 '**'로 기하평균을 도츌합니다.\n",
    "geometricMean1 = mulScores ** (1/len(rate)) \n",
    "print(f'해당 데이터의 기하평균 값은 {geometricMean1} 입니다.')"
   ]
  },
  {
   "cell_type": "markdown",
   "metadata": {},
   "source": [
    "#### C. 가중평균"
   ]
  },
  {
   "cell_type": "code",
   "execution_count": 73,
   "metadata": {},
   "outputs": [
    {
     "name": "stdout",
     "output_type": "stream",
     "text": [
      "Date\n",
      "2022-01-04    12427416\n",
      "2022-01-05    25470640\n",
      "2022-01-06    12931954\n",
      "2022-01-07    15163757\n",
      "2022-01-10     9947422\n",
      "2022-01-11    13221123\n",
      "2022-01-12    11000502\n",
      "2022-01-13    13889401\n",
      "2022-01-14    10096725\n",
      "2022-01-17     8785122\n",
      "Name: Volume, dtype: int64\n"
     ]
    },
    {
     "data": {
      "image/png": "[encoded data removed]",
      "text/plain": [
       "<Figure size 432x288 with 1 Axes>"
      ]
     },
     "metadata": {
      "needs_background": "light"
     },
     "output_type": "display_data"
    }
   ],
   "source": [
    "# 데이터 보기\n",
    "\n",
    "print(samsung_price['Volume'])\n",
    "\n",
    "sns.barplot(x = samsung_price.index, y = samsung_price['Volume'])\n",
    "plt.title('1월 Samsung 거래량')\n",
    "plt.show()"
   ]
  },
  {
   "cell_type": "code",
   "execution_count": 75,
   "metadata": {},
   "outputs": [
    {
     "name": "stdout",
     "output_type": "stream",
     "text": [
      "거래량 : [12427416, 25470640, 12931954, 15163757, 9947422, 13221123, 11000502, 13889401, 10096725, 8785122]\n",
      "조정종가 : [78700.0, 77400.0, 76900.0, 78300.0, 78000.0, 78900.0, 78900.0, 77900.0, 77300.0, 77500.0]\n",
      "조정종가의 거래량에 대한 가중평균 값 : 77945.01814591358\n"
     ]
    }
   ],
   "source": [
    "# 가중치는 범죄 발생으로 설정하고 검거율의 가중평균을 시행해봅니다.\n",
    "\n",
    "print('거래량 :',samsung_price['Volume'].tolist())\n",
    "print('조정종가 :',samsung_price['Adj Close'].tolist())\n",
    "\n",
    "weight = samsung_price['Volume']\n",
    "tem_data = samsung_price['Adj Close']\n",
    "\n",
    "print('조정종가의 거래량에 대한 가중평균 값 :', sum(tem_data * weight)/sum(weight))"
   ]
  },
  {
   "cell_type": "markdown",
   "metadata": {},
   "source": [
    "#### 4. 절사평균"
   ]
  },
  {
   "cell_type": "code",
   "execution_count": 76,
   "metadata": {},
   "outputs": [
    {
     "name": "stdout",
     "output_type": "stream",
     "text": [
      "15.0% 비율로 절사한 후 data는 [76900.0, 78300.0, 78000.0, 78900.0, 78900.0, 77900.0]입니다.\n",
      "15.0% 비율로 절사한 후 data의 평균은 78150.0입니다.\n"
     ]
    }
   ],
   "source": [
    "# 인덱스 슬라이싱을 적용하여 tem_data 내에서 절사 시행\n",
    "\n",
    "# 변수 설정\n",
    "cut = 0.15\n",
    "n = len(samsung_price['Adj Close'])\n",
    "tem_data = samsung_price['Adj Close']\n",
    "cut_data = round(n * cut)\n",
    "\n",
    "# 인덱싱 데이터 출력\n",
    "print(f'{cut*100}% 비율로 절사한 후 data는 {tem_data[cut_data : -cut_data].tolist()}입니다.')\n",
    "\n",
    "# 인덱싱 후 데이터의 평균 출력\n",
    "print(f'{cut*100}% 비율로 절사한 후 data의 평균은 {tem_data[cut_data : -cut_data].mean()}입니다.')"
   ]
  },
  {
   "cell_type": "markdown",
   "metadata": {},
   "source": [
    "### 중위값 도출"
   ]
  },
  {
   "cell_type": "code",
   "execution_count": 77,
   "metadata": {},
   "outputs": [
    {
     "name": "stdout",
     "output_type": "stream",
     "text": [
      "Date\n",
      "2022-01-04    78700.0\n",
      "2022-01-05    77400.0\n",
      "2022-01-06    76900.0\n",
      "2022-01-07    78300.0\n",
      "2022-01-10    78000.0\n",
      "2022-01-11    78900.0\n",
      "2022-01-12    78900.0\n",
      "2022-01-13    77900.0\n",
      "2022-01-14    77300.0\n",
      "2022-01-17    77500.0\n",
      "Name: Adj Close, dtype: float64\n"
     ]
    }
   ],
   "source": [
    "# 데이터 보기\n",
    "\n",
    "print(samsung_price['Adj Close'])"
   ]
  },
  {
   "cell_type": "code",
   "execution_count": 78,
   "metadata": {},
   "outputs": [
    {
     "name": "stdout",
     "output_type": "stream",
     "text": [
      "[76900.0, 77300.0, 77400.0, 77500.0, 77900.0, 78000.0, 78300.0, 78700.0, 78900.0, 78900.0]\n",
      "5\n",
      "77950.0\n"
     ]
    }
   ],
   "source": [
    "# 하나씩 실행해보는 부분\n",
    "\n",
    "# 오름차순으로 정렬한 검거율 데이터를 따로 형성\n",
    "tem_data = sorted(samsung_price['Adj Close'])\n",
    "print(tem_data)\n",
    "\n",
    "# 검거율 데이터의 길이를 2로 나눈 몫을 출력\n",
    "center = len(tem_data) // 2\n",
    "print(center)\n",
    "\n",
    "# 인덱스로 접근하여 tem_data의 3번째 값과 -4번째 (= 2번째) 값을 더한 후 2로 나눠준다.\n",
    "# 참고로 인덱스는 0부터 시작한다.\n",
    "print((tem_data[center] + tem_data[-center - 1])/2)"
   ]
  },
  {
   "cell_type": "code",
   "execution_count": 80,
   "metadata": {},
   "outputs": [
    {
     "name": "stdout",
     "output_type": "stream",
     "text": [
      "해당 데이터의 컬럼 중 Adj Close의 중위값(median)은 77950.0 입니다.\n"
     ]
    }
   ],
   "source": [
    "# 중위값(median) 도출을 위한 함수입니다. (파이썬 함수를 활용한 중위값 출력 부분)\n",
    "def mean(data, column_name = '발생'):\n",
    "    print(f'해당 데이터의 컬럼 중 {column_name}의 중위값(median)은 {data[column_name].median()} 입니다.')\n",
    "    \n",
    "mean(samsung_price, 'Adj Close')"
   ]
  },
  {
   "cell_type": "code",
   "execution_count": null,
   "metadata": {},
   "outputs": [],
   "source": []
  }
 ],
 "metadata": {
  "interpreter": {
   "hash": "aee8b7b246df8f9039afb4144a1f6fd8d2ca17a180786b69acc140d282b71a49"
  },
  "kernelspec": {
   "display_name": "Python 3.9.4 64-bit",
   "language": "python",
   "name": "python3"
  },
  "language_info": {
   "codemirror_mode": {
    "name": "ipython",
    "version": 3
   },
   "file_extension": ".py",
   "mimetype": "text/x-python",
   "name": "python",
   "nbconvert_exporter": "python",
   "pygments_lexer": "ipython3",
   "version": "3.9.7"
  },
  "orig_nbformat": 4
 },
 "nbformat": 4,
 "nbformat_minor": 2
}
