{
 "cells": [
  {
   "cell_type": "markdown",
   "id": "0caaae81",
   "metadata": {},
   "source": [
    "## Seemingly Unrelated Regression, SUR)"
   ]
  },
  {
   "cell_type": "code",
   "execution_count": null,
   "id": "2cd32451",
   "metadata": {},
   "outputs": [],
   "source": [
    "# statsmodels의 SUR 클래스를 사용하여 모델을 정의\n",
    "# fit() 메소드를 통해 모델을 추정 \n",
    "# 마지막으로, .summary() 메소드를 사용하여 추정 결과를 출력"
   ]
  },
  {
   "cell_type": "code",
   "execution_count": 1,
   "id": "11b63abe",
   "metadata": {},
   "outputs": [
    {
     "name": "stdout",
     "output_type": "stream",
     "text": [
      "Requirement already satisfied: statsmodels in c:\\users\\jyb\\appdata\\local\\programs\\python\\python39\\lib\\site-packages (0.14.0)Note: you may need to restart the kernel to use updated packages.\n",
      "Requirement already satisfied: numpy in c:\\users\\jyb\\appdata\\local\\programs\\python\\python39\\lib\\site-packages (1.21.5)\n",
      "Requirement already satisfied: patsy>=0.5.2 in c:\\users\\jyb\\appdata\\local\\programs\\python\\python39\\lib\\site-packages (from statsmodels) (0.5.3)\n",
      "Requirement already satisfied: scipy!=1.9.2,>=1.4 in c:\\users\\jyb\\appdata\\local\\programs\\python\\python39\\lib\\site-packages (from statsmodels) (1.7.0)\n",
      "Requirement already satisfied: pandas>=1.0 in c:\\users\\jyb\\appdata\\local\\programs\\python\\python39\\lib\\site-packages (from statsmodels) (1.3.0)\n",
      "Requirement already satisfied: packaging>=21.3 in c:\\users\\jyb\\appdata\\local\\programs\\python\\python39\\lib\\site-packages (from statsmodels) (23.2)\n",
      "Requirement already satisfied: python-dateutil>=2.7.3 in c:\\users\\jyb\\appdata\\local\\programs\\python\\python39\\lib\\site-packages (from pandas>=1.0->statsmodels) (2.8.1)\n",
      "Requirement already satisfied: pytz>=2017.3 in c:\\users\\jyb\\appdata\\local\\programs\\python\\python39\\lib\\site-packages (from pandas>=1.0->statsmodels) (2021.1)\n",
      "\n"
     ]
    },
    {
     "name": "stderr",
     "output_type": "stream",
     "text": [
      "WARNING: You are using pip version 22.0.4; however, version 24.0 is available.\n",
      "You should consider upgrading via the 'c:\\users\\jyb\\appdata\\local\\programs\\python\\python39\\python.exe -m pip install --upgrade pip' command.\n"
     ]
    },
    {
     "name": "stdout",
     "output_type": "stream",
     "text": [
      "Requirement already satisfied: six in c:\\users\\jyb\\appdata\\local\\programs\\python\\python39\\lib\\site-packages (from patsy>=0.5.2->statsmodels) (1.15.0)\n"
     ]
    }
   ],
   "source": [
    "pip install statsmodels numpy\n"
   ]
  },
  {
   "cell_type": "code",
   "execution_count": 5,
   "id": "9255f2cd",
   "metadata": {},
   "outputs": [
    {
     "ename": "ImportError",
     "evalue": "cannot import name 'SUR' from 'statsmodels.sandbox.regression.gmm' (c:\\users\\jyb\\appdata\\local\\programs\\python\\python39\\lib\\site-packages\\statsmodels\\sandbox\\regression\\gmm.py)",
     "output_type": "error",
     "traceback": [
      "\u001b[1;31m---------------------------------------------------------------------------\u001b[0m",
      "\u001b[1;31mImportError\u001b[0m                               Traceback (most recent call last)",
      "\u001b[1;32m~\\AppData\\Local\\Temp/ipykernel_20984/2252033984.py\u001b[0m in \u001b[0;36m<module>\u001b[1;34m\u001b[0m\n\u001b[0;32m      2\u001b[0m \u001b[1;32mimport\u001b[0m \u001b[0mstatsmodels\u001b[0m\u001b[1;33m.\u001b[0m\u001b[0mapi\u001b[0m \u001b[1;32mas\u001b[0m \u001b[0msm\u001b[0m\u001b[1;33m\u001b[0m\u001b[1;33m\u001b[0m\u001b[0m\n\u001b[0;32m      3\u001b[0m \u001b[1;32mfrom\u001b[0m \u001b[0mstatsmodels\u001b[0m\u001b[1;33m.\u001b[0m\u001b[0mregression\u001b[0m\u001b[1;33m.\u001b[0m\u001b[0mlinear_model\u001b[0m \u001b[1;32mimport\u001b[0m \u001b[0mOLS\u001b[0m\u001b[1;33m\u001b[0m\u001b[1;33m\u001b[0m\u001b[0m\n\u001b[1;32m----> 4\u001b[1;33m \u001b[1;32mfrom\u001b[0m \u001b[0mstatsmodels\u001b[0m\u001b[1;33m.\u001b[0m\u001b[0msandbox\u001b[0m\u001b[1;33m.\u001b[0m\u001b[0mregression\u001b[0m\u001b[1;33m.\u001b[0m\u001b[0mgmm\u001b[0m \u001b[1;32mimport\u001b[0m \u001b[0mSUR\u001b[0m\u001b[1;33m\u001b[0m\u001b[1;33m\u001b[0m\u001b[0m\n\u001b[0m\u001b[0;32m      5\u001b[0m \u001b[1;33m\u001b[0m\u001b[0m\n",
      "\u001b[1;31mImportError\u001b[0m: cannot import name 'SUR' from 'statsmodels.sandbox.regression.gmm' (c:\\users\\jyb\\appdata\\local\\programs\\python\\python39\\lib\\site-packages\\statsmodels\\sandbox\\regression\\gmm.py)"
     ]
    }
   ],
   "source": [
    "import numpy as np\n",
    "import statsmodels.api as sm\n",
    "from statsmodels.regression.linear_model import OLS\n",
    "from statsmodels.sandbox.regression.gmm import SUR\n",
    "\n"
   ]
  },
  {
   "cell_type": "code",
   "execution_count": null,
   "id": "e685b4a6",
   "metadata": {},
   "outputs": [],
   "source": [
    "# 임의의 데이터 생성\n",
    "np.random.seed(10)\n",
    "X1 = np.random.rand(100, 2)  # 첫 번째 모델의 독립변수\n",
    "X2 = np.random.rand(100, 2)  # 두 번째 모델의 독립변수\n",
    "# 상수항 추가\n",
    "X1 = sm.add_constant(X1)\n",
    "X2 = sm.add_constant(X2)\n",
    "\n",
    "# 종속변수 생성 (임의의 계수와 오차항 포함)\n",
    "beta1 = [0.5, -0.2, 0.1]\n",
    "beta2 = [0.3, 0.3, -0.1]\n",
    "e1 = np.random.normal(0, 1, 100)\n",
    "e2 = np.random.normal(0, 1, 100) + 0.5 * e1  # e1과 상관관계를 가지는 오차항\n",
    "Y1 = np.dot(X1, beta1) + e1\n",
    "Y2 = np.dot(X2, beta2) + e2\n",
    "\n",
    "# OLS 모델 정의\n",
    "model1 = OLS(Y1, X1)\n",
    "model2 = OLS(Y2, X2)\n",
    "\n",
    "# SUR 모델 정의 및 추정\n",
    "sur = SUR([model1, model2])\n",
    "results = sur.fit()\n",
    "\n",
    "# 결과 출력\n",
    "print(results.summary())\n"
   ]
  },
  {
   "cell_type": "code",
   "execution_count": null,
   "id": "94e47bff",
   "metadata": {},
   "outputs": [],
   "source": []
  },
  {
   "cell_type": "code",
   "execution_count": null,
   "id": "7c66890e",
   "metadata": {},
   "outputs": [],
   "source": [
    "# 대안적 접근 방법\n",
    "# 개별 회귀 모델 추정: 각각의 회귀 모델을 독립적으로 추정하고, statsmodels의 OLS 클래스를 사용합니다.\n",
    "# 오차항의 상관관계 분석: 추정된 모델의 잔차(residuals)를 분석하여, 모델 간의 잔차가 상관관계를 가지는지 확인할 수 있습니다."
   ]
  },
  {
   "cell_type": "code",
   "execution_count": 7,
   "id": "1236ebc0",
   "metadata": {},
   "outputs": [
    {
     "name": "stdout",
     "output_type": "stream",
     "text": [
      "Model 1 and Model 2 Residuals Correlation: 0.4917440629160892\n"
     ]
    }
   ],
   "source": [
    "import numpy as np\n",
    "import statsmodels.api as sm\n",
    "\n",
    "# 예제 데이터 생성 및 모델 추정 코드는 동일하게 사용\n",
    "# 임의의 데이터 생성\n",
    "np.random.seed(10)\n",
    "X1 = np.random.rand(100, 2)  # 첫 번째 모델의 독립변수\n",
    "X2 = np.random.rand(100, 2)  # 두 번째 모델의 독립변수\n",
    "# 상수항 추가\n",
    "X1 = sm.add_constant(X1)\n",
    "X2 = sm.add_constant(X2)\n",
    "\n",
    "# 종속변수 생성 (임의의 계수와 오차항 포함)\n",
    "beta1 = [0.5, -0.2, 0.1]\n",
    "beta2 = [0.3, 0.3, -0.1]\n",
    "e1 = np.random.normal(0, 1, 100)\n",
    "e2 = np.random.normal(0, 1, 100) + 0.5 * e1  # e1과 상관관계를 가지는 오차항\n",
    "Y1 = np.dot(X1, beta1) + e1\n",
    "Y2 = np.dot(X2, beta2) + e2\n",
    "\n",
    "\n",
    "# OLS 모델 정의 및 추정\n",
    "model1 = sm.OLS(Y1, X1).fit()\n",
    "model2 = sm.OLS(Y2, X2).fit()\n",
    "\n",
    "# 각 모델의 잔차\n",
    "residuals1 = model1.resid\n",
    "residuals2 = model2.resid\n",
    "\n",
    "# 잔차 간의 상관관계 계산\n",
    "correlation = np.corrcoef(residuals1, residuals2)[0, 1]\n",
    "\n",
    "print(f\"Model 1 and Model 2 Residuals Correlation: {correlation}\")\n"
   ]
  },
  {
   "cell_type": "code",
   "execution_count": null,
   "id": "03b46eb3",
   "metadata": {},
   "outputs": [],
   "source": []
  }
 ],
 "metadata": {
  "kernelspec": {
   "display_name": "Python 3 (ipykernel)",
   "language": "python",
   "name": "python3"
  },
  "language_info": {
   "codemirror_mode": {
    "name": "ipython",
    "version": 3
   },
   "file_extension": ".py",
   "mimetype": "text/x-python",
   "name": "python",
   "nbconvert_exporter": "python",
   "pygments_lexer": "ipython3",
   "version": "3.9.11"
  },
  "toc": {
   "base_numbering": 1,
   "nav_menu": {},
   "number_sections": true,
   "sideBar": true,
   "skip_h1_title": false,
   "title_cell": "Table of Contents",
   "title_sidebar": "Contents",
   "toc_cell": false,
   "toc_position": {},
   "toc_section_display": true,
   "toc_window_display": false
  }
 },
 "nbformat": 4,
 "nbformat_minor": 5
}
