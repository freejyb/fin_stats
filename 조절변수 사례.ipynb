{
 "cells": [
  {
   "cell_type": "markdown",
   "id": "aec3a68b",
   "metadata": {},
   "source": [
    "## 조절변수(control variable)"
   ]
  },
  {
   "cell_type": "code",
   "execution_count": null,
   "id": "4db02f0c",
   "metadata": {},
   "outputs": [],
   "source": [
    "# 통계분석에서 조절변수(control variable) 또는 공변량(covariate)은 \n",
    "# 연구 설계에서 주요 관심 변수의 효과를 명확하게 파악하기 위해 통제되는 변수 \n",
    "# 조절변수는 연구 결과에 영향을 줄 수 있는 외부 요인을 통제함으로써, \n",
    "# 주요 독립변수와 종속변수 사이의 관계를 더 정확하게 이해하고 해석할 수 있도록 돕는다."
   ]
  },
  {
   "cell_type": "code",
   "execution_count": null,
   "id": "0b6cf74b",
   "metadata": {},
   "outputs": [],
   "source": [
    "# 회귀분석을 통해 주식 수익률에 대한 특정 독립변수(예: 광고 지출)의 영향을 분석하면서,\n",
    "# 시장 변동성과 같은 조절변수의 효과를 함께 고려"
   ]
  },
  {
   "cell_type": "code",
   "execution_count": null,
   "id": "9573d69f",
   "metadata": {},
   "outputs": [],
   "source": []
  },
  {
   "cell_type": "code",
   "execution_count": 1,
   "id": "4e514da6",
   "metadata": {},
   "outputs": [
    {
     "name": "stdout",
     "output_type": "stream",
     "text": [
      "                            OLS Regression Results                            \n",
      "==============================================================================\n",
      "Dep. Variable:           stock_return   R-squared:                       0.223\n",
      "Model:                            OLS   Adj. R-squared:                  0.001\n",
      "Method:                 Least Squares   F-statistic:                     1.003\n",
      "Date:                Sat, 06 Apr 2024   Prob (F-statistic):              0.414\n",
      "Time:                        14:02:49   Log-Likelihood:                 29.558\n",
      "No. Observations:                  10   AIC:                            -53.12\n",
      "Df Residuals:                       7   BIC:                            -52.21\n",
      "Df Model:                           2                                         \n",
      "Covariance Type:            nonrobust                                         \n",
      "=====================================================================================\n",
      "                        coef    std err          t      P>|t|      [0.025      0.975]\n",
      "-------------------------------------------------------------------------------------\n",
      "const                 0.0364      0.021      1.732      0.127      -0.013       0.086\n",
      "ad_spend           9.083e-05   7.23e-05      1.257      0.249      -8e-05       0.000\n",
      "market_volatility    -0.1510      0.228     -0.662      0.529      -0.691       0.389\n",
      "==============================================================================\n",
      "Omnibus:                        1.519   Durbin-Watson:                   1.361\n",
      "Prob(Omnibus):                  0.468   Jarque-Bera (JB):                0.847\n",
      "Skew:                           0.676   Prob(JB):                        0.655\n",
      "Kurtosis:                       2.545   Cond. No.                     1.73e+04\n",
      "==============================================================================\n",
      "\n",
      "Notes:\n",
      "[1] Standard Errors assume that the covariance matrix of the errors is correctly specified.\n",
      "[2] The condition number is large, 1.73e+04. This might indicate that there are\n",
      "strong multicollinearity or other numerical problems.\n"
     ]
    },
    {
     "name": "stderr",
     "output_type": "stream",
     "text": [
      "c:\\users\\jyb\\appdata\\local\\programs\\python\\python39\\lib\\site-packages\\scipy\\stats\\stats.py:1541: UserWarning: kurtosistest only valid for n>=20 ... continuing anyway, n=10\n",
      "  warnings.warn(\"kurtosistest only valid for n>=20 ... continuing \"\n"
     ]
    }
   ],
   "source": [
    "import pandas as pd\n",
    "import statsmodels.api as sm\n",
    "\n",
    "# 가상의 데이터 생성\n",
    "data = {\n",
    "    'stock_return': [0.05, 0.02, 0.04, 0.03, 0.05, 0.06, 0.07, 0.04, 0.03, 0.05],\n",
    "    'ad_spend': [200, 150, 300, 250, 500, 400, 350, 300, 450, 500],\n",
    "    'market_volatility': [0.1, 0.15, 0.12, 0.1, 0.2, 0.18, 0.16, 0.14, 0.2, 0.19]\n",
    "}\n",
    "\n",
    "df = pd.DataFrame(data)\n",
    "\n",
    "# 독립변수와 종속변수 정의\n",
    "X = df[['ad_spend', 'market_volatility']]  # 독립변수에 광고 지출과 시장 변동성 포함\n",
    "y = df['stock_return']\n",
    "\n",
    "# 상수항 추가\n",
    "X = sm.add_constant(X)\n",
    "\n",
    "# OLS 회귀 모델 적합\n",
    "model = sm.OLS(y, X).fit()\n",
    "\n",
    "# 결과 출력\n",
    "print(model.summary())\n"
   ]
  },
  {
   "cell_type": "code",
   "execution_count": 2,
   "id": "af1f6b57",
   "metadata": {},
   "outputs": [
    {
     "name": "stdout",
     "output_type": "stream",
     "text": [
      "                            OLS Regression Results                            \n",
      "==============================================================================\n",
      "Dep. Variable:           stock_return   R-squared:                       0.174\n",
      "Model:                            OLS   Adj. R-squared:                  0.071\n",
      "Method:                 Least Squares   F-statistic:                     1.687\n",
      "Date:                Sat, 06 Apr 2024   Prob (F-statistic):              0.230\n",
      "Time:                        14:05:41   Log-Likelihood:                 29.254\n",
      "No. Observations:                  10   AIC:                            -54.51\n",
      "Df Residuals:                       8   BIC:                            -53.90\n",
      "Df Model:                           1                                         \n",
      "Covariance Type:            nonrobust                                         \n",
      "==============================================================================\n",
      "                 coef    std err          t      P>|t|      [0.025      0.975]\n",
      "------------------------------------------------------------------------------\n",
      "const          0.0265      0.014      1.861      0.100      -0.006       0.059\n",
      "ad_spend    5.149e-05   3.96e-05      1.299      0.230   -3.99e-05       0.000\n",
      "==============================================================================\n",
      "Omnibus:                        0.629   Durbin-Watson:                   1.642\n",
      "Prob(Omnibus):                  0.730   Jarque-Bera (JB):                0.481\n",
      "Skew:                           0.442   Prob(JB):                        0.786\n",
      "Kurtosis:                       2.390   Cond. No.                     1.11e+03\n",
      "==============================================================================\n",
      "\n",
      "Notes:\n",
      "[1] Standard Errors assume that the covariance matrix of the errors is correctly specified.\n",
      "[2] The condition number is large, 1.11e+03. This might indicate that there are\n",
      "strong multicollinearity or other numerical problems.\n"
     ]
    },
    {
     "name": "stderr",
     "output_type": "stream",
     "text": [
      "c:\\users\\jyb\\appdata\\local\\programs\\python\\python39\\lib\\site-packages\\scipy\\stats\\stats.py:1541: UserWarning: kurtosistest only valid for n>=20 ... continuing anyway, n=10\n",
      "  warnings.warn(\"kurtosistest only valid for n>=20 ... continuing \"\n"
     ]
    }
   ],
   "source": [
    "import pandas as pd\n",
    "import statsmodels.api as sm\n",
    "\n",
    "# 가상의 데이터 생성\n",
    "data = {\n",
    "    'stock_return': [0.05, 0.02, 0.04, 0.03, 0.05, 0.06, 0.07, 0.04, 0.03, 0.05],\n",
    "    'ad_spend': [200, 150, 300, 250, 500, 400, 350, 300, 450, 500]\n",
    "   }\n",
    "\n",
    "df = pd.DataFrame(data)\n",
    "\n",
    "# 독립변수와 종속변수 정의\n",
    "X = df[['ad_spend']]  # 독립변수에 광고 지출\n",
    "y = df['stock_return']\n",
    "\n",
    "# 상수항 추가\n",
    "X = sm.add_constant(X)\n",
    "\n",
    "# OLS 회귀 모델 적합\n",
    "model = sm.OLS(y, X).fit()\n",
    "\n",
    "# 결과 출력\n",
    "print(model.summary())\n"
   ]
  },
  {
   "cell_type": "code",
   "execution_count": null,
   "id": "fa8e675b",
   "metadata": {},
   "outputs": [],
   "source": []
  }
 ],
 "metadata": {
  "kernelspec": {
   "display_name": "Python 3 (ipykernel)",
   "language": "python",
   "name": "python3"
  },
  "language_info": {
   "codemirror_mode": {
    "name": "ipython",
    "version": 3
   },
   "file_extension": ".py",
   "mimetype": "text/x-python",
   "name": "python",
   "nbconvert_exporter": "python",
   "pygments_lexer": "ipython3",
   "version": "3.9.11"
  },
  "toc": {
   "base_numbering": 1,
   "nav_menu": {},
   "number_sections": true,
   "sideBar": true,
   "skip_h1_title": false,
   "title_cell": "Table of Contents",
   "title_sidebar": "Contents",
   "toc_cell": false,
   "toc_position": {},
   "toc_section_display": true,
   "toc_window_display": false
  }
 },
 "nbformat": 4,
 "nbformat_minor": 5
}
