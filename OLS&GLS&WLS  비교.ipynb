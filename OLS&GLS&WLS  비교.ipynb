{
 "cells": [
  {
   "cell_type": "markdown",
   "id": "9731215c",
   "metadata": {},
   "source": [
    "## OLS(Ordinary Least Squares), GLS(Generalized Least Squares), WLS(Weighted Least Squares) 회귀 분석"
   ]
  },
  {
   "cell_type": "code",
   "execution_count": null,
   "id": "e395d76f",
   "metadata": {},
   "outputs": [],
   "source": [
    "# X1, X2, X3는 각각 주식의 가격, 거래량, 이자율\n",
    "# Y는 특정 금융 상품의 수익률"
   ]
  },
  {
   "cell_type": "code",
   "execution_count": 1,
   "id": "35be126b",
   "metadata": {},
   "outputs": [],
   "source": [
    "import numpy as np\n",
    "import pandas as pd\n",
    "import statsmodels.api as sm\n",
    "\n",
    "# 가상의 금융 데이터 생성\n",
    "np.random.seed(0)\n",
    "X1 = np.random.normal(100, 20, 100)  # 주식 가격\n",
    "X2 = np.random.normal(5000, 1000, 100)  # 거래량\n",
    "X3 = np.random.normal(5, 2, 100)  # 이자율\n",
    "Y = 0.5 * X1 - 0.2 * X2 + 0.3 * X3 + np.random.normal(0, 5, 100)  # 수익률\n",
    "\n",
    "data = pd.DataFrame({\n",
    "    'Stock_Price': X1,\n",
    "    'Volume': X2,\n",
    "    'Interest_Rate': X3,\n",
    "    'Return': Y\n",
    "})\n",
    "\n",
    "# 독립변수와 종속변수 설정\n",
    "X = data[['Stock_Price', 'Volume', 'Interest_Rate']]\n",
    "y = data['Return']\n",
    "X = sm.add_constant(X)  # 상수항 추가\n"
   ]
  },
  {
   "cell_type": "markdown",
   "id": "aaea4e5e",
   "metadata": {},
   "source": [
    "### OLS (Ordinary Least Squares)"
   ]
  },
  {
   "cell_type": "code",
   "execution_count": 2,
   "id": "681e6ec6",
   "metadata": {},
   "outputs": [
    {
     "name": "stdout",
     "output_type": "stream",
     "text": [
      "OLS Results\n",
      "                            OLS Regression Results                            \n",
      "==============================================================================\n",
      "Dep. Variable:                 Return   R-squared:                       1.000\n",
      "Model:                            OLS   Adj. R-squared:                  0.999\n",
      "Method:                 Least Squares   F-statistic:                 6.442e+04\n",
      "Date:                Fri, 22 Mar 2024   Prob (F-statistic):          2.00e-158\n",
      "Time:                        21:02:29   Log-Likelihood:                -294.14\n",
      "No. Observations:                 100   AIC:                             596.3\n",
      "Df Residuals:                      96   BIC:                             606.7\n",
      "Df Model:                           3                                         \n",
      "Covariance Type:            nonrobust                                         \n",
      "=================================================================================\n",
      "                    coef    std err          t      P>|t|      [0.025      0.975]\n",
      "---------------------------------------------------------------------------------\n",
      "const            -2.4780      3.284     -0.754      0.452      -8.998       4.042\n",
      "Stock_Price       0.4819      0.023     20.584      0.000       0.435       0.528\n",
      "Volume           -0.1996      0.000   -438.289      0.000      -0.201      -0.199\n",
      "Interest_Rate     0.6127      0.247      2.484      0.015       0.123       1.102\n",
      "==============================================================================\n",
      "Omnibus:                        0.370   Durbin-Watson:                   2.076\n",
      "Prob(Omnibus):                  0.831   Jarque-Bera (JB):                0.537\n",
      "Skew:                           0.070   Prob(JB):                        0.765\n",
      "Kurtosis:                       2.670   Cond. No.                     3.64e+04\n",
      "==============================================================================\n",
      "\n",
      "Notes:\n",
      "[1] Standard Errors assume that the covariance matrix of the errors is correctly specified.\n",
      "[2] The condition number is large, 3.64e+04. This might indicate that there are\n",
      "strong multicollinearity or other numerical problems.\n"
     ]
    }
   ],
   "source": [
    "# OLS 모델 적합\n",
    "model_ols = sm.OLS(y, X).fit()\n",
    "\n",
    "# 결과 출력\n",
    "print(\"OLS Results\")\n",
    "print(model_ols.summary())\n"
   ]
  },
  {
   "cell_type": "markdown",
   "id": "7f7be98e",
   "metadata": {},
   "source": [
    "### GLS (Generalized Least Squares)"
   ]
  },
  {
   "cell_type": "code",
   "execution_count": null,
   "id": "1fe87431",
   "metadata": {},
   "outputs": [],
   "source": [
    "# GLS는 오차 항의 분산이 이분산성,  오차 항이 상관되어 있을 때 사용합니다. "
   ]
  },
  {
   "cell_type": "code",
   "execution_count": 3,
   "id": "e092c49d",
   "metadata": {},
   "outputs": [
    {
     "name": "stdout",
     "output_type": "stream",
     "text": [
      "\n",
      "GLS Results\n",
      "                            GLS Regression Results                            \n",
      "==============================================================================\n",
      "Dep. Variable:                 Return   R-squared:                       1.000\n",
      "Model:                            GLS   Adj. R-squared:                  0.999\n",
      "Method:                 Least Squares   F-statistic:                 6.442e+04\n",
      "Date:                Fri, 22 Mar 2024   Prob (F-statistic):          2.00e-158\n",
      "Time:                        21:04:27   Log-Likelihood:                -294.14\n",
      "No. Observations:                 100   AIC:                             596.3\n",
      "Df Residuals:                      96   BIC:                             606.7\n",
      "Df Model:                           3                                         \n",
      "Covariance Type:            nonrobust                                         \n",
      "=================================================================================\n",
      "                    coef    std err          t      P>|t|      [0.025      0.975]\n",
      "---------------------------------------------------------------------------------\n",
      "const            -2.4780      3.284     -0.754      0.452      -8.998       4.042\n",
      "Stock_Price       0.4819      0.023     20.584      0.000       0.435       0.528\n",
      "Volume           -0.1996      0.000   -438.289      0.000      -0.201      -0.199\n",
      "Interest_Rate     0.6127      0.247      2.484      0.015       0.123       1.102\n",
      "==============================================================================\n",
      "Omnibus:                        0.370   Durbin-Watson:                   2.076\n",
      "Prob(Omnibus):                  0.831   Jarque-Bera (JB):                0.537\n",
      "Skew:                           0.070   Prob(JB):                        0.765\n",
      "Kurtosis:                       2.670   Cond. No.                     3.64e+04\n",
      "==============================================================================\n",
      "\n",
      "Notes:\n",
      "[1] Standard Errors assume that the covariance matrix of the errors is correctly specified.\n",
      "[2] The condition number is large, 3.64e+04. This might indicate that there are\n",
      "strong multicollinearity or other numerical problems.\n"
     ]
    }
   ],
   "source": [
    "# GLS 모델 적합\n",
    "model_gls = sm.GLS(y, X).fit()\n",
    "\n",
    "# 결과 출력\n",
    "print(\"\\nGLS Results\")\n",
    "print(model_gls.summary())\n"
   ]
  },
  {
   "cell_type": "markdown",
   "id": "42308776",
   "metadata": {},
   "source": [
    "### WLS (Weighted Least Squares)"
   ]
  },
  {
   "cell_type": "code",
   "execution_count": null,
   "id": "7223b479",
   "metadata": {},
   "outputs": [],
   "source": [
    "# WLS는 오차의 분산이 독립변수의 값에 따라 달라질 때 사용합니다. \n",
    "# 예를 들어, 거래량이 클수록 수익률 예측의 불확실성이 증가한다고 가정해 보겠습니다. \n",
    "# 이 경우, 거래량의 역수를 가중치로 사용할 수 있습니다."
   ]
  },
  {
   "cell_type": "code",
   "execution_count": 4,
   "id": "c7eec84d",
   "metadata": {},
   "outputs": [
    {
     "name": "stdout",
     "output_type": "stream",
     "text": [
      "\n",
      "WLS Results\n",
      "                            WLS Regression Results                            \n",
      "==============================================================================\n",
      "Dep. Variable:                 Return   R-squared:                       0.999\n",
      "Model:                            WLS   Adj. R-squared:                  0.999\n",
      "Method:                 Least Squares   F-statistic:                 6.062e+04\n",
      "Date:                Fri, 22 Mar 2024   Prob (F-statistic):          3.68e-157\n",
      "Time:                        21:06:08   Log-Likelihood:                -296.51\n",
      "No. Observations:                 100   AIC:                             601.0\n",
      "Df Residuals:                      96   BIC:                             611.4\n",
      "Df Model:                           3                                         \n",
      "Covariance Type:            nonrobust                                         \n",
      "=================================================================================\n",
      "                    coef    std err          t      P>|t|      [0.025      0.975]\n",
      "---------------------------------------------------------------------------------\n",
      "const            -1.6159      3.295     -0.490      0.625      -8.156       4.925\n",
      "Stock_Price       0.4789      0.023     20.440      0.000       0.432       0.525\n",
      "Volume           -0.1997      0.000   -425.366      0.000      -0.201      -0.199\n",
      "Interest_Rate     0.5543      0.246      2.254      0.026       0.066       1.042\n",
      "==============================================================================\n",
      "Omnibus:                        0.060   Durbin-Watson:                   2.059\n",
      "Prob(Omnibus):                  0.970   Jarque-Bera (JB):                0.184\n",
      "Skew:                           0.049   Prob(JB):                        0.912\n",
      "Kurtosis:                       2.814   Cond. No.                     3.46e+04\n",
      "==============================================================================\n",
      "\n",
      "Notes:\n",
      "[1] Standard Errors assume that the covariance matrix of the errors is correctly specified.\n",
      "[2] The condition number is large, 3.46e+04. This might indicate that there are\n",
      "strong multicollinearity or other numerical problems.\n"
     ]
    }
   ],
   "source": [
    "# WLS 모델 적합 (거래량의 역수를 가중치로 사용)\n",
    "weights = 1 / data['Volume']\n",
    "model_wls = sm.WLS(y, X, weights=weights).fit()\n",
    "\n",
    "# 결과 출력\n",
    "print(\"\\nWLS Results\")\n",
    "print(model_wls.summary())\n"
   ]
  },
  {
   "cell_type": "markdown",
   "id": "3cbaefe1",
   "metadata": {},
   "source": [
    "## 다른 결과 사례"
   ]
  },
  {
   "cell_type": "code",
   "execution_count": null,
   "id": "a9cf1922",
   "metadata": {},
   "outputs": [],
   "source": [
    "# 아래 코드는 각 모델의 결과가 서로 다를 수 있음을 보여줍니다.\n",
    "# 특히, WLS에서는 가중치를 적용하여 분석을 수행하므로, 가중치에 따라 결과가 달라질 수 있습니다.\n",
    "# GLS의 경우, 실제로는 오차의 공분산 구조에 대한 추가 정보를 제공해야 하며, \n",
    "# 이 예제에서는 추가적인 공분산 구조 없이 기본적인 GLS 모델을 적합시켰습니다. \n",
    "# 실제 데이터 분석에서는 데이터의 특성과 분석 목적에 맞게 모델을 선택하고, \n",
    "# 필요한 경우 오차의 공분산 구조를 고려하여 GLS 모델을 적용해야 합니다."
   ]
  },
  {
   "cell_type": "code",
   "execution_count": 5,
   "id": "fa38235b",
   "metadata": {},
   "outputs": [
    {
     "name": "stdout",
     "output_type": "stream",
     "text": [
      "OLS Results\n",
      "                            OLS Regression Results                            \n",
      "==============================================================================\n",
      "Dep. Variable:                 Return   R-squared:                       1.000\n",
      "Model:                            OLS   Adj. R-squared:                  0.999\n",
      "Method:                 Least Squares   F-statistic:                 6.442e+04\n",
      "Date:                Fri, 22 Mar 2024   Prob (F-statistic):          2.00e-158\n",
      "Time:                        21:08:57   Log-Likelihood:                -294.14\n",
      "No. Observations:                 100   AIC:                             596.3\n",
      "Df Residuals:                      96   BIC:                             606.7\n",
      "Df Model:                           3                                         \n",
      "Covariance Type:            nonrobust                                         \n",
      "=================================================================================\n",
      "                    coef    std err          t      P>|t|      [0.025      0.975]\n",
      "---------------------------------------------------------------------------------\n",
      "const            -2.4780      3.284     -0.754      0.452      -8.998       4.042\n",
      "Stock_Price       0.4819      0.023     20.584      0.000       0.435       0.528\n",
      "Volume           -0.1996      0.000   -438.289      0.000      -0.201      -0.199\n",
      "Interest_Rate     0.6127      0.247      2.484      0.015       0.123       1.102\n",
      "==============================================================================\n",
      "Omnibus:                        0.370   Durbin-Watson:                   2.076\n",
      "Prob(Omnibus):                  0.831   Jarque-Bera (JB):                0.537\n",
      "Skew:                           0.070   Prob(JB):                        0.765\n",
      "Kurtosis:                       2.670   Cond. No.                     3.64e+04\n",
      "==============================================================================\n",
      "\n",
      "Notes:\n",
      "[1] Standard Errors assume that the covariance matrix of the errors is correctly specified.\n",
      "[2] The condition number is large, 3.64e+04. This might indicate that there are\n",
      "strong multicollinearity or other numerical problems.\n",
      "\n",
      "GLS Results\n",
      "                            GLS Regression Results                            \n",
      "==============================================================================\n",
      "Dep. Variable:                 Return   R-squared:                       1.000\n",
      "Model:                            GLS   Adj. R-squared:                  0.999\n",
      "Method:                 Least Squares   F-statistic:                 6.442e+04\n",
      "Date:                Fri, 22 Mar 2024   Prob (F-statistic):          2.00e-158\n",
      "Time:                        21:08:57   Log-Likelihood:                -294.14\n",
      "No. Observations:                 100   AIC:                             596.3\n",
      "Df Residuals:                      96   BIC:                             606.7\n",
      "Df Model:                           3                                         \n",
      "Covariance Type:            nonrobust                                         \n",
      "=================================================================================\n",
      "                    coef    std err          t      P>|t|      [0.025      0.975]\n",
      "---------------------------------------------------------------------------------\n",
      "const            -2.4780      3.284     -0.754      0.452      -8.998       4.042\n",
      "Stock_Price       0.4819      0.023     20.584      0.000       0.435       0.528\n",
      "Volume           -0.1996      0.000   -438.289      0.000      -0.201      -0.199\n",
      "Interest_Rate     0.6127      0.247      2.484      0.015       0.123       1.102\n",
      "==============================================================================\n",
      "Omnibus:                        0.370   Durbin-Watson:                   2.076\n",
      "Prob(Omnibus):                  0.831   Jarque-Bera (JB):                0.537\n",
      "Skew:                           0.070   Prob(JB):                        0.765\n",
      "Kurtosis:                       2.670   Cond. No.                     3.64e+04\n",
      "==============================================================================\n",
      "\n",
      "Notes:\n",
      "[1] Standard Errors assume that the covariance matrix of the errors is correctly specified.\n",
      "[2] The condition number is large, 3.64e+04. This might indicate that there are\n",
      "strong multicollinearity or other numerical problems.\n",
      "\n",
      "WLS Results\n",
      "                            WLS Regression Results                            \n",
      "==============================================================================\n",
      "Dep. Variable:                 Return   R-squared:                       0.999\n",
      "Model:                            WLS   Adj. R-squared:                  0.999\n",
      "Method:                 Least Squares   F-statistic:                 6.062e+04\n",
      "Date:                Fri, 22 Mar 2024   Prob (F-statistic):          3.68e-157\n",
      "Time:                        21:08:57   Log-Likelihood:                -296.51\n",
      "No. Observations:                 100   AIC:                             601.0\n",
      "Df Residuals:                      96   BIC:                             611.4\n",
      "Df Model:                           3                                         \n",
      "Covariance Type:            nonrobust                                         \n",
      "=================================================================================\n",
      "                    coef    std err          t      P>|t|      [0.025      0.975]\n",
      "---------------------------------------------------------------------------------\n",
      "const            -1.6159      3.295     -0.490      0.625      -8.156       4.925\n",
      "Stock_Price       0.4789      0.023     20.440      0.000       0.432       0.525\n",
      "Volume           -0.1997      0.000   -425.366      0.000      -0.201      -0.199\n",
      "Interest_Rate     0.5543      0.246      2.254      0.026       0.066       1.042\n",
      "==============================================================================\n",
      "Omnibus:                        0.060   Durbin-Watson:                   2.059\n",
      "Prob(Omnibus):                  0.970   Jarque-Bera (JB):                0.184\n",
      "Skew:                           0.049   Prob(JB):                        0.912\n",
      "Kurtosis:                       2.814   Cond. No.                     3.46e+04\n",
      "==============================================================================\n",
      "\n",
      "Notes:\n",
      "[1] Standard Errors assume that the covariance matrix of the errors is correctly specified.\n",
      "[2] The condition number is large, 3.46e+04. This might indicate that there are\n",
      "strong multicollinearity or other numerical problems.\n"
     ]
    }
   ],
   "source": [
    "import numpy as np\n",
    "import pandas as pd\n",
    "import statsmodels.api as sm\n",
    "\n",
    "# 가상의 금융 데이터 생성\n",
    "np.random.seed(0)\n",
    "X1 = np.random.normal(100, 20, 100)  # 주식 가격\n",
    "X2 = np.random.normal(5000, 1000, 100)  # 거래량\n",
    "X3 = np.random.normal(5, 2, 100)  # 이자율\n",
    "Y = 0.5 * X1 - 0.2 * X2 + 0.3 * X3 + np.random.normal(0, 5, 100)  # 수익률\n",
    "\n",
    "data = pd.DataFrame({\n",
    "    'Stock_Price': X1,\n",
    "    'Volume': X2,\n",
    "    'Interest_Rate': X3,\n",
    "    'Return': Y\n",
    "})\n",
    "\n",
    "# 독립변수와 종속변수 설정\n",
    "X = data[['Stock_Price', 'Volume', 'Interest_Rate']]\n",
    "y = data['Return']\n",
    "X = sm.add_constant(X)  # 상수항 추가\n",
    "\n",
    "# OLS 모델 적합\n",
    "model_ols = sm.OLS(y, X).fit()\n",
    "print(\"OLS Results\")\n",
    "print(model_ols.summary())\n",
    "\n",
    "# GLS 모델 적합\n",
    "# 여기서는 간단한 예제로, 실제 사용 시에는 오차의 공분산 구조를 고려해야 합니다.\n",
    "model_gls = sm.GLS(y, X).fit()\n",
    "print(\"\\nGLS Results\")\n",
    "print(model_gls.summary())\n",
    "\n",
    "# WLS 모델 적합\n",
    "# 예를 들어, 거래량이 클수록 수익률 예측의 불확실성이 증가한다고 가정하고, 거래량의 역수를 가중치로 사용합니다.\n",
    "weights = 1 / data['Volume']\n",
    "model_wls = sm.WLS(y, X, weights=weights).fit()\n",
    "print(\"\\nWLS Results\")\n",
    "print(model_wls.summary())\n"
   ]
  },
  {
   "cell_type": "code",
   "execution_count": null,
   "id": "16e1373e",
   "metadata": {},
   "outputs": [],
   "source": [
    "OLS(Ordinary Least Squares)와 GLS(Generalized Least Squares) 결과가 다르게 나타나는 사례를 생성하기 위해, 오차 항에 특정한 구조를 가정해야 합니다. GLS는 오차 항의 비일정성(예: 이분산성)이나 오차 항 간의 상관관계(예: 자기상관)를 처리할 수 있습니다. 이러한 특성을 반영하기 위해, 오차 항에 이분산성을 가정한 가상의 데이터를 생성하고, 이 데이터에 대해 OLS와 GLS를 적용해 보겠습니다.\n",
    "\n",
    "가상 데이터 생성\n",
    "오차 항에 이분산성을 가정하여 가상의 데이터를 생성합니다. 독립변수 X에 대해 종속변수 Y를 생성할 때, 오차 항의 분산이 X의 값에 따라 증가하도록 설정합니다."
   ]
  },
  {
   "cell_type": "code",
   "execution_count": 6,
   "id": "44e602eb",
   "metadata": {},
   "outputs": [],
   "source": [
    "import numpy as np\n",
    "import pandas as pd\n",
    "import statsmodels.api as sm\n",
    "import matplotlib.pyplot as plt\n",
    "\n",
    "np.random.seed(1)\n",
    "X = np.linspace(0, 50, 100)\n",
    "# 오차 항의 분산이 X의 값에 따라 증가하도록 설정\n",
    "errors = np.random.normal(0, X * 0.1, 100)\n",
    "Y = 2 + 0.5 * X + errors\n",
    "\n",
    "data = pd.DataFrame({'X': X, 'Y': Y})\n",
    "\n",
    "# 독립변수와 종속변수 설정\n",
    "X = sm.add_constant(data['X'])\n",
    "y = data['Y']\n"
   ]
  },
  {
   "cell_type": "code",
   "execution_count": null,
   "id": "1911faf4",
   "metadata": {},
   "outputs": [],
   "source": [
    "# OLS 모델 적합\n"
   ]
  },
  {
   "cell_type": "code",
   "execution_count": 7,
   "id": "73473588",
   "metadata": {},
   "outputs": [
    {
     "name": "stdout",
     "output_type": "stream",
     "text": [
      "OLS Results\n",
      "                            OLS Regression Results                            \n",
      "==============================================================================\n",
      "Dep. Variable:                      Y   R-squared:                       0.921\n",
      "Model:                            OLS   Adj. R-squared:                  0.920\n",
      "Method:                 Least Squares   F-statistic:                     1140.\n",
      "Date:                Fri, 22 Mar 2024   Prob (F-statistic):           8.75e-56\n",
      "Time:                        21:12:09   Log-Likelihood:                -221.19\n",
      "No. Observations:                 100   AIC:                             446.4\n",
      "Df Residuals:                      98   BIC:                             451.6\n",
      "Df Model:                           1                                         \n",
      "Covariance Type:            nonrobust                                         \n",
      "==============================================================================\n",
      "                 coef    std err          t      P>|t|      [0.025      0.975]\n",
      "------------------------------------------------------------------------------\n",
      "const          1.8649      0.443      4.208      0.000       0.986       2.744\n",
      "X              0.5171      0.015     33.770      0.000       0.487       0.547\n",
      "==============================================================================\n",
      "Omnibus:                        9.094   Durbin-Watson:                   1.652\n",
      "Prob(Omnibus):                  0.011   Jarque-Bera (JB):               19.794\n",
      "Skew:                          -0.133   Prob(JB):                     5.03e-05\n",
      "Kurtosis:                       5.163   Cond. No.                         57.5\n",
      "==============================================================================\n",
      "\n",
      "Notes:\n",
      "[1] Standard Errors assume that the covariance matrix of the errors is correctly specified.\n"
     ]
    }
   ],
   "source": [
    "model_ols = sm.OLS(y, X).fit()\n",
    "print(\"OLS Results\")\n",
    "print(model_ols.summary())"
   ]
  },
  {
   "cell_type": "code",
   "execution_count": null,
   "id": "dd82e63f",
   "metadata": {},
   "outputs": [],
   "source": [
    "# GLS 모델 적합"
   ]
  },
  {
   "cell_type": "code",
   "execution_count": null,
   "id": "42d9701f",
   "metadata": {},
   "outputs": [],
   "source": [
    "# GLS 모델을 적합시키기 위해서는 오차 항의 공분산 구조를 알아야 합니다. \n",
    "# 이 예제에서는 간단하게 오차 항의 분산이 X에 비례한다고 가정하고, 이를 반영하여 GLS 모델을 적합시킵니다."
   ]
  },
  {
   "cell_type": "code",
   "execution_count": 8,
   "id": "fe9d8e81",
   "metadata": {},
   "outputs": [
    {
     "name": "stdout",
     "output_type": "stream",
     "text": [
      "\n",
      "GLS Results\n",
      "                            GLS Regression Results                            \n",
      "==============================================================================\n",
      "Dep. Variable:                      Y   R-squared:                        -inf\n",
      "Model:                            GLS   Adj. R-squared:                   -inf\n",
      "Method:                 Least Squares   F-statistic:                    -98.00\n",
      "Date:                Fri, 22 Mar 2024   Prob (F-statistic):               1.00\n",
      "Time:                        21:13:06   Log-Likelihood:                -221.19\n",
      "No. Observations:                 100   AIC:                             446.4\n",
      "Df Residuals:                      98   BIC:                             451.6\n",
      "Df Model:                           1                                         \n",
      "Covariance Type:            nonrobust                                         \n",
      "==============================================================================\n",
      "                 coef    std err          t      P>|t|      [0.025      0.975]\n",
      "------------------------------------------------------------------------------\n",
      "const          1.8649      0.443      4.208      0.000       0.986       2.744\n",
      "X              0.5171      0.015     33.770      0.000       0.487       0.547\n",
      "==============================================================================\n",
      "Omnibus:                        9.094   Durbin-Watson:                   1.652\n",
      "Prob(Omnibus):                  0.011   Jarque-Bera (JB):               19.794\n",
      "Skew:                          -0.133   Prob(JB):                     5.03e-05\n",
      "Kurtosis:                       5.163   Cond. No.                         57.5\n",
      "==============================================================================\n",
      "\n",
      "Notes:\n",
      "[1] Standard Errors assume that the covariance matrix of the errors is correctly specified.\n"
     ]
    },
    {
     "name": "stderr",
     "output_type": "stream",
     "text": [
      "c:\\users\\jyb\\appdata\\local\\programs\\python\\python39\\lib\\site-packages\\statsmodels\\base\\model.py:130: ValueWarning: unknown kwargs ['weights']\n",
      "  warnings.warn(msg, ValueWarning)\n",
      "c:\\users\\jyb\\appdata\\local\\programs\\python\\python39\\lib\\site-packages\\numpy\\lib\\function_base.py:412: RuntimeWarning: invalid value encountered in double_scalars\n",
      "  avg = np.multiply(a, wgt, dtype=result_dtype).sum(axis)/scl\n",
      "c:\\users\\jyb\\appdata\\local\\programs\\python\\python39\\lib\\site-packages\\statsmodels\\regression\\linear_model.py:1781: RuntimeWarning: divide by zero encountered in double_scalars\n",
      "  return 1 - self.ssr/self.centered_tss\n"
     ]
    }
   ],
   "source": [
    "# 오차 항의 분산이 X에 비례한다고 가정\n",
    "weights = 1 / (X['X'] * 0.1)**2\n",
    "model_gls = sm.GLS(y, X, weights=weights).fit()\n",
    "print(\"\\nGLS Results\")\n",
    "print(model_gls.summary())\n"
   ]
  },
  {
   "cell_type": "code",
   "execution_count": null,
   "id": "7b9893a2",
   "metadata": {},
   "outputs": [],
   "source": [
    "# OLS 모델과 GLS 모델의 결과를 비교합니다. 이분산성이 있는 데이터에 대해 GLS 모델을 적용하면,\n",
    "# OLS 모델에 비해 추정된 계수의 표준오차가 줄어들어 더 정확한 추정이 가능합니다."
   ]
  },
  {
   "cell_type": "code",
   "execution_count": 9,
   "id": "c8079bac",
   "metadata": {},
   "outputs": [
    {
     "data": {
      "image/png": "[encoded data removed]",
      "text/plain": [
       "<Figure size 864x432 with 2 Axes>"
      ]
     },
     "metadata": {
      "needs_background": "light"
     },
     "output_type": "display_data"
    }
   ],
   "source": [
    "# OLS와 GLS 결과 비교\n",
    "plt.figure(figsize=(12, 6))\n",
    "\n",
    "plt.subplot(1, 2, 1)\n",
    "plt.scatter(X['X'], y, label='Data')\n",
    "plt.plot(X['X'], model_ols.fittedvalues, color='red', label='OLS Fit')\n",
    "plt.title('OLS Fit')\n",
    "plt.legend()\n",
    "\n",
    "plt.subplot(1, 2, 2)\n",
    "plt.scatter(X['X'], y, label='Data')\n",
    "plt.plot(X['X'], model_gls.fittedvalues, color='green', label='GLS Fit')\n",
    "plt.title('GLS Fit')\n",
    "plt.legend()\n",
    "\n",
    "plt.show()\n"
   ]
  },
  {
   "cell_type": "code",
   "execution_count": null,
   "id": "fd5f27d1",
   "metadata": {},
   "outputs": [],
   "source": [
    "#  WLS에서는 각 관측치에 가중치를 부여하여, 분산이 큰 관측치의 영향을 줄이고 분산이 작은 관측치의 영향을 늘립니다. \n",
    "#     이 예제에서는 오차의 분산이 X에 비례한다고 가정했으므로, X의 값에 반비례하는 가중치를 사용합니다."
   ]
  },
  {
   "cell_type": "code",
   "execution_count": 10,
   "id": "059f7dff",
   "metadata": {},
   "outputs": [
    {
     "data": {
      "image/png": "[encoded data removed]",
      "text/plain": [
       "<Figure size 1296x432 with 3 Axes>"
      ]
     },
     "metadata": {
      "needs_background": "light"
     },
     "output_type": "display_data"
    }
   ],
   "source": [
    "# OLS, GLS, WLS 결과 비교를 위한 그래프\n",
    "plt.figure(figsize=(18, 6))\n",
    "\n",
    "plt.subplot(1, 3, 1)\n",
    "plt.scatter(X['X'], y, label='Data')\n",
    "plt.plot(X['X'], model_ols.fittedvalues, color='red', label='OLS Fit')\n",
    "plt.title('OLS Fit')\n",
    "plt.legend()\n",
    "\n",
    "plt.subplot(1, 3, 2)\n",
    "plt.scatter(X['X'], y, label='Data')\n",
    "plt.plot(X['X'], model_gls.fittedvalues, color='green', label='GLS Fit')\n",
    "plt.title('GLS Fit')\n",
    "plt.legend()\n",
    "\n",
    "plt.subplot(1, 3, 3)\n",
    "plt.scatter(X['X'], y, label='Data')\n",
    "plt.plot(X['X'], model_wls.fittedvalues, color='blue', label='WLS Fit')\n",
    "plt.title('WLS Fit')\n",
    "plt.legend()\n",
    "\n",
    "plt.show()\n"
   ]
  },
  {
   "cell_type": "code",
   "execution_count": null,
   "id": "0f58d81d",
   "metadata": {},
   "outputs": [],
   "source": [
    "# 삼성전자 수익률을 종속변수로 하고, KOSPI 수익률과 달러 환율을 독립변수로 하는 다중회귀분석을 수행하는 예제를 보여드리겠습니다. \n",
    "# 이 예제에서는 실제 데이터 대신 가상의 데이터를 생성하여 OLS(Ordinary Least Squares), GLS(Generalized Least Squares), WLS(Weighted Least Squares) 모델을 적용하고 비교"
   ]
  },
  {
   "cell_type": "code",
   "execution_count": 11,
   "id": "e7b280f1",
   "metadata": {},
   "outputs": [],
   "source": [
    "import numpy as np\n",
    "import pandas as pd\n",
    "import statsmodels.api as sm\n",
    "import matplotlib.pyplot as plt\n",
    "\n",
    "np.random.seed(0)\n",
    "\n",
    "# 가상의 데이터 생성\n",
    "n = 100\n",
    "KOSPI_Returns = np.random.normal(0.02, 0.05, n)  # KOSPI 수익률\n",
    "USD_KRW_Rate = np.random.normal(1100, 50, n)  # 달러 환율\n",
    "Samsung_Returns = 0.5 * KOSPI_Returns + 0.02 * (USD_KRW_Rate - 1100) / 100 + np.random.normal(0, 0.01, n)  # 삼성전자 수익률\n",
    "\n",
    "data = pd.DataFrame({\n",
    "    'KOSPI_Returns': KOSPI_Returns,\n",
    "    'USD_KRW_Rate': USD_KRW_Rate,\n",
    "    'Samsung_Returns': Samsung_Returns\n",
    "})\n",
    "\n",
    "# 독립변수와 종속변수 설정\n",
    "X = data[['KOSPI_Returns', 'USD_KRW_Rate']]\n",
    "y = data['Samsung_Returns']\n",
    "X = sm.add_constant(X)  # 상수항 추가\n"
   ]
  },
  {
   "cell_type": "code",
   "execution_count": null,
   "id": "3a1d9cc9",
   "metadata": {},
   "outputs": [],
   "source": [
    "# OLS 모델 적합"
   ]
  },
  {
   "cell_type": "code",
   "execution_count": 12,
   "id": "3351041d",
   "metadata": {},
   "outputs": [
    {
     "name": "stdout",
     "output_type": "stream",
     "text": [
      "OLS Results\n",
      "                            OLS Regression Results                            \n",
      "==============================================================================\n",
      "Dep. Variable:        Samsung_Returns   R-squared:                       0.904\n",
      "Model:                            OLS   Adj. R-squared:                  0.902\n",
      "Method:                 Least Squares   F-statistic:                     457.8\n",
      "Date:                Fri, 22 Mar 2024   Prob (F-statistic):           3.95e-50\n",
      "Time:                        21:22:48   Log-Likelihood:                 323.95\n",
      "No. Observations:                 100   AIC:                            -641.9\n",
      "Df Residuals:                      97   BIC:                            -634.1\n",
      "Df Model:                           2                                         \n",
      "Covariance Type:            nonrobust                                         \n",
      "=================================================================================\n",
      "                    coef    std err          t      P>|t|      [0.025      0.975]\n",
      "---------------------------------------------------------------------------------\n",
      "const            -0.2307      0.021    -11.169      0.000      -0.272      -0.190\n",
      "KOSPI_Returns     0.5134      0.019     26.705      0.000       0.475       0.552\n",
      "USD_KRW_Rate      0.0002   1.87e-05     11.153      0.000       0.000       0.000\n",
      "==============================================================================\n",
      "Omnibus:                        0.808   Durbin-Watson:                   2.386\n",
      "Prob(Omnibus):                  0.668   Jarque-Bera (JB):                0.362\n",
      "Skew:                          -0.044   Prob(JB):                        0.834\n",
      "Kurtosis:                       3.281   Cond. No.                     2.42e+04\n",
      "==============================================================================\n",
      "\n",
      "Notes:\n",
      "[1] Standard Errors assume that the covariance matrix of the errors is correctly specified.\n",
      "[2] The condition number is large, 2.42e+04. This might indicate that there are\n",
      "strong multicollinearity or other numerical problems.\n"
     ]
    }
   ],
   "source": [
    "model_ols = sm.OLS(y, X).fit()\n",
    "print(\"OLS Results\")\n",
    "print(model_ols.summary())\n"
   ]
  },
  {
   "cell_type": "code",
   "execution_count": null,
   "id": "5a92375d",
   "metadata": {},
   "outputs": [],
   "source": [
    "# GLS 모델 적합"
   ]
  },
  {
   "cell_type": "code",
   "execution_count": 13,
   "id": "08bbfaba",
   "metadata": {},
   "outputs": [
    {
     "name": "stdout",
     "output_type": "stream",
     "text": [
      "\n",
      "GLS Results\n",
      "                            GLS Regression Results                            \n",
      "==============================================================================\n",
      "Dep. Variable:        Samsung_Returns   R-squared:                       0.904\n",
      "Model:                            GLS   Adj. R-squared:                  0.902\n",
      "Method:                 Least Squares   F-statistic:                     457.8\n",
      "Date:                Fri, 22 Mar 2024   Prob (F-statistic):           3.95e-50\n",
      "Time:                        21:23:18   Log-Likelihood:                 323.95\n",
      "No. Observations:                 100   AIC:                            -641.9\n",
      "Df Residuals:                      97   BIC:                            -634.1\n",
      "Df Model:                           2                                         \n",
      "Covariance Type:            nonrobust                                         \n",
      "=================================================================================\n",
      "                    coef    std err          t      P>|t|      [0.025      0.975]\n",
      "---------------------------------------------------------------------------------\n",
      "const            -0.2307      0.021    -11.169      0.000      -0.272      -0.190\n",
      "KOSPI_Returns     0.5134      0.019     26.705      0.000       0.475       0.552\n",
      "USD_KRW_Rate      0.0002   1.87e-05     11.153      0.000       0.000       0.000\n",
      "==============================================================================\n",
      "Omnibus:                        0.808   Durbin-Watson:                   2.386\n",
      "Prob(Omnibus):                  0.668   Jarque-Bera (JB):                0.362\n",
      "Skew:                          -0.044   Prob(JB):                        0.834\n",
      "Kurtosis:                       3.281   Cond. No.                     2.42e+04\n",
      "==============================================================================\n",
      "\n",
      "Notes:\n",
      "[1] Standard Errors assume that the covariance matrix of the errors is correctly specified.\n",
      "[2] The condition number is large, 2.42e+04. This might indicate that there are\n",
      "strong multicollinearity or other numerical problems.\n"
     ]
    }
   ],
   "source": [
    "model_gls = sm.GLS(y, X).fit()\n",
    "print(\"\\nGLS Results\")\n",
    "print(model_gls.summary())\n"
   ]
  },
  {
   "cell_type": "code",
   "execution_count": null,
   "id": "a9eec47b",
   "metadata": {},
   "outputs": [],
   "source": [
    "# WLS 모델 적합"
   ]
  },
  {
   "cell_type": "code",
   "execution_count": null,
   "id": "96a41600",
   "metadata": {},
   "outputs": [],
   "source": [
    "# WLS 모델을 적합하기 위해 가중치를 설정합니다. 이 예제에서는 독립변수의 분산을 고려한 가중치를 임의로 설정합니다."
   ]
  },
  {
   "cell_type": "code",
   "execution_count": 14,
   "id": "3ba23579",
   "metadata": {},
   "outputs": [
    {
     "name": "stdout",
     "output_type": "stream",
     "text": [
      "\n",
      "WLS Results\n",
      "                            WLS Regression Results                            \n",
      "==============================================================================\n",
      "Dep. Variable:        Samsung_Returns   R-squared:                       0.895\n",
      "Model:                            WLS   Adj. R-squared:                  0.893\n",
      "Method:                 Least Squares   F-statistic:                     414.7\n",
      "Date:                Fri, 22 Mar 2024   Prob (F-statistic):           2.96e-48\n",
      "Time:                        21:24:19   Log-Likelihood:                 318.23\n",
      "No. Observations:                 100   AIC:                            -630.5\n",
      "Df Residuals:                      97   BIC:                            -622.6\n",
      "Df Model:                           2                                         \n",
      "Covariance Type:            nonrobust                                         \n",
      "=================================================================================\n",
      "                    coef    std err          t      P>|t|      [0.025      0.975]\n",
      "---------------------------------------------------------------------------------\n",
      "const            -0.2394      0.025     -9.674      0.000      -0.288      -0.190\n",
      "KOSPI_Returns     0.5074      0.020     25.764      0.000       0.468       0.547\n",
      "USD_KRW_Rate      0.0002   2.25e-05      9.659      0.000       0.000       0.000\n",
      "==============================================================================\n",
      "Omnibus:                        4.564   Durbin-Watson:                   2.420\n",
      "Prob(Omnibus):                  0.102   Jarque-Bera (JB):                5.983\n",
      "Skew:                           0.057   Prob(JB):                       0.0502\n",
      "Kurtosis:                       4.193   Cond. No.                     2.75e+04\n",
      "==============================================================================\n",
      "\n",
      "Notes:\n",
      "[1] Standard Errors assume that the covariance matrix of the errors is correctly specified.\n",
      "[2] The condition number is large, 2.75e+04. This might indicate that there are\n",
      "strong multicollinearity or other numerical problems.\n"
     ]
    }
   ],
   "source": [
    "# 임의로 가중치 설정\n",
    "weights = 1 / (0.05 + np.abs(USD_KRW_Rate - 1100) / 1100)\n",
    "model_wls = sm.WLS(y, X, weights=weights).fit()\n",
    "print(\"\\nWLS Results\")\n",
    "print(model_wls.summary())\n"
   ]
  },
  {
   "cell_type": "code",
   "execution_count": null,
   "id": "b41dca76",
   "metadata": {},
   "outputs": [],
   "source": []
  }
 ],
 "metadata": {
  "kernelspec": {
   "display_name": "Python 3 (ipykernel)",
   "language": "python",
   "name": "python3"
  },
  "language_info": {
   "codemirror_mode": {
    "name": "ipython",
    "version": 3
   },
   "file_extension": ".py",
   "mimetype": "text/x-python",
   "name": "python",
   "nbconvert_exporter": "python",
   "pygments_lexer": "ipython3",
   "version": "3.9.11"
  },
  "toc": {
   "base_numbering": 1,
   "nav_menu": {},
   "number_sections": true,
   "sideBar": true,
   "skip_h1_title": false,
   "title_cell": "Table of Contents",
   "title_sidebar": "Contents",
   "toc_cell": false,
   "toc_position": {},
   "toc_section_display": true,
   "toc_window_display": false
  }
 },
 "nbformat": 4,
 "nbformat_minor": 5
}
