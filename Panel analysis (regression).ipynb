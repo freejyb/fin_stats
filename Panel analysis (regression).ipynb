{
 "cells": [
  {
   "cell_type": "markdown",
   "id": "638a629b",
   "metadata": {},
   "source": [
    "### Panel analysis (regression)"
   ]
  },
  {
   "cell_type": "code",
   "execution_count": null,
   "id": "4ffa0945",
   "metadata": {},
   "outputs": [],
   "source": [
    "# 패널 분석(Panel Analysis) 또는 패널 데이터 회귀분석은 시간에 따라 여러 개체(예: 개인, 기업, 국가 등)에 대한 데이터를 분석하는 통계적 방법입니다. 패널 데이터는 횡단면 데이터(Cross-sectional Data)와 시계열 데이터(Time Series Data)의 특성을 모두 가지고 있으며, 이를 이용하여 개체 간 차이와 시간에 따른 변화를 동시에 고려할 수 있습니다.\n"
   ]
  },
  {
   "cell_type": "code",
   "execution_count": null,
   "id": "35880b33",
   "metadata": {},
   "outputs": [],
   "source": [
    "# 패널 데이터의 구조\n",
    "# 개체 차원(Entity Dimension): 분석 대상이 되는 개체(예: 다양한 기업, 국가, 개인 등)입니다.\n",
    "# 시간 차원(Time Dimension): 각 개체에 대한 관측값이 시간에 따라 측정됩니다.\n"
   ]
  },
  {
   "cell_type": "code",
   "execution_count": null,
   "id": "11342116",
   "metadata": {},
   "outputs": [],
   "source": [
    "#  패널 분석의 주요 용어"
   ]
  },
  {
   "cell_type": "code",
   "execution_count": null,
   "id": "2442c06d",
   "metadata": {},
   "outputs": [],
   "source": [
    "# 고정 효과(Fixed Effects): 개체별로 고유한 효과를 가정하며, 이러한 고정 효과는 시간에 따라 변하지 않습니다. 고정 효과 모델은 개체 간 차이를 제어하여 시간에 따른 변화를 더 명확하게 파악할 수 있게 합니다.\n",
    "# 임의 효과(Random Effects): 개체별 고유 효과가 임의적으로 분포한다고 가정합니다. 임의 효과 모델은 개체 간 차이와 시간에 따른 변화를 모두 고려하지만, 개체 내 변동성과 개체 간 변동성이 독립적이라는 가정 하에 분석됩니다.\n",
    "# 패널 분석의 장점\n",
    "# 개체 간 차이와 시간에 따른 변화 분석: 패널 데이터를 사용하면 개체 간 차이를 고려하면서도 시간에 따른 변화를 분석할 수 있습니다.\n",
    "# 내생성 문제 완화: 시간에 따른 변화와 개체별 고유 특성을 모델에 포함시킴으로써 내생성 문제를 완화할 수 있습니다.\n",
    "# 다양한 변동성 모델링: 개체 내 변동성(Intra-entity Variability)과 개체 간 변동성(Inter-entity Variability)을 모두 분석할 수 있습니다."
   ]
  },
  {
   "cell_type": "code",
   "execution_count": null,
   "id": "650d16ac",
   "metadata": {},
   "outputs": [],
   "source": [
    "# 고정효과 모형"
   ]
  },
  {
   "cell_type": "code",
   "execution_count": null,
   "id": "b788ffd3",
   "metadata": {},
   "outputs": [],
   "source": [
    "# 여러 국가의 연도별 GDP 성장률과 특정 경제 지표(예: 이자율) 간의 관계를 분석 \n",
    "# 이 예제에서는 statsmodels 라이브러리를 사용하여 고정 효과 모델을 적용"
   ]
  },
  {
   "cell_type": "code",
   "execution_count": null,
   "id": "1621c4b2",
   "metadata": {},
   "outputs": [],
   "source": [
    "# 데이터 생성: 가상의 3개 국가에 대해 2000년부터 2009년까지의 연도별 GDP 성장률(GDP_Growth)과 이자율(Interest_Rate) 데이터를 생성\n",
    "# 모델 설정 및 적용: MixedLM.from_formula 함수를 사용하여 고정 효과 모델을 설정하고 적용합니다. 여기서 groups 인자에 국가명을 지정하여 각 국가별로 고유한 고정 효과를 가지도록 합니다.\n",
    "# 결과 해석: 모델의 요약 결과에서 주요 관심사는 GDP 성장률에 대한 이자율의 영향을 나타내는 계수(coef), 그 계수의 통계적 유의성(P>|z|), 그리고 모델의 전반적인 적합도를 나타내는 정보입니다"
   ]
  },
  {
   "cell_type": "code",
   "execution_count": 1,
   "id": "2525dbeb",
   "metadata": {},
   "outputs": [
    {
     "name": "stdout",
     "output_type": "stream",
     "text": [
      "         Mixed Linear Model Regression Results\n",
      "========================================================\n",
      "Model:            MixedLM Dependent Variable: GDP_Growth\n",
      "No. Observations: 30      Method:             REML      \n",
      "No. Groups:       3       Scale:              2.1211    \n",
      "Min. group size:  10      Log-Likelihood:     -53.0256  \n",
      "Max. group size:  10      Converged:          No        \n",
      "Mean group size:  10.0                                  \n",
      "--------------------------------------------------------\n",
      "              Coef.  Std.Err.   z    P>|z| [0.025 0.975]\n",
      "--------------------------------------------------------\n",
      "Intercept      2.730    1.533  1.781 0.075 -0.275  5.735\n",
      "Interest_Rate -0.082    0.491 -0.168 0.867 -1.045  0.880\n",
      "Group Var      0.000                                    \n",
      "========================================================\n",
      "\n"
     ]
    },
    {
     "name": "stderr",
     "output_type": "stream",
     "text": [
      "c:\\users\\jyb\\appdata\\local\\programs\\python\\python39\\lib\\site-packages\\statsmodels\\base\\model.py:607: ConvergenceWarning: Maximum Likelihood optimization failed to converge. Check mle_retvals\n",
      "  warnings.warn(\"Maximum Likelihood optimization failed to \"\n",
      "c:\\users\\jyb\\appdata\\local\\programs\\python\\python39\\lib\\site-packages\\statsmodels\\regression\\mixed_linear_model.py:2201: ConvergenceWarning: Retrying MixedLM optimization with lbfgs\n",
      "  warnings.warn(\n",
      "c:\\users\\jyb\\appdata\\local\\programs\\python\\python39\\lib\\site-packages\\statsmodels\\base\\model.py:607: ConvergenceWarning: Maximum Likelihood optimization failed to converge. Check mle_retvals\n",
      "  warnings.warn(\"Maximum Likelihood optimization failed to \"\n",
      "c:\\users\\jyb\\appdata\\local\\programs\\python\\python39\\lib\\site-packages\\statsmodels\\regression\\mixed_linear_model.py:2201: ConvergenceWarning: Retrying MixedLM optimization with cg\n",
      "  warnings.warn(\n",
      "c:\\users\\jyb\\appdata\\local\\programs\\python\\python39\\lib\\site-packages\\statsmodels\\base\\model.py:607: ConvergenceWarning: Maximum Likelihood optimization failed to converge. Check mle_retvals\n",
      "  warnings.warn(\"Maximum Likelihood optimization failed to \"\n",
      "c:\\users\\jyb\\appdata\\local\\programs\\python\\python39\\lib\\site-packages\\statsmodels\\regression\\mixed_linear_model.py:2207: ConvergenceWarning: MixedLM optimization failed, trying a different optimizer may help.\n",
      "  warnings.warn(msg, ConvergenceWarning)\n",
      "c:\\users\\jyb\\appdata\\local\\programs\\python\\python39\\lib\\site-packages\\statsmodels\\regression\\mixed_linear_model.py:2219: ConvergenceWarning: Gradient optimization failed, |grad| = 0.006674\n",
      "  warnings.warn(msg, ConvergenceWarning)\n",
      "c:\\users\\jyb\\appdata\\local\\programs\\python\\python39\\lib\\site-packages\\statsmodels\\regression\\mixed_linear_model.py:2238: ConvergenceWarning: The MLE may be on the boundary of the parameter space.\n",
      "  warnings.warn(msg, ConvergenceWarning)\n",
      "c:\\users\\jyb\\appdata\\local\\programs\\python\\python39\\lib\\site-packages\\statsmodels\\regression\\mixed_linear_model.py:2262: ConvergenceWarning: The Hessian matrix at the estimated parameter values is not positive definite.\n",
      "  warnings.warn(msg, ConvergenceWarning)\n"
     ]
    }
   ],
   "source": [
    "import pandas as pd\n",
    "import numpy as np\n",
    "import statsmodels.api as sm\n",
    "from statsmodels.regression.mixed_linear_model import MixedLM\n",
    "\n",
    "# 가상의 데이터 생성\n",
    "np.random.seed(0)\n",
    "countries = ['Country_A', 'Country_B', 'Country_C']\n",
    "years = np.arange(2000, 2010)\n",
    "data = pd.DataFrame([(country, year, np.random.rand() * 5, np.random.rand() * 2 + 2) for country in countries for year in years], columns=['Country', 'Year', 'GDP_Growth', 'Interest_Rate'])\n",
    "\n",
    "# 패널 데이터 설정\n",
    "data = data.set_index(['Country', 'Year'])\n",
    "\n",
    "# 고정 효과 모델 적용\n",
    "model = MixedLM.from_formula(\"GDP_Growth ~ Interest_Rate\", data, groups=data.index.get_level_values('Country'))\n",
    "result = model.fit()\n",
    "\n",
    "# 결과 출력\n",
    "print(result.summary())\n"
   ]
  },
  {
   "cell_type": "code",
   "execution_count": null,
   "id": "eeb65ed5",
   "metadata": {},
   "outputs": [],
   "source": [
    "# # 결과 해석\n",
    "# 고정 효과(Intercept와 Interest_Rate): --> 고정효과는 모든 국가에 공통적으로 적용되는 효과\n",
    "#     Intercept는 이자율이 0일 때의 기대 GDP 성장률을 나타내며, \n",
    "#     Interest_Rate의 계수는 이자율이 1단위 증가할 때 GDP 성장률이 얼마나 변화하는지를 나타냅니다. \n",
    "#     사례에서  \n",
    "#     Interest_Rate의 계수가 -0.082라면, 이자율이 1% 포인트 증가할 때 GDP 성장률은 평균적으로 0.082% 포인트 감소하는 것을 의미합니다."
   ]
  },
  {
   "cell_type": "code",
   "execution_count": null,
   "id": "d6004bd9",
   "metadata": {},
   "outputs": [],
   "source": [
    "# 가상의 데이터 생성 및 임의 효과 모델 적용"
   ]
  },
  {
   "cell_type": "code",
   "execution_count": null,
   "id": "a38becb4",
   "metadata": {},
   "outputs": [],
   "source": [
    "# MixedLM.from_formula 함수: 이 함수를 사용하여 임의 효과 모델을 설정합니다.\n",
    "#     groups 인자는 개체별(여기서는 국가별) 고정 효과를 위한 그룹을 지정하고, \n",
    "#     re_formula 인자는 임의 효과를 위한 수식을 지정합니다. \n",
    "#     이 예제에서는 이자율(Interest_Rate)에 대한 임의 효과를 모델에 포함시켜,각 국가가 이자율 변화에 대해 다른 반응을 보일 수 있음을 고려합니다."
   ]
  },
  {
   "cell_type": "code",
   "execution_count": 2,
   "id": "20a78230",
   "metadata": {},
   "outputs": [
    {
     "name": "stdout",
     "output_type": "stream",
     "text": [
      "               Mixed Linear Model Regression Results\n",
      "====================================================================\n",
      "Model:                MixedLM     Dependent Variable:     GDP_Growth\n",
      "No. Observations:     30          Method:                 REML      \n",
      "No. Groups:           3           Scale:                  2.1177    \n",
      "Min. group size:      10          Log-Likelihood:         -53.1312  \n",
      "Max. group size:      10          Converged:              No        \n",
      "Mean group size:      10.0                                          \n",
      "--------------------------------------------------------------------\n",
      "                          Coef.  Std.Err.   z    P>|z| [0.025 0.975]\n",
      "--------------------------------------------------------------------\n",
      "Intercept                  2.740    1.655  1.656 0.098 -0.503  5.983\n",
      "Interest_Rate             -0.086    0.528 -0.164 0.870 -1.122  0.949\n",
      "Group Var                  1.322                                    \n",
      "Group x Interest_Rate Cov -0.427                                    \n",
      "Interest_Rate Var          0.138                                    \n",
      "====================================================================\n",
      "\n"
     ]
    },
    {
     "name": "stderr",
     "output_type": "stream",
     "text": [
      "c:\\users\\jyb\\appdata\\local\\programs\\python\\python39\\lib\\site-packages\\statsmodels\\base\\model.py:607: ConvergenceWarning: Maximum Likelihood optimization failed to converge. Check mle_retvals\n",
      "  warnings.warn(\"Maximum Likelihood optimization failed to \"\n",
      "c:\\users\\jyb\\appdata\\local\\programs\\python\\python39\\lib\\site-packages\\statsmodels\\regression\\mixed_linear_model.py:2201: ConvergenceWarning: Retrying MixedLM optimization with lbfgs\n",
      "  warnings.warn(\n",
      "c:\\users\\jyb\\appdata\\local\\programs\\python\\python39\\lib\\site-packages\\statsmodels\\base\\model.py:607: ConvergenceWarning: Maximum Likelihood optimization failed to converge. Check mle_retvals\n",
      "  warnings.warn(\"Maximum Likelihood optimization failed to \"\n",
      "c:\\users\\jyb\\appdata\\local\\programs\\python\\python39\\lib\\site-packages\\statsmodels\\regression\\mixed_linear_model.py:2201: ConvergenceWarning: Retrying MixedLM optimization with cg\n",
      "  warnings.warn(\n",
      "c:\\users\\jyb\\appdata\\local\\programs\\python\\python39\\lib\\site-packages\\statsmodels\\base\\model.py:607: ConvergenceWarning: Maximum Likelihood optimization failed to converge. Check mle_retvals\n",
      "  warnings.warn(\"Maximum Likelihood optimization failed to \"\n",
      "c:\\users\\jyb\\appdata\\local\\programs\\python\\python39\\lib\\site-packages\\statsmodels\\regression\\mixed_linear_model.py:2207: ConvergenceWarning: MixedLM optimization failed, trying a different optimizer may help.\n",
      "  warnings.warn(msg, ConvergenceWarning)\n",
      "c:\\users\\jyb\\appdata\\local\\programs\\python\\python39\\lib\\site-packages\\statsmodels\\regression\\mixed_linear_model.py:2219: ConvergenceWarning: Gradient optimization failed, |grad| = 1.111853\n",
      "  warnings.warn(msg, ConvergenceWarning)\n",
      "c:\\users\\jyb\\appdata\\local\\programs\\python\\python39\\lib\\site-packages\\statsmodels\\regression\\mixed_linear_model.py:2262: ConvergenceWarning: The Hessian matrix at the estimated parameter values is not positive definite.\n",
      "  warnings.warn(msg, ConvergenceWarning)\n"
     ]
    }
   ],
   "source": [
    "import pandas as pd\n",
    "import numpy as np\n",
    "import statsmodels.api as sm\n",
    "from statsmodels.regression.mixed_linear_model import MixedLM\n",
    "\n",
    "# 가상의 데이터 생성\n",
    "np.random.seed(0)\n",
    "countries = ['Country_A', 'Country_B', 'Country_C']\n",
    "years = np.arange(2000, 2010)\n",
    "data = pd.DataFrame([(country, year, np.random.rand() * 5, np.random.rand() * 2 + 2) for country in countries for year in years], columns=['Country', 'Year', 'GDP_Growth', 'Interest_Rate'])\n",
    "\n",
    "# 패널 데이터 설정\n",
    "data = data.set_index(['Country', 'Year'])\n",
    "\n",
    "# 임의 효과 모델 적용\n",
    "# 이 예제에서는 Interest_Rate를 고정 효과로, 국가별 임의효과를 추가\n",
    "model = MixedLM.from_formula(\"GDP_Growth ~ Interest_Rate\", data, groups=data.index.get_level_values('Country'), re_formula=\"~Interest_Rate\")\n",
    "result = model.fit()\n",
    "\n",
    "# 결과 출력\n",
    "print(result.summary())\n"
   ]
  },
  {
   "cell_type": "code",
   "execution_count": null,
   "id": "96c852fe",
   "metadata": {},
   "outputs": [],
   "source": [
    "# 결과 해석: \n",
    "#     임의 효과 모델의 결과에서는 고정 효과뿐만 아니라 임의 효과에 대한 추정치와 그 통계적 유의성도 함께 제공됩니다.\n",
    "#     이를 통해 각 국가별 GDP 성장률에 대한 이자율의 영향이 어떻게 다른지를 파악할 수 있습니다.\n",
    "# 주의사항\n",
    "# 임의 효과 모델은 데이터의 구조와 분석 목적에 따라 다양하게 설정할 수 있습니다. \n",
    "# 복잡한 데이터 구조를 가진 경우, 적절한 임의 효과 구조를 선택하는 것이 중요합니다."
   ]
  },
  {
   "cell_type": "code",
   "execution_count": null,
   "id": "7ecf81ba",
   "metadata": {},
   "outputs": [],
   "source": [
    "# 임의 효과는 각 국가가 이자율 변화에 대해 보이는 고유한 반응을 나타냅니다. \n",
    "# 이는 각 국가별로 이자율의 영향이 어떻게 다른지를 보여줍니다. \n",
    "# 임의 효과의 분산 추정치가 통계적으로 유의하다면, 이는 국가별로 이자율의 영향이 유의미하게 다름을 의미합니다."
   ]
  },
  {
   "cell_type": "markdown",
   "id": "92cc39d3",
   "metadata": {},
   "source": [
    "#### 하우스만 검정(Hausman Test)"
   ]
  },
  {
   "cell_type": "code",
   "execution_count": null,
   "id": "449035a6",
   "metadata": {},
   "outputs": [],
   "source": [
    "# 하우스만 검정(Hausman Test)은 고정 효과 모델(Fixed Effects)과 임의 효과 모델(Random Effects) 중 어느 모델이 패널 데이터에 더 적합한지를 결정하기 위해 사용되는 통계적 검정\n",
    "# 이 검정은 두 모델 간의 추정계수 차이가 무작위로 발생한 것인지, 아니면 구조적 차이로 인한 것인지를 평가합니다.\n",
    "# Python에서는 statsmodels 라이브러리에 내장된 함수로 직접적인 하우스만 검정을 수행하는 기능이 없다. \n",
    "# 그러나, 우리는 linearmodels 패키지를 사용하여 하우스만 검정을 수행할 수 있다. \n"
   ]
  },
  {
   "cell_type": "code",
   "execution_count": null,
   "id": "30b1378f",
   "metadata": {},
   "outputs": [],
   "source": [
    "# PanelOLS과 RandomEffects 클래스를 사용하여 각각 고정 효과 모델과 임의 효과 모델을 패널 데이터에 적합시킵니다.\n",
    "# compare 함수를 사용하여 두 모델의 결과를 비교하고, 내부적으로 하우스만 검정을 수행합니다. 이 함수는 두 모델의 추정 결과를 비교하고, 통계적으로 유의미한 차이가 있는지를 보여줍니다."
   ]
  },
  {
   "cell_type": "code",
   "execution_count": 3,
   "id": "70797d62",
   "metadata": {},
   "outputs": [
    {
     "name": "stdout",
     "output_type": "stream",
     "text": [
      "                    Model Comparison                    \n",
      "========================================================\n",
      "                                    FE                RE\n",
      "--------------------------------------------------------\n",
      "Dep. Variable                        Y                 Y\n",
      "Estimator                     PanelOLS     RandomEffects\n",
      "No. Observations                  1000              1000\n",
      "Cov. Est.                   Unadjusted        Unadjusted\n",
      "R-squared                       0.0004            0.4134\n",
      "R-Squared (Within)              0.0004           -0.3987\n",
      "R-Squared (Between)             0.0389            0.8323\n",
      "R-Squared (Overall)             0.0306            0.5652\n",
      "F-statistic                     0.3854            704.08\n",
      "P-value (F-stat)                0.5349            0.0000\n",
      "=====================     ============   ===============\n",
      "X                               0.0210            0.6608\n",
      "                              (0.6208)          (26.535)\n",
      "======================= ============== =================\n",
      "Effects                         Entity                  \n",
      "--------------------------------------------------------\n",
      "\n",
      "T-stats reported in parentheses\n"
     ]
    }
   ],
   "source": [
    "import numpy as np\n",
    "import pandas as pd\n",
    "from linearmodels.panel import PanelOLS, RandomEffects\n",
    "from linearmodels.panel import compare\n",
    "\n",
    "# 가상의 패널 데이터 생성\n",
    "np.random.seed(1)\n",
    "N = 100  # 개체 수\n",
    "T = 10  # 시간 기간\n",
    "ids = np.arange(1, N+1)\n",
    "years = np.arange(1, T+1)\n",
    "\n",
    "# 패널 데이터프레임 생성\n",
    "df = pd.DataFrame({'id': np.repeat(ids, T),\n",
    "                   'year': np.tile(years, N),\n",
    "                   'X': np.random.rand(N*T),\n",
    "                   'Y': np.random.rand(N*T)})\n",
    "df = df.set_index(['id', 'year'])\n",
    "\n",
    "# 고정 효과 모델 적합\n",
    "fe_model = PanelOLS.from_formula('Y ~ X + EntityEffects', data=df)\n",
    "fe_result = fe_model.fit()\n",
    "\n",
    "# 임의 효과 모델 적합\n",
    "re_model = RandomEffects.from_formula('Y ~ X', data=df)\n",
    "re_result = re_model.fit()\n",
    "\n",
    "# 모델 비교 및 하우스만 검정\n",
    "comparison = compare({'FE': fe_result, 'RE': re_result})\n",
    "print(comparison)\n"
   ]
  },
  {
   "cell_type": "code",
   "execution_count": null,
   "id": "d7320f7c",
   "metadata": {},
   "outputs": [],
   "source": [
    "# 결과 해석"
   ]
  },
  {
   "cell_type": "code",
   "execution_count": null,
   "id": "d491b339",
   "metadata": {},
   "outputs": [],
   "source": [
    "# compare 함수의 출력에서, 하우스만 검정의 P-value를 확인할 수 있다. \n",
    "# P-value가 0.05 미만 경우: 고정효과 모델이 데이터에 더 적합하다고 볼 수 있다. \n",
    "# 반대로 P-value가 높다면, 임의효과 모델을 사용하는 것이 적절할 수 있다.\n",
    "# 위 사례 임의효과 모델이 유의하다."
   ]
  },
  {
   "cell_type": "code",
   "execution_count": null,
   "id": "362c6af3",
   "metadata": {},
   "outputs": [],
   "source": []
  },
  {
   "cell_type": "markdown",
   "id": "3845f531",
   "metadata": {},
   "source": [
    "### 우도비 검정(Likelihood Ratio Test, LRT)"
   ]
  },
  {
   "cell_type": "code",
   "execution_count": null,
   "id": "74cab1fd",
   "metadata": {},
   "outputs": [],
   "source": [
    "#  두 통계 모델의 적합도를 비교하는 데 사용되는 방법\n",
    "#     특히 제약이 없는 모델(보다 많은 파라미터를 가진 모델)과 제약이 있는 모델(보다 적은 파라미터를 가진 모델) 사이의 적합도를 비교할 때 유용\n",
    "#     패널 데이터 분석에서 우도비 검정은 고정 효과 모델과 임의 효과 모델 같이 다른 가정을 가진 두 모델을 비교하는 데 종종 사용"
   ]
  },
  {
   "cell_type": "code",
   "execution_count": null,
   "id": "c5397240",
   "metadata": {},
   "outputs": [],
   "source": [
    "# linearmodels 패키지를 사용하여 고정 효과 모델과 임의 효과 모델 사이의 우도비 검정을 수행"
   ]
  },
  {
   "cell_type": "code",
   "execution_count": null,
   "id": "0f03d291",
   "metadata": {},
   "outputs": [],
   "source": [
    "# PanelOLS와 RandomEffects를 사용하여 각각 고정효과 모델과 임의효과 모델을 적합합니다.\n",
    "# compare 함수를 사용하여 두 모델의 결과를 비교합니다. \n",
    "# 이 함수는 내부적으로 우도비 검정을 수행하고, 두 모델 간의 차이가 통계적으로 유의미한지를 평가"
   ]
  },
  {
   "cell_type": "code",
   "execution_count": 4,
   "id": "bc52ec9b",
   "metadata": {},
   "outputs": [
    {
     "name": "stdout",
     "output_type": "stream",
     "text": [
      "                    Model Comparison                    \n",
      "========================================================\n",
      "                                       RE             FE\n",
      "--------------------------------------------------------\n",
      "Dep. Variable                           Y              Y\n",
      "Estimator                   RandomEffects       PanelOLS\n",
      "No. Observations                     1000           1000\n",
      "Cov. Est.                      Unadjusted     Unadjusted\n",
      "R-squared                          0.4134         0.0004\n",
      "R-Squared (Within)                -0.3987         0.0004\n",
      "R-Squared (Between)                0.8323         0.0389\n",
      "R-Squared (Overall)                0.5652         0.0306\n",
      "F-statistic                        704.08         0.3854\n",
      "P-value (F-stat)                   0.0000         0.5349\n",
      "=====================     ===============   ============\n",
      "X                                  0.6608         0.0210\n",
      "                                 (26.535)       (0.6208)\n",
      "======================= ================= ==============\n",
      "Effects                                           Entity\n",
      "--------------------------------------------------------\n",
      "\n",
      "T-stats reported in parentheses\n"
     ]
    }
   ],
   "source": [
    "from linearmodels.panel import PanelOLS, RandomEffects\n",
    "import numpy as np\n",
    "import pandas as pd\n",
    "\n",
    "# 가상의 패널 데이터 생성\n",
    "np.random.seed(1)\n",
    "N = 100  # 개체 수\n",
    "T = 10  # 시간 기간\n",
    "ids = np.arange(1, N+1)\n",
    "years = np.arange(1, T+1)\n",
    "\n",
    "# 패널 데이터프레임 생성\n",
    "df = pd.DataFrame({'id': np.repeat(ids, T),\n",
    "                   'year': np.tile(years, N),\n",
    "                   'X': np.random.rand(N*T),\n",
    "                   'Y': np.random.rand(N*T)})\n",
    "df = df.set_index(['id', 'year'])\n",
    "\n",
    "# 고정 효과 모델 적합\n",
    "fe_model = PanelOLS.from_formula('Y ~ X + EntityEffects', data=df)\n",
    "fe_result = fe_model.fit()\n",
    "\n",
    "# 임의 효과 모델 적합\n",
    "re_model = RandomEffects.from_formula('Y ~ X', data=df)\n",
    "re_result = re_model.fit()\n",
    "\n",
    "# 우도비 검정 수행\n",
    "from linearmodels.panel import compare\n",
    "comparison = compare({'RE': re_result, 'FE': fe_result}, precision='tstats')\n",
    "print(comparison.summary)\n"
   ]
  },
  {
   "cell_type": "code",
   "execution_count": null,
   "id": "4db7cc60",
   "metadata": {},
   "outputs": [],
   "source": [
    "# 결과 해석:\n",
    "# compare 함수의 출력에서 우도비 검정의 결과를 확인할 수 있습니다. \n",
    "# 출력된 통계량과 P-value를 통해 두 모델 사이의 적합도 차이가 통계적으로 유의미한지를 평가할 수 있습니다.\n",
    "# 우도비 검정의 P-value가 낮다면(예: 0.05 미만), 두 모델 사이에 유의미한 차이가 있으며, \n",
    "# 일반적으로 파라미터가 더 많은 모델(여기서는 고정 효과 모델)이 데이터를 더 잘 설명한다고 볼 수 있습니다"
   ]
  },
  {
   "cell_type": "code",
   "execution_count": null,
   "id": "492bf1b9",
   "metadata": {},
   "outputs": [],
   "source": [
    "# 결과표에서 \"Entity\"는 분석에 포함된 개체 단위의 통계적 특성을 나타내는 데 사용될 수 있습니다. \n",
    "#예를 들어, 고정 효과 모델의 결과표에서는 각 \"Entity\"별로 고유한 상수항을 추정할 수 있으며, 이는 개체 간의 고정된 차이를 나타냅니다. \n",
    "# 임의 효과 모델의 결과표에서는 \"Entity\"별 임의 효과의 분산 성분을 보여줄 수 있으며, 이는 개체 간 변동성의 크기를 나타냅니다.\n",
    "# 결과표에서 \"Entity\" 관련 정보는 모델이 개체 간 차이를 어떻게 처리하고 있는지, 그리고 개체 간 차이가 결과에 어떤 영향을 미치고 있는지 이해하는 데 중요한 역할을 합니다."
   ]
  }
 ],
 "metadata": {
  "kernelspec": {
   "display_name": "Python 3 (ipykernel)",
   "language": "python",
   "name": "python3"
  },
  "language_info": {
   "codemirror_mode": {
    "name": "ipython",
    "version": 3
   },
   "file_extension": ".py",
   "mimetype": "text/x-python",
   "name": "python",
   "nbconvert_exporter": "python",
   "pygments_lexer": "ipython3",
   "version": "3.9.11"
  },
  "toc": {
   "base_numbering": 1,
   "nav_menu": {},
   "number_sections": true,
   "sideBar": true,
   "skip_h1_title": false,
   "title_cell": "Table of Contents",
   "title_sidebar": "Contents",
   "toc_cell": false,
   "toc_position": {},
   "toc_section_display": true,
   "toc_window_display": false
  }
 },
 "nbformat": 4,
 "nbformat_minor": 5
}
