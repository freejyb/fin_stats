{
 "cells": [
  {
   "cell_type": "code",
   "execution_count": null,
   "id": "35a5b96c",
   "metadata": {},
   "outputs": [],
   "source": [
    "# 별도 자료 참고"
   ]
  },
  {
   "cell_type": "code",
   "execution_count": null,
   "id": "61059f6c",
   "metadata": {},
   "outputs": [],
   "source": [
    "# 정규분포를 따르는 무선변수를 표준화하면, 표준정규분포를 따르는 것으로 변환됨\n",
    "# 표준정규분포: 평균이 0이고 표준편차가 1인 정규분포"
   ]
  },
  {
   "cell_type": "code",
   "execution_count": null,
   "id": "c92be269",
   "metadata": {},
   "outputs": [],
   "source": [
    "# 표본의 표준편차로 표준화를 하면, 변환된 변수는 표준정규분포를 따르지 않고 t 분포를 따름\n",
    "#표본에서 구한 분산/표준편차로 어떤 변수를 표준화를 하면 z값이 아닌 t값이 되고, 이를 이용하여 검증하기 때문에 t-test 라고 함"
   ]
  },
  {
   "cell_type": "code",
   "execution_count": null,
   "id": "bac03b30",
   "metadata": {},
   "outputs": [],
   "source": [
    "# 두 표본의 평균 차이가 모집단 차원에서도 있는 것인지 아니면 표본에서만 우연히 차이가 있는지 검증하는 방법"
   ]
  },
  {
   "cell_type": "code",
   "execution_count": null,
   "id": "91972ae5",
   "metadata": {},
   "outputs": [],
   "source": [
    "# 독립표본 t-test\n",
    "# 두 독립표본의 평균을 통계적으로 비교하는 기법"
   ]
  },
  {
   "cell_type": "code",
   "execution_count": null,
   "id": "c14e1911",
   "metadata": {},
   "outputs": [],
   "source": [
    "# 독립표본?\n",
    "# 두 표본집단을 구성(표집/수집)할 때 독립이면 독립표본\n",
    "# 독립표본: 무작위로 남자 10명과 여자 10명을 뽑아 두 집단을 비교하는 경우\n",
    "# 대응표본: 부부 10쌍을 뽑아 남편 10명과 아내 10명으로 두 집단을 비교하는 경우\n",
    "    "
   ]
  },
  {
   "cell_type": "markdown",
   "id": "cfcd2bb2",
   "metadata": {},
   "source": [
    "#### 검증 "
   ]
  },
  {
   "cell_type": "code",
   "execution_count": null,
   "id": "519fe1f6",
   "metadata": {},
   "outputs": [],
   "source": [
    "# 귀무가설(null hypothesis) : 두 집단의 모평균(모집단의 평균)은 동일하다는 가설, 즉, 차이가 없다.(두 집단의 모평균 차이 = 0)\n",
    "# 대랍가설 :  두 표본평균이 차이나는 정도에 대한 가능성(확률)을 계산하고 이를 바탕으로 \"두 집단의 모평균(모집단의 평균)은 동일하다는 가설\"에 대해서 판단함"
   ]
  },
  {
   "cell_type": "code",
   "execution_count": 2,
   "id": "6f57709e",
   "metadata": {},
   "outputs": [],
   "source": [
    "m = [1, 3, 5, 7]\n",
    "n = [1, 2, 4, 8]"
   ]
  },
  {
   "cell_type": "code",
   "execution_count": 3,
   "id": "f6a01636",
   "metadata": {},
   "outputs": [
    {
     "data": {
      "text/plain": [
       "4.0"
      ]
     },
     "execution_count": 3,
     "metadata": {},
     "output_type": "execute_result"
    }
   ],
   "source": [
    "import numpy as np\n",
    "\n",
    "np.mean(m)"
   ]
  },
  {
   "cell_type": "code",
   "execution_count": 6,
   "id": "e6a3fed6",
   "metadata": {},
   "outputs": [
    {
     "data": {
      "text/plain": [
       "3.75"
      ]
     },
     "execution_count": 6,
     "metadata": {},
     "output_type": "execute_result"
    }
   ],
   "source": [
    "m = [1, 3, 5, 7]\n",
    "n = [1, 2, 4, 8]\n",
    "import numpy as np\n",
    "\n",
    "np.mean(n)"
   ]
  },
  {
   "cell_type": "code",
   "execution_count": 7,
   "id": "412be31a",
   "metadata": {},
   "outputs": [
    {
     "data": {
      "text/plain": [
       "Ttest_indResult(statistic=0.12403473458920847, pvalue=0.9054652705924352)"
      ]
     },
     "execution_count": 7,
     "metadata": {},
     "output_type": "execute_result"
    }
   ],
   "source": [
    "# 두 집단의 평균 차이가 통계적으로 유의미한지 t-검증\n",
    "\n",
    "import scipy.stats\n",
    "scipy.stats.ttest_ind(m, n, equal_var=False)"
   ]
  },
  {
   "cell_type": "code",
   "execution_count": null,
   "id": "4233e42a",
   "metadata": {},
   "outputs": [],
   "source": [
    "# 검증 결과, 두 집단의 평균 차이는 통계적으로 유의미하지 않음 (p>0.05)"
   ]
  },
  {
   "cell_type": "code",
   "execution_count": null,
   "id": "82801216",
   "metadata": {},
   "outputs": [],
   "source": []
  },
  {
   "cell_type": "markdown",
   "id": "a3f6d4f8",
   "metadata": {},
   "source": [
    "#### t 검증 결과 보고 (효과 크기)"
   ]
  },
  {
   "cell_type": "code",
   "execution_count": null,
   "id": "8c9aac68",
   "metadata": {},
   "outputs": [],
   "source": [
    "# # t-test에서 효과 크기(effect size) :  두 집단의 평균 차이를 일정한 기준으로 표현한 것\n",
    "\n",
    "# t 검증 방법은 표본이 충분히 크면 대부분 통계적으로 유의하다고 나온다.--> 통계적 유의성 뿐만 아니라 효과크기(Effect Size) 값도 함께 고려\n",
    "\n",
    "# 효과 크기 표현 방법 :Pearson's r  , Cohen's d 등 여러 가지가 있음\n",
    "# 다른 실험의 효과 크기와 비교하여 상대적으로 판단한다.\n",
    "# 대략, 보통 0.2 정도면 작은 편, 0.5 정도면 중간, 0.8이면 큰 편"
   ]
  },
  {
   "cell_type": "code",
   "execution_count": 8,
   "id": "565a78c9",
   "metadata": {},
   "outputs": [
    {
     "data": {
      "text/plain": [
       "Ttest_indResult(statistic=0.12403473458920847, pvalue=0.9054652705924352)"
      ]
     },
     "execution_count": 8,
     "metadata": {},
     "output_type": "execute_result"
    }
   ],
   "source": [
    "m = [1, 3, 5, 7]\n",
    "n = [1, 2, 4, 8]\n",
    "import numpy as np\n",
    "import scipy.stats\n",
    "scipy.stats.ttest_ind(m, n, equal_var=False)"
   ]
  },
  {
   "cell_type": "code",
   "execution_count": null,
   "id": "fb275300",
   "metadata": {},
   "outputs": [],
   "source": [
    "# Cohen's d:\n",
    "# 효과크기(D)  = ①두 표본 집단의 평균 차이 / ②추정된 표준편차"
   ]
  },
  {
   "cell_type": "code",
   "execution_count": 13,
   "id": "928a5714",
   "metadata": {},
   "outputs": [
    {
     "data": {
      "text/plain": [
       "1.3352869363346744"
      ]
     },
     "execution_count": 13,
     "metadata": {},
     "output_type": "execute_result"
    }
   ],
   "source": [
    "import numpy as np\n",
    "import scipy.stats\n",
    "scipy.stats.ttest_ind(m, n, equal_var=False)\n",
    "\n",
    "# Cohen's d:\n",
    "\n",
    "t = m.statistic\n",
    "df = len(m) + len(n) - 2\n",
    "\n",
    "#효과크기(D)  = ①두 표본 집단의 평균 차이 / ②추정된 표준편차\n",
    "\n",
    "abs(t) / np.sqrt(df)"
   ]
  },
  {
   "cell_type": "code",
   "execution_count": 14,
   "id": "abff7f78",
   "metadata": {},
   "outputs": [
    {
     "data": {
      "text/plain": [
       "0.8004213853334077"
      ]
     },
     "execution_count": 14,
     "metadata": {},
     "output_type": "execute_result"
    }
   ],
   "source": [
    "# Pearson's r\n",
    "\n",
    "m = [1, 3, 5, 7]\n",
    "n = [1, 2, 4, 8]\n",
    "import numpy as np\n",
    "import scipy.stats\n",
    "scipy.stats.ttest_ind(m, n, equal_var=False)\n",
    "\n",
    "t2 = t ** 2\n",
    "np.sqrt(t2 / (t2 + df))"
   ]
  },
  {
   "cell_type": "code",
   "execution_count": null,
   "id": "2cd1a4a9",
   "metadata": {},
   "outputs": [],
   "source": []
  },
  {
   "cell_type": "markdown",
   "id": "822c5eac",
   "metadata": {},
   "source": [
    "### 삼성전자와 LG전자의 주식 가격 일간 수익률 차이 검증"
   ]
  },
  {
   "cell_type": "code",
   "execution_count": 1,
   "id": "66d6838a",
   "metadata": {},
   "outputs": [
    {
     "name": "stdout",
     "output_type": "stream",
     "text": [
      "t-검정 통계량: -0.539021298262223\n",
      "p-value: 0.5901578454028231\n"
     ]
    }
   ],
   "source": [
    "from pykrx import stock\n",
    "from scipy import stats\n",
    "from datetime import datetime\n",
    "\n",
    "# 데이터 가져오기 기간 설정\n",
    "start_date = datetime(2020, 1, 1).strftime('%Y%m%d')\n",
    "end_date = datetime(2020, 12, 31).strftime('%Y%m%d')\n",
    "\n",
    "# 삼성전자와 LG전자의 일간 종가 데이터 가져오기\n",
    "samsung_close = stock.get_market_ohlcv_by_date(start_date, end_date, \"005930\")['종가']\n",
    "lg_close = stock.get_market_ohlcv_by_date(start_date, end_date, \"066570\")['종가']\n",
    "\n",
    "# 일간 수익률 계산\n",
    "samsung_returns = samsung_close.pct_change().dropna()\n",
    "lg_returns = lg_close.pct_change().dropna()\n",
    "\n",
    "# 독립표본 T-TEST 수행\n",
    "t_statistic, p_value = stats.ttest_ind(samsung_returns, lg_returns, equal_var=False)\n",
    "\n",
    "print(f\"t-검정 통계량: {t_statistic}\")\n",
    "print(f\"p-value: {p_value}\")\n"
   ]
  },
  {
   "cell_type": "code",
   "execution_count": null,
   "id": "112df689",
   "metadata": {},
   "outputs": [],
   "source": [
    "# 결과 해석\n",
    "# t-검정 통계량(t_statistic): 이 값이 크면 클수록 두 집단 간의 평균 차이가 크다는 것을 의미\n",
    "# p-value: t-검정 통계량에 대한 p-value- 일반적으로 p-value가 0.05 미만이면, 두 집단 간의 평균 차이가 통계적으로 유의미하다고 해석할 수 있습니다. 즉, 귀무 가설(두 집단의 평균이 같다는 가설)을 기각하고, 대립 가설(두 집단의 평균이 다르다는 가설)을 채택합니다.\n",
    "# 평균 수익률가 차이가 없다라고 하는 귀무가설을 기각 할 수 없다.\n"
   ]
  },
  {
   "cell_type": "code",
   "execution_count": null,
   "id": "610e6307",
   "metadata": {},
   "outputs": [],
   "source": [
    "# 기간 차이"
   ]
  },
  {
   "cell_type": "code",
   "execution_count": 2,
   "id": "ff7a8d73",
   "metadata": {},
   "outputs": [
    {
     "name": "stdout",
     "output_type": "stream",
     "text": [
      "t-검정 통계량: 0.4406958421111332\n",
      "p-value: 0.659653086026514\n"
     ]
    }
   ],
   "source": [
    "from pykrx import stock\n",
    "from scipy import stats\n",
    "from datetime import datetime\n",
    "\n",
    "# 데이터 가져오기 기간 설정\n",
    "start_date = datetime(2023, 1, 1).strftime('%Y%m%d')\n",
    "end_date = datetime(2023, 12, 31).strftime('%Y%m%d')\n",
    "\n",
    "# 삼성전자와 LG전자의 일간 종가 데이터 가져오기\n",
    "samsung_close = stock.get_market_ohlcv_by_date(start_date, end_date, \"005930\")['종가']\n",
    "lg_close = stock.get_market_ohlcv_by_date(start_date, end_date, \"066570\")['종가']\n",
    "\n",
    "# 일간 수익률 계산\n",
    "samsung_returns = samsung_close.pct_change().dropna()\n",
    "lg_returns = lg_close.pct_change().dropna()\n",
    "\n",
    "# 독립표본 T-TEST 수행\n",
    "t_statistic, p_value = stats.ttest_ind(samsung_returns, lg_returns, equal_var=False)\n",
    "\n",
    "print(f\"t-검정 통계량: {t_statistic}\")\n",
    "print(f\"p-value: {p_value}\")\n"
   ]
  },
  {
   "cell_type": "code",
   "execution_count": null,
   "id": "c65215f7",
   "metadata": {},
   "outputs": [],
   "source": [
    "# 기간 차이"
   ]
  },
  {
   "cell_type": "code",
   "execution_count": null,
   "id": "b3bd7f3b",
   "metadata": {},
   "outputs": [],
   "source": [
    "from pykrx import stock\n",
    "from scipy import stats\n",
    "from datetime import datetime\n",
    "\n",
    "# 데이터 가져오기 기간 설정\n",
    "start_date = datetime(2023, 1, 1).strftime('%Y%m%d')\n",
    "end_date = datetime(2023, 12, 31).strftime('%Y%m%d')\n",
    "\n",
    "# 삼성전자와 LG전자의 일간 종가 데이터 가져오기\n",
    "samsung_close = stock.get_market_ohlcv_by_date(start_date, end_date, \"005930\")['종가']\n",
    "lg_close = stock.get_market_ohlcv_by_date(start_date, end_date, \"066570\")['종가']\n",
    "\n",
    "# 일간 수익률 계산\n",
    "samsung_returns = samsung_close.pct_change().dropna()\n",
    "lg_returns = lg_close.pct_change().dropna()\n",
    "\n",
    "# 독립표본 T-TEST 수행\n",
    "t_statistic, p_value = stats.ttest_ind(samsung_returns, lg_returns, equal_var=False)\n",
    "\n",
    "print(f\"t-검정 통계량: {t_statistic}\")\n",
    "print(f\"p-value: {p_value}\")"
   ]
  },
  {
   "cell_type": "code",
   "execution_count": null,
   "id": "82bbdfb3",
   "metadata": {},
   "outputs": [],
   "source": []
  },
  {
   "cell_type": "markdown",
   "id": "b41ef6f9",
   "metadata": {},
   "source": [
    "### 삼성전자와 KB지주의 주식 가격 일간 수익률 차이 검증"
   ]
  },
  {
   "cell_type": "code",
   "execution_count": 4,
   "id": "ddec2796",
   "metadata": {},
   "outputs": [
    {
     "name": "stdout",
     "output_type": "stream",
     "text": [
      "t-검정 통계량: 0.5902078223856714\n",
      "p-value: 0.5553459321187528\n"
     ]
    }
   ],
   "source": [
    "from pykrx import stock\n",
    "from scipy import stats\n",
    "from datetime import datetime\n",
    "\n",
    "# 데이터 가져오기 기간 설정\n",
    "start_date = datetime(2023, 1, 1).strftime('%Y%m%d')\n",
    "end_date = datetime(2023, 12, 31).strftime('%Y%m%d')\n",
    "\n",
    "# 삼성전자와 kb지주 의 일간 종가 데이터 가져오기\n",
    "samsung_close = stock.get_market_ohlcv_by_date(start_date, end_date, \"005930\")['종가']\n",
    "kb_close = stock.get_market_ohlcv_by_date(start_date, end_date, \"105560\")['종가']\n",
    "\n",
    "# 일간 수익률 계산\n",
    "samsung_returns = samsung_close.pct_change().dropna()\n",
    "kb_returns = kb_close.pct_change().dropna()\n",
    "\n",
    "# 독립표본 T-TEST 수행\n",
    "t_statistic, p_value = stats.ttest_ind(samsung_returns, kb_returns, equal_var=False)\n",
    "\n",
    "print(f\"t-검정 통계량: {t_statistic}\")\n",
    "print(f\"p-value: {p_value}\")"
   ]
  },
  {
   "cell_type": "markdown",
   "id": "72c7cc3f",
   "metadata": {},
   "source": [
    "### SK하이닉스 와 KB지주의 주식 가격 일간 수익률 차이 검증"
   ]
  },
  {
   "cell_type": "code",
   "execution_count": 11,
   "id": "6e9cac99",
   "metadata": {},
   "outputs": [
    {
     "name": "stdout",
     "output_type": "stream",
     "text": [
      "t-검정 통계량: 0.19407283165033856\n",
      "p-value: 0.8461388638627606\n"
     ]
    }
   ],
   "source": [
    "from pykrx import stock\n",
    "from scipy import stats\n",
    "from datetime import datetime\n",
    "\n",
    "# 데이터 가져오기 기간 설정\n",
    "start_date = datetime(2020, 1, 1).strftime('%Y%m%d')\n",
    "end_date = datetime(2023, 12, 31).strftime('%Y%m%d')\n",
    "\n",
    "# sk하이닉스와 kb지주의 일간 종가 데이터 가져오기\n",
    "skh_close = stock.get_market_ohlcv_by_date(start_date, end_date, \"000660\")['종가']\n",
    "kb_close = stock.get_market_ohlcv_by_date(start_date, end_date, \"035420\")['종가']\n",
    "\n",
    "# 일간 수익률 계산\n",
    "skh_returns = skh_close.pct_change().dropna()\n",
    "kb_returns = kb_close.pct_change().dropna()\n",
    "\n",
    "# 독립표본 T-TEST 수행\n",
    "t_statistic, p_value = stats.ttest_ind(skh_returns, kb_returns, equal_var=False)\n",
    "\n",
    "print(f\"t-검정 통계량: {t_statistic}\")\n",
    "print(f\"p-value: {p_value}\")"
   ]
  },
  {
   "cell_type": "code",
   "execution_count": null,
   "id": "81661999",
   "metadata": {},
   "outputs": [],
   "source": []
  },
  {
   "cell_type": "code",
   "execution_count": null,
   "id": "b0965f4b",
   "metadata": {},
   "outputs": [],
   "source": []
  },
  {
   "cell_type": "markdown",
   "id": "bec76c41",
   "metadata": {},
   "source": [
    "### 대응표본 t 검정(paired t-test) "
   ]
  },
  {
   "cell_type": "code",
   "execution_count": null,
   "id": "ddddb403",
   "metadata": {},
   "outputs": [],
   "source": [
    "# 대응표본이란?\n",
    "# 두 집단의 자료를 쌍으로 묶을 수 있을 때\n",
    "# before & after\n",
    "# 두 집단의 자료를 쌍으로 묶어야 하기 때문에, 독립표본과는 달리 두 집단의 자료 갯수가 동일해야 함"
   ]
  },
  {
   "cell_type": "code",
   "execution_count": null,
   "id": "431c501a",
   "metadata": {},
   "outputs": [],
   "source": []
  },
  {
   "cell_type": "code",
   "execution_count": 16,
   "id": "d12362e3",
   "metadata": {},
   "outputs": [
    {
     "data": {
      "text/plain": [
       "Ttest_relResult(statistic=8.864266347846431, pvalue=4.7429041960145075e-06)"
      ]
     },
     "execution_count": 16,
     "metadata": {},
     "output_type": "execute_result"
    }
   ],
   "source": [
    "# paired=T를 하여 대응표본 t-test:\n",
    "# 투약 전 후\n",
    "before = [140, 144, 155, 160, 180, 190, 170, 180, 150,160,170]\n",
    "after = [110, 112, 122, 114, 111, 105, 108, 101, 110, 120, 110]\n",
    "\n",
    "import scipy.stats\n",
    "\n",
    "scipy.stats.ttest_rel(before, after)"
   ]
  },
  {
   "cell_type": "code",
   "execution_count": null,
   "id": "a2472994",
   "metadata": {},
   "outputs": [],
   "source": [
    "통계적으로 유의미한 차이가 있음(p < 0.05)"
   ]
  }
 ],
 "metadata": {
  "kernelspec": {
   "display_name": "Python 3 (ipykernel)",
   "language": "python",
   "name": "python3"
  },
  "language_info": {
   "codemirror_mode": {
    "name": "ipython",
    "version": 3
   },
   "file_extension": ".py",
   "mimetype": "text/x-python",
   "name": "python",
   "nbconvert_exporter": "python",
   "pygments_lexer": "ipython3",
   "version": "3.9.11"
  },
  "toc": {
   "base_numbering": 1,
   "nav_menu": {},
   "number_sections": true,
   "sideBar": true,
   "skip_h1_title": false,
   "title_cell": "Table of Contents",
   "title_sidebar": "Contents",
   "toc_cell": false,
   "toc_position": {},
   "toc_section_display": true,
   "toc_window_display": false
  }
 },
 "nbformat": 4,
 "nbformat_minor": 5
}
