{
 "cells": [
  {
   "cell_type": "markdown",
   "id": "a80b5db9-b5b4-4094-a25b-61a77d891579",
   "metadata": {},
   "source": [
    "### 윌콕슨 순위-합 검정  (Wilcoxon Rank-Sum Test, Mann-Whitney U-test) "
   ]
  },
  {
   "cell_type": "markdown",
   "id": "bfe78623-cf1a-4115-89c1-cdfb2b83938e",
   "metadata": {},
   "source": [
    "- 목적: 두 독립 집단 간 위치 차이(중앙값 차이)를 검정\n",
    "- 가정 : 1) 두 집단은 서로 독립적이다. 2) 측정값은 최소한 서열척도(순위화 가능) 여야 한다."
   ]
  },
  {
   "cell_type": "markdown",
   "id": "a51b2b58-3e9f-48bb-8bac-1437726beba0",
   "metadata": {},
   "source": [
    "- Wilcoxon Signed-Rank Test는 비모수 통계 검정(non-parametric test) 방법\n",
    "- 두 개의 독립 표본 집단의 차이를 비교할 때 혹은 한 집단의 전/후 비교에서 사용.\n",
    "- 대응표본 t-검정(paired t-test)의 정규성 가정이 만족되지 않을 때 대체 방법으로 사용\n",
    "- 데이터가 정규분포를 따르지 않아도 사용 가능하다."
   ]
  },
  {
   "cell_type": "code",
   "execution_count": 2,
   "id": "955af566-36d4-40a9-97b7-5661c0b1a834",
   "metadata": {},
   "outputs": [
    {
     "name": "stdout",
     "output_type": "stream",
     "text": [
      "Mann-Whitney U 통계량: 5.0\n",
      "p-value: 0.8571428571428571\n",
      "→ 귀무가설 채택: 두 집단의 중앙값에 유의한 차이가 없습니다.\n"
     ]
    }
   ],
   "source": [
    "import numpy as np\n",
    "from scipy.stats import mannwhitneyu\n",
    "\n",
    "# 예제 데이터\n",
    "group_A = np.array([8, 12, 15])\n",
    "group_B = np.array([9, 10, 14, 18])\n",
    "\n",
    "# 윌콕슨 순위합 검정 수행\n",
    "stat, p_value = mannwhitneyu(group_A, group_B, alternative='two-sided') #\"two-sided\" : 두 집단이 다르다고 가정\n",
    "\n",
    "print(\"Mann-Whitney U 통계량:\", stat)\n",
    "print(\"p-value:\", p_value)\n",
    "\n",
    "# 해석\n",
    "alpha = 0.05\n",
    "if p_value < alpha:\n",
    "    print(\"→ 귀무가설 기각: 두 집단의 중앙값은 통계적으로 유의하게 다릅니다.\")\n",
    "else:\n",
    "    print(\"→ 귀무가설 채택: 두 집단의 중앙값에 유의한 차이가 없습니다.\")\n"
   ]
  },
  {
   "cell_type": "code",
   "execution_count": null,
   "id": "fdfad61f-c370-4116-9881-84ad5a5dac39",
   "metadata": {},
   "outputs": [],
   "source": []
  },
  {
   "cell_type": "code",
   "execution_count": 3,
   "id": "53617104-ac6d-4c61-8765-8a1d381e19d1",
   "metadata": {},
   "outputs": [
    {
     "name": "stdout",
     "output_type": "stream",
     "text": [
      "    값 그룹   순위\n",
      "0   8  A  1.0\n",
      "1  12  A  4.0\n",
      "2  15  A  6.0\n",
      "3   9  B  2.0\n",
      "4  10  B  3.0\n",
      "5  14  B  5.0\n",
      "6  18  B  7.0\n",
      "\n",
      "그룹 A 순위합 R1: 11.0\n",
      "그룹 B 순위합 R2: 17.0\n",
      "U 통계량: 5.0\n"
     ]
    }
   ],
   "source": [
    "import pandas as pd\n",
    "\n",
    "# 데이터프레임으로 합치기\n",
    "df = pd.DataFrame({\n",
    "    \"값\": np.concatenate([group_A, group_B]),\n",
    "    \"그룹\": [\"A\"] * len(group_A) + [\"B\"] * len(group_B)\n",
    "})\n",
    "\n",
    "# 순위 매기기\n",
    "df[\"순위\"] = df[\"값\"].rank(method=\"average\")\n",
    "\n",
    "# 각 그룹별 순위 합\n",
    "R1 = df[df[\"그룹\"]==\"A\"][\"순위\"].sum()\n",
    "R2 = df[df[\"그룹\"]==\"B\"][\"순위\"].sum()\n",
    "\n",
    "n1, n2 = len(group_A), len(group_B)\n",
    "\n",
    "# U 통계량 계산\n",
    "U1 = n1 * n2 + (n1*(n1+1))/2 - R1\n",
    "U2 = n1 * n2 - U1\n",
    "U = min(U1, U2)\n",
    "\n",
    "print(df)\n",
    "print(f\"\\n그룹 A 순위합 R1: {R1}\")\n",
    "print(f\"그룹 B 순위합 R2: {R2}\")\n",
    "print(f\"U 통계량: {U}\")\n"
   ]
  },
  {
   "cell_type": "markdown",
   "id": "27e64910-549f-4324-860c-b0c2c97a789c",
   "metadata": {},
   "source": [
    "- 파이썬 코드 – 단계별 시각화"
   ]
  },
  {
   "cell_type": "code",
   "execution_count": 5,
   "id": "e2d631f9-a5de-495d-ac1a-bd313fd0d428",
   "metadata": {},
   "outputs": [
    {
     "name": "stdout",
     "output_type": "stream",
     "text": [
      "=== 순위 테이블 ===\n",
      "    값 그룹   순위\n",
      "0   8  A  1.0\n",
      "3   9  B  2.0\n",
      "4  10  B  3.0\n",
      "1  12  A  4.0\n",
      "5  14  B  5.0\n",
      "2  15  A  6.0\n",
      "6  18  B  7.0\n",
      "\n",
      "그룹 A 순위합 R1 = 11.0\n",
      "그룹 B 순위합 R2 = 17.0\n",
      "U 통계량 = 5.0\n",
      "p-value = 0.8571428571428571\n"
     ]
    },
    {
     "name": "stderr",
     "output_type": "stream",
     "text": [
      "C:\\Users\\JYB\\AppData\\Local\\Temp\\ipykernel_12280\\3711881863.py:46: FutureWarning: \n",
      "\n",
      "Passing `palette` without assigning `hue` is deprecated and will be removed in v0.14.0. Assign the `x` variable to `hue` and set `legend=False` for the same effect.\n",
      "\n",
      "  sns.stripplot(x=\"그룹\", y=\"값\", data=df, jitter=True, size=10, palette=\"Set2\")\n"
     ]
    },
    {
     "data": {
      "image/png": "[encoded data removed]",
      "text/plain": [
       "<Figure size 800x500 with 1 Axes>"
      ]
     },
     "metadata": {},
     "output_type": "display_data"
    }
   ],
   "source": [
    "import numpy as np\n",
    "import pandas as pd\n",
    "from scipy.stats import mannwhitneyu\n",
    "import matplotlib.pyplot as plt\n",
    "import seaborn as sns\n",
    "\n",
    "# 한글 깨짐\n",
    "plt.rcParams['font.family'] = 'Malgun Gothic'\n",
    "plt.rcParams['axes.unicode_minus'] = False  # 음수 기호 깨짐 방지\n",
    "\n",
    "# 데이터 준비\n",
    "group_A = np.array([8, 12, 15])\n",
    "group_B = np.array([9, 10, 14, 18])\n",
    "\n",
    "# 데이터프레임 생성\n",
    "df = pd.DataFrame({\n",
    "    \"값\": np.concatenate([group_A, group_B]),\n",
    "    \"그룹\": [\"A\"] * len(group_A) + [\"B\"] * len(group_B)\n",
    "})\n",
    "\n",
    "# 순위 계산\n",
    "df[\"순위\"] = df[\"값\"].rank(method=\"average\")\n",
    "\n",
    "# 그룹별 순위합 계산\n",
    "R1 = df[df[\"그룹\"]==\"A\"][\"순위\"].sum()\n",
    "R2 = df[df[\"그룹\"]==\"B\"][\"순위\"].sum()\n",
    "n1, n2 = len(group_A), len(group_B)\n",
    "\n",
    "# U 통계량 계산\n",
    "U1 = n1*n2 + (n1*(n1+1))/2 - R1\n",
    "U2 = n1*n2 - U1\n",
    "U = min(U1, U2)\n",
    "\n",
    "# p-value 계산\n",
    "stat, p_value = mannwhitneyu(group_A, group_B, alternative=\"two-sided\")\n",
    "\n",
    "print(\"=== 순위 테이블 ===\")\n",
    "print(df.sort_values(\"순위\"))\n",
    "print(f\"\\n그룹 A 순위합 R1 = {R1}\")\n",
    "print(f\"그룹 B 순위합 R2 = {R2}\")\n",
    "print(f\"U 통계량 = {U}\")\n",
    "print(f\"p-value = {p_value}\")\n",
    "\n",
    "# 순위 시각화\n",
    "plt.figure(figsize=(8,5))\n",
    "sns.stripplot(x=\"그룹\", y=\"값\", data=df, jitter=True, size=10, palette=\"Set2\")\n",
    "for i in range(len(df)):\n",
    "    plt.text(df[\"그룹\"].iloc[i], df[\"값\"].iloc[i]+0.2, f\"R={int(df['순위'].iloc[i])}\", \n",
    "             ha=\"center\", fontsize=10)\n",
    "plt.title(\"윌콕슨 순위-합 검정: 데이터 및 순위 시각화\")\n",
    "plt.ylabel(\"값\")\n",
    "plt.xlabel(\"그룹\")\n",
    "plt.show()\n"
   ]
  },
  {
   "cell_type": "code",
   "execution_count": null,
   "id": "07eb94e1-a7c0-41f7-a469-026033fcc3fa",
   "metadata": {},
   "outputs": [],
   "source": []
  }
 ],
 "metadata": {
  "kernelspec": {
   "display_name": "Python 3 (ipykernel)",
   "language": "python",
   "name": "python3"
  },
  "language_info": {
   "codemirror_mode": {
    "name": "ipython",
    "version": 3
   },
   "file_extension": ".py",
   "mimetype": "text/x-python",
   "name": "python",
   "nbconvert_exporter": "python",
   "pygments_lexer": "ipython3",
   "version": "3.9.11"
  }
 },
 "nbformat": 4,
 "nbformat_minor": 5
}
