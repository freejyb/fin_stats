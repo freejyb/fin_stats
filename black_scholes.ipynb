{
 "cells": [
  {
   "cell_type": "code",
   "execution_count": 1,
   "metadata": {},
   "outputs": [
    {
     "name": "stdout",
     "output_type": "stream",
     "text": [
      "Collecting quantlib\n",
      "  Downloading QuantLib-1.25-cp39-cp39-macosx_10_9_universal2.whl (15.6 MB)\n",
      "\u001b[2K     \u001b[90m━━━━━━━━━━━━━━━━━━━━━━━━━━━━━━━━━━━━━━━━\u001b[0m \u001b[32m15.6/15.6 MB\u001b[0m \u001b[31m20.8 MB/s\u001b[0m eta \u001b[36m0:00:00\u001b[0m00:01\u001b[0m00:01\u001b[0m\n",
      "\u001b[?25hInstalling collected packages: quantlib\n",
      "Successfully installed quantlib-1.25\n"
     ]
    }
   ],
   "source": [
    "!pip3 install quantlib"
   ]
  },
  {
   "cell_type": "markdown",
   "metadata": {},
   "source": [
    "![image](https://encrypted-tbn0.gstatic.com/images?q=tbn:ANd9GcTt1c0Ihlmsjkb4JNC4J32EkcLZjd-itwIFLg&usqp=CAU)"
   ]
  },
  {
   "cell_type": "code",
   "execution_count": 3,
   "metadata": {},
   "outputs": [],
   "source": [
    "import QuantLib as ql"
   ]
  },
  {
   "cell_type": "code",
   "execution_count": 177,
   "metadata": {},
   "outputs": [],
   "source": [
    "# 평가일 지정 날짜 할당\n",
    "valuation_date = ql.Date(1, 6, 2021)\n",
    "\n",
    "# 평가일 기준일을 위서 설정한 날짜로 할당\n",
    "ql.Settings.instance().evaluationDate = valuation_date\n",
    "\n",
    "# 날짜 계산을 위한 영업일 수 계산으로 한국 달력 사용\n",
    "calendar = ql.SouthKorea()\n",
    "dayCount = ql.ActualActual()"
   ]
  },
  {
   "cell_type": "code",
   "execution_count": 179,
   "metadata": {},
   "outputs": [],
   "source": [
    "# 기초자산 가격, 배당률, 무위험이자율(ex. 기준금리), 변동성 지수 업데이트\n",
    "underlying_qt = ql.SimpleQuote(270)\n",
    "dividend_qt = ql.SimpleQuote(0.0)\n",
    "riskfreerate_qt = ql.SimpleQuote(0.0125)\n",
    "volatility_qt = ql.SimpleQuote(0.13)"
   ]
  },
  {
   "cell_type": "code",
   "execution_count": 180,
   "metadata": {},
   "outputs": [],
   "source": [
    "# 업데이트한 SimpleQuote를 다시 QuoteHandle로 설정하는 부분\n",
    "# 이 작업을 토대로 simple 값이 변화하더라도 handle을 통해 바로 값 변형이 반영됨\n",
    "# Handle은 여기서 메모리 address 값을 저장하는 pointer 역할을 수행한다.\n",
    "q_qhandle = ql.QuoteHandle(underlying_qt)\n",
    "d_qhandle = ql.QuoteHandle(dividend_qt)\n",
    "r_qhandle = ql.QuoteHandle(riskfreerate_qt)\n",
    "v_qhandle = ql.QuoteHandle(volatility_qt)"
   ]
  },
  {
   "cell_type": "code",
   "execution_count": 181,
   "metadata": {},
   "outputs": [],
   "source": [
    "# 기초자산 가격을 제외한 나머지 변수는 기간 구조로 변경해야 함.\n",
    "\n",
    "r_timestructure = ql.FlatForward(valuation_date, r_qhandle, dayCount)\n",
    "d_timestructure = ql.FlatForward(valuation_date, d_qhandle, dayCount)\n",
    "v_timestructure = ql.BlackConstantVol(valuation_date, calendar, v_qhandle, dayCount)"
   ]
  },
  {
   "cell_type": "code",
   "execution_count": 182,
   "metadata": {},
   "outputs": [],
   "source": [
    "# handle을 통해 address를 넘겨주 듯, 마찬가지로 기간구조도 handle로 넘겨주는 작업\n",
    "r_thandle = ql.YieldTermStructureHandle(r_timestructure)\n",
    "d_thandle = ql.YieldTermStructureHandle(d_timestructure)\n",
    "v_thandle = ql.BlackVolTermStructureHandle(v_timestructure)"
   ]
  },
  {
   "cell_type": "code",
   "execution_count": 183,
   "metadata": {},
   "outputs": [],
   "source": [
    "# 가격 산정 프로세스 설정 (블렉숄츠 모형에서 가정하는 확률과정에 의한 feature 입력)\n",
    "process = ql.BlackScholesMertonProcess(q_qhandle, d_thandle, r_thandle, v_thandle)\n",
    "engine = ql.AnalyticEuropeanEngine(process)"
   ]
  },
  {
   "cell_type": "code",
   "execution_count": 184,
   "metadata": {},
   "outputs": [],
   "source": [
    "# 2020년 12월 12일 만기고 call 행사가격은 272인 유럽형 콜옵션 상정\n",
    "option_type = ql.Option.Call\n",
    "strike_price = 272\n",
    "expiry_date = ql.Date(1,12,2021)\n",
    "exercise = ql.EuropeanExercise(expiry_date)\n",
    "payoff = ql.PlainVanillaPayoff(type= option_type, strike = strike_price)\n",
    "option = ql.VanillaOption(payoff=payoff, exercise=exercise)"
   ]
  },
  {
   "cell_type": "code",
   "execution_count": 185,
   "metadata": {},
   "outputs": [],
   "source": [
    "# 옵션 가격 설정을 하기 위한 마지막 작업\n",
    "option.setPricingEngine(engine)"
   ]
  },
  {
   "cell_type": "code",
   "execution_count": 186,
   "metadata": {},
   "outputs": [
    {
     "name": "stdout",
     "output_type": "stream",
     "text": [
      "옵션프리미엄 = 9.76748896\n",
      "옵션 델타 = 0.51353501\n",
      "옵션 감마 = 0.01604256\n",
      "옵션 세타 = -0.03148873\n",
      "옵션 베가 = 0.76225959\n",
      "옵션 로 = 0.64620039\n"
     ]
    }
   ],
   "source": [
    "# 데이터 출력\n",
    "result_value = [option.NPV(), option.delta(), option.gamma(), option.thetaPerDay(), option.vega()/100, option.rho()/100]\n",
    "result_type = ['옵션프리미엄', '옵션 델타', '옵션 감마', '옵션 세타', '옵션 베가', '옵션 로']\n",
    "for i,j in zip(result_type, result_value):\n",
    "    print(f'{i} = {round(j, 8)}')"
   ]
  },
  {
   "cell_type": "code",
   "execution_count": 187,
   "metadata": {},
   "outputs": [
    {
     "name": "stdout",
     "output_type": "stream",
     "text": [
      "옵션프리미엄 = 12.5334\n",
      "옵션 델타 = 0.5922\n",
      "옵션 감마 = 0.0153\n",
      "옵션 세타 = -0.032\n",
      "옵션 베가 = 0.756\n",
      "옵션 로 = 0.7537\n"
     ]
    }
   ],
   "source": [
    "# 기초자산의 가격이 변동하는 경우\n",
    "underlying_qt.setValue(275)\n",
    "# 데이터 출력\n",
    "result_value = [option.NPV(), option.delta(), option.gamma(), option.thetaPerDay(), option.vega()/100, option.rho()/100]\n",
    "result_type = ['옵션프리미엄', '옵션 델타', '옵션 감마', '옵션 세타', '옵션 베가', '옵션 로']\n",
    "for i,j in zip(result_type, result_value):\n",
    "    print(f'{i} = {round(j, 4)}')"
   ]
  },
  {
   "cell_type": "code",
   "execution_count": 188,
   "metadata": {},
   "outputs": [
    {
     "name": "stdout",
     "output_type": "stream",
     "text": [
      "옵션프리미엄 = 8.2097\n",
      "옵션 델타 = 0.6419\n",
      "옵션 감마 = 0.0266\n",
      "옵션 세타 = -0.0201\n",
      "옵션 베가 = 0.7272\n",
      "옵션 로 = 0.8438\n"
     ]
    }
   ],
   "source": [
    "market_price = 8.21\n",
    "implied_volatility = option.impliedVolatility(market_price, process)\n",
    "volatility_qt.setValue(implied_volatility)\n",
    "\n",
    "result_value = [option.NPV(), option.delta(), option.gamma(), option.thetaPerDay(), option.vega()/100, option.rho()/100]\n",
    "result_type = ['옵션프리미엄', '옵션 델타', '옵션 감마', '옵션 세타', '옵션 베가', '옵션 로']\n",
    "\n",
    "for i,j in zip(result_type, result_value):\n",
    "    print(f'{i} = {round(j, 4)}')"
   ]
  },
  {
   "cell_type": "code",
   "execution_count": null,
   "metadata": {},
   "outputs": [],
   "source": []
  }
 ],
 "metadata": {
  "interpreter": {
   "hash": "1c6f91c552d8479e3986f5caf349a58b210669ba9b1803fb45a7d5d33a90e7ee"
  },
  "kernelspec": {
   "display_name": "Python 3.9.7 ('finance': venv)",
   "language": "python",
   "name": "python3"
  },
  "language_info": {
   "codemirror_mode": {
    "name": "ipython",
    "version": 3
   },
   "file_extension": ".py",
   "mimetype": "text/x-python",
   "name": "python",
   "nbconvert_exporter": "python",
   "pygments_lexer": "ipython3",
   "version": "3.9.7"
  },
  "orig_nbformat": 4
 },
 "nbformat": 4,
 "nbformat_minor": 2
}
