{
 "cells": [
  {
   "cell_type": "markdown",
   "id": "5169e896",
   "metadata": {},
   "source": [
    "### 교차분석(Cross Tabulation)"
   ]
  },
  {
   "cell_type": "code",
   "execution_count": null,
   "id": "b00de20c",
   "metadata": {},
   "outputs": [],
   "source": [
    "# pandas 라이브러리의 crosstab 함수를 사용하여 교차분석을 수행할 수 있다. \n",
    "# 이 함수는 두 변수 간의 빈도수를 표 형태로 요약"
   ]
  },
  {
   "cell_type": "code",
   "execution_count": null,
   "id": "f8196184",
   "metadata": {},
   "outputs": [],
   "source": [
    "#(예시) 어떤 학교에서 학생들의 성별(남성, 여성)과 선호하는 활동(스포츠, 읽기, 게임)을 조사했다고 가정"
   ]
  },
  {
   "cell_type": "code",
   "execution_count": null,
   "id": "425cc59f",
   "metadata": {},
   "outputs": [],
   "source": [
    "# 성별과 선호하는 활동 간의 관계를 교차분석하여, \n",
    "# 각 조합의 빈도수를 표로 출력합니다. 결과는 아래 표 참조"
   ]
  },
  {
   "cell_type": "code",
   "execution_count": 1,
   "id": "3767c049",
   "metadata": {},
   "outputs": [
    {
     "name": "stdout",
     "output_type": "stream",
     "text": [
      "선호하는 활동  게임  스포츠  읽기\n",
      "성별                  \n",
      "남성        3    2   0\n",
      "여성        0    2   3\n"
     ]
    }
   ],
   "source": [
    "import pandas as pd\n",
    "\n",
    "# 가상의 데이터 생성\n",
    "data = {'성별': ['남성', '여성', '남성', '여성', '남성', '여성', '남성', '여성', '남성', '여성'],\n",
    "        '선호하는 활동': ['스포츠', '읽기', '게임', '읽기', '스포츠', '스포츠', '게임', '읽기', '게임', '스포츠']}\n",
    "\n",
    "df = pd.DataFrame(data)\n",
    "\n",
    "# 교차분석 수행\n",
    "cross_tab = pd.crosstab(df['성별'], df['선호하는 활동'])\n",
    "\n",
    "print(cross_tab)\n"
   ]
  },
  {
   "cell_type": "code",
   "execution_count": null,
   "id": "2d123393",
   "metadata": {},
   "outputs": [],
   "source": [
    "# 남성 학생들은 게임(3명)과 스포츠(2명)를 선호하며, 읽기를 선호하는 남성 학생은 없음을 나타냅니다. \n",
    "# 반면, 여성 학생들은 읽기(3명)와 스포츠(2명)를 선호하며, 게임을 선호하는 여성 학생은 없음을 보여줍니다.\n",
    "# 교차분석 결과를 바탕으로, 성별에 따른 선호하는 활동의 차이를 더 깊이 이해하고, \n",
    "# 필요한 경우 카이제곱 검정(Chi-squared test)과 같은 추가적인 통계적 검정을 수행하여 두 변수 간의 독립성을 검정할 수 있다."
   ]
  },
  {
   "cell_type": "markdown",
   "id": "807b09df",
   "metadata": {},
   "source": [
    "### 교차분석 결과에 대한 독립성 검정 "
   ]
  },
  {
   "cell_type": "code",
   "execution_count": null,
   "id": "76f7f571",
   "metadata": {},
   "outputs": [],
   "source": [
    "# Python에서는 scipy.stats 모듈의 chi2_contingency 함수를 사용할 수 있다. \n",
    "# 이 함수는 카이제곱 검정(Chi-squared test)을 수행하여 두 범주형 변수 간의 독립성을 검정"
   ]
  },
  {
   "cell_type": "code",
   "execution_count": 2,
   "id": "8f6dc1bf",
   "metadata": {},
   "outputs": [
    {
     "name": "stdout",
     "output_type": "stream",
     "text": [
      "Chi-squared: 6.0000\n",
      "P-value: 0.0498\n",
      "Degrees of freedom: 2\n",
      "Expected frequencies:\n",
      "[[1.5 2.  1.5]\n",
      " [1.5 2.  1.5]]\n"
     ]
    }
   ],
   "source": [
    "import pandas as pd\n",
    "from scipy.stats import chi2_contingency\n",
    "\n",
    "# 이전 예제에서 생성한 교차표를 바탕으로\n",
    "data = {'성별': ['남성', '여성', '남성', '여성', '남성', '여성', '남성', '여성', '남성', '여성'],\n",
    "        '선호하는 활동': ['스포츠', '읽기', '게임', '읽기', '스포츠', '스포츠', '게임', '읽기', '게임', '스포츠']}\n",
    "df = pd.DataFrame(data)\n",
    "cross_tab = pd.crosstab(df['성별'], df['선호하는 활동'])\n",
    "\n",
    "# 카이제곱 검정 수행\n",
    "chi2, p, dof, expected = chi2_contingency(cross_tab)\n",
    "\n",
    "print(f\"Chi-squared: {chi2:.4f}\")\n",
    "print(f\"P-value: {p:.4f}\")\n",
    "print(f\"Degrees of freedom: {dof}\")\n",
    "print(\"Expected frequencies:\")\n",
    "print(expected)\n",
    "\n"
   ]
  },
  {
   "cell_type": "code",
   "execution_count": null,
   "id": "f32e4c8b",
   "metadata": {},
   "outputs": [],
   "source": [
    "# 결과 해석\n",
    "# Chi-squared (카이제곱 값): 이 값은 관측된 빈도와 기대 빈도 간의 차이를 나타냅니다. \n",
    "#     -->  값이 클수록 두 변수 간의 관계가 더 강함을 의미합니다.\n",
    "# P-value (유의 확률): 두 변수 간의 독립성에 대한 통계적 유의성--> 일반적으로, P-value가 0.05 미만이면 두 변수 간에 통계적으로 유의미한 관계가 있다고 간주하고 귀무 가설(두 변수가 독립적이라는 가설)을 기각\n",
    "# Degrees of freedom (자유도): 검정에 사용된 자유도의 수--2x2 분할표의 경우, 자유도는 일반적으로 (행의 수 - 1) x (열의 수 - 1)로 계산됩니다.\n",
    "# Expected frequencies (기대 빈도): 두 변수가 독립일 때 기대되는 빈도수-- 이 값들은 관측된 빈도와 비교되어 카이제곱 값이 계산됩니다.\n",
    "\n",
    "# 이 코드와 결과를 통해 성별과 선호하는 활동 간의 독립성 여부를 통계적으로 검정할 수 있습니다. "
   ]
  },
  {
   "cell_type": "code",
   "execution_count": null,
   "id": "6573c1a4",
   "metadata": {},
   "outputs": [],
   "source": [
    " # P-value 결과를 바탕으로 두 변수 간의 관계가 유의미한지 판단(0.0496 < 0.05) -성별에 따른 선호하는 활동의 차이가 통계적으로 유의미한 차이가 있다.\n"
   ]
  },
  {
   "cell_type": "markdown",
   "id": "676303e9",
   "metadata": {},
   "source": [
    "### 적합도 검정(Goodness-of-Fit Test)"
   ]
  },
  {
   "cell_type": "code",
   "execution_count": null,
   "id": "81908a65",
   "metadata": {},
   "outputs": [],
   "source": [
    "#  관측된 빈도가 특정 이론적 또는 기대 빈도 분포와 얼마나 잘 일치하는지를 평가하는 데 사용\n",
    "# 가장 일반적인 적합도 검정 중 하나는 카이제곱 적합도 검정(Chi-Squared Goodness-of-Fit Test)입니다. \n",
    "# 이 검정은 한 범주형 변수의 관측된 빈도가 기대되는 빈도와 유의미하게 다른지를 평가합니다.\n",
    "# 이전의 성별과 선호하는 활동 사례를 기반으로, 선호하는 활동의 분포가 우리가 가진 특정 기대치와 일치하는지를 검정\n",
    "# 예를 들어, 우리는 학생들이 스포츠, 읽기, 게임 세 활동에 대해 동일한 선호도(즉, 각각 1/3 확률)를 가진다고 기대할 수 있다."
   ]
  },
  {
   "cell_type": "code",
   "execution_count": 3,
   "id": "eb3e17ef",
   "metadata": {},
   "outputs": [
    {
     "name": "stdout",
     "output_type": "stream",
     "text": [
      "Chi-squared Statistic: 0.2000\n",
      "P-value: 0.9048\n"
     ]
    }
   ],
   "source": [
    "from scipy.stats import chisquare\n",
    "import pandas as pd\n",
    "\n",
    "# 가상의 데이터 생성\n",
    "data = {'성별': ['남성', '여성', '남성', '여성', '남성', '여성', '남성', '여성', '남성', '여성'],\n",
    "        '선호하는 활동': ['스포츠', '읽기', '게임', '읽기', '스포츠', '스포츠', '게임', '읽기', '게임', '스포츠']}\n",
    "df = pd.DataFrame(data)\n",
    "\n",
    "# 선호하는 활동의 관측된 빈도\n",
    "observed_frequencies = df['선호하는 활동'].value_counts()\n",
    "\n",
    "# 기대 빈도 (각 활동에 대해 동일한 선호도를 기대)\n",
    "expected_frequencies = [len(df) / 3] * 3  # 세 가지 활동이므로, 전체 길이를 3으로 나눈 값\n",
    "\n",
    "# 카이제곱 적합도 검정 수행\n",
    "chi2_stat, p_value = chisquare(f_obs=observed_frequencies, f_exp=expected_frequencies)\n",
    "\n",
    "print(f\"Chi-squared Statistic: {chi2_stat:.4f}\")\n",
    "print(f\"P-value: {p_value:.4f}\")\n"
   ]
  },
  {
   "cell_type": "code",
   "execution_count": null,
   "id": "7f421f44",
   "metadata": {},
   "outputs": [],
   "source": [
    "# 결과 해석"
   ]
  },
  {
   "cell_type": "code",
   "execution_count": null,
   "id": "d9f6b552",
   "metadata": {},
   "outputs": [],
   "source": [
    "# Chi-squared Statistic (카이제곱 통계량): 이 값은 관측된 빈도와 기대 빈도 간의 차이 : 0.2000\n",
    "# -->  값이 클수록 관측된 분포와 기대 분포 간의 차이가 크다는 것을 의미\n",
    "# P-value (유의 확률): 관측된 분포가 기대 분포와 유의미하게 다른지를 평가\n",
    "# 일반적으로, P-value가 0.05 미만이면 관측된 분포가 기대 분포와 유의미하게 다르다고 간주\n",
    "# P-value:  학생들의 선호하는 활동 분포가 우리가 가진 기대(각 활동에 대해 동일한 선호도)와 유의미하게 다른지를 평가할 수 있다. \n",
    "# P-value 0.9048 : 선호하는 활동의 분포가 우연히 발생한 것으로 통계적으로 유의미한 차이가 없다.\n"
   ]
  },
  {
   "cell_type": "markdown",
   "id": "e7ac9225",
   "metadata": {},
   "source": [
    "### 동질성 검정(Chi-squared Test for Homogeneity)"
   ]
  },
  {
   "cell_type": "code",
   "execution_count": null,
   "id": "2ed69a66",
   "metadata": {},
   "outputs": [],
   "source": [
    "# 두 개 이상의 독립된 집단에서 관측된 범주형 데이터의 분포가 동일한지를 검정하는 데 사용\n"
   ]
  },
  {
   "cell_type": "code",
   "execution_count": null,
   "id": "8a772f45",
   "metadata": {},
   "outputs": [],
   "source": [
    "# 동질성 검정 역시 scipy.stats 모듈의 chi2_contingency 함수를 사용하여 수행할 수 있다. \n",
    "# 이 함수는 교차표(Contingency Table)를 입력으로 받아 카이제곱 통계량, P-value, 자유도, 기대 빈도를 반환한다."
   ]
  },
  {
   "cell_type": "code",
   "execution_count": 4,
   "id": "299bfc19",
   "metadata": {},
   "outputs": [
    {
     "name": "stdout",
     "output_type": "stream",
     "text": [
      "Chi-squared: 6.0000\n",
      "P-value: 0.0498\n",
      "Degrees of freedom: 2\n",
      "Expected frequencies:\n",
      "[[1.5 2.  1.5]\n",
      " [1.5 2.  1.5]]\n"
     ]
    }
   ],
   "source": [
    "import pandas as pd\n",
    "from scipy.stats import chi2_contingency\n",
    "\n",
    "# 가상의 데이터 생성\n",
    "data = {'성별': ['남성', '여성', '남성', '여성', '남성', '여성', '남성', '여성', '남성', '여성'],\n",
    "        '선호하는 활동': ['스포츠', '읽기', '게임', '읽기', '스포츠', '스포츠', '게임', '읽기', '게임', '스포츠']}\n",
    "df = pd.DataFrame(data)\n",
    "\n",
    "# 교차표 생성\n",
    "cross_tab = pd.crosstab(df['성별'], df['선호하는 활동'])\n",
    "\n",
    "# 동질성 검정 수행\n",
    "chi2, p, dof, expected = chi2_contingency(cross_tab)\n",
    "\n",
    "print(f\"Chi-squared: {chi2:.4f}\")\n",
    "print(f\"P-value: {p:.4f}\")\n",
    "print(f\"Degrees of freedom: {dof}\")\n",
    "print(\"Expected frequencies:\")\n",
    "print(expected)\n"
   ]
  },
  {
   "cell_type": "code",
   "execution_count": null,
   "id": "dc6cb15b",
   "metadata": {},
   "outputs": [],
   "source": [
    "# 결과 해석"
   ]
  },
  {
   "cell_type": "code",
   "execution_count": null,
   "id": "c305115e",
   "metadata": {},
   "outputs": [],
   "source": [
    "# Chi-squared (카이제곱 값)\n",
    "# : 이 값은 관측된 빈도와 기대 빈도 간의 차이를 나타냅니다. 값이 클수록 두 집단 간의 분포 차이가 크다는 것을 의미\n",
    "\n",
    "# P-value (유의 확률)\n",
    "# : 두 집단 간의 분포가 동일하다는 귀무 가설에 대한 통계적 유의성을 나타냅니다. \n",
    "# P-value가 0.05 미만 0.0498로 , 두 집단 간(성별간) 에 통계적으로 유의미한 차이가 있다고 간주하고 귀무 가설을 기각\n",
    "# ==>  성별에 따른 선호하는 활동의 분포에 차이가 있다. \n",
    "\n",
    "# Degrees of freedom (자유도)\n",
    "# : 검정에 사용된 자유도의 수- 이는 일반적으로 (행의 수 - 1) x (열의 수 - 1)로 계산됩니다.\n",
    "\n",
    "# Expected frequencies (기대 빈도)\n",
    "# : 두 집단이 동일한 분포를 가진다고 가정했을 때 기대되는 빈도수\n"
   ]
  }
 ],
 "metadata": {
  "kernelspec": {
   "display_name": "Python 3 (ipykernel)",
   "language": "python",
   "name": "python3"
  },
  "language_info": {
   "codemirror_mode": {
    "name": "ipython",
    "version": 3
   },
   "file_extension": ".py",
   "mimetype": "text/x-python",
   "name": "python",
   "nbconvert_exporter": "python",
   "pygments_lexer": "ipython3",
   "version": "3.9.11"
  },
  "toc": {
   "base_numbering": 1,
   "nav_menu": {},
   "number_sections": true,
   "sideBar": true,
   "skip_h1_title": false,
   "title_cell": "Table of Contents",
   "title_sidebar": "Contents",
   "toc_cell": false,
   "toc_position": {},
   "toc_section_display": true,
   "toc_window_display": false
  }
 },
 "nbformat": 4,
 "nbformat_minor": 5
}
