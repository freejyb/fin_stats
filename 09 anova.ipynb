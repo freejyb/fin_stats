{
 "cells": [
  {
   "cell_type": "code",
   "execution_count": 3,
   "metadata": {},
   "outputs": [],
   "source": [
    "import pandas as pd\n",
    "import matplotlib.pyplot as plt\n",
    "import seaborn as sns\n",
    "# 한글폰트 출력 가능 코드\n",
    "from matplotlib import rc\n",
    "rc('font', family='AppleGothic') # Mac Os\n",
    "#rc('font', family='NanumGothic') # Windows Os\n",
    "plt.rcParams['axes.unicode_minus'] = False\n",
    "\n",
    "# 로컬 컴퓨터에 저장되어 있는 경우 상위폴더에 dataset 폴더 형성 후 데이터를 집어 넣으면 됨\n",
    "# path = '../dataset/'"
   ]
  },
  {
   "cell_type": "markdown",
   "metadata": {},
   "source": [
    "# csv 파일 불러오기"
   ]
  },
  {
   "cell_type": "code",
   "execution_count": null,
   "metadata": {},
   "outputs": [],
   "source": [
    "# 로컬 컴퓨터에 저장되어 있는 경우\n",
    "# data = pd.read_csv(path+'iris.csv')\n",
    "# data"
   ]
  },
  {
   "cell_type": "code",
   "execution_count": 4,
   "metadata": {},
   "outputs": [
    {
     "data": {
      "text/html": [
       "<div>\n",
       "<style scoped>\n",
       "    .dataframe tbody tr th:only-of-type {\n",
       "        vertical-align: middle;\n",
       "    }\n",
       "\n",
       "    .dataframe tbody tr th {\n",
       "        vertical-align: top;\n",
       "    }\n",
       "\n",
       "    .dataframe thead th {\n",
       "        text-align: right;\n",
       "    }\n",
       "</style>\n",
       "<table border=\"1\" class=\"dataframe\">\n",
       "  <thead>\n",
       "    <tr style=\"text-align: right;\">\n",
       "      <th></th>\n",
       "      <th>sepal_length</th>\n",
       "      <th>sepal_width</th>\n",
       "      <th>petal_length</th>\n",
       "      <th>petal_width</th>\n",
       "      <th>target</th>\n",
       "    </tr>\n",
       "  </thead>\n",
       "  <tbody>\n",
       "    <tr>\n",
       "      <th>0</th>\n",
       "      <td>5.1</td>\n",
       "      <td>3.5</td>\n",
       "      <td>1.4</td>\n",
       "      <td>0.2</td>\n",
       "      <td>0</td>\n",
       "    </tr>\n",
       "    <tr>\n",
       "      <th>1</th>\n",
       "      <td>4.9</td>\n",
       "      <td>3.0</td>\n",
       "      <td>1.4</td>\n",
       "      <td>0.2</td>\n",
       "      <td>0</td>\n",
       "    </tr>\n",
       "    <tr>\n",
       "      <th>2</th>\n",
       "      <td>4.7</td>\n",
       "      <td>3.2</td>\n",
       "      <td>1.3</td>\n",
       "      <td>0.2</td>\n",
       "      <td>0</td>\n",
       "    </tr>\n",
       "    <tr>\n",
       "      <th>3</th>\n",
       "      <td>4.6</td>\n",
       "      <td>3.1</td>\n",
       "      <td>1.5</td>\n",
       "      <td>0.2</td>\n",
       "      <td>0</td>\n",
       "    </tr>\n",
       "    <tr>\n",
       "      <th>4</th>\n",
       "      <td>5.0</td>\n",
       "      <td>3.6</td>\n",
       "      <td>1.4</td>\n",
       "      <td>0.2</td>\n",
       "      <td>0</td>\n",
       "    </tr>\n",
       "    <tr>\n",
       "      <th>...</th>\n",
       "      <td>...</td>\n",
       "      <td>...</td>\n",
       "      <td>...</td>\n",
       "      <td>...</td>\n",
       "      <td>...</td>\n",
       "    </tr>\n",
       "    <tr>\n",
       "      <th>145</th>\n",
       "      <td>6.7</td>\n",
       "      <td>3.0</td>\n",
       "      <td>5.2</td>\n",
       "      <td>2.3</td>\n",
       "      <td>2</td>\n",
       "    </tr>\n",
       "    <tr>\n",
       "      <th>146</th>\n",
       "      <td>6.3</td>\n",
       "      <td>2.5</td>\n",
       "      <td>5.0</td>\n",
       "      <td>1.9</td>\n",
       "      <td>2</td>\n",
       "    </tr>\n",
       "    <tr>\n",
       "      <th>147</th>\n",
       "      <td>6.5</td>\n",
       "      <td>3.0</td>\n",
       "      <td>5.2</td>\n",
       "      <td>2.0</td>\n",
       "      <td>2</td>\n",
       "    </tr>\n",
       "    <tr>\n",
       "      <th>148</th>\n",
       "      <td>6.2</td>\n",
       "      <td>3.4</td>\n",
       "      <td>5.4</td>\n",
       "      <td>2.3</td>\n",
       "      <td>2</td>\n",
       "    </tr>\n",
       "    <tr>\n",
       "      <th>149</th>\n",
       "      <td>5.9</td>\n",
       "      <td>3.0</td>\n",
       "      <td>5.1</td>\n",
       "      <td>1.8</td>\n",
       "      <td>2</td>\n",
       "    </tr>\n",
       "  </tbody>\n",
       "</table>\n",
       "<p>150 rows × 5 columns</p>\n",
       "</div>"
      ],
      "text/plain": [
       "     sepal_length  sepal_width  petal_length  petal_width  target\n",
       "0             5.1          3.5           1.4          0.2       0\n",
       "1             4.9          3.0           1.4          0.2       0\n",
       "2             4.7          3.2           1.3          0.2       0\n",
       "3             4.6          3.1           1.5          0.2       0\n",
       "4             5.0          3.6           1.4          0.2       0\n",
       "..            ...          ...           ...          ...     ...\n",
       "145           6.7          3.0           5.2          2.3       2\n",
       "146           6.3          2.5           5.0          1.9       2\n",
       "147           6.5          3.0           5.2          2.0       2\n",
       "148           6.2          3.4           5.4          2.3       2\n",
       "149           5.9          3.0           5.1          1.8       2\n",
       "\n",
       "[150 rows x 5 columns]"
      ]
     },
     "execution_count": 4,
     "metadata": {},
     "output_type": "execute_result"
    }
   ],
   "source": [
    "data = pd.read_csv('https://raw.githubusercontent.com/freejyb/fin_stats/main/dataset/iris.csv')\n",
    "data"
   ]
  },
  {
   "cell_type": "code",
   "execution_count": 5,
   "metadata": {},
   "outputs": [
    {
     "name": "stdout",
     "output_type": "stream",
     "text": [
      "<class 'pandas.core.frame.DataFrame'>\n",
      "RangeIndex: 150 entries, 0 to 149\n",
      "Data columns (total 5 columns):\n",
      " #   Column        Non-Null Count  Dtype  \n",
      "---  ------        --------------  -----  \n",
      " 0   sepal_length  150 non-null    float64\n",
      " 1   sepal_width   150 non-null    float64\n",
      " 2   petal_length  150 non-null    float64\n",
      " 3   petal_width   150 non-null    float64\n",
      " 4   target        150 non-null    int64  \n",
      "dtypes: float64(4), int64(1)\n",
      "memory usage: 6.0 KB\n"
     ]
    }
   ],
   "source": [
    "data.info()"
   ]
  },
  {
   "cell_type": "code",
   "execution_count": 6,
   "metadata": {},
   "outputs": [
    {
     "data": {
      "text/html": [
       "<div>\n",
       "<style scoped>\n",
       "    .dataframe tbody tr th:only-of-type {\n",
       "        vertical-align: middle;\n",
       "    }\n",
       "\n",
       "    .dataframe tbody tr th {\n",
       "        vertical-align: top;\n",
       "    }\n",
       "\n",
       "    .dataframe thead th {\n",
       "        text-align: right;\n",
       "    }\n",
       "</style>\n",
       "<table border=\"1\" class=\"dataframe\">\n",
       "  <thead>\n",
       "    <tr style=\"text-align: right;\">\n",
       "      <th></th>\n",
       "      <th>sepal_length</th>\n",
       "      <th>sepal_width</th>\n",
       "      <th>petal_length</th>\n",
       "      <th>petal_width</th>\n",
       "      <th>target</th>\n",
       "    </tr>\n",
       "  </thead>\n",
       "  <tbody>\n",
       "    <tr>\n",
       "      <th>count</th>\n",
       "      <td>150.000000</td>\n",
       "      <td>150.000000</td>\n",
       "      <td>150.000000</td>\n",
       "      <td>150.000000</td>\n",
       "      <td>150.000000</td>\n",
       "    </tr>\n",
       "    <tr>\n",
       "      <th>mean</th>\n",
       "      <td>5.843333</td>\n",
       "      <td>3.057333</td>\n",
       "      <td>3.758000</td>\n",
       "      <td>1.199333</td>\n",
       "      <td>1.000000</td>\n",
       "    </tr>\n",
       "    <tr>\n",
       "      <th>std</th>\n",
       "      <td>0.828066</td>\n",
       "      <td>0.435866</td>\n",
       "      <td>1.765298</td>\n",
       "      <td>0.762238</td>\n",
       "      <td>0.819232</td>\n",
       "    </tr>\n",
       "    <tr>\n",
       "      <th>min</th>\n",
       "      <td>4.300000</td>\n",
       "      <td>2.000000</td>\n",
       "      <td>1.000000</td>\n",
       "      <td>0.100000</td>\n",
       "      <td>0.000000</td>\n",
       "    </tr>\n",
       "    <tr>\n",
       "      <th>25%</th>\n",
       "      <td>5.100000</td>\n",
       "      <td>2.800000</td>\n",
       "      <td>1.600000</td>\n",
       "      <td>0.300000</td>\n",
       "      <td>0.000000</td>\n",
       "    </tr>\n",
       "    <tr>\n",
       "      <th>50%</th>\n",
       "      <td>5.800000</td>\n",
       "      <td>3.000000</td>\n",
       "      <td>4.350000</td>\n",
       "      <td>1.300000</td>\n",
       "      <td>1.000000</td>\n",
       "    </tr>\n",
       "    <tr>\n",
       "      <th>75%</th>\n",
       "      <td>6.400000</td>\n",
       "      <td>3.300000</td>\n",
       "      <td>5.100000</td>\n",
       "      <td>1.800000</td>\n",
       "      <td>2.000000</td>\n",
       "    </tr>\n",
       "    <tr>\n",
       "      <th>max</th>\n",
       "      <td>7.900000</td>\n",
       "      <td>4.400000</td>\n",
       "      <td>6.900000</td>\n",
       "      <td>2.500000</td>\n",
       "      <td>2.000000</td>\n",
       "    </tr>\n",
       "  </tbody>\n",
       "</table>\n",
       "</div>"
      ],
      "text/plain": [
       "       sepal_length  sepal_width  petal_length  petal_width      target\n",
       "count    150.000000   150.000000    150.000000   150.000000  150.000000\n",
       "mean       5.843333     3.057333      3.758000     1.199333    1.000000\n",
       "std        0.828066     0.435866      1.765298     0.762238    0.819232\n",
       "min        4.300000     2.000000      1.000000     0.100000    0.000000\n",
       "25%        5.100000     2.800000      1.600000     0.300000    0.000000\n",
       "50%        5.800000     3.000000      4.350000     1.300000    1.000000\n",
       "75%        6.400000     3.300000      5.100000     1.800000    2.000000\n",
       "max        7.900000     4.400000      6.900000     2.500000    2.000000"
      ]
     },
     "execution_count": 6,
     "metadata": {},
     "output_type": "execute_result"
    }
   ],
   "source": [
    "data.describe()"
   ]
  },
  {
   "cell_type": "markdown",
   "metadata": {},
   "source": [
    "# 1. 분산분석"
   ]
  },
  {
   "cell_type": "markdown",
   "metadata": {},
   "source": [
    "## 1-1 일원분산분석 (One-way ANOVA)"
   ]
  },
  {
   "cell_type": "code",
   "execution_count": 7,
   "metadata": {},
   "outputs": [
    {
     "data": {
      "image/png": "[encoded data removed]",
      "text/plain": [
       "<Figure size 432x288 with 1 Axes>"
      ]
     },
     "metadata": {
      "needs_background": "light"
     },
     "output_type": "display_data"
    }
   ],
   "source": [
    "sns.boxplot(x='target', y= 'sepal_width', data=data)\n",
    "plt.title('꽃 종류별 꽃 받침의 폭')\n",
    "plt.show()"
   ]
  },
  {
   "cell_type": "code",
   "execution_count": 8,
   "metadata": {},
   "outputs": [
    {
     "name": "stdout",
     "output_type": "stream",
     "text": [
      "정규분포를 따른다는 귀무가설을 유의수준 5%에서 기각할 수 없습니다. 따라서 정규성을 충족합니다.\n",
      "정규분포를 따른다는 귀무가설을 유의수준 5%에서 기각할 수 없습니다. 따라서 정규성을 충족합니다.\n",
      "정규분포를 따른다는 귀무가설을 유의수준 5%에서 기각할 수 없습니다. 따라서 정규성을 충족합니다.\n"
     ]
    }
   ],
   "source": [
    "# 정규성 검정\n",
    "# 귀무가설 : 정규분포를 따른다.\n",
    "from  scipy.stats import shapiro\n",
    "\n",
    "for i in range(3):\n",
    "    p_value = shapiro(data.sepal_width[data.target==i])[1]\n",
    "    if p_value < 0.05:\n",
    "        print('정규분포를 따른다는 귀무가설을 유의수준 5%에서 기각할 수 있습니다. 따라서 정규성을 충족하지 못합니다.')\n",
    "    else:\n",
    "        print('정규분포를 따른다는 귀무가설을 유의수준 5%에서 기각할 수 없습니다. 따라서 정규성을 충족합니다.')\n",
    "    "
   ]
  },
  {
   "cell_type": "code",
   "execution_count": 9,
   "metadata": {},
   "outputs": [
    {
     "name": "stdout",
     "output_type": "stream",
     "text": [
      "LeveneResult(statistic=0.5902115655853319, pvalue=0.5555178984739075)\n",
      "BartlettResult(statistic=2.0910752014392338, pvalue=0.35150280041580323)\n"
     ]
    }
   ],
   "source": [
    "#등분산성 확인 - 레빈 검증 (귀무가설 : 등분산의 특징이 있다.)\n",
    "from scipy.stats import levene\n",
    "print(levene(data.sepal_width[data.target==0],\n",
    "             data.sepal_width[data.target==1],\n",
    "             data.sepal_width[data.target==2]))\n",
    "\n",
    "#등분산성 확인 - 바틀렛 검증 (귀무가설 : 등분산의 특징이 있다.)\n",
    "from scipy.stats import bartlett\n",
    "print(bartlett(data.sepal_width[data.target==0],\n",
    "               data.sepal_width[data.target==1],\n",
    "               data.sepal_width[data.target==2]))"
   ]
  },
  {
   "cell_type": "code",
   "execution_count": 10,
   "metadata": {},
   "outputs": [
    {
     "name": "stdout",
     "output_type": "stream",
     "text": [
      "ANOVA 분석 결과, 5%의 유의수준으로 모든 수준에서 모평균이 동일하다는 귀무가설을 기각할 수 있습니다. 따라서 위 집단의 모평균이 다르다고 말할 수 있습니다.\n"
     ]
    },
    {
     "data": {
      "text/html": [
       "<div>\n",
       "<style scoped>\n",
       "    .dataframe tbody tr th:only-of-type {\n",
       "        vertical-align: middle;\n",
       "    }\n",
       "\n",
       "    .dataframe tbody tr th {\n",
       "        vertical-align: top;\n",
       "    }\n",
       "\n",
       "    .dataframe thead th {\n",
       "        text-align: right;\n",
       "    }\n",
       "</style>\n",
       "<table border=\"1\" class=\"dataframe\">\n",
       "  <thead>\n",
       "    <tr style=\"text-align: right;\">\n",
       "      <th></th>\n",
       "      <th>df</th>\n",
       "      <th>sum_sq</th>\n",
       "      <th>mean_sq</th>\n",
       "      <th>F</th>\n",
       "      <th>PR(&gt;F)</th>\n",
       "    </tr>\n",
       "  </thead>\n",
       "  <tbody>\n",
       "    <tr>\n",
       "      <th>C(target)</th>\n",
       "      <td>2.0</td>\n",
       "      <td>11.344933</td>\n",
       "      <td>5.672467</td>\n",
       "      <td>49.16004</td>\n",
       "      <td>4.492017e-17</td>\n",
       "    </tr>\n",
       "    <tr>\n",
       "      <th>Residual</th>\n",
       "      <td>147.0</td>\n",
       "      <td>16.962000</td>\n",
       "      <td>0.115388</td>\n",
       "      <td>NaN</td>\n",
       "      <td>NaN</td>\n",
       "    </tr>\n",
       "  </tbody>\n",
       "</table>\n",
       "</div>"
      ],
      "text/plain": [
       "              df     sum_sq   mean_sq         F        PR(>F)\n",
       "C(target)    2.0  11.344933  5.672467  49.16004  4.492017e-17\n",
       "Residual   147.0  16.962000  0.115388       NaN           NaN"
      ]
     },
     "execution_count": 10,
     "metadata": {},
     "output_type": "execute_result"
    }
   ],
   "source": [
    "# 꽃 종류가 sepal_width에 어떤 영향을 미치는지 그룹별 변동과 그룹내 변동을 구하여 ANOVA를 시행한다.\n",
    "from statsmodels.formula.api import ols\n",
    "from statsmodels.stats.anova import anova_lm, anova_single\n",
    "\n",
    "model = ols('sepal_width ~ C(target)', data).fit()\n",
    "\n",
    "anova_table = anova_lm(model)\n",
    "\n",
    "if anova_table['PR(>F)'][0] < 0.05:\n",
    "    print(f'ANOVA 분석 결과, 5%의 유의수준으로 모든 수준에서 모평균이 동일하다는 귀무가설을 기각할 수 있습니다. 따라서 위 집단의 모평균이 다르다고 말할 수 있습니다.')\n",
    "else:\n",
    "    print(f'ANOVA 분석 결과, 5%의 유의수준으로 모든 수준에서 모평균이 동일하다는 귀무가설을 기각할 수 없습니다.')\n",
    "    \n",
    "anova_table"
   ]
  },
  {
   "cell_type": "code",
   "execution_count": 11,
   "metadata": {},
   "outputs": [
    {
     "name": "stdout",
     "output_type": "stream",
     "text": [
      "                            OLS Regression Results                            \n",
      "==============================================================================\n",
      "Dep. Variable:            sepal_width   R-squared:                       0.401\n",
      "Model:                            OLS   Adj. R-squared:                  0.393\n",
      "Method:                 Least Squares   F-statistic:                     49.16\n",
      "Date:                Tue, 15 Mar 2022   Prob (F-statistic):           4.49e-17\n",
      "Time:                        12:14:42   Log-Likelihood:                -49.366\n",
      "No. Observations:                 150   AIC:                             104.7\n",
      "Df Residuals:                     147   BIC:                             113.8\n",
      "Df Model:                           2                                         \n",
      "Covariance Type:            nonrobust                                         \n",
      "==================================================================================\n",
      "                     coef    std err          t      P>|t|      [0.025      0.975]\n",
      "----------------------------------------------------------------------------------\n",
      "Intercept          3.4280      0.048     71.359      0.000       3.333       3.523\n",
      "C(target)[T.1]    -0.6580      0.068     -9.685      0.000      -0.792      -0.524\n",
      "C(target)[T.2]    -0.4540      0.068     -6.683      0.000      -0.588      -0.320\n",
      "==============================================================================\n",
      "Omnibus:                        1.920   Durbin-Watson:                   1.879\n",
      "Prob(Omnibus):                  0.383   Jarque-Bera (JB):                1.632\n",
      "Skew:                           0.027   Prob(JB):                        0.442\n",
      "Kurtosis:                       3.508   Cond. No.                         3.73\n",
      "==============================================================================\n",
      "\n",
      "Notes:\n",
      "[1] Standard Errors assume that the covariance matrix of the errors is correctly specified.\n"
     ]
    }
   ],
   "source": [
    "print(model.summary())"
   ]
  },
  {
   "cell_type": "markdown",
   "metadata": {},
   "source": [
    "## 1-2 이원분산분석 (Two-way ANOVA)"
   ]
  },
  {
   "cell_type": "code",
   "execution_count": 12,
   "metadata": {},
   "outputs": [
    {
     "data": {
      "text/html": [
       "<div>\n",
       "<style scoped>\n",
       "    .dataframe tbody tr th:only-of-type {\n",
       "        vertical-align: middle;\n",
       "    }\n",
       "\n",
       "    .dataframe tbody tr th {\n",
       "        vertical-align: top;\n",
       "    }\n",
       "\n",
       "    .dataframe thead th {\n",
       "        text-align: right;\n",
       "    }\n",
       "</style>\n",
       "<table border=\"1\" class=\"dataframe\">\n",
       "  <thead>\n",
       "    <tr style=\"text-align: right;\">\n",
       "      <th></th>\n",
       "      <th>sum_sq</th>\n",
       "      <th>df</th>\n",
       "      <th>F</th>\n",
       "      <th>PR(&gt;F)</th>\n",
       "    </tr>\n",
       "  </thead>\n",
       "  <tbody>\n",
       "    <tr>\n",
       "      <th>C(target)</th>\n",
       "      <td>0.888920</td>\n",
       "      <td>2.0</td>\n",
       "      <td>4.721152</td>\n",
       "      <td>1.032884e-02</td>\n",
       "    </tr>\n",
       "    <tr>\n",
       "      <th>sepal_width</th>\n",
       "      <td>3.125004</td>\n",
       "      <td>1.0</td>\n",
       "      <td>33.194491</td>\n",
       "      <td>4.867516e-08</td>\n",
       "    </tr>\n",
       "    <tr>\n",
       "      <th>petal_length</th>\n",
       "      <td>13.785343</td>\n",
       "      <td>1.0</td>\n",
       "      <td>146.430978</td>\n",
       "      <td>1.073592e-23</td>\n",
       "    </tr>\n",
       "    <tr>\n",
       "      <th>petal_width</th>\n",
       "      <td>0.409029</td>\n",
       "      <td>1.0</td>\n",
       "      <td>4.344799</td>\n",
       "      <td>3.888826e-02</td>\n",
       "    </tr>\n",
       "    <tr>\n",
       "      <th>Residual</th>\n",
       "      <td>13.556485</td>\n",
       "      <td>144.0</td>\n",
       "      <td>NaN</td>\n",
       "      <td>NaN</td>\n",
       "    </tr>\n",
       "  </tbody>\n",
       "</table>\n",
       "</div>"
      ],
      "text/plain": [
       "                 sum_sq     df           F        PR(>F)\n",
       "C(target)      0.888920    2.0    4.721152  1.032884e-02\n",
       "sepal_width    3.125004    1.0   33.194491  4.867516e-08\n",
       "petal_length  13.785343    1.0  146.430978  1.073592e-23\n",
       "petal_width    0.409029    1.0    4.344799  3.888826e-02\n",
       "Residual      13.556485  144.0         NaN           NaN"
      ]
     },
     "execution_count": 12,
     "metadata": {},
     "output_type": "execute_result"
    }
   ],
   "source": [
    "multi_model=ols('sepal_length ~ C(target) + sepal_width + petal_length + petal_width', data).fit()\n",
    "anova_lm(multi_model, typ=2)"
   ]
  },
  {
   "cell_type": "code",
   "execution_count": 13,
   "metadata": {},
   "outputs": [
    {
     "name": "stdout",
     "output_type": "stream",
     "text": [
      "                            OLS Regression Results                            \n",
      "==============================================================================\n",
      "Dep. Variable:           sepal_length   R-squared:                       0.867\n",
      "Model:                            OLS   Adj. R-squared:                  0.863\n",
      "Method:                 Least Squares   F-statistic:                     188.3\n",
      "Date:                Tue, 15 Mar 2022   Prob (F-statistic):           2.67e-61\n",
      "Time:                        12:14:43   Log-Likelihood:                -32.558\n",
      "No. Observations:                 150   AIC:                             77.12\n",
      "Df Residuals:                     144   BIC:                             95.18\n",
      "Df Model:                           5                                         \n",
      "Covariance Type:            nonrobust                                         \n",
      "==================================================================================\n",
      "                     coef    std err          t      P>|t|      [0.025      0.975]\n",
      "----------------------------------------------------------------------------------\n",
      "Intercept          2.1713      0.280      7.760      0.000       1.618       2.724\n",
      "C(target)[T.1]    -0.7236      0.240     -3.013      0.003      -1.198      -0.249\n",
      "C(target)[T.2]    -1.0235      0.334     -3.067      0.003      -1.683      -0.364\n",
      "sepal_width        0.4959      0.086      5.761      0.000       0.326       0.666\n",
      "petal_length       0.8292      0.069     12.101      0.000       0.694       0.965\n",
      "petal_width       -0.3152      0.151     -2.084      0.039      -0.614      -0.016\n",
      "==============================================================================\n",
      "Omnibus:                        0.418   Durbin-Watson:                   1.966\n",
      "Prob(Omnibus):                  0.811   Jarque-Bera (JB):                0.572\n",
      "Skew:                          -0.060   Prob(JB):                        0.751\n",
      "Kurtosis:                       2.722   Cond. No.                         94.0\n",
      "==============================================================================\n",
      "\n",
      "Notes:\n",
      "[1] Standard Errors assume that the covariance matrix of the errors is correctly specified.\n"
     ]
    }
   ],
   "source": [
    "print(multi_model.summary())"
   ]
  },
  {
   "cell_type": "markdown",
   "metadata": {},
   "source": [
    "# 2. 판별분석"
   ]
  },
  {
   "cell_type": "code",
   "execution_count": 14,
   "metadata": {},
   "outputs": [
    {
     "name": "stdout",
     "output_type": "stream",
     "text": [
      "(112, 4)\n",
      "(112,)\n",
      "(38, 4)\n",
      "(38,)\n"
     ]
    }
   ],
   "source": [
    "from sklearn.discriminant_analysis import LinearDiscriminantAnalysis \n",
    "from sklearn.model_selection import train_test_split\n",
    "\n",
    "# 훈련, 검정셋 분리\n",
    "X_train, X_test, y_train, y_test = train_test_split(data.drop(columns='target'), data['target'],\n",
    "                                                    test_size = 0.25, shuffle=True, random_state=2022)\n",
    "\n",
    "# 훈련, 검정셋의 행열 값 출력\n",
    "for i in [X_train, y_train, X_test, y_test]:\n",
    "    print(i.shape)\n",
    "\n",
    "# 판별분석 시행\n",
    "lda = LinearDiscriminantAnalysis(n_components=2)\n",
    "lda.fit(X=X_train, y=y_train)\n",
    "lda_X_train = lda.transform(X_train) "
   ]
  },
  {
   "cell_type": "code",
   "execution_count": 15,
   "metadata": {},
   "outputs": [
    {
     "data": {
      "image/png": "[encoded data removed]",
      "text/plain": [
       "<Figure size 432x288 with 1 Axes>"
      ]
     },
     "metadata": {
      "needs_background": "light"
     },
     "output_type": "display_data"
    }
   ],
   "source": [
    "# 판별분석이 적용된 데이터에 대해 데이터프레임 형성\n",
    "lda_cols = [\"lda_1\", \"lda_2\"] \n",
    "df = pd.DataFrame(data=lda_X_train, columns=lda_cols) \n",
    "df[\"target\"] = y_train.values\n",
    "\n",
    "# 산점도를 그리기 위해 라벨값, 마커 모양 설정\n",
    "markers=[\"^\", \"s\", \"o\"] \n",
    "label_name = ['setosa', 'versicolor', 'virginica']\n",
    "\n",
    "# 산점도 그리기\n",
    "for i, marker in enumerate(markers): \n",
    "    x_data = df[df[\"target\"]==i][\"lda_1\"] \n",
    "    y_data = df[df[\"target\"]==i][\"lda_2\"] \n",
    "    plt.scatter(x_data, y_data, marker=marker, label=label_name[i]) \n",
    "    \n",
    "plt.legend(loc=\"upper right\") \n",
    "plt.xlabel(\"lda_1\") \n",
    "plt.ylabel(\"lda_2\") \n",
    "plt.show()"
   ]
  },
  {
   "cell_type": "code",
   "execution_count": 16,
   "metadata": {},
   "outputs": [
    {
     "name": "stdout",
     "output_type": "stream",
     "text": [
      "혼동행렬\n",
      "[[13  0  0]\n",
      " [ 0 12  0]\n",
      " [ 0  1 12]]\n",
      "\n",
      "              precision    recall  f1-score   support\n",
      "\n",
      "      setosa       1.00      1.00      1.00        13\n",
      "  versicolor       0.92      1.00      0.96        12\n",
      "   virginica       1.00      0.92      0.96        13\n",
      "\n",
      "    accuracy                           0.97        38\n",
      "   macro avg       0.97      0.97      0.97        38\n",
      "weighted avg       0.98      0.97      0.97        38\n",
      "\n"
     ]
    }
   ],
   "source": [
    "# 라이브러리 호출\n",
    "from sklearn.metrics import confusion_matrix\n",
    "from sklearn.metrics import classification_report\n",
    "\n",
    "# 판별분석 모델을 통해 X_test를 입력하여 y값 예측 시행\n",
    "y_pred = lda.predict(X_test)\n",
    "\n",
    "# 혼동행렬 생성\n",
    "cf = confusion_matrix(y_test, y_pred)\n",
    "\n",
    "# 혼동행렬 및 결과 리포트 수행\n",
    "print(f'혼동행렬\\n{cf}\\n')\n",
    "print(classification_report(y_test, y_pred, target_names=['setosa', 'versicolor', 'virginica']))"
   ]
  }
 ],
 "metadata": {
  "interpreter": {
   "hash": "aee8b7b246df8f9039afb4144a1f6fd8d2ca17a180786b69acc140d282b71a49"
  },
  "kernelspec": {
   "display_name": "Python 3.9.4 64-bit",
   "language": "python",
   "name": "python3"
  },
  "language_info": {
   "codemirror_mode": {
    "name": "ipython",
    "version": 3
   },
   "file_extension": ".py",
   "mimetype": "text/x-python",
   "name": "python",
   "nbconvert_exporter": "python",
   "pygments_lexer": "ipython3",
   "version": "3.9.7"
  },
  "orig_nbformat": 4
 },
 "nbformat": 4,
 "nbformat_minor": 2
}
