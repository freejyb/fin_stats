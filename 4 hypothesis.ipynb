{
 "cells": [
  {
   "cell_type": "code",
   "execution_count": 2,
   "metadata": {},
   "outputs": [],
   "source": [
    "import pandas as pd\n",
    "import matplotlib.pyplot as plt\n",
    "import numpy as np\n",
    "import seaborn as sns\n",
    "import scipy as sp\n",
    "import yfinance as yf"
   ]
  },
  {
   "cell_type": "markdown",
   "metadata": {},
   "source": [
    "# 데이터 불러오기"
   ]
  },
  {
   "cell_type": "code",
   "execution_count": 18,
   "metadata": {},
   "outputs": [
    {
     "name": "stdout",
     "output_type": "stream",
     "text": [
      "[*********************100%***********************]  2 of 2 completed\n"
     ]
    },
    {
     "data": {
      "text/html": [
       "<div>\n",
       "<style scoped>\n",
       "    .dataframe tbody tr th:only-of-type {\n",
       "        vertical-align: middle;\n",
       "    }\n",
       "\n",
       "    .dataframe tbody tr th {\n",
       "        vertical-align: top;\n",
       "    }\n",
       "\n",
       "    .dataframe thead tr th {\n",
       "        text-align: left;\n",
       "    }\n",
       "\n",
       "    .dataframe thead tr:last-of-type th {\n",
       "        text-align: right;\n",
       "    }\n",
       "</style>\n",
       "<table border=\"1\" class=\"dataframe\">\n",
       "  <thead>\n",
       "    <tr>\n",
       "      <th></th>\n",
       "      <th colspan=\"2\" halign=\"left\">Adj Close</th>\n",
       "      <th colspan=\"2\" halign=\"left\">Close</th>\n",
       "      <th colspan=\"2\" halign=\"left\">High</th>\n",
       "      <th colspan=\"2\" halign=\"left\">Low</th>\n",
       "      <th colspan=\"2\" halign=\"left\">Open</th>\n",
       "      <th colspan=\"2\" halign=\"left\">Volume</th>\n",
       "    </tr>\n",
       "    <tr>\n",
       "      <th></th>\n",
       "      <th>000660.KS</th>\n",
       "      <th>005930.KS</th>\n",
       "      <th>000660.KS</th>\n",
       "      <th>005930.KS</th>\n",
       "      <th>000660.KS</th>\n",
       "      <th>005930.KS</th>\n",
       "      <th>000660.KS</th>\n",
       "      <th>005930.KS</th>\n",
       "      <th>000660.KS</th>\n",
       "      <th>005930.KS</th>\n",
       "      <th>000660.KS</th>\n",
       "      <th>005930.KS</th>\n",
       "    </tr>\n",
       "    <tr>\n",
       "      <th>Date</th>\n",
       "      <th></th>\n",
       "      <th></th>\n",
       "      <th></th>\n",
       "      <th></th>\n",
       "      <th></th>\n",
       "      <th></th>\n",
       "      <th></th>\n",
       "      <th></th>\n",
       "      <th></th>\n",
       "      <th></th>\n",
       "      <th></th>\n",
       "      <th></th>\n",
       "    </tr>\n",
       "  </thead>\n",
       "  <tbody>\n",
       "    <tr>\n",
       "      <th>2022-01-04</th>\n",
       "      <td>128500.0</td>\n",
       "      <td>78700.0</td>\n",
       "      <td>128500.0</td>\n",
       "      <td>78700.0</td>\n",
       "      <td>130000.0</td>\n",
       "      <td>79200.0</td>\n",
       "      <td>127500.0</td>\n",
       "      <td>78300.0</td>\n",
       "      <td>129500.0</td>\n",
       "      <td>78800.0</td>\n",
       "      <td>3622369</td>\n",
       "      <td>12427416</td>\n",
       "    </tr>\n",
       "    <tr>\n",
       "      <th>2022-01-05</th>\n",
       "      <td>125500.0</td>\n",
       "      <td>77400.0</td>\n",
       "      <td>125500.0</td>\n",
       "      <td>77400.0</td>\n",
       "      <td>129000.0</td>\n",
       "      <td>79000.0</td>\n",
       "      <td>121500.0</td>\n",
       "      <td>76400.0</td>\n",
       "      <td>129000.0</td>\n",
       "      <td>78800.0</td>\n",
       "      <td>7414954</td>\n",
       "      <td>25470640</td>\n",
       "    </tr>\n",
       "    <tr>\n",
       "      <th>2022-01-06</th>\n",
       "      <td>125000.0</td>\n",
       "      <td>76900.0</td>\n",
       "      <td>125000.0</td>\n",
       "      <td>76900.0</td>\n",
       "      <td>127000.0</td>\n",
       "      <td>77600.0</td>\n",
       "      <td>123000.0</td>\n",
       "      <td>76600.0</td>\n",
       "      <td>123500.0</td>\n",
       "      <td>76700.0</td>\n",
       "      <td>3725569</td>\n",
       "      <td>12931954</td>\n",
       "    </tr>\n",
       "    <tr>\n",
       "      <th>2022-01-07</th>\n",
       "      <td>127000.0</td>\n",
       "      <td>78300.0</td>\n",
       "      <td>127000.0</td>\n",
       "      <td>78300.0</td>\n",
       "      <td>129000.0</td>\n",
       "      <td>78400.0</td>\n",
       "      <td>126500.0</td>\n",
       "      <td>77400.0</td>\n",
       "      <td>127000.0</td>\n",
       "      <td>78100.0</td>\n",
       "      <td>3270119</td>\n",
       "      <td>15163757</td>\n",
       "    </tr>\n",
       "    <tr>\n",
       "      <th>2022-01-10</th>\n",
       "      <td>124500.0</td>\n",
       "      <td>78000.0</td>\n",
       "      <td>124500.0</td>\n",
       "      <td>78000.0</td>\n",
       "      <td>127000.0</td>\n",
       "      <td>78100.0</td>\n",
       "      <td>123000.0</td>\n",
       "      <td>77100.0</td>\n",
       "      <td>126500.0</td>\n",
       "      <td>78100.0</td>\n",
       "      <td>3449197</td>\n",
       "      <td>9947422</td>\n",
       "    </tr>\n",
       "    <tr>\n",
       "      <th>2022-01-11</th>\n",
       "      <td>128000.0</td>\n",
       "      <td>78900.0</td>\n",
       "      <td>128000.0</td>\n",
       "      <td>78900.0</td>\n",
       "      <td>128500.0</td>\n",
       "      <td>79000.0</td>\n",
       "      <td>124500.0</td>\n",
       "      <td>78000.0</td>\n",
       "      <td>125500.0</td>\n",
       "      <td>78400.0</td>\n",
       "      <td>3958787</td>\n",
       "      <td>13221123</td>\n",
       "    </tr>\n",
       "    <tr>\n",
       "      <th>2022-01-12</th>\n",
       "      <td>128500.0</td>\n",
       "      <td>78900.0</td>\n",
       "      <td>128500.0</td>\n",
       "      <td>78900.0</td>\n",
       "      <td>130000.0</td>\n",
       "      <td>79600.0</td>\n",
       "      <td>126500.0</td>\n",
       "      <td>78600.0</td>\n",
       "      <td>129500.0</td>\n",
       "      <td>79500.0</td>\n",
       "      <td>3552174</td>\n",
       "      <td>11000502</td>\n",
       "    </tr>\n",
       "    <tr>\n",
       "      <th>2022-01-13</th>\n",
       "      <td>129500.0</td>\n",
       "      <td>77900.0</td>\n",
       "      <td>129500.0</td>\n",
       "      <td>77900.0</td>\n",
       "      <td>130000.0</td>\n",
       "      <td>79300.0</td>\n",
       "      <td>128000.0</td>\n",
       "      <td>77900.0</td>\n",
       "      <td>128500.0</td>\n",
       "      <td>79300.0</td>\n",
       "      <td>4155984</td>\n",
       "      <td>13889401</td>\n",
       "    </tr>\n",
       "    <tr>\n",
       "      <th>2022-01-14</th>\n",
       "      <td>128500.0</td>\n",
       "      <td>77300.0</td>\n",
       "      <td>128500.0</td>\n",
       "      <td>77300.0</td>\n",
       "      <td>129000.0</td>\n",
       "      <td>78100.0</td>\n",
       "      <td>126000.0</td>\n",
       "      <td>77100.0</td>\n",
       "      <td>128500.0</td>\n",
       "      <td>77700.0</td>\n",
       "      <td>3769648</td>\n",
       "      <td>10096725</td>\n",
       "    </tr>\n",
       "    <tr>\n",
       "      <th>2022-01-17</th>\n",
       "      <td>127000.0</td>\n",
       "      <td>77500.0</td>\n",
       "      <td>127000.0</td>\n",
       "      <td>77500.0</td>\n",
       "      <td>128000.0</td>\n",
       "      <td>77800.0</td>\n",
       "      <td>124500.0</td>\n",
       "      <td>76900.0</td>\n",
       "      <td>127500.0</td>\n",
       "      <td>77600.0</td>\n",
       "      <td>3730393</td>\n",
       "      <td>8785122</td>\n",
       "    </tr>\n",
       "    <tr>\n",
       "      <th>2022-01-18</th>\n",
       "      <td>126500.0</td>\n",
       "      <td>77000.0</td>\n",
       "      <td>126500.0</td>\n",
       "      <td>77000.0</td>\n",
       "      <td>127500.0</td>\n",
       "      <td>77800.0</td>\n",
       "      <td>125000.0</td>\n",
       "      <td>76600.0</td>\n",
       "      <td>126500.0</td>\n",
       "      <td>77600.0</td>\n",
       "      <td>3607850</td>\n",
       "      <td>9592788</td>\n",
       "    </tr>\n",
       "    <tr>\n",
       "      <th>2022-01-19</th>\n",
       "      <td>127000.0</td>\n",
       "      <td>76300.0</td>\n",
       "      <td>127000.0</td>\n",
       "      <td>76300.0</td>\n",
       "      <td>128500.0</td>\n",
       "      <td>76900.0</td>\n",
       "      <td>123500.0</td>\n",
       "      <td>76100.0</td>\n",
       "      <td>123500.0</td>\n",
       "      <td>76500.0</td>\n",
       "      <td>4094609</td>\n",
       "      <td>10598290</td>\n",
       "    </tr>\n",
       "    <tr>\n",
       "      <th>2022-01-20</th>\n",
       "      <td>125000.0</td>\n",
       "      <td>76500.0</td>\n",
       "      <td>125000.0</td>\n",
       "      <td>76500.0</td>\n",
       "      <td>126500.0</td>\n",
       "      <td>76700.0</td>\n",
       "      <td>123500.0</td>\n",
       "      <td>75900.0</td>\n",
       "      <td>126000.0</td>\n",
       "      <td>76200.0</td>\n",
       "      <td>5441986</td>\n",
       "      <td>9708168</td>\n",
       "    </tr>\n",
       "  </tbody>\n",
       "</table>\n",
       "</div>"
      ],
      "text/plain": [
       "           Adj Close               Close                High            \\\n",
       "           000660.KS 005930.KS 000660.KS 005930.KS 000660.KS 005930.KS   \n",
       "Date                                                                     \n",
       "2022-01-04  128500.0   78700.0  128500.0   78700.0  130000.0   79200.0   \n",
       "2022-01-05  125500.0   77400.0  125500.0   77400.0  129000.0   79000.0   \n",
       "2022-01-06  125000.0   76900.0  125000.0   76900.0  127000.0   77600.0   \n",
       "2022-01-07  127000.0   78300.0  127000.0   78300.0  129000.0   78400.0   \n",
       "2022-01-10  124500.0   78000.0  124500.0   78000.0  127000.0   78100.0   \n",
       "2022-01-11  128000.0   78900.0  128000.0   78900.0  128500.0   79000.0   \n",
       "2022-01-12  128500.0   78900.0  128500.0   78900.0  130000.0   79600.0   \n",
       "2022-01-13  129500.0   77900.0  129500.0   77900.0  130000.0   79300.0   \n",
       "2022-01-14  128500.0   77300.0  128500.0   77300.0  129000.0   78100.0   \n",
       "2022-01-17  127000.0   77500.0  127000.0   77500.0  128000.0   77800.0   \n",
       "2022-01-18  126500.0   77000.0  126500.0   77000.0  127500.0   77800.0   \n",
       "2022-01-19  127000.0   76300.0  127000.0   76300.0  128500.0   76900.0   \n",
       "2022-01-20  125000.0   76500.0  125000.0   76500.0  126500.0   76700.0   \n",
       "\n",
       "                 Low                Open              Volume            \n",
       "           000660.KS 005930.KS 000660.KS 005930.KS 000660.KS 005930.KS  \n",
       "Date                                                                    \n",
       "2022-01-04  127500.0   78300.0  129500.0   78800.0   3622369  12427416  \n",
       "2022-01-05  121500.0   76400.0  129000.0   78800.0   7414954  25470640  \n",
       "2022-01-06  123000.0   76600.0  123500.0   76700.0   3725569  12931954  \n",
       "2022-01-07  126500.0   77400.0  127000.0   78100.0   3270119  15163757  \n",
       "2022-01-10  123000.0   77100.0  126500.0   78100.0   3449197   9947422  \n",
       "2022-01-11  124500.0   78000.0  125500.0   78400.0   3958787  13221123  \n",
       "2022-01-12  126500.0   78600.0  129500.0   79500.0   3552174  11000502  \n",
       "2022-01-13  128000.0   77900.0  128500.0   79300.0   4155984  13889401  \n",
       "2022-01-14  126000.0   77100.0  128500.0   77700.0   3769648  10096725  \n",
       "2022-01-17  124500.0   76900.0  127500.0   77600.0   3730393   8785122  \n",
       "2022-01-18  125000.0   76600.0  126500.0   77600.0   3607850   9592788  \n",
       "2022-01-19  123500.0   76100.0  123500.0   76500.0   4094609  10598290  \n",
       "2022-01-20  123500.0   75900.0  126000.0   76200.0   5441986   9708168  "
      ]
     },
     "execution_count": 18,
     "metadata": {},
     "output_type": "execute_result"
    }
   ],
   "source": [
    "# 삼성전자, SK하이닉스 주가 데이터 불러오기\n",
    "stock_price = yf.download({'005930.KS','000660.KS'}, '2022-01-01', '2022-01-21')\n",
    "\n",
    "stock_price"
   ]
  },
  {
   "cell_type": "markdown",
   "metadata": {},
   "source": [
    "# 1. 모수에 대한 가설 검정"
   ]
  },
  {
   "cell_type": "markdown",
   "metadata": {},
   "source": [
    "## A. 모평균에 대한 가설검정"
   ]
  },
  {
   "cell_type": "code",
   "execution_count": 5,
   "metadata": {},
   "outputs": [],
   "source": [
    "# 정규분포 그리는 함수 (week_5 distribution 파일에 포함)\n",
    "def normal_df(N, sigma, mu):\n",
    "    import numpy as np\n",
    "    import scipy as sp\n",
    "    import matplotlib.pyplot as plt\n",
    "    import seaborn as sns\n",
    "\n",
    "    np.random.seed(0)\n",
    "    x = sp.stats.norm(mu, sigma).rvs(N)\n",
    "\n",
    "    # 시각화하는 부분은 주석처리하여 따로 출력하지 않고, 대신 데이터의 형성 후 return 해줌.\n",
    "    # ax = sns.distplot(x, kde=False, fit=sp.stats.norm, label=f\"normal df (Variance :{np.round(x.std(),3)})\")\n",
    "    # plt.legend(bbox_to_anchor=(1.0, .2))\n",
    "    # plt.show()\n",
    "\n",
    "    return x"
   ]
  },
  {
   "cell_type": "code",
   "execution_count": 6,
   "metadata": {},
   "outputs": [],
   "source": [
    "def t_test(x1, x2, sig_level = 0.05):\n",
    "    from scipy.stats import ttest_ind\n",
    "\n",
    "    print(f't-test 검정통계치 : {ttest_ind(x1, x2)[0]}')\n",
    "    print(f't-test p-value : {round(ttest_ind(x1, x2)[1], 3)}')\n",
    "    \n",
    "    # t-test로 도출한 p값을 기존에 설정한 유의수준과 비교하여 귀무가설을 기각할 수 있는지 여부를 표시해줌.\n",
    "    if ttest_ind(x1,x2)[1] < sig_level:\n",
    "        print(f't-test 결과, {sig_level*100}%의 유의수준으로 두 데이터의 모평균이 같다는 귀무가설을 기각할 수 있습니다.')\n",
    "    else:\n",
    "        print(f't-test 결과, {sig_level*100}%의 유의수준으로 두 데이터의 모평균이 같다는 귀무가설을 기각할 수 없습니다.')"
   ]
  },
  {
   "cell_type": "code",
   "execution_count": 7,
   "metadata": {},
   "outputs": [
    {
     "name": "stderr",
     "output_type": "stream",
     "text": [
      "/Users/jeong-giho/Desktop/financial_python/finance/lib/python3.9/site-packages/seaborn/distributions.py:2619: FutureWarning: `distplot` is a deprecated function and will be removed in a future version. Please adapt your code to use either `displot` (a figure-level function with similar flexibility) or `histplot` (an axes-level function for histograms).\n",
      "  warnings.warn(msg, FutureWarning)\n",
      "/Users/jeong-giho/Desktop/financial_python/finance/lib/python3.9/site-packages/seaborn/distributions.py:2619: FutureWarning: `distplot` is a deprecated function and will be removed in a future version. Please adapt your code to use either `displot` (a figure-level function with similar flexibility) or `histplot` (an axes-level function for histograms).\n",
      "  warnings.warn(msg, FutureWarning)\n"
     ]
    },
    {
     "data": {
      "image/png": "[encoded data removed]",
      "text/plain": [
       "<Figure size 432x288 with 1 Axes>"
      ]
     },
     "metadata": {
      "needs_background": "light"
     },
     "output_type": "display_data"
    },
    {
     "name": "stdout",
     "output_type": "stream",
     "text": [
      "t-test 검정통계치 : -203.78795583613376\n",
      "t-test p-value : 0.0\n",
      "t-test 결과, 5.0%의 유의수준으로 두 데이터의 모평균이 같다는 귀무가설을 기각할 수 있습니다.\n"
     ]
    }
   ],
   "source": [
    "# 정규분포의 특성을 가지는 임의의 데이터 2개 형성\n",
    "x1 = normal_df(1000, 1, 1)  # 평균 1, 표준편차 1\n",
    "x2 = normal_df(1000, 1, 10) # 평균 10, 표준편차 1\n",
    "\n",
    "# 시각화\n",
    "sns.distplot(x1, kde=False, fit=sp.stats.norm, label=f\"normal df (Variance :{np.round(x1.std(),3)})\")\n",
    "sns.distplot(x2, kde=False, fit=sp.stats.norm, label=f\"normal df (Variance :{np.round(x2.std(),3)})\")\n",
    "plt.legend(bbox_to_anchor=(1.0, .2))\n",
    "plt.show()\n",
    "\n",
    "# t-test 진행\n",
    "t_test(x1, x2, 0.05)"
   ]
  },
  {
   "cell_type": "code",
   "execution_count": 11,
   "metadata": {},
   "outputs": [
    {
     "name": "stderr",
     "output_type": "stream",
     "text": [
      "/Library/Frameworks/Python.framework/Versions/3.9/lib/python3.9/site-packages/seaborn/distributions.py:2619: FutureWarning: `distplot` is a deprecated function and will be removed in a future version. Please adapt your code to use either `displot` (a figure-level function with similar flexibility) or `histplot` (an axes-level function for histograms).\n",
      "  warnings.warn(msg, FutureWarning)\n",
      "/Library/Frameworks/Python.framework/Versions/3.9/lib/python3.9/site-packages/seaborn/distributions.py:2619: FutureWarning: `distplot` is a deprecated function and will be removed in a future version. Please adapt your code to use either `displot` (a figure-level function with similar flexibility) or `histplot` (an axes-level function for histograms).\n",
      "  warnings.warn(msg, FutureWarning)\n"
     ]
    },
    {
     "data": {
      "image/png": "[encoded data removed]",
      "text/plain": [
       "<Figure size 432x288 with 1 Axes>"
      ]
     },
     "metadata": {
      "needs_background": "light"
     },
     "output_type": "display_data"
    },
    {
     "name": "stdout",
     "output_type": "stream",
     "text": [
      "t-test 검정통계치 : -1.3973555186452973\n",
      "t-test p-value : 0.162\n",
      "t-test 결과, 5.0%의 유의수준으로 두 데이터의 모평균이 같다는 귀무가설을 기각할 수 없습니다.\n"
     ]
    }
   ],
   "source": [
    "# 표준정규분포 형성 (평균이 동일하지만, 표준편차와 데이터 개수가 다른 데이터 형성)\n",
    "x1 = normal_df(1000, 3, 0) # (평균 = 0, 표준편차 = 3)\n",
    "x2 = normal_df(1500, 1, 0) # (평균 = 0, 표준편차 = 1)\n",
    "\n",
    "# 시각화\n",
    "sns.distplot(x1, kde=False, fit=sp.stats.norm, label=f\"normal df (Variance :{np.round(x1.std(),3)})\")\n",
    "sns.distplot(x2, kde=False, fit=sp.stats.norm, label=f\"normal df (Variance :{np.round(x2.std(),3)})\")\n",
    "plt.legend(bbox_to_anchor=(1.0, .2))\n",
    "plt.show()\n",
    "\n",
    "t_test(x1, x2, 0.05)"
   ]
  },
  {
   "cell_type": "code",
   "execution_count": 17,
   "metadata": {},
   "outputs": [
    {
     "name": "stderr",
     "output_type": "stream",
     "text": [
      "/Users/jeong-giho/Desktop/financial_python/finance/lib/python3.9/site-packages/seaborn/distributions.py:2619: FutureWarning: `distplot` is a deprecated function and will be removed in a future version. Please adapt your code to use either `displot` (a figure-level function with similar flexibility) or `histplot` (an axes-level function for histograms).\n",
      "  warnings.warn(msg, FutureWarning)\n",
      "/Users/jeong-giho/Desktop/financial_python/finance/lib/python3.9/site-packages/seaborn/distributions.py:2619: FutureWarning: `distplot` is a deprecated function and will be removed in a future version. Please adapt your code to use either `displot` (a figure-level function with similar flexibility) or `histplot` (an axes-level function for histograms).\n",
      "  warnings.warn(msg, FutureWarning)\n"
     ]
    },
    {
     "data": {
      "image/png": "[encoded data removed]",
      "text/plain": [
       "<Figure size 432x288 with 1 Axes>"
      ]
     },
     "metadata": {
      "needs_background": "light"
     },
     "output_type": "display_data"
    },
    {
     "name": "stdout",
     "output_type": "stream",
     "text": [
      "t-test 검정통계치 : -97.47974805093635\n",
      "t-test p-value : 0.0\n",
      "t-test 결과, 5.0%의 유의수준으로 두 데이터의 모평균이 같다는 귀무가설을 기각할 수 있습니다.\n"
     ]
    }
   ],
   "source": [
    "# 주가 데이터를 이용해보기\n",
    "\n",
    "# 시각화\n",
    "sns.distplot(stock_price['Adj Close']['005930.KS'], kde=False, fit=sp.stats.norm, label=f\"normal df (Variance :{np.round(x1.std(),3)})\")\n",
    "sns.distplot(stock_price['Adj Close']['000660.KS'], kde=False, fit=sp.stats.norm, label=f\"normal df (Variance :{np.round(x2.std(),3)})\")\n",
    "plt.legend(bbox_to_anchor=(1.0, .2))\n",
    "plt.show()\n",
    "\n",
    "t_test(stock_price['Adj Close']['005930.KS'], stock_price['Adj Close']['000660.KS'])"
   ]
  },
  {
   "cell_type": "markdown",
   "metadata": {},
   "source": [
    "## B. 모비율에 대한 가설검정"
   ]
  },
  {
   "cell_type": "code",
   "execution_count": 19,
   "metadata": {},
   "outputs": [
    {
     "name": "stdout",
     "output_type": "stream",
     "text": [
      "카이제곱 검정통계치 : 82.8556172433191\n",
      "카이제곱 P-value : 0.0\n",
      "자유도 : 12\n",
      "카이제곱 검정 결과, 두 데이터 집단의 모비율이 같다는 귀무가설을 유의수준 5.0%로 기각할 수 있습니다.\n"
     ]
    }
   ],
   "source": [
    "def chi2(x1, x2, sig_level=0.05):\n",
    "    from scipy.stats import chi2_contingency\n",
    "\n",
    "    print(f'카이제곱 검정통계치 : {chi2_contingency([x1, x2])[0]}')\n",
    "    print(f'카이제곱 P-value : {round(chi2_contingency([x1, x2])[1], 3)}')\n",
    "    print(f'자유도 : {chi2_contingency([x1, x2])[2]}')\n",
    "    \n",
    "    # 귀무가설을 기각할 지 여부를 p 값으로 판단하고 출력해주는 부분\n",
    "    if chi2_contingency([x1, x2])[1] < sig_level:\n",
    "        print(f'카이제곱 검정 결과, 두 데이터 집단의 모비율이 같다는 귀무가설을 유의수준 {sig_level * 100}%로 기각할 수 있습니다.')\n",
    "    else:\n",
    "        print(f'카이제곱 검정 결과, 두 데이터 집단의 모비율이 같다는 귀무가설을 유의수준 {sig_level * 100}%로 기각할 수 없습니다.')\n",
    "        \n",
    "# 삼성, 하이닉스 주가의 모비율에 대한 가설검정\n",
    "chi2(stock_price['Adj Close']['005930.KS'], stock_price['Adj Close']['000660.KS'], 0.05)"
   ]
  },
  {
   "cell_type": "markdown",
   "metadata": {},
   "source": [
    "## C. 모분산에 대한 가설검정"
   ]
  },
  {
   "cell_type": "code",
   "execution_count": 20,
   "metadata": {},
   "outputs": [
    {
     "data": {
      "image/png": "[encoded data removed]",
      "text/plain": [
       "<Figure size 432x288 with 2 Axes>"
      ]
     },
     "metadata": {
      "needs_background": "light"
     },
     "output_type": "display_data"
    }
   ],
   "source": [
    "# 강원도 경찰청 5대 범죄 데이터로 진행해봅니다.\n",
    "\n",
    "# 검거와 발생 데이터를 리스트 형태로 새롭게 지정함.\n",
    "arrest = stock_price['Adj Close']['005930.KS'].tolist()\n",
    "occur = stock_price['Adj Close']['000660.KS'].tolist()\n",
    "\n",
    "# 데이터 보기\n",
    "plt.subplot(2,1,1)\n",
    "plt.bar(x = stock_price.index, height = stock_price['Adj Close']['005930.KS'])\n",
    "plt.ylabel('samsung')\n",
    "plt.subplot(2,1,2)\n",
    "plt.bar(x = stock_price.index, height = stock_price['Adj Close']['000660.KS'])\n",
    "plt.ylabel('skhynix')\n",
    "plt.show()"
   ]
  },
  {
   "cell_type": "code",
   "execution_count": 21,
   "metadata": {},
   "outputs": [
    {
     "name": "stdout",
     "output_type": "stream",
     "text": [
      "F-test 검정통계치 : 9502.301\n",
      "F-test P-value : 0.0\n",
      "F 검정 결과, 두 데이터 집단의 모분산이 같다는 귀무가설을 유의수준 5.0%로 기각할 수 있습니다.\n"
     ]
    }
   ],
   "source": [
    "def f_test(x1,x2,sig_level=0.05):\n",
    "    # 라이브러리 호출\n",
    "    from scipy.stats import f_oneway\n",
    "\n",
    "    # 검정통계치. p값을 출력하는 부분 (소수점 3째 자리까지)\n",
    "    print(f'F-test 검정통계치 : {round(f_oneway(x1, x2)[0], 3)}')\n",
    "    print(f'F-test P-value : {round(f_oneway(x1, x2)[1], 3)}')\n",
    "\n",
    "    # 귀무가설을 기각할 지 여부를 p 값으로 판단하고 출력해주는 부분    \n",
    "    if f_oneway(x1, x2)[1] < sig_level:\n",
    "        print(f'F 검정 결과, 두 데이터 집단의 모분산이 같다는 귀무가설을 유의수준 {sig_level * 100}%로 기각할 수 있습니다.')\n",
    "    else:\n",
    "        print(f'F 검정 결과, 두 데이터 집단의 모분산이 같다는 귀무가설을 유의수준 {sig_level * 100}%로 기각할 수 없습니다.')\n",
    "        \n",
    "f_test(stock_price['Adj Close']['005930.KS'], stock_price['Adj Close']['000660.KS'], sig_level=0.05)"
   ]
  },
  {
   "cell_type": "markdown",
   "metadata": {},
   "source": [
    "# 2. 표본에 대한 가설 검정"
   ]
  },
  {
   "cell_type": "markdown",
   "metadata": {},
   "source": [
    "## A. 단일표본 t 검정 (1-sample T-test)"
   ]
  },
  {
   "cell_type": "code",
   "execution_count": 38,
   "metadata": {},
   "outputs": [
    {
     "name": "stdout",
     "output_type": "stream",
     "text": [
      "T 검정 검정통계량 : -30.2692\n",
      "T 검정 p-value :  0.0000\n",
      "평균이 10이 아니라는 귀무가설을 5%의 유의수준으로 기각할 수 있습니다.\n"
     ]
    }
   ],
   "source": [
    "import numpy as np\n",
    "from scipy.stats import ttest_1samp\n",
    "\n",
    "# 정규분포 형성 함수를 이용하여 정규분포 데이터 형성 \n",
    "x = normal_df(1000, 10, 1)  # 평균 10, 표준편차 1\n",
    "test = 10\n",
    "# 1-sample t-test 시행 (평균이 10이 맞는지)\n",
    "result= ttest_1samp(x,test)\n",
    "\n",
    "print(f'T 검정 검정통계량 : {result[0] : .4f}')\n",
    "print(f'T 검정 p-value : {result[1] : .4f}')\n",
    "\n",
    "if result[1] < 0.05:\n",
    "    print(f'평균이 {test}이 아니라는 귀무가설을 5%의 유의수준으로 기각할 수 있습니다.')\n",
    "else:\n",
    "    print(f'평균이 {test}이 아니라는 귀무가설을 5%의 유의수준으로 기각할 수 없습니다.')"
   ]
  },
  {
   "cell_type": "markdown",
   "metadata": {},
   "source": [
    "## B. 독립 표본 t 검정 (Unpaired T-test)"
   ]
  },
  {
   "cell_type": "markdown",
   "metadata": {},
   "source": [
    "### B-1 등분산일 경우 (T-test)"
   ]
  },
  {
   "cell_type": "code",
   "execution_count": 23,
   "metadata": {},
   "outputs": [],
   "source": [
    "# 위의 모평균 차이 검정에서 진행한 것과 동일하므로 주석처리하였음\n",
    "\n",
    "# # 정규분포의 특성을 가지는 임의의 데이터 2개 형성\n",
    "# x1 = normal_df(1000, 1, 1)  # 평균 1, 표준편차 1\n",
    "# x2 = normal_df(1000, 1, 10) # 평균 10, 표준편차 1\n",
    "\n",
    "# # 시각화\n",
    "# sns.distplot(x1, kde=False, fit=sp.stats.norm, label=f\"normal df (Variance :{np.round(x1.std(),3)})\")\n",
    "# sns.distplot(x2, kde=False, fit=sp.stats.norm, label=f\"normal df (Variance :{np.round(x2.std(),3)})\")\n",
    "# plt.legend(bbox_to_anchor=(1.0, .2))\n",
    "# plt.show()\n",
    "\n",
    "# # t-test 진행\n",
    "# t_test(x1, x2, 0.05)"
   ]
  },
  {
   "cell_type": "markdown",
   "metadata": {},
   "source": [
    "### B-2 이분산일 경우 (Welch's T-test)"
   ]
  },
  {
   "cell_type": "code",
   "execution_count": 22,
   "metadata": {},
   "outputs": [
    {
     "name": "stdout",
     "output_type": "stream",
     "text": [
      "F-test 검정통계치 : 9502.301\n",
      "F-test P-value : 0.0\n",
      "F 검정 결과, 두 데이터 집단의 모분산이 같다는 귀무가설을 유의수준 5.0%로 기각할 수 있습니다.\n"
     ]
    }
   ],
   "source": [
    "# 위에서 등분산 검정에서 귀무가설 기각으로 이분산이 성립한 2개의 샘플에 대해서 이분산 t-test 진행\n",
    "f_test(stock_price['Adj Close']['005930.KS'], stock_price['Adj Close']['000660.KS'], sig_level=0.05)"
   ]
  },
  {
   "cell_type": "code",
   "execution_count": 24,
   "metadata": {},
   "outputs": [
    {
     "name": "stdout",
     "output_type": "stream",
     "text": [
      "T 검정 검정통계량 : -97.4797\n",
      "T 검정 p-value :  0.0000\n",
      "평균이 같지않다는 귀무가설을 5%의 유의수준으로 기각할 수 있습니다.\n"
     ]
    }
   ],
   "source": [
    "from scipy.stats import ttest_ind\n",
    "\n",
    "result = ttest_ind(stock_price['Adj Close']['005930.KS'], stock_price['Adj Close']['000660.KS'], equal_var=False)\n",
    "\n",
    "\n",
    "print(f'T 검정 검정통계량 : {result[0] : .4f}')\n",
    "print(f'T 검정 p-value : {result[1] : .4f}')\n",
    "\n",
    "if result[1] < 0.05:\n",
    "    print(f'평균이 같지않다는 귀무가설을 5%의 유의수준으로 기각할 수 있습니다.')\n",
    "else:\n",
    "    print(f'평균이 같지않다는 귀무가설을 5%의 유의수준으로 기각할 수 없습니다.')\n",
    "    \n",
    "# 물론 실제로도 두 데이터의 평균은 다릅니다.\n",
    "# print(f'Samsung 주가 평균 : {np.mean(stock_price['Adj Close']['005930.KS'])}')\n",
    "# print(f'SKhynix 주가 평균 : {np.mean(stock_price['Adj Close']['000660.KS'])}')"
   ]
  },
  {
   "cell_type": "markdown",
   "metadata": {},
   "source": [
    "## C. 대응표본 t 검정 (Paired T-test)"
   ]
  },
  {
   "cell_type": "code",
   "execution_count": 20,
   "metadata": {},
   "outputs": [
    {
     "data": {
      "text/html": [
       "<div>\n",
       "<style scoped>\n",
       "    .dataframe tbody tr th:only-of-type {\n",
       "        vertical-align: middle;\n",
       "    }\n",
       "\n",
       "    .dataframe tbody tr th {\n",
       "        vertical-align: top;\n",
       "    }\n",
       "\n",
       "    .dataframe thead th {\n",
       "        text-align: right;\n",
       "    }\n",
       "</style>\n",
       "<table border=\"1\" class=\"dataframe\">\n",
       "  <thead>\n",
       "    <tr style=\"text-align: right;\">\n",
       "      <th></th>\n",
       "      <th>before</th>\n",
       "      <th>after</th>\n",
       "    </tr>\n",
       "  </thead>\n",
       "  <tbody>\n",
       "    <tr>\n",
       "      <th>0</th>\n",
       "      <td>168</td>\n",
       "      <td>104</td>\n",
       "    </tr>\n",
       "    <tr>\n",
       "      <th>1</th>\n",
       "      <td>152</td>\n",
       "      <td>145</td>\n",
       "    </tr>\n",
       "    <tr>\n",
       "      <th>2</th>\n",
       "      <td>154</td>\n",
       "      <td>135</td>\n",
       "    </tr>\n",
       "    <tr>\n",
       "      <th>3</th>\n",
       "      <td>160</td>\n",
       "      <td>116</td>\n",
       "    </tr>\n",
       "    <tr>\n",
       "      <th>4</th>\n",
       "      <td>149</td>\n",
       "      <td>112</td>\n",
       "    </tr>\n",
       "    <tr>\n",
       "      <th>5</th>\n",
       "      <td>166</td>\n",
       "      <td>112</td>\n",
       "    </tr>\n",
       "    <tr>\n",
       "      <th>6</th>\n",
       "      <td>147</td>\n",
       "      <td>140</td>\n",
       "    </tr>\n",
       "    <tr>\n",
       "      <th>7</th>\n",
       "      <td>176</td>\n",
       "      <td>114</td>\n",
       "    </tr>\n",
       "    <tr>\n",
       "      <th>8</th>\n",
       "      <td>155</td>\n",
       "      <td>145</td>\n",
       "    </tr>\n",
       "    <tr>\n",
       "      <th>9</th>\n",
       "      <td>177</td>\n",
       "      <td>133</td>\n",
       "    </tr>\n",
       "    <tr>\n",
       "      <th>10</th>\n",
       "      <td>156</td>\n",
       "      <td>146</td>\n",
       "    </tr>\n",
       "    <tr>\n",
       "      <th>11</th>\n",
       "      <td>150</td>\n",
       "      <td>103</td>\n",
       "    </tr>\n",
       "    <tr>\n",
       "      <th>12</th>\n",
       "      <td>160</td>\n",
       "      <td>120</td>\n",
       "    </tr>\n",
       "    <tr>\n",
       "      <th>13</th>\n",
       "      <td>160</td>\n",
       "      <td>102</td>\n",
       "    </tr>\n",
       "    <tr>\n",
       "      <th>14</th>\n",
       "      <td>143</td>\n",
       "      <td>132</td>\n",
       "    </tr>\n",
       "    <tr>\n",
       "      <th>15</th>\n",
       "      <td>171</td>\n",
       "      <td>122</td>\n",
       "    </tr>\n",
       "    <tr>\n",
       "      <th>16</th>\n",
       "      <td>149</td>\n",
       "      <td>114</td>\n",
       "    </tr>\n",
       "    <tr>\n",
       "      <th>17</th>\n",
       "      <td>163</td>\n",
       "      <td>149</td>\n",
       "    </tr>\n",
       "    <tr>\n",
       "      <th>18</th>\n",
       "      <td>165</td>\n",
       "      <td>125</td>\n",
       "    </tr>\n",
       "    <tr>\n",
       "      <th>19</th>\n",
       "      <td>161</td>\n",
       "      <td>140</td>\n",
       "    </tr>\n",
       "  </tbody>\n",
       "</table>\n",
       "</div>"
      ],
      "text/plain": [
       "    before  after\n",
       "0      168    104\n",
       "1      152    145\n",
       "2      154    135\n",
       "3      160    116\n",
       "4      149    112\n",
       "5      166    112\n",
       "6      147    140\n",
       "7      176    114\n",
       "8      155    145\n",
       "9      177    133\n",
       "10     156    146\n",
       "11     150    103\n",
       "12     160    120\n",
       "13     160    102\n",
       "14     143    132\n",
       "15     171    122\n",
       "16     149    114\n",
       "17     163    149\n",
       "18     165    125\n",
       "19     161    140"
      ]
     },
     "execution_count": 20,
     "metadata": {},
     "output_type": "execute_result"
    }
   ],
   "source": [
    "# 대응표본 예시 데이터 (고혈압약을 투약한 경우, 어떤 유의한 변화가 나타나는지 대응표본 검정을 시행한다)\n",
    "\n",
    "# # csv file\n",
    "# data = pd.read_csv(path+'대응표본T검정예제.csv')\n",
    "\n",
    "# # excel file\n",
    "# data = pd.read_excel(path+'대응표본T검정예제.xlsx')\n",
    "\n",
    "# git hub\n",
    "data = pd.read_csv('https://raw.githubusercontent.com/freejyb/fin_stats/main/dataset/대응표본T검정예제.csv')\n",
    "\n",
    "data"
   ]
  },
  {
   "cell_type": "code",
   "execution_count": 21,
   "metadata": {},
   "outputs": [
    {
     "name": "stdout",
     "output_type": "stream",
     "text": [
      "대응 2표본 검정통계치 : 7.695\n",
      "대응 2표본 P-value : 0.0\n",
      "대응 2표본 검정 결과, \"변화가 나타나지 않았다.\"라는 귀무가설을 유의수준 5.0%로 기각할 수 있습니다.\n"
     ]
    }
   ],
   "source": [
    "def two_paired_test(x1, x2, sig_level=0.05):\n",
    "    # 라이브러리 호출\n",
    "    from scipy.stats import ttest_rel\n",
    "\n",
    "    print(f'대응 2표본 검정통계치 : {round(ttest_rel(x1, x2)[0], 3)}')\n",
    "    print(f'대응 2표본 P-value : {round(ttest_rel(x1, x2)[1], 3)}')\n",
    "    \n",
    "    # 귀무가설을 기각할 지 여부를 p 값으로 판단하고 출력해주는 부분    \n",
    "    if ttest_rel(x1, x2)[1] < sig_level:\n",
    "        print(f'대응 2표본 검정 결과, \"변화가 나타나지 않았다.\"라는 귀무가설을 유의수준 {sig_level * 100}%로 기각할 수 있습니다.')\n",
    "    else:\n",
    "        print(f'대응 2표본 검정 결과, \"변화가 나타나지 않았다.\"라는 귀무가설을 유의수준 {sig_level * 100}%로 기각할 수 없습니다.')\n",
    "        \n",
    "two_paired_test(data['before'], data['after'], 0.05)"
   ]
  }
 ],
 "metadata": {
  "interpreter": {
   "hash": "aee8b7b246df8f9039afb4144a1f6fd8d2ca17a180786b69acc140d282b71a49"
  },
  "kernelspec": {
   "display_name": "Python 3.9.4 64-bit",
   "language": "python",
   "name": "python3"
  },
  "language_info": {
   "codemirror_mode": {
    "name": "ipython",
    "version": 3
   },
   "file_extension": ".py",
   "mimetype": "text/x-python",
   "name": "python",
   "nbconvert_exporter": "python",
   "pygments_lexer": "ipython3",
   "version": "3.9.7"
  },
  "orig_nbformat": 4
 },
 "nbformat": 4,
 "nbformat_minor": 2
}
