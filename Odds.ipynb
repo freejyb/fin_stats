{
 "cells": [
  {
   "cell_type": "markdown",
   "id": "f582b6ad-8958-4c40-bc24-fbfff5fa67f9",
   "metadata": {},
   "source": [
    "오즈(Odds)**는 사건이 발생할 가능성과 발생하지 않을 가능성의 비율을 나타냅니다.\n",
    "    \n",
    "오즈는 **확률(Probability)**과 다른 방식으로 사건의 가능성을 표현하며, 특히 로지스틱 회귀와 같은 통계 모델에서 중요한 역할을 합니다.\n",
    "    \n",
    "오즈 비(Odds Ratio)**는 두 그룹 간의 오즈를 비교하여 특정 요인과 결과 간의 관계를 평가하는 데 사용됩니다."
   ]
  },
  {
   "cell_type": "markdown",
   "id": "368bfee8-1c44-4130-a2e1-6241583a9309",
   "metadata": {},
   "source": [
    "### 오즈와 확률 변환"
   ]
  },
  {
   "cell_type": "code",
   "execution_count": 1,
   "id": "bbbfaccf-fe22-4700-8cf3-9d6615cb8de0",
   "metadata": {},
   "outputs": [
    {
     "name": "stdout",
     "output_type": "stream",
     "text": [
      "Probability: 0.75\n",
      "Odds: 3.0\n",
      "Converted back to Probability: 0.75\n",
      "\n",
      "Odds: 2\n",
      "Probability: 0.67\n"
     ]
    }
   ],
   "source": [
    "import numpy as np\n",
    "\n",
    "# Define a probability value\n",
    "p = 0.75\n",
    "\n",
    "# Convert probability to odds\n",
    "odds = p / (1 - p)\n",
    "print(f\"Probability: {p}\")\n",
    "print(f\"Odds: {odds}\")\n",
    "\n",
    "# Convert odds back to probability\n",
    "p_from_odds = odds / (1 + odds)\n",
    "print(f\"Converted back to Probability: {p_from_odds:.2f}\")\n",
    "\n",
    "# Define an odds value\n",
    "odds_value = 2\n",
    "\n",
    "# Convert odds to probability\n",
    "probability = odds_value / (1 + odds_value)\n",
    "print(f\"\\nOdds: {odds_value}\")\n",
    "print(f\"Probability: {probability:.2f}\")\n"
   ]
  },
  {
   "cell_type": "code",
   "execution_count": null,
   "id": "4932404d-a3f9-4873-8597-f6834f0409db",
   "metadata": {},
   "outputs": [],
   "source": []
  }
 ],
 "metadata": {
  "kernelspec": {
   "display_name": "Python 3 (ipykernel)",
   "language": "python",
   "name": "python3"
  },
  "language_info": {
   "codemirror_mode": {
    "name": "ipython",
    "version": 3
   },
   "file_extension": ".py",
   "mimetype": "text/x-python",
   "name": "python",
   "nbconvert_exporter": "python",
   "pygments_lexer": "ipython3",
   "version": "3.9.11"
  }
 },
 "nbformat": 4,
 "nbformat_minor": 5
}
