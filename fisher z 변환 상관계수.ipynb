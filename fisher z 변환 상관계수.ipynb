{
 "cells": [
  {
   "cell_type": "markdown",
   "id": "6a1e6dac",
   "metadata": {},
   "source": [
    "### Fisher의 Z 변환 (Fisher's Z transformation)"
   ]
  },
  {
   "cell_type": "code",
   "execution_count": null,
   "id": "0ce502ed",
   "metadata": {},
   "outputs": [],
   "source": [
    "# Fisher의 Z 변환을 사용하여 상관계수의 통계적 유의성을 검정 \n",
    "# 변수 간의 상관계수(r)를 계산하고\n",
    "# Fisher의 Z 변환을 사용하여 이 상관계수가 통계적으로 유의미한지 검정"
   ]
  },
  {
   "cell_type": "code",
   "execution_count": 1,
   "id": "028bafda",
   "metadata": {},
   "outputs": [],
   "source": [
    "import numpy as np\n",
    "from scipy.stats import norm\n"
   ]
  },
  {
   "cell_type": "code",
   "execution_count": null,
   "id": "fdb39435",
   "metadata": {},
   "outputs": [],
   "source": [
    "# 두 변수 x와 y 사이의 상관계수를 계산하고, \n",
    "# 이를 Fisher의 Z 변환을 통해 정규 분포에 가깝게 변환\n",
    "# 변환된 값에 대한 표준 오차를 계산하고, \n",
    "# 이를 사용하여 Z 점수와 p-값을 계산. \n",
    "# p-값이 통계적 유의수준(예: 0.05)보다 작으면, 두 변수 간의 상관관계가 통계적으로 유의미하다고 해석할 수 있다."
   ]
  },
  {
   "cell_type": "code",
   "execution_count": null,
   "id": "8ad8f395",
   "metadata": {},
   "outputs": [],
   "source": [
    "# 데이터 생성 및 상관계수 계산"
   ]
  },
  {
   "cell_type": "code",
   "execution_count": 5,
   "id": "1c30be4b",
   "metadata": {},
   "outputs": [],
   "source": [
    "# 가상의 데이터 생성\n",
    "np.random.seed(0)\n",
    "x = np.random.normal(size=100)\n",
    "y = 2*x + np.random.normal(size=100)\n",
    "\n",
    "# 상관계수 계산\n",
    "r = np.corrcoef(x, y)[0, 1]\n"
   ]
  },
  {
   "cell_type": "code",
   "execution_count": 6,
   "id": "c363892a",
   "metadata": {},
   "outputs": [
    {
     "data": {
      "text/plain": [
       "0.9006752160894267"
      ]
     },
     "execution_count": 6,
     "metadata": {},
     "output_type": "execute_result"
    }
   ],
   "source": [
    "r"
   ]
  },
  {
   "cell_type": "code",
   "execution_count": null,
   "id": "3696437d",
   "metadata": {},
   "outputs": [],
   "source": [
    "# Fisher의 Z 변환 및 통계적 유의성 검정"
   ]
  },
  {
   "cell_type": "code",
   "execution_count": 3,
   "id": "102095b6",
   "metadata": {},
   "outputs": [
    {
     "name": "stdout",
     "output_type": "stream",
     "text": [
      "상관계수: 0.9006752160894267\n",
      "Fisher의 Z 변환값: 1.4757846763967128\n",
      "Z 점수: 14.534793423900902\n",
      "p-값: 0.0\n"
     ]
    }
   ],
   "source": [
    "# Fisher의 Z 변환\n",
    "Z = np.arctanh(r)\n",
    "\n",
    "# 표준 오차 계산\n",
    "n = len(x)  # 표본 크기\n",
    "SE = 1 / np.sqrt(n - 3)\n",
    "\n",
    "# Z 점수 계산\n",
    "Z_score = Z / SE\n",
    "\n",
    "# p-값 계산\n",
    "p_value = 2 * (1 - norm.cdf(np.abs(Z_score)))\n",
    "\n",
    "print(f\"상관계수: {r}\")\n",
    "print(f\"Fisher의 Z 변환값: {Z}\")\n",
    "print(f\"Z 점수: {Z_score}\")\n",
    "print(f\"p-값: {p_value}\")\n"
   ]
  },
  {
   "cell_type": "code",
   "execution_count": null,
   "id": "12baf695",
   "metadata": {},
   "outputs": [],
   "source": [
    "# p-값이 0.0으로 유의수준(0.05)보다 작아, 두 변수 간의 상관관계가 통계적으로 유의미하다고 해석"
   ]
  }
 ],
 "metadata": {
  "kernelspec": {
   "display_name": "Python 3 (ipykernel)",
   "language": "python",
   "name": "python3"
  },
  "language_info": {
   "codemirror_mode": {
    "name": "ipython",
    "version": 3
   },
   "file_extension": ".py",
   "mimetype": "text/x-python",
   "name": "python",
   "nbconvert_exporter": "python",
   "pygments_lexer": "ipython3",
   "version": "3.9.11"
  },
  "toc": {
   "base_numbering": 1,
   "nav_menu": {},
   "number_sections": true,
   "sideBar": true,
   "skip_h1_title": false,
   "title_cell": "Table of Contents",
   "title_sidebar": "Contents",
   "toc_cell": false,
   "toc_position": {},
   "toc_section_display": true,
   "toc_window_display": false
  }
 },
 "nbformat": 4,
 "nbformat_minor": 5
}
