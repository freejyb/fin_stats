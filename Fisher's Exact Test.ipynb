{
 "cells": [
  {
   "cell_type": "markdown",
   "id": "35ca0644",
   "metadata": {},
   "source": [
    "### Fisher's Exact Test"
   ]
  },
  {
   "cell_type": "code",
   "execution_count": null,
   "id": "834b3f28",
   "metadata": {},
   "outputs": [],
   "source": [
    "# Fisher's Exact Test는 주로 2x2 분할표(contingency table)에 대해 사용되며, \n",
    "# 두 범주형 변수 간의 독립성을 검정하는 데 사용 \n",
    "# 이 테스트는 표본 크기가 작을 때 유용하며, 카이제곱 검정(Chi-squared test)의 대안으로 사용"
   ]
  },
  {
   "cell_type": "code",
   "execution_count": null,
   "id": "2e248939",
   "metadata": {},
   "outputs": [],
   "source": [
    "# 가정으로, 어떤 질병에 대한 두 가지 치료법(A와 B)의 효과를 비교하는 상황을 생각해볼 수 있다. \n",
    "# 치료 후 회복된 사람과 회복되지 않은 사람의 수를 2x2 분할표로 정리했다고 가정."
   ]
  },
  {
   "cell_type": "code",
   "execution_count": 1,
   "id": "1686e53a",
   "metadata": {},
   "outputs": [
    {
     "name": "stdout",
     "output_type": "stream",
     "text": [
      "Odds Ratio: 11.67\n",
      "P-value: 0.0274\n"
     ]
    }
   ],
   "source": [
    "from scipy.stats import fisher_exact\n",
    "\n",
    "# 2x2 분할표\n",
    "# 치료법 A와 B의 회복 여부\n",
    "# 행: 치료법 A, 치료법 B\n",
    "# 열: 회복됨, 회복되지 않음\n",
    "table = [[10, 2],  # 치료법 A: 10명 회복, 2명 회복되지 않음\n",
    "         [3, 7]]   # 치료법 B: 3명 회복, 7명 회복되지 않음\n",
    "\n",
    "# Fisher's Exact Test 수행\n",
    "odds_ratio, p_value = fisher_exact(table)\n",
    "\n",
    "print(f\"Odds Ratio: {odds_ratio:.2f}\")\n",
    "print(f\"P-value: {p_value:.4f}\")\n"
   ]
  },
  {
   "cell_type": "code",
   "execution_count": null,
   "id": "86386d35",
   "metadata": {},
   "outputs": [],
   "source": [
    "# 결과 해석"
   ]
  },
  {
   "cell_type": "code",
   "execution_count": null,
   "id": "3388e932",
   "metadata": {},
   "outputs": [],
   "source": [
    "# Odds Ratio: 11.67\n",
    "# 오즈 비(Odds Ratio)는 한 그룹에서 사건이 발생할 확률과 다른 그룹에서 같은 사건이 발생할 확률의 비율\n",
    "# 이 경우, 오즈 비가 11.67이라는 것은 치료법 A를 받은 그룹에서 회복된 사람의 오즈가 치료법 B를 받은 그룹에 비해 약 11.67배 더 높다는 것을 의미한다. \n",
    "# 즉, 치료법 A가 치료법 B보다 더 효과적일 가능성이 있음을 나타낸다."
   ]
  },
  {
   "cell_type": "code",
   "execution_count": null,
   "id": "ae68cbe3",
   "metadata": {},
   "outputs": [],
   "source": [
    "# P-value: 0.027\n",
    "# P-value는 귀무 가설(치료법 A와 B의 효과에 차이가 없다는 가설)이 참일 때, 관측된 데이터(또는 더 극단적인 데이터)가 발생할 확률이다. \n",
    "# 이 경우 P-value가 0.027로, 일반적으로 사용되는 유의수준 0.05보다 작다. \n",
    "# 이는 귀무가설을 기각할 충분한 근거가 있음을 의미하며, 따라서 두 치료법의 효과에는 통계적으로 유의미한 차이가 있다고 결론지을 수 있다."
   ]
  }
 ],
 "metadata": {
  "kernelspec": {
   "display_name": "Python 3 (ipykernel)",
   "language": "python",
   "name": "python3"
  },
  "language_info": {
   "codemirror_mode": {
    "name": "ipython",
    "version": 3
   },
   "file_extension": ".py",
   "mimetype": "text/x-python",
   "name": "python",
   "nbconvert_exporter": "python",
   "pygments_lexer": "ipython3",
   "version": "3.9.11"
  },
  "toc": {
   "base_numbering": 1,
   "nav_menu": {},
   "number_sections": true,
   "sideBar": true,
   "skip_h1_title": false,
   "title_cell": "Table of Contents",
   "title_sidebar": "Contents",
   "toc_cell": false,
   "toc_position": {},
   "toc_section_display": true,
   "toc_window_display": false
  }
 },
 "nbformat": 4,
 "nbformat_minor": 5
}
